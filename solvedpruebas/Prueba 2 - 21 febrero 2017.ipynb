{
 "cells": [
  {
   "cell_type": "markdown",
   "metadata": {},
   "source": [
    "# Prueba 2\n",
    "\n",
    "## 21 febrero 2017"
   ]
  },
  {
   "cell_type": "markdown",
   "metadata": {},
   "source": [
    "[1] (i) Utiliza un bucle `for` para escribir una función `mi_factorial` que tiene como argumento un entero positivo $n$, y calcula el factorial $n!$ de $n$. Verifica que funciona.\n",
    "\n",
    "(ii) Agrega a tu función código para checar que el argumento $n$ realmente sea entero y positivo. [Pista: \n",
    "`x % 1.0` da el remanente de la división de `x` entre `1`.] Arroja un error informativo de ser que no cumpla con alguna de las dos condiciones.\n",
    "\n",
    "(ii) Haz una función `mi_factorial2` que calcula el factorial de $n$ usando un bucle `while."
   ]
  },
  {
   "cell_type": "markdown",
   "metadata": {},
   "source": [
    "[2] La cantidad importante $e$ (la base de los logaritmos naturales) se puede calcular usando la suma infinita siguiente:\n",
    "\n",
    "$$e = 1 + \\frac{1}{1!} + \\frac{1}{2!} + \\frac{1}{3!} + \\cdots = \\sum_{n=0}^\\infty \\frac{1}{n!}.$$\n",
    "\n",
    "(i) Escribe una función que utiliza una comprensión de arreglo para calcular la suma con $N$ términos, $1 + \\frac{1}{1!} + \\frac{1}{2!} + \\frac{1}{3!} + \\cdots + \\frac{1}{N!}$. ¿Qué tan lejos está del valor verdadero, $\\exp(1)$ para distintos valores de $N$? Haz una gráfica.\n",
    "\n",
    "(ii) ¿Hasta qué valor de $N$ puedes llegar sin utilizar números de tipo `BigInt`?\n",
    "\n",
    "\n",
    "(iii) Haz lo mismo usando un bucle `for`, en el cual vas guardando el valor actual del término que sumas, y utilizas que el término $(n+1)$-ésimo es el término $n$-ésimo dividido por $(n+1)$.  (No es necesario hacer otra gráfica.)\n",
    "\n",
    "(iv) ¿Puedes llegar a valores más grandes de $N$ de esta manera? ¿Qué observas sobre la distancia desde el valor verdadero después de un rato?\n",
    "\n",
    "\n",
    "(v) Utiliza un bucle `while` para ir sumando los términos hasta que el término nuevo que sumas sea menor que una cierta tolerancia, por ejemplo `1e-10` (i.e. $10^{-10}$)."
   ]
  },
  {
   "cell_type": "markdown",
   "metadata": {},
   "source": [
    "[3] Otra manera de calcular $e$ es $\\lim_{n \\to \\infty}(1 + 1/n)^n$.\n",
    "\n",
    "Grafica la distancia entre $\\exp(1)$ y $(1+1/n)^n$ para distintos $n$. ¿Qué tipo de convergencia hay conforme $n \\to \\infty$? Descríbelo cuando menos cualitativamente con una gráfica apropiada.\n",
    "\n",
    "**Opcional: Calcula la tasa de convergencia de manera analítica usando el desarrollo en serie de Taylor a segundo oren de $\\exp(x)$."
   ]
  }
 ],
 "metadata": {
  "kernelspec": {
   "display_name": "Julia 0.5.0",
   "language": "julia",
   "name": "julia-0.5"
  },
  "language_info": {
   "file_extension": ".jl",
   "mimetype": "application/julia",
   "name": "julia",
   "version": "0.5.0"
  }
 },
 "nbformat": 4,
 "nbformat_minor": 2
}
