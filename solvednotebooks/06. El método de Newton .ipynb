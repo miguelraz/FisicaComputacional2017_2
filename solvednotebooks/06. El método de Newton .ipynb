{
 "cells": [
  {
   "cell_type": "markdown",
   "metadata": {},
   "source": [
    "# El método de Newton"
   ]
  },
  {
   "cell_type": "markdown",
   "metadata": {},
   "source": [
    "El método de Newton (también llamado algoritmo de Newton-Raphson) constituye otro método numérico iterativo para encontrar raíces de funciones. \n",
    "\n",
    "Requiere más información sobre la función, pero a cambio puede funcionar mejor. Derivaremos e implementaremos el método en este notebook."
   ]
  },
  {
   "cell_type": "markdown",
   "metadata": {},
   "source": [
    "[1] (Esta pregunta es para llevarse a cabo con papel y pluma.)\n",
    "\n",
    "Considera una función $f: \\mathbb{R} \\to \\mathbb{R}$.\n",
    "Supón que $x_0$ es una adivinanza inicial de una raíz, y que $x^*$ es la raíz exacta pero \n",
    "desconocida. Sigue los siguientes pasos para derivar el método de Newton.\n",
    "\n",
    "(i) Supón que $x_0$ es suficientemente cercana a $x^*$. Define $\\delta$ como la distancia  (con signo) de $x_0$ desde $x^*$. \n",
    "\n",
    "(ii) Escribe la ecuación que corresponde a que $x^*$ sea una raíz de la función, y exprésala en términos de $\\delta$. \n",
    "\n",
    "(iii) Desarrolla esta ecuación en una serie de Taylor a primer orden, para encontrar un valor aproximado de $\\delta$.\n",
    "\n",
    "(iv) Así encuentra una ecuación para la siguiente aproximación $x_1$ a la raíz, $x_1 = x_0 + \\delta$. "
   ]
  },
  {
   "cell_type": "markdown",
   "metadata": {},
   "source": [
    "[2] Demuestra que el método Babilónico es un caso especial del método de Newton. [Pista: ¿Para cuál función $f$?]"
   ]
  },
  {
   "cell_type": "markdown",
   "metadata": {},
   "source": [
    "[3] Escribe una función que implementa el método de Newton. Puedes suponer que el usuario provenga tanto la función `f` como su derivada `fp` como argumentos a la función `newton` (así como la condición inicial `x0`). [Posteriormente veremos cómo evitar tener que proveer también la derivada.]"
   ]
  },
  {
   "cell_type": "markdown",
   "metadata": {},
   "source": [
    "[4] Dibuja (e.g. con `Plots.jl`) la dinámica del método iterativo, dada una función $f$ y una condición inicial $x_0$. Para hacerlo, líneas entre $(x_n, 0)$ y $(x_n, f(x_n))$, así como entre $(x_n, f(x_n)$ y $(x_{n+1}, 0)$. Hazlo interactivo con `Interact.jl`. Viendo la figura, interpreta geométricamente lo que está haciendo el método de Newton-Raphson."
   ]
  },
  {
   "cell_type": "markdown",
   "metadata": {},
   "source": [
    "[5] Aplica el método de Newton para encontrar raíces de distintas funciones. ¿Qué ocurre si empiezas con distintas condiciones iniciales? Prueba con distintas funciones."
   ]
  },
  {
   "cell_type": "markdown",
   "metadata": {},
   "source": [
    "[6] ¿Qué tan rápido converge el método cuando esté cerca de una raíz. Utiliza `BigFloat`s. ¿Es mejor que bisección?"
   ]
  },
  {
   "cell_type": "markdown",
   "metadata": {},
   "source": [
    "Sin embargo, es posible que el método de Newton *no converja*:"
   ]
  },
  {
   "cell_type": "markdown",
   "metadata": {},
   "source": [
    "[7] El mismo código del método de Newton debería funcionar con números complejos. Utilízalo para encontrar raíces de la función $f(z) = z^3 -1$ **en el plano complejo**.\n",
    "\n",
    "Dada una condición inicial, dibuja (por ejemplo) la parte imaginaria de la raíz a la cual converge (por ejemplo, después de un cierto número de pasos). Hazlo para una malla de condiciones iniciales en el plano. ¿Qué es lo que ves?"
   ]
  },
  {
   "cell_type": "markdown",
   "metadata": {},
   "source": [
    "[8] Haz lo mismo para otras funciones en el plano complejo."
   ]
  },
  {
   "cell_type": "markdown",
   "metadata": {},
   "source": [
    "[9] Considera ahora cómo encontrar raíces de un sistema de ecuaciones, escritos en forma vectorial,\n",
    "\n",
    "$$\\mathbf{f}(\\mathbf{x}) = \\mathbf{0}.$$\n",
    "\n",
    "Repite un desarrollo siguiendo la pauta de la pregunta [1] en este contexto.\n",
    "¿Qué es lo que cambia? ¿Qué tipo de operación numérica necesitaríamos para llevar a cabo el método de Newton en este nuevo contexto?"
   ]
  }
 ],
 "metadata": {
  "kernelspec": {
   "display_name": "Julia 0.5.0",
   "language": "julia",
   "name": "julia-0.5"
  },
  "language_info": {
   "file_extension": ".jl",
   "mimetype": "application/julia",
   "name": "julia",
   "version": "0.5.0"
  },
  "toc": {
   "colors": {
    "hover_highlight": "#DAA520",
    "running_highlight": "#FF0000",
    "selected_highlight": "#FFD700"
   },
   "moveMenuLeft": true,
   "nav_menu": {
    "height": "29px",
    "width": "251px"
   },
   "navigate_menu": true,
   "number_sections": true,
   "sideBar": true,
   "threshold": "2",
   "toc_cell": false,
   "toc_section_display": "block",
   "toc_window_display": false
  }
 },
 "nbformat": 4,
 "nbformat_minor": 2
}
