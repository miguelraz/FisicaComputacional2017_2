{
 "cells": [
  {
   "cell_type": "markdown",
   "metadata": {},
   "source": [
    "# Instrucciones"
   ]
  },
  {
   "cell_type": "markdown",
   "metadata": {},
   "source": [
    "Estos guiones son en forma de **notebooks** (cuadernos) para el entorno **Jupyter** (http://jupyter.org/), el cual funciona a través de un navegador web. Así, proporciona el mismo interfaz al usuario, independientemente de si esté corriendo ena computadora del otro lado del mundo, o en tu propia máquina.\n",
    "\n",
    "[Si prefieres una aplicación de escritorio, los mismos documentos tipo notebook se pueden utilizar también a través de la aplicación [`Nteract`](https://nteract.io/).]\n",
    "\n",
    "Para cada notebook, primero haz una copia del notebook (`File->Make a Copy`). Así tendrás una versión limpia, que además se puede actualizar posteriormente sin problemas.\n",
    "\n",
    "Recomendamos que creas un nuevo directorio con tus copias de los notebooks. Formarán una colección útil de notas y técnicas.\n",
    "\n",
    "## Teclas en el notebook\n",
    "\n",
    "Para evaluar una celda, oprime `Shift-Enter`. Puedes ejecutar `Shift-Enter` varias veces para ejecutar celdas contiguas.\n",
    "\n",
    "En `Help->Keyboard shortcuts`, hay una lista de las teclas que puedes utilizar para llevar a cabo distintas tareas adentro del notebook. Se recomienda ir aprendiendo paulatinamente las combinaciones más útiles. \n",
    "\n",
    "Para empezar, `Ctrl-m a` (teclear `Ctrl` y `m` juntos, y luego `a`) agrega una celda nueva **a**rriba, y `Ctrl-m b` agrega una a**b**ajo. `Ctrl-m d d` borra una celda.\n",
    "\n",
    "Para regresar a editar después de utilizar un comando de estos, teclea `Enter` en la celda que quieres editar, \n",
    "\n",
    "## Tab\n",
    "\n",
    "Otra tecla sumamente importante en el notebook es `<TAB>` (\"tabulador\"). Si tecleas unas cuantas letras de una palabra, y luego tecleas `<TAB>`, verás todos los comandos, etc., que empiezan con aquellas letras. Es una manera muy útil de **descubrir** acerca de Julia. Sugerimos acostumbrarte a ¡utilizar `<TAB>` a cada rato!"
   ]
  },
  {
   "cell_type": "markdown",
   "metadata": {},
   "source": [
    "# Números y aritmética"
   ]
  },
  {
   "cell_type": "markdown",
   "metadata": {},
   "source": [
    "Empecemos con números. Hay distintos tipos de números que podríamos querer representar en la computadora."
   ]
  },
  {
   "cell_type": "markdown",
   "metadata": {},
   "source": [
    "## Enteros, $\\mathbb{Z}$"
   ]
  },
  {
   "cell_type": "markdown",
   "metadata": {},
   "source": [
    "[1] Intenta teclear distintos tipos de enteros. Intenta operaciones con enteros.\n",
    "\n",
    "[2] Calcula las potencias de 10. ($x^y$ se escribe `x^y` en Julia.) Pasa algo raro -- ¿qué?"
   ]
  },
  {
   "cell_type": "markdown",
   "metadata": {},
   "source": [
    "La función `typeof` nos dice de *qué tipo de objeto* es un objeto en Julia:"
   ]
  },
  {
   "cell_type": "code",
   "execution_count": 1,
   "metadata": {
    "collapsed": false
   },
   "outputs": [
    {
     "data": {
      "text/plain": [
       "Int64"
      ]
     },
     "execution_count": 1,
     "metadata": {},
     "output_type": "execute_result"
    }
   ],
   "source": [
    "typeof(10)"
   ]
  },
  {
   "cell_type": "markdown",
   "metadata": {},
   "source": [
    "Nota que las funciones siempre utilizan paréntesis, '`(`' y '`)`', como en matemáticas."
   ]
  },
  {
   "cell_type": "markdown",
   "metadata": {},
   "source": [
    "Podemos utilizar aritmética con precisión arbitraria al usar la función `big`."
   ]
  },
  {
   "cell_type": "markdown",
   "metadata": {},
   "source": [
    "[3] Calcula las potencias de 10 con precisión arbitraria.\n",
    "\n",
    "[4] Calcula $2^2^2^2^2$ con aritmética normal y aritmética con precisión arbitraria.\n",
    "\n",
    "[5] Utiliza la función `string` para convertir el resultado (utiliza `ans`) en una cadena (de caracteres), y luego utiliza la función `length` para encontrar el número de dígitos."
   ]
  },
  {
   "cell_type": "markdown",
   "metadata": {},
   "source": [
    "[6] En algunos lenguajes, hay un problema al dividir 3 entre 4 con el operador `/`. ¿Existe este problema en Julia?"
   ]
  },
  {
   "cell_type": "markdown",
   "metadata": {},
   "source": [
    "## Números racionales, $\\mathbb{Q}$"
   ]
  },
  {
   "cell_type": "markdown",
   "metadata": {},
   "source": [
    "Los números racionales se construyen con el operador `//`."
   ]
  },
  {
   "cell_type": "markdown",
   "metadata": {},
   "source": [
    "[1] Calcula $\\frac{3}{4} + \\frac{5}{6}$.\n",
    "\n",
    "[2] ¿Qué ocurre al calcular $\\frac{6}{4}$?\n",
    "\n",
    "[3] Calcula potencias de $\\frac{3}{4}$. ¿Qué ocurre? ¿Cuál es la solución? Checa tu respuesta al revisar el tipo de los objetos. "
   ]
  },
  {
   "cell_type": "markdown",
   "metadata": {},
   "source": [
    "## Números reales, $\\mathbb{R}$"
   ]
  },
  {
   "cell_type": "markdown",
   "metadata": {},
   "source": [
    "Los números reales se *aproximan* con números de \"punto flotante\". Veremos algunos detalles más allá en el curso."
   ]
  },
  {
   "cell_type": "markdown",
   "metadata": {},
   "source": [
    "[1] ¿Cómo se escriben números flotantes (con decimal) en Julia? ¿De qué tipo son?\n",
    "\n",
    "[2] ¿Cuánto vale $2.3 \\times 4.6$? ¿Es correcto? ¿Qué estará pasando?\n"
   ]
  },
  {
   "cell_type": "markdown",
   "metadata": {},
   "source": [
    "Se puede utilizar \"notación científica\" (o \"notación ingenieril\") para representar números grandes y chicos:"
   ]
  },
  {
   "cell_type": "code",
   "execution_count": 12,
   "metadata": {
    "collapsed": false
   },
   "outputs": [
    {
     "data": {
      "text/plain": [
       "130000.0"
      ]
     },
     "execution_count": 12,
     "metadata": {},
     "output_type": "execute_result"
    }
   ],
   "source": [
    "1.3e5"
   ]
  },
  {
   "cell_type": "code",
   "execution_count": 14,
   "metadata": {
    "collapsed": false
   },
   "outputs": [
    {
     "data": {
      "text/plain": [
       "0.013"
      ]
     },
     "execution_count": 14,
     "metadata": {},
     "output_type": "execute_result"
    }
   ],
   "source": [
    "1.3e-2"
   ]
  },
  {
   "cell_type": "markdown",
   "metadata": {},
   "source": [
    "[3] Encuentra los límites de los valores grandes y chicos que se pueden representar."
   ]
  },
  {
   "cell_type": "markdown",
   "metadata": {},
   "source": [
    "De nuevo, se puede utilizar la función `big` para evitar estos límites, aunque el resultado es extraño:"
   ]
  },
  {
   "cell_type": "code",
   "execution_count": 17,
   "metadata": {
    "collapsed": false
   },
   "outputs": [
    {
     "data": {
      "text/plain": [
       "1.000000000000000019991899802602883619647760788534159420182603005936595699255543e-100 with 256 bits of precision"
      ]
     },
     "execution_count": 17,
     "metadata": {},
     "output_type": "execute_result"
    }
   ],
   "source": [
    "big(1e-100)"
   ]
  },
  {
   "cell_type": "markdown",
   "metadata": {},
   "source": [
    "Luego veremos cómo arreglar esto."
   ]
  },
  {
   "cell_type": "markdown",
   "metadata": {},
   "source": [
    "## Numéros complejos, $\\mathbb{C}$"
   ]
  },
  {
   "cell_type": "markdown",
   "metadata": {},
   "source": [
    "La unidad imaginaria $i = \\sqrt{-1}$ se denota `im` en Julia:"
   ]
  },
  {
   "cell_type": "code",
   "execution_count": 18,
   "metadata": {
    "collapsed": false
   },
   "outputs": [
    {
     "data": {
      "text/plain": [
       "im"
      ]
     },
     "execution_count": 18,
     "metadata": {},
     "output_type": "execute_result"
    }
   ],
   "source": [
    "im"
   ]
  },
  {
   "cell_type": "markdown",
   "metadata": {},
   "source": [
    "[1] Verifica que Julia sí sabe que $i \\times i = -1$.\n",
    "\n",
    "[2] Adivina cómo se llama la función para calcular el conjugado de un número complejo. (Pista: Los comandos de Julia son en **inglés**.)\n",
    "\n",
    "[3] Utiliza esta función para calcula el valor absoluto de $3 + 4i$. ¿Julia ya sabe calcular el valor absoluto? "
   ]
  },
  {
   "cell_type": "markdown",
   "metadata": {},
   "source": [
    "# Variables "
   ]
  },
  {
   "cell_type": "markdown",
   "metadata": {},
   "source": [
    "Hasta ahora no ha sido posible reutilizar los objetos que hemos creado. Para esto, es necesario un poco de *abstracción*: creamos *nombres* para representar a los objetos computacionales. Estos nombres se llaman *variables*, y se crean con *asignación*, usando el operador '`=`':"
   ]
  },
  {
   "cell_type": "code",
   "execution_count": 20,
   "metadata": {
    "collapsed": false
   },
   "outputs": [
    {
     "data": {
      "text/plain": [
       "3"
      ]
     },
     "execution_count": 20,
     "metadata": {},
     "output_type": "execute_result"
    }
   ],
   "source": [
    "x = 3"
   ]
  },
  {
   "cell_type": "code",
   "execution_count": 21,
   "metadata": {
    "collapsed": false
   },
   "outputs": [
    {
     "data": {
      "text/plain": [
       "3"
      ]
     },
     "execution_count": 21,
     "metadata": {},
     "output_type": "execute_result"
    }
   ],
   "source": [
    "x"
   ]
  },
  {
   "cell_type": "markdown",
   "metadata": {},
   "source": [
    "Los nombres de las variables pueden ser caracteres arbitrarios de Unicode. Muchos se pueden teclear usando una notación de LaTeX: teclea  `\\alpha<TAB>`.  Empieza con `\\alp<TAB>` y teclea `<TAB>` para completarlo:"
   ]
  },
  {
   "cell_type": "code",
   "execution_count": 5,
   "metadata": {
    "collapsed": false
   },
   "outputs": [
    {
     "data": {
      "text/plain": [
       "10"
      ]
     },
     "execution_count": 5,
     "metadata": {},
     "output_type": "execute_result"
    }
   ],
   "source": [
    "α = 3; ℵ = 10"
   ]
  },
  {
   "cell_type": "markdown",
   "metadata": {},
   "source": [
    "Variables también pueden representar texto. Una variables de este tipo es una \"cadena\" [de caracteres] (\"string\", en inglés):"
   ]
  },
  {
   "cell_type": "code",
   "execution_count": 27,
   "metadata": {
    "collapsed": false
   },
   "outputs": [
    {
     "data": {
      "text/plain": [
       "\"David\""
      ]
     },
     "execution_count": 27,
     "metadata": {},
     "output_type": "execute_result"
    }
   ],
   "source": [
    "nombre = \"David\""
   ]
  },
  {
   "cell_type": "markdown",
   "metadata": {},
   "source": [
    "Nótese que en Julia, las cadenas van rodeadas de `\"` exclusivamente. "
   ]
  },
  {
   "cell_type": "markdown",
   "metadata": {},
   "source": [
    "[1] Verifica que puedes checar de qué tipo sean las variables."
   ]
  },
  {
   "cell_type": "markdown",
   "metadata": {},
   "source": [
    "La función `print` imprime sus argumentos. `println` agrega también una nueva línea."
   ]
  },
  {
   "cell_type": "markdown",
   "metadata": {},
   "source": [
    "[2] Imprime algo que diga \"El valor de α es \", seguido por el valor de α."
   ]
  },
  {
   "cell_type": "markdown",
   "metadata": {},
   "source": [
    "[3] ¿Qué ocurre si utilizas \\` en lugar de `\"`?"
   ]
  },
  {
   "cell_type": "markdown",
   "metadata": {},
   "source": [
    "### Sustitución de variables"
   ]
  },
  {
   "cell_type": "markdown",
   "metadata": {},
   "source": [
    "Supongamos que queramos saludar al usuario. Podríamos escribir:"
   ]
  },
  {
   "cell_type": "code",
   "execution_count": 28,
   "metadata": {
    "collapsed": false
   },
   "outputs": [
    {
     "data": {
      "text/plain": [
       "\"Hola, nombre, ¿cómo estás?\""
      ]
     },
     "execution_count": 28,
     "metadata": {},
     "output_type": "execute_result"
    }
   ],
   "source": [
    "saludo = \"Hola, nombre, ¿cómo estás?\""
   ]
  },
  {
   "cell_type": "markdown",
   "metadata": {},
   "source": [
    "Quisiéramos poder *sustituir* el *valor* de la variable `nombre` en lugar de la palabra `nombre`. Esto se hace agregando un signo de pesos antes de la palabra `nombre`:"
   ]
  },
  {
   "cell_type": "code",
   "execution_count": 29,
   "metadata": {
    "collapsed": false
   },
   "outputs": [
    {
     "data": {
      "text/plain": [
       "\"Hola, David, ¿cómo estás?\""
      ]
     },
     "execution_count": 29,
     "metadata": {},
     "output_type": "execute_result"
    }
   ],
   "source": [
    "saludo = \"Hola, $nombre, ¿cómo estás?\""
   ]
  },
  {
   "cell_type": "markdown",
   "metadata": {},
   "source": [
    "[3] Utiliza esto para rehacer el ejercicio [2]."
   ]
  },
  {
   "cell_type": "markdown",
   "metadata": {},
   "source": [
    "# Funciones"
   ]
  },
  {
   "cell_type": "markdown",
   "metadata": {},
   "source": [
    "Las funciones son básicas en las matemáticas y la física. En matemáticas, aceptan uno o más argumentos y regresan una respuestas. En Julia, aceptan 0 o más argumentos, y ¡regresan 0 o más respuestas!\n",
    "\n",
    "Se pueden definir de dos formas: una notación matemática ágil, y una notación que se conviene más para definiciones más largas:"
   ]
  },
  {
   "cell_type": "code",
   "execution_count": 22,
   "metadata": {
    "collapsed": false
   },
   "outputs": [
    {
     "data": {
      "text/plain": [
       "f (generic function with 1 method)"
      ]
     },
     "execution_count": 22,
     "metadata": {},
     "output_type": "execute_result"
    }
   ],
   "source": [
    "f(x) = 2x   # no es necesario poner el signo de multiplicación!"
   ]
  },
  {
   "cell_type": "markdown",
   "metadata": {},
   "source": [
    "Nota que un comentario se pone con `#`, el cual hace que se ignore el resto de la línea."
   ]
  },
  {
   "cell_type": "markdown",
   "metadata": {},
   "source": [
    "[1] Podemos pensar en el símbolo `f` como un tipo de variable. ¿De qué tipo es?\n",
    "\n",
    "[2] Define una función $g$ que calcula $(x+1)^2$. Define una función $h$ que calcula la expansión de $(x+1)^2$. Define otra función para verificar que para cualquier valor de $x$, dan el mismo resultado, y checa que sí sea el caso."
   ]
  },
  {
   "cell_type": "markdown",
   "metadata": {},
   "source": [
    "La otra manera de definir funciones es como sigue:"
   ]
  },
  {
   "cell_type": "code",
   "execution_count": 30,
   "metadata": {
    "collapsed": false
   },
   "outputs": [
    {
     "data": {
      "text/plain": [
       "cuadrado (generic function with 1 method)"
      ]
     },
     "execution_count": 30,
     "metadata": {},
     "output_type": "execute_result"
    }
   ],
   "source": [
    "function cuadrado(x)\n",
    "    x^2\n",
    "end"
   ]
  },
  {
   "cell_type": "markdown",
   "metadata": {},
   "source": [
    "[3] Verifica que sí sirva la función `cuadrado` con distintos argumentos.\n",
    "\n",
    "Nota que el valor que regresa la función es el último valor que se calcula. También se puede utilizar la palabra `return` para regresar explícitamente."
   ]
  },
  {
   "cell_type": "markdown",
   "metadata": {},
   "source": [
    "[4] Define una función `cabs` que calcule el valor absoluto de un número complejo."
   ]
  }
 ],
 "metadata": {
  "anaconda-cloud": {},
  "kernelspec": {
   "display_name": "Julia 0.5.0",
   "language": "julia",
   "name": "julia-0.5"
  },
  "language_info": {
   "file_extension": ".jl",
   "mimetype": "application/julia",
   "name": "julia",
   "version": "0.5.0"
  },
  "toc": {
   "nav_menu": {
    "height": "196px",
    "width": "252px"
   },
   "navigate_menu": true,
   "number_sections": true,
   "sideBar": true,
   "threshold": "2",
   "toc_cell": false,
   "toc_section_display": "block",
   "toc_window_display": false
  }
 },
 "nbformat": 4,
 "nbformat_minor": 0
}
