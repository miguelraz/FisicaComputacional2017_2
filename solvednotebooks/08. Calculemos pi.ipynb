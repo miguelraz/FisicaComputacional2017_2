{
 "cells": [
  {
   "cell_type": "markdown",
   "metadata": {},
   "source": [
    "# ¡Calculemos $\\pi$ de muchas maneras!"
   ]
  },
  {
   "cell_type": "markdown",
   "metadata": {},
   "source": [
    "¡Hoy es el día de $\\pi$! La fecha de hoy es el 14 de marzo del 2017, o sea 3-14, los cuales son los primeros dígitos de $\\pi$, y por lo tanto se ha designado como [el día de $\\pi$](https://en.wikipedia.org/wiki/Pi_Day).\n",
    "\n",
    "En honor a este evento importante, veremos unos métodos para calcular $\\pi$ usando distintas técnicas numéricas. Algunas serán aplicaciones de técnicas que ya vimos, mientras que otras serán un avance de técnicas por verse más adelante en el curso.\n",
    "\n",
    "En cada caso, las metas son las siguientes, como en casi cualquier problema de cómputo científico:\n",
    "\n",
    "- Entender el problema matemático y su relación con $\\pi$ (es decir, cómo ocurre $\\pi$ como solución al problema matemático).\n",
    "- Desarrollar e implementar un método numérico correspondiente.\n",
    "- Entender cuáles son las propiedades de convergencia del método e intentar sacar el mayor precisión (número de dígitos de $\\pi$) posible."
   ]
  },
  {
   "cell_type": "markdown",
   "metadata": {},
   "source": [
    "## $\\pi$ como una raíz"
   ]
  },
  {
   "cell_type": "markdown",
   "metadata": {},
   "source": [
    "**[1]** ¿Para cuál función trigonométrica es $\\pi$ una raíz? Usa esto para calcular $\\pi$ con el mayor número de dígitos posible. (¿Cuál método numérico podríamos utilizar para calcular la función trigonométrica si lo tuviéramos que hacer nosotros? Hazlo si tienes ganas.)"
   ]
  },
  {
   "cell_type": "markdown",
   "metadata": {},
   "source": [
    "## $\\pi$ y el círculo"
   ]
  },
  {
   "cell_type": "markdown",
   "metadata": {
    "collapsed": true
   },
   "source": [
    "**[2]** (i) ¿Cuál es el área de un disco de radio $r$? Así, ¿cuál es el área de un disco de radio $1$?\n",
    "\n",
    "(ii) ¿Cuál es la condición para que un punto $(x, y)$ caiga adentro de un disco de radio $r$?\n",
    "\n",
    "(iii) Usemos el método de \"pintar\" como sigue. Considera una caja cuadrada que contenga el disco. Divídelo en cuadritos [pista: usar la función `linspace` para dividirlo en $L$ partes en la dirección $x$ y $L$ en la dirección $y$, por separado]. Para cada cuadrito, aproxima si el cae o no adentro del disco al checar si su punto céntrico lo hace. Dibuja el resultado, con un calor para las cajas que caigan adentro, y otro para los que caigan afuera.\n",
    "\n",
    "(iv) Así, calcula el área aproximada del disco. ¿A qué operación matemática corresponde el cálculo de un área de esta forma? Utiliza el resultado para calcular $\\pi$.\n",
    "\n",
    "(v) Si cambias $N$, ¿cuánto trabajo tendrás que hacer? Estima (analíticamente) la **complejidad computacional**, es decir, el número (aproximado) de operaciones como función de $N$. ¿Cómo puedes estimar el error que cometerás para el área? \n",
    "\n",
    "(vi) Calcula numéricamente el error (desde el valor exacto de $\\pi$) en función de $L$. ¿Cómo converge?"
   ]
  },
  {
   "cell_type": "markdown",
   "metadata": {},
   "source": [
    "**[3]** (i) ¿Cuál es la circunferencia de un círculo de radio $r$?\n",
    "\n",
    "(ii) Usa el método de \"pintar\" pero sólo pintando los cuadritos que están \"en el círculo\". [Pista: Puedes aproximar esto diciendo que el centro del cuadrito esté dentro de una cierta tolerancia de la frontera. ¿Cuál tolerancia sería razonable utilizar?]\n",
    "\n",
    "(iii) Así, calcula el valor de $\\pi$ en función de $L$, y encuentra la tasa de convergencia."
   ]
  },
  {
   "cell_type": "markdown",
   "metadata": {},
   "source": [
    "## $\\pi$ como una integral"
   ]
  },
  {
   "cell_type": "markdown",
   "metadata": {},
   "source": [
    "**[4]** (i) Pensando de nuevo en el disco de radio $r$, enfoquémonos en el cuadrante positivo ($x \\ge 0$ y $y \\ge 0$).\n",
    "Escribe el área del cuadrante como una integral sobre $x$. [Pista: dada $x$, cuál es el valor de $y$ correspondiente sobre el círculo?\n",
    "\n",
    "(ii) Divide el intervalo en $x$ en $L$ partes y utiliza una integral de Riemann para aproximar el área, y así calcular $\\pi$. [Pista: ¿cuál es un valor del radio $r$ útil?]\n",
    "\n",
    "(iii) ¿Cómo converge en función de $L$ el error? Dibújalo."
   ]
  },
  {
   "cell_type": "markdown",
   "metadata": {},
   "source": [
    "## Un método azaroso: tirar dardos"
   ]
  },
  {
   "cell_type": "markdown",
   "metadata": {},
   "source": [
    "**[5]** Más adelante en el curso, veremos que los **métodos Monte Carlo**, o métodos azarosos, pueden ser útiles. Veremos un primer ejemplo aquí.\n",
    "\n",
    "Pensemos de nuevo en el disco, digamos de radio $1$. \n",
    "\n",
    "(i) Tiremos dardos a un cuadrado que contenga el disco, digamos $[-1,1] \\times [-1,1]$. Para hacerlo, utiliza la función `rand`, que genera números aleatorios distribuidos uniformemente entre $0$ y $1$. ¿Cómo puedes generar números uniformemente entre $-1$ y $1$?\n",
    "\n",
    "(ii) Genera $N$ puntos al azar en el cuadrado. Dibuja los puntos que caigan adentro del disco en un color, y los que caigan afuera en otro color.\n",
    "\n",
    "(iii) ¿Cuál será la relación entre las áreas y los números de puntos correspondientes? Así, estima el valor de $\\pi$.\n",
    "\n",
    "(iv) Para cada valor de $N$, repite el experimento varias veces y saca un promedio.\n",
    "\n",
    "(v) Dibuja el error de este promedio desde el valor exacto de $\\pi$, como función de $N$. ¿Cómo converge?"
   ]
  },
  {
   "cell_type": "markdown",
   "metadata": {},
   "source": [
    "## Series para $\\pi$"
   ]
  },
  {
   "cell_type": "markdown",
   "metadata": {},
   "source": [
    "**[6]** En uno de los primeros notebooks, vimos una serie infinita para $\\pi$, pero converge muy lento. Implementa algunos de estos algoritmos modernos y eficientes para calcular $\\pi$ y encuentra numéricamente cómo convergen [utiliza `BigFloat` cuando sea necesario]: \n",
    "\n",
    "https://en.wikipedia.org/wiki/Approximations_of_%CF%80#Development_of_efficient_formulae"
   ]
  }
 ],
 "metadata": {
  "kernelspec": {
   "display_name": "Julia 0.5.0",
   "language": "julia",
   "name": "julia-0.5"
  },
  "language_info": {
   "file_extension": ".jl",
   "mimetype": "application/julia",
   "name": "julia",
   "version": "0.5.1"
  }
 },
 "nbformat": 4,
 "nbformat_minor": 2
}
