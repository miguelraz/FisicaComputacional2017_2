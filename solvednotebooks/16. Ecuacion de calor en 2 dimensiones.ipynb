{
 "cells": [
  {
   "cell_type": "markdown",
   "metadata": {},
   "source": [
    "# La ecuación de calor en 2D"
   ]
  },
  {
   "cell_type": "markdown",
   "metadata": {},
   "source": [
    "Los sistemas físicos raremente viven en 1 sola dimensión. Es más usual que sean dos-dimensionales o tres-dimensionales. \n",
    "\n",
    "Dado que los sistemas 3D son computacionalmente demandantes, y las ideas a menudo son las mismas que en 2D, nos restringiremos aquí al caso 2D.\n",
    "\n",
    "La ecuación de difusión en 2D es\n",
    "\n",
    "$$\\frac{\\partial u(x,y,t)}{\\partial t} = \\nabla^2 u(x,y,t),$$\n",
    "\n",
    "donde $\\nabla^2 u(x,y,t) = \\frac{\\partial^2 u(x,y,t)}{\\partial x^2} + \\frac{\\partial^2 u(x,y,t)}{\\partial y^2}$."
   ]
  },
  {
   "cell_type": "markdown",
   "metadata": {},
   "source": [
    "Para discretizar el sistema, utilizaremos una malla $(x_i, y_j; t_n)$, con tamaños de paso $h$ para el tiempo, $k$ para $x$, y $l$ para $y$."
   ]
  },
  {
   "cell_type": "markdown",
   "metadata": {},
   "source": [
    "**[1]** (i) Encuentra una discretización para $\\nabla^2 u$ en el punto $(x_i, y_j; t_n)$.\n",
    "\n",
    "(ii) Así, escribe la ecuación discretizada en la malla, y de ahí la regla para la evolución de Euler en el tiempo.\n",
    "\n",
    "(iii) ¿Cómo son las condiciones de frontera de Dirichlet ahora? ¿Qué esperas ver físicamente para este tipo de condiciones absorbentes?"
   ]
  },
  {
   "cell_type": "markdown",
   "metadata": {},
   "source": [
    "**[2]** \n",
    "\n",
    "(i) Implementa esto computacionalmente y haz una animación para una condición inicial tipo delta. \n",
    "Ahora en lugar de un vector para representar al estado actual del sistema, necesitarás una *matriz* para las $u^n_{i,j}$ en el tiempo actual $t_n$.\n",
    "\n",
    "(ii) ¿Qué ocurre para otras condiciones iniciales?"
   ]
  },
  {
   "cell_type": "markdown",
   "metadata": {},
   "source": [
    "**[3]** (i) Repite la pregunta [2] con condiciones de Neumann.\n",
    "\n",
    "(ii) Ahora hazlo con condiciones **periódicas** de frontera. Aquí, el vecino de una celda en la frontera que \"se sale del sistema\" se toma como la celda *del otro lado del sistema*. [Esto da la topología de un toro al sistema, y minimiza el efecto de las fronteras, para simular mejor un sistema de tamaño \"infinito\".]"
   ]
  }
 ],
 "metadata": {
  "kernelspec": {
   "display_name": "Julia 0.5.1",
   "language": "julia",
   "name": "julia-0.5"
  },
  "language_info": {
   "file_extension": ".jl",
   "mimetype": "application/julia",
   "name": "julia",
   "version": "0.5.1"
  }
 },
 "nbformat": 4,
 "nbformat_minor": 1
}
