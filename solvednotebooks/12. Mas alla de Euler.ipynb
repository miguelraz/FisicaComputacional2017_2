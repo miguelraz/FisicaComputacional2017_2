{
 "cells": [
  {
   "cell_type": "markdown",
   "metadata": {},
   "source": [
    "# Euler puede fracasar: sistemas con una ley de conservación"
   ]
  },
  {
   "cell_type": "markdown",
   "metadata": {},
   "source": [
    "El método de Euler parece sencillo y útil, pero puede fracasar; de hecho, resulta que *casi siempre fracasa*, no sólo cuantitativamente, sino también cualitativamente.\n",
    "\n",
    "Por ejemplo, consideremos la ecuación del péndulo para ángulos pequeños, o sea, un oscilador armónico simple.\n",
    "\n",
    "**[1]** (i) Escribe la ecuación de movimiento del oscilador armónico simple, en términos del ángulo $\\theta$ del péndulo desde el vertical, y la velocidad angular $\\omega$.\n",
    "\n",
    "(ii) Escribe las ecuaciones del método de Euler para este problema. Escribe una función que las integre.\n",
    "\n",
    "(iii) Empezando desde distintas condiciones iniciales, dibuja las trayectorias en el espacio fase $(\\theta, \\omega)$. ¿Tienen sentido físico?\n",
    "\n",
    "(iv) Recuerda que este sistema físico tiene una propiedad especial: existe una **ley de conservación**. ¿Cuál es la cantidad física que se conserva? Escríbela en términos de $\\theta$ y $\\omega$? \n",
    "\n",
    "(v) Dado que se conserva esta cantidad a lo largo de la evolución temporal, desde una condición inicial que tiene un valor dado de esta cantidad conservada, la trayectoria debe mantenerse en una **curva de nivel** de esta cantidad.\n",
    "\n",
    "Utiliza `contour` para dibujar curvas de nivel, y compáralos gráficamente con las trayectorias que da Euler. ¿Qué observas?\n",
    "\n",
    "(vi) Calcula cómo varía la cantidad \"conservada\" a lo largo de una trayectoria calculada con Euler."
   ]
  },
  {
   "cell_type": "markdown",
   "metadata": {},
   "source": [
    "# El método de Euler-Cromer"
   ]
  },
  {
   "cell_type": "markdown",
   "metadata": {},
   "source": [
    "Un cambio aparentemente insignificativo al método numérico puede dar resultados mucho mejores para ciertas clases de sistema.\n",
    "En el llamado método de Euler-Cromer, actualizamos\n",
    "*primero* la velocidad, y utilizamos esta *nueva* velocidad para actualizar la posición en las reglas usuales del método de Euler.\n",
    "\n",
    "\n",
    "**[2]** (i) Aplica el método de Euler-Cromer al oscilador armónico. Dibuja trayectorias desde varios puntos iniciales en un solo plano fase.\n",
    "\n",
    "(ii) Encuentra la tasa de convergencia de Euler-Cromer a la solución exacta cuando tamaño $h$ de un paso converge a cero.\n",
    "\n",
    "**[3]** (i) Aplica Euler-Cromer al péndulo simple y dibuja el espacio fase completo. Para hacer esto, escoge distintas condiciones iniciales (posición y velocidad/momento) e integra tanto para adelante como para atrás en el tiempo. \n",
    "\n",
    "Dibuja el plano fase, así como varias trayectorias como función del tiempo. Describe físicamente lo que observas.\n",
    "\n",
    "(ii) Compara trayectorias integradas con las que resultan de usar la cantidad conservada para este sistema."
   ]
  },
  {
   "cell_type": "markdown",
   "metadata": {},
   "source": [
    "# El método de Euler para atrás"
   ]
  },
  {
   "cell_type": "markdown",
   "metadata": {},
   "source": [
    "Tomemos otro punto de vista de los métodos numéricos para las EDOs.`\n",
    "\n",
    "Al integrar los dos lados de la EDO\n",
    "\n",
    "$$\\dot{x}(t) = f(x(t), t)$$\n",
    "\n",
    "con respecto al tiempo para $t$ entre $t_0$ y $t_0+h$, obtenemos\n",
    "\n",
    "$$x(t_0+h) - x(t_0) = \\int_{t_0}^{t_0+h} f(x(t'), t') dt'.$$\n",
    "\n",
    "Por lo tanto, podemos intentar aplicar los métodos numéricos que ya vimos para calcular integrales definidas a este problema."
   ]
  },
  {
   "cell_type": "markdown",
   "metadata": {},
   "source": [
    "**[4]** (i) ¿A cuál método de integración numérica corresponde el método de Euler? - es decir, ¿cómo se aproxima la función $f$ adentro de la integral?\n",
    "\n",
    "(ii) El siguiente método en complejidad es el llamado método del trapecio, el segundo método que vimos para la integración numérica. Supón (por simplicidad) que $f$ no depende explícitamente de $t$ y aplica el método a la integral para encontrar una ecuación para $x(t_0 + h)$. ¿Qué tipo de ecuación es?\n",
    "\n",
    "(iii) ¿Cuál método numérico podemos aplicar para resolver esta ecuación?\n",
    "\n",
    "(iv) Implementa esto y pruébalo. Compara los resultados con los del método de Euler.\n",
    "\n",
    "(v) ¿Cómo se puede aplicar para sistemas con dos variables?"
   ]
  }
 ],
 "metadata": {
  "kernelspec": {
   "display_name": "Julia 0.5.0",
   "language": "julia",
   "name": "julia-0.5"
  },
  "language_info": {
   "file_extension": ".jl",
   "mimetype": "application/julia",
   "name": "julia",
   "version": "0.5.1"
  },
  "toc": {
   "colors": {
    "hover_highlight": "#DAA520",
    "running_highlight": "#FF0000",
    "selected_highlight": "#FFD700"
   },
   "moveMenuLeft": true,
   "nav_menu": {
    "height": "66px",
    "width": "252px"
   },
   "navigate_menu": true,
   "number_sections": true,
   "sideBar": true,
   "threshold": "2",
   "toc_cell": false,
   "toc_section_display": "block",
   "toc_window_display": false
  }
 },
 "nbformat": 4,
 "nbformat_minor": 0
}
