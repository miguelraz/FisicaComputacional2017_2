{
 "cells": [
  {
   "cell_type": "markdown",
   "metadata": {},
   "source": [
    "# Procesos estocásticos"
   ]
  },
  {
   "cell_type": "markdown",
   "metadata": {},
   "source": [
    "El concepto de *aleatoriedad* o *estocasticidad* juega un papel cada vez más importante en la física. Se tratan de procesos que son *aleatorios* o *estocásticos*; un ejemplo es el decaimiento radioactivo, \n",
    "\n",
    "Para modelar estos procesos en la computadora, necesitamos poder generar *números aleatorios* en la computadora. Hay un solo problema: ¡una computadora determinista no tiene fuente de aleatoriedad!\n",
    "\n",
    "[Sin embargo, se pueden captar datos de procesos aleatorios reales, o de la propia computadara; ver, por ejemplo, <http://www.random.org/>.]\n",
    "\n"
   ]
  },
  {
   "cell_type": "markdown",
   "metadata": {},
   "source": [
    "# Números pseudoaleatorios"
   ]
  },
  {
   "cell_type": "markdown",
   "metadata": {},
   "source": [
    "Podemos producir secuencias de números que *parecen ser* aleatorios (decimos que son *pseudoaleatorios*), usando iteraciones deterministas suficientemente complicadas; sin embargo, estas se tienen que diseñar con mucho cuidado.\n",
    "\n",
    "Un ejemplo se utilizaba antes, pero que *ya no se ocupa*, ya que no es lo suficientemente bueno, son los llamados generadores congruenciales lineales, de la forma\n",
    "\n",
    "$$X_{n+1} = \\left( a X_n + c \\right)~~\\bmod~~m.$$"
   ]
  },
  {
   "cell_type": "markdown",
   "metadata": {},
   "source": [
    "Implementa esta recurrencia con $a = 6364136223846793005$ y $c=\t1442695040888963407$. Usamos enteros *unsigned* (sin signo):\n",
    "\n",
    "    a = UInt64(6364136223846793005)\n",
    "    \n",
    "Tomamos $m=2^{64}$, por lo cual **no es necesario llevar a cabo el `mod` de forma explícita**.\n",
    "    \n",
    "Los números resultantes caen entre 0 y $2^{64} - 1$, inclusivo.\n",
    "\n",
    "**[1]** (i) Escribe una función que implementa esta recurrencia para generar un número aleatorio entero en este rango nuevo cada vez que la llamas.\n",
    "\n",
    "(ii) Utiliza esto para hacer una función `mi_rand` que genere números reales aleatorios en el intervalo real $[0, 1)$, es decir, que incluya $0$ pero excluye $1$."
   ]
  },
  {
   "cell_type": "markdown",
   "metadata": {},
   "source": [
    "**[2]** Escribe una función para calcular un *histograma*, es decir, dado un vector de datos de entrada, y un número $M$ de cajas, calcula cuántos de los datos cae en cada caja."
   ]
  },
  {
   "cell_type": "markdown",
   "metadata": {},
   "source": [
    "**[3]** (i) Utiliza tu función para generar $N$ números aleatorios y haz un histograma.\n",
    "\n",
    "(ii) Cambia $N$ y vuelve a calcular el histograma. Encuentra el tamaño del \"error\" de las barras con respecto al valor esperado en función de $N$. \n",
    "\n",
    "(iii) Dibuja el error *relativo* como función de $N$. ¿Qué esperas que pase? ¿Cómo cambia el error relativo con $N$? "
   ]
  },
  {
   "cell_type": "markdown",
   "metadata": {},
   "source": [
    "En Julia, existe una función `rand()` que utiliza un generador moderno de alta calidad, actualmente el llamado Mersenne Twister, para generar número aleatorios. Hay otros generadores disponibles en el paquete [`RandomNumbers.jl`](https://github.com/sunoru/RandomNumbers.jl)."
   ]
  },
  {
   "cell_type": "markdown",
   "metadata": {},
   "source": [
    "# Caminatas aleatorias"
   ]
  },
  {
   "cell_type": "markdown",
   "metadata": {},
   "source": [
    "Uno de los procesos estocásticos más fundamentales e importantes en la física es el *movimiento Browniano*. Un acercamiento inicial a este problema se da a través de las *caminatas aleatorias*, que modela una partícula que recibe impactos al azar, los cuales hacen que brinque en direcciones aleatorias."
   ]
  },
  {
   "cell_type": "markdown",
   "metadata": {},
   "source": [
    "**[4]** Piensa en un caminante aleatorio en una dimensión que vive en los enteros. Empieza en la posición $x=0$. En cada paso de tiempo, brinca a la derecha o a la izquierda con igual probabilidad $\\frac{1}{2}$.\n",
    "\n",
    "(i) Utiliza la función `mi_rand` o `rand` para generar el brinco: $+1$ o $-1$, cada uno con probabilidad $\\frac{1}{2}$.\n",
    "\n",
    "(ii) Haz una función que calcule la trayectoria de una caminata aleatoria que empiece en $0$ y toma $N$ pasos al azar. \n",
    "\n",
    "(iii) Dibuja unas cuantas trayectorias en una misma gráfica, con la posición $x(t)$ como función del tiempo $t$. ¿Qué observas?\n",
    "\n",
    "(iv) Ahora dibuja muchas trayectorias en una misma gráfica. ¿Qué observas?"
   ]
  },
  {
   "cell_type": "markdown",
   "metadata": {},
   "source": [
    "**[5]** Modifica tu función para que brinque a la derecha con probabilidad $p$ y a la izquierda con probabilidad $q := 1-p$. Dibuja las trayectorias para varios valores de $p$. ¿Qué observas?"
   ]
  },
  {
   "cell_type": "markdown",
   "metadata": {},
   "source": [
    "**[6]** ¿Cómo puedes caracterizar la posición de los caminantes después de $N$ pasos? Hazlo. ¿Cómo evoluciona en el tiempo? Si es demasiado trivial, piensa en otra caracterización."
   ]
  },
  {
   "cell_type": "markdown",
   "metadata": {},
   "source": [
    "# Caminatas aleatorias en 2D"
   ]
  },
  {
   "cell_type": "markdown",
   "metadata": {},
   "source": [
    "**[7]** Una partícula grande inmersa en un fluido lleva a cabo una caminata aleatoria / movimiento Browniano. \n",
    "\n",
    "(i) Simula una partícula que vive en una red cuadrada con coordenadas enteras y puede brincar en cualquiera de las 4 direcciones más cercanas con igual probabilidad. \n",
    "\n",
    "(ii) Dibuja unas trayectorias. ¿Qué observas?\n",
    "\n",
    "(iii) Dibuja muchas trayectorias. ¿Qué observas?\n",
    "\n",
    "(iv) ¿Cómo puedes caracterizar la distribución al tiempo $t$?"
   ]
  },
  {
   "cell_type": "markdown",
   "metadata": {},
   "source": [
    "**[8]** Para acercarnos al movimiento Browniano, podemos hacer que los brincos sean de distintos tamaños. Piensa en varias formas de hacerlo, implementarlas, y dibuja las trayectorias correspondientes. ¿Cómo se pueden caracterizar los comportamientos resultantes?"
   ]
  }
 ],
 "metadata": {
  "kernelspec": {
   "display_name": "Julia 0.5.1",
   "language": "julia",
   "name": "julia-0.5"
  },
  "language_info": {
   "file_extension": ".jl",
   "mimetype": "application/julia",
   "name": "julia",
   "version": "0.5.1"
  }
 },
 "nbformat": 4,
 "nbformat_minor": 1
}
