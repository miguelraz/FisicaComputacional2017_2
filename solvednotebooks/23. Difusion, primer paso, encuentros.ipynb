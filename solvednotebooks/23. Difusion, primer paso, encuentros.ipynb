{
 "cells": [
  {
   "cell_type": "markdown",
   "metadata": {},
   "source": [
    "# Difusión"
   ]
  },
  {
   "cell_type": "markdown",
   "metadata": {},
   "source": [
    "Considera una caminata aleatoria en una dimensión, como en un notebook anterior. Veámosla desde un punto de vista \"dual\", en términos no de las trayectorias individuales de las partículas (es decir, realizaciones del proceso), sino en la *distribución de probabilidad* completa.\n",
    "\n",
    "Sea $P_t(i)$ la *probabilidad* de que el caminante se encuentre en el sitio $i$ al tiempo (discreto) $t \\in \\mathbb{N}$.  El conjunto de valores $\\{ P_t(i)$: $i \\in \\mathbb{Z} \\}$ se llama la *distribución* (o, estrictamente, *función de masa de la distribución*) de probabilidad al tiempo $t$."
   ]
  },
  {
   "cell_type": "markdown",
   "metadata": {},
   "source": [
    "**[1]** (i) Supón que el caminante siempre comienza en $i=0$. Escribe la distribución de probabilidad inicial $P_0(i)$.  [¿Cuánto vale $P_0(i=57)$, por ejemplo?]\n",
    "\n",
    "(ii) Escribe una ecuación para $P_{t+1}(i)$, considerando cómo se mueve la probabilidad debido a la dinámica del caminante, el cual brinca a la derecha con probabilidad $p$, y a la izquierda con probabilidad $q:=1-p$.  Una ecuación de este tipo se llama una **ecuación maestra** [el cual es un muy mal nombre].\n",
    "\n",
    "(iii) Resuelve numéricamente la ecuación para $p=q=\\frac{1}{2}$ y dibuja la evolución de la distribución en el tiempo.\n",
    "¿Qué observas? ¿A qué se parece la distribución?\n",
    "\n",
    "(iv) ¿Qué ocurre para otros valores de $p$?\n",
    "\n",
    "(v) ¿A cuál ecuación diferencial parcial corresponde la dinámica discreta que hemos estudiado en esta pregunta?"
   ]
  },
  {
   "cell_type": "markdown",
   "metadata": {},
   "source": [
    "# Tiempos de primer paso"
   ]
  },
  {
   "cell_type": "markdown",
   "metadata": {},
   "source": [
    "Muchos problemas en la física, química, biología, economía, etc., se pueden pensar como **problemas de primer paso** de un proceso estocástico, que contestan a la pregunta ¿cuándo es el *primer tiempo* en el cual ocurre cierto evento? Esta clase de problemas suele ser sencillos de plantear, pero ¡difíciles de resolver!\n",
    "\n",
    "Uno de los problemas más sencillos de este tipo es el siguiente.\n",
    "\n",
    "Un caminante vive en los enteros. Empieza en $1$ y brinca en cada paso con probabilidades iguales $p=q=\\frac{1}{2}$ a los dos sitios vecinos. ¿Cuánto tiempo tardará en llegar a 0? Llamamos a esta cantidad el *tiempo de primer paso a 0*; lo denotaremos $T$.  La cantidad $T$ es una *variable aleatoria*: tomará un valor diferente en cada corrida del programa (realización del proceso).\n",
    "\n",
    "Resolvámoslo primero con un *método tipo Monte Carlo*, es decir, en el cual ocupamos números aleatorios."
   ]
  },
  {
   "cell_type": "markdown",
   "metadata": {},
   "source": [
    "**[2]** (i) Escribe una función para simular el proceso de primer paso. Impón un número máximo de brincos permitidos. La función devuelve el tiempo para que la partícula llegue a 0.\n",
    "\n",
    "(ii) Corre la función muchas veces y guarda los datos producidos. Examínalos -- ¿cómo se ven?\n",
    "\n",
    "(iii) Dibuja una gráfica para entender mejor los datos. ¿Qué tipo de gráfica te conviene?\n",
    "\n",
    "(iv) Una vez que hayas dibujado una gráfica adecuada, deberías ver un comportamiento particular. Intenta ajustar (a mano) los datos. ¿Cómo se comporta?"
   ]
  },
  {
   "cell_type": "markdown",
   "metadata": {},
   "source": [
    "## Otro enfoque"
   ]
  },
  {
   "cell_type": "markdown",
   "metadata": {},
   "source": [
    "Hay otras maneras de resolver el problema. \n",
    "\n",
    "Sea $\\tau_i$ el *tiempo promedio* para llegar a 0, *partiendo* del sitio inicial $i$."
   ]
  },
  {
   "cell_type": "markdown",
   "metadata": {},
   "source": [
    "**[3]** (i) Escribe una ecuación para $\\tau_i$. Cuál es la condición de frontera en $i=0$?\n",
    "\n",
    "(ii) Supón que el sistema tiene tamaño finito, de $0$ hasta $L$ (o sea, de tamaño $L+1$). Supón que si la partícula se encuentra en $i=L$ e intenta brincar a la derecha, se refleja contra un espejo [ubicado en \"$L + \\frac{1}{2}$\"] y se regresa a $L$. Plantea la condición de frontera correspondiente para $\\tau_L$.\n",
    "\n",
    "(iii) Plantea el sistema de ecuaciones en la computadora y resúelvelo. Puedes utilizar el operador `\\` de Julia, que resuelve sistemas de ecuaciones. \n",
    "\n",
    "(iv) Calcula $\\tau_1(L)$ (la solución del problema original con tamaño $L$ del sistema) para distintos tamaños $L$ y dibújalos. Haz un ajuste (a mano) para ver cómo cambia $\\tau_1(L)$ con $L$. ¿Qué pasa cuando $L \\to \\infty$? ¿Qué concluyes?"
   ]
  },
  {
   "cell_type": "markdown",
   "metadata": {},
   "source": [
    "## Enumeración exacta"
   ]
  },
  {
   "cell_type": "markdown",
   "metadata": {},
   "source": [
    "Otro método más se llama **enumeración exacta**, el cual consiste en resolver la ecuación maestra del sistema de forma (numéricamente) exacta, para un sistema finito.\n",
    "\n",
    "**[4]** (i) Plantea la ecuación maestra para sitios internos (entre $1$ y $L-1$) y para los sitios de frontera.\n",
    "\n",
    "(ii) Resuelve las ecuaciones de evolución. En cada paso, cierta cantidad de probabilidad $P_t(i=0)$ llega al sitio $0$. Esta corresponde a la probabilidad $P(T=t)$ de que el caminante salga del sistema en el paso $t$. Guarda esta cantidad en otro arreglo, y *pon igual a 0 la entrada correspondiente de $P_t(0)$*. Esto es una *condición de frontera absorbente*; representa el hecho de que esta fracción de partículas *se mueren*.\n",
    "\n",
    "(iii) Para una $L$ fija, ¿qué forma asintótica tiene la distribución?\n",
    "\n",
    "(iv) Grafica la distribución $f_L(T=t)$ (es decir, la probabilidad de que el tiempo de primer paso sea igual a $t$) para distintos tamaños $L$ en una sola gráfica. ¿Qué observas? ¿Qué forma asintótica tiene la distribución cuando $L \\to \\infty$?"
   ]
  }
 ],
 "metadata": {
  "kernelspec": {
   "display_name": "Julia 0.5.2",
   "language": "julia",
   "name": "julia-0.5"
  },
  "language_info": {
   "file_extension": ".jl",
   "mimetype": "application/julia",
   "name": "julia",
   "version": "0.5.2"
  },
  "toc": {
   "colors": {
    "hover_highlight": "#DAA520",
    "running_highlight": "#FF0000",
    "selected_highlight": "#FFD700"
   },
   "moveMenuLeft": true,
   "nav_menu": {
    "height": "86px",
    "width": "252px"
   },
   "navigate_menu": true,
   "number_sections": true,
   "sideBar": true,
   "threshold": "2",
   "toc_cell": false,
   "toc_section_display": "block",
   "toc_window_display": false
  }
 },
 "nbformat": 4,
 "nbformat_minor": 1
}
