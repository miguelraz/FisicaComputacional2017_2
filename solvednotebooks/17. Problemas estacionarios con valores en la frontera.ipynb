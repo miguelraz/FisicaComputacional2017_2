{
 "cells": [
  {
   "cell_type": "markdown",
   "metadata": {},
   "source": [
    "Hasta ahora, hemos estudiado únicamente las **ecuaciones de evolución**, o sea, un problema **con valores iniciales**, en el cual se quiere determinar la evolución temporal de la solución, tanto para EDOs como para EDPs.\n",
    "\n",
    "Otra clase fundamental de problemas son los **problemas estacionarios** o **problemas estáticos**, también llamados **problemas con valores en la frontera**. En este tipo de problemas, se busca una solución estacionaria, es decir, una solución que *no* cambia en el tiempo, pero que depende del espacio.\n",
    "\n",
    "Este tipo de problemas surge en distintos contextos. Por ejemplo, si resolvemos la ecuación de difusión con condiciones de Dirichlet dadas que no sean cero, la solución temporal *converge* a una solución estacionaria. ¿Podemos calcular directamente esta solución estacionaria? Los problemas estacionarios también ocurren naturalmente al resolver, por ejemplo, las ecuaciones de Laplace y de Poisson para determinar el potencial (y de ahí el campo) eléctrico para una configuración dada de cargas y fronteras."
   ]
  },
  {
   "cell_type": "markdown",
   "metadata": {},
   "source": [
    "## Las ecuaciones de Poisson y de Laplace "
   ]
  },
  {
   "cell_type": "markdown",
   "metadata": {},
   "source": [
    "Consideremos el problema de encontrar el campo de potencial debido a una distribución de carga eléctrica. El campo de potencial $V(\\mathbf{x})$ satisface la ecuación de Poisson,\n",
    "\n",
    "$$ \\nabla^2 V(\\mathbf{x}) = -\\rho(\\mathbf{x}), $$\n",
    "\n",
    "donde $\\rho(\\mathbf{x})$ es la densidad de carga en unidades adecuadas.\n",
    "\n",
    "con los valores en la frontera  $V = V_1$ y $V = V_2$ en las dos placas.\n",
    "\n",
    "Para comenzar, reduzcamos el problema a una sola dimensión. Entonces la ecuación se vuelve\n",
    "\n",
    "$$ \\frac{d^2 V(x)}{dx^2} = -\\rho(x) \\quad (*) $$ \n",
    "\n",
    "para todas las $x$,\n",
    "con los potenciales en las placas $V(a) = x_1$ y $V(b) = x_2$,\n",
    "es decir, una EDO con valores en la frontera.\n",
    "\n",
    "Este tipo de problema es de una naturaleza *completamente diferente* de los que hemos visto anteriormente en EDOs, ya que *no hay evolución* en el tiempo. Y sin embargo..."
   ]
  },
  {
   "cell_type": "markdown",
   "metadata": {},
   "source": [
    "**[1]** (i) Discretiza la ecuación con una malla en el espacio, tal como hicimos para la ecuación de difusión: ¿cuál ecuación discretizada se satisface en el sitio $x_i$? \n",
    "\n",
    "(ii) ¿Si hay una sola carga puntual, cuáles sitios son especiales?"
   ]
  },
  {
   "cell_type": "markdown",
   "metadata": {},
   "source": [
    "Dado que ya no hay evolución en el tiempo, todas las ecuaciones para todos los sitios $i$ **se deben cumplir simultáneamente**. "
   ]
  },
  {
   "cell_type": "markdown",
   "metadata": {},
   "source": [
    "**[2]** ¿Qué tipo de problema resulta entonces? Escribe el problema con una notación que conoces de otros cursos."
   ]
  },
  {
   "cell_type": "markdown",
   "metadata": {},
   "source": [
    "Hay varios métodos posibles para resolver problemas de esta índole. Empezaremos con ocupar un método **iterativo** que recién vimos:"
   ]
  },
  {
   "cell_type": "markdown",
   "metadata": {},
   "source": [
    "**[3]** (i) Reescribe la ecuación en el sitio $x_i$ que encontraste en la pregunta **1** para despejar $V_i$, el valor aproximado de $V(x_i)$.\n",
    "\n",
    "Ahora **inventemos** una dinámica, tal como lo hicimos con los primeros métodos iterativos para resolver ecuaciones: pongamos esta $V_i$ como $V_i^{t+1}$, y los demás $V_i$ como $V_i^t$.\n",
    "\n",
    "(ii) Escribe la nueva ecuación. ¿Cómo se relaciona la solución de la ecuación (*) con esta dinámica?\n",
    "\n",
    "(iii) Implementa esta dinámica para la $\\rho(x) \\equiv 0$, con condiciones en la frontera $V(x=0) = a$ y $V(x=1) = b$. Haz una animación con `Interact.jl`.\n",
    "\n",
    "(iv) Encuentra la solución analítica de la ecuación diferencial y compáralo con tu solución. [Nota que tendrás que esperar bastante tiempo para que la solución a la ecuación dinámica converja.]\n",
    "\n",
    "(v) ¿De qué es discretización la ecuación dinámica?, es decir, ¿cuál ecuación de evolución estamos resolviendo? ¿Por qué es tan lenta la convergencia?"
   ]
  },
  {
   "cell_type": "markdown",
   "metadata": {},
   "source": [
    "**[4]** (i) Utiliza la misma técnica para resolver la siguiente EDO con valores en la frontera para $y(x):\n",
    "\n",
    "$$ y'' + y = 0$$\n",
    "$$ y(0) = 0$$\n",
    "$$ y(\\pi/2) = 2$$\n",
    "\n",
    "Compara tu solución con el resultado analítico.\n",
    "\n",
    "(ii) ¿Qué ocurre si cambias las condiciones en la frontera a $y(0) = 1$ y $y(\\pi/2) = 2$?"
   ]
  },
  {
   "cell_type": "markdown",
   "metadata": {},
   "source": [
    "**[5]**\n",
    "\n",
    "Piensa en la ecuación de Poisson en 1D con una carga puntual en la posición $x_0$. \n",
    "\n",
    "(i) Escribe la ecuación diferencial y discretízala.\n",
    "\n",
    "(ii) Para tratar la delta de Dirac, trátalo como (por ejemplo) una gaussiana y haz el ancho de la gaussiana chica.\n",
    "\n",
    "(iii) Implementa esto y verifica que la solución sea correcta."
   ]
  },
  {
   "cell_type": "markdown",
   "metadata": {},
   "source": [
    "**[6]**  [Opcional, ¡pero recomendada!]. \n",
    "\n",
    "(i) Una manera alternativa de resolver el problema de la pregunta **5** es el integrar la ecuación de $x_0 - \\epsilon$ a $x_0 + \\epsilon$. ¿Cuál condición te da para $V'$? \n",
    "\n",
    "(ii) Implementa esto y verifica que la solución es correcta (al menos, que tiene la relación correcta de pendientes)."
   ]
  }
 ],
 "metadata": {
  "kernelspec": {
   "display_name": "Julia 0.5.1",
   "language": "julia",
   "name": "julia-0.5"
  },
  "language_info": {
   "file_extension": ".jl",
   "mimetype": "application/julia",
   "name": "julia",
   "version": "0.5.1"
  }
 },
 "nbformat": 4,
 "nbformat_minor": 1
}
