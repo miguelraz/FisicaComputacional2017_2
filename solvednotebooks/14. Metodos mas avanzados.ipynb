{
 "cells": [
  {
   "cell_type": "markdown",
   "metadata": {},
   "source": [
    "# Métodos de Runge-Kutta"
   ]
  },
  {
   "cell_type": "markdown",
   "metadata": {},
   "source": [
    "Considera la EDO\n",
    "\n",
    "$$\\dot{x}(t) = f(x(t), t) \\qquad (*)$$"
   ]
  },
  {
   "cell_type": "markdown",
   "metadata": {},
   "source": [
    "**[1]** Dado $x(t_0)$, queremos encontrar $x(t_0 + h)$. \n",
    "\n",
    "(i) Desarrolla $x(t_0 +h)$ en una serie de Taylor, hasta segundo orden. Para calcular $\\ddot{x}$, deriva la ecuación (*) con respecto a $t$. Nota que $f$ es una **función de dos variables**.\n",
    "\n",
    "(ii) ¿A qué corresponde el método de Euler?"
   ]
  },
  {
   "cell_type": "markdown",
   "metadata": {},
   "source": [
    "Se pueden derivar métodos (llamados **métodos de Taylor** que calculan explícitamente las derivadas de $f$. Los métodos de Runge-Kutta utilizan una idea diferente: evaluar $f$ varias veces, posiblemente en distintos lugares, y tomar una combinación lineal de estas evaluaciones para reproducir la expansión de Taylor a diferentes órdenes.\n",
    "\n",
    "Veremos un par de métodos de Runge-Kutta **explícitos**, es decir, en los cuales no es necesario (como lo es en el método para atrás de Euler, que es un método **implícito**) de resolver una ecuación no-lineal."
   ]
  },
  {
   "cell_type": "markdown",
   "metadata": {},
   "source": [
    "**[2]** Para entender la idea de los métodos RK, regresemos al método de Euler para atrás. Si $t_n$ son los nodos en donde aproximamos la solución, y $x_n$ los valores aproximados, entonces tenemos lo siguiente (que obtenemos al aproximar la integral):\n",
    "\n",
    "$$x_{n+1} = x_n + \\frac{h}{2} \\left[ f(x_n, t_n) + f(x_{n+1}, t_{n+1}) \\right] \\qquad (**).$$\n",
    "\n",
    "Para convertir esta ecuación implícita en un método Runge-Kutta, tomemos una *aproximación* de $f(x_{n+1})$, al utilizar un *paso de Euler*. En general, los métodos de Runge-Kutta incorporan varios pasos de Euler, que pueden ser de distintos tamaños.\n",
    "\n",
    "(i) Escribe la ecuación de un paso de Euler para $x_{n+1}$ en términos de $x_n$.\n",
    "\n",
    "(ii) Inserte ese paso de Euler en la ecuación (**). Expande en potencias de $h$ hasta segundo orden. Demuestra que recupera la expansión de Taylor de $x(t+h)$ a segundo orden. Este método se llama el **método de Euler modificado**.\n",
    "\n",
    "Una alternativa es el tomar un paso de Euler en todo el intervalo de tamaño $h$, pero utilizando una mejor aproximación de la derivada en el intervalo. Para hacerlo, se toma un primer paso de Euler hasta la *mitad* del camino entre $t_n$ y $t_{n+1}$, es decir una \"distancia\" $h/2$ en el tiempo, y se evalúa ahí $f(x(t+h/2), t+h/2)$ Este valor luego se utiliza como la aproximación de $\\dot{x}$ sobre el intervalo en otro paso de Euler. Este método se llama el **método del punto medio**.\n",
    "\n",
    "(iii) Implementa estos dos métodos. Confirma numéricamente cuáles son sus respectivas tasas de convergencia, y compara visualmente los resultados con los métodos de Euler y Euler para atrás para distintos sistemas."
   ]
  },
  {
   "cell_type": "markdown",
   "metadata": {},
   "source": [
    "## Runga-Kutta de más alto orden"
   ]
  },
  {
   "cell_type": "markdown",
   "metadata": {},
   "source": [
    "Se pueden derivar métodos de Runge-Kutta de más alto orden, es decir, siempre con la meta de reproducir la expansión de Taylor de $x(t+h)$ a cada vez más alto orden. Sin embargo, los cálculos se vuelven complicados."
   ]
  },
  {
   "cell_type": "markdown",
   "metadata": {},
   "source": [
    "**[3]** Uno de los más utilizados es \"RK4\", de cuarto orden. Encuentra las ecuaciones para este método e impleméntalo para el caso de ecuaciones arbitrarias en forma vectorial. (Puedes empezar con el caso escalar.) \n",
    "\n",
    "Encuentra numéricamente su tasa de convergencia y compara visualmente el resultado con los demás métodos."
   ]
  },
  {
   "cell_type": "markdown",
   "metadata": {},
   "source": [
    "## Paso adaptativo"
   ]
  },
  {
   "cell_type": "markdown",
   "metadata": {},
   "source": [
    "Hasta ahora, en todas las integraciones de EDOs que hemos hecho, ha habido un tamaño de paso fijo, que es un parámetro que pasamos a la función `RK4` etc.\n",
    "\n",
    "Pero surge una pregunta: ¿cómo se debe escoger el tamaño del paso? (Seguro ¡has pasado por esta pregunta!) La respuesta dependerá de la función $\\mathbf{f}$ que estemos integrando: si $\\mathbf{f}$ cambia rápido, debemos usar un paso más chiquito para resolver los cambios; si cambia más lentamente, podemos utilizar un paso más grande. \n",
    "\n",
    "El problema es que ¡sólo podemos saber qué tan rápido varía la función en medio de la integración misma!\n",
    "La solución es utilizar un método *adaptativo*: el método mismo tiene (cierto) control del tamaño de paso, el cual *se irá cambiando de manera automática* para tomar en cuenta la propia tasa de cambio de la función.\n",
    "\n",
    "Por esta razón, (casi) *nunca* se deberían utilizar los métodos simples y no-adaptativos como Euler y RK4 en la práctica."
   ]
  },
  {
   "cell_type": "markdown",
   "metadata": {},
   "source": [
    "## Euler adaptativo "
   ]
  },
  {
   "cell_type": "markdown",
   "metadata": {},
   "source": [
    "Dado que este tema se puede volver complicado, consideremos el método de Euler por simplicidad. Queremos resolver \n",
    "\n",
    "$$\\dot{x} = f(x),$$\n",
    "\n",
    "y tenemos\n",
    "\n",
    "$$x_{n+1} = x_n + h \\, f(x_n) + \\epsilon_1(h), (*)$$\n",
    "\n",
    "donde $\\epsilon_1(h) = C \\, h^2$ es el error de un paso.\n",
    "Aquí, hemos supuesto que $C$ no depende de $h$. Esto no es realmente cierto (¿por qué?), pero facilita el cálculo.\n",
    "\n",
    "Para ciertos tipos de función $f$ (¿cuáles? -- ¿qué otra forma podríamos utilizar para el término del error?), el término del error será grande.\n",
    "¿Cómo podemos *estimar* el tamaño de este término?\n",
    "\n",
    "Una idea es el de tomar *dos* pasos, de tamaño $h/2$."
   ]
  },
  {
   "cell_type": "markdown",
   "metadata": {},
   "source": [
    "**[4]** (i) Encuentra la expresión para $x_n$ si se toman dos pasos de tamaño $h/2$, \n",
    "donde $x_{n+\\frac{1}{2}}$ es el lugar intermedio.\n",
    "Substrae los dos resultados del método de Euler para encontrar el tamaño del error $\\epsilon$."
   ]
  },
  {
   "cell_type": "markdown",
   "metadata": {},
   "source": [
    "Si $\\epsilon < \\mathrm{tol}$, una cierta tolerancia que imponemos, entonces el paso es exitoso, y actualizamos las variables. En este caso, la función está variando lentamente, así que podemos *incrementar* el tamaño del paso. \n",
    "Si no es exitoso, reducimos la tolerancia. En los dos casos, podemos actualizar según una regla de la forma\n",
    "\n",
    "$$ h' = 0.9 h \\, \\frac{\\mathrm{tol}}{|\\epsilon|}.$$\n"
   ]
  },
  {
   "cell_type": "markdown",
   "metadata": {},
   "source": [
    "(ii) Implementa un método adaptativo de Euler.\n",
    "\n",
    "(iii) Prúebalo para un sistema que hemos estudiado en el cual fracasa Euler. ¿Ayuda?"
   ]
  },
  {
   "cell_type": "markdown",
   "metadata": {},
   "source": [
    "## Métodos de Runge-Kutta adaptativos "
   ]
  },
  {
   "cell_type": "markdown",
   "metadata": {},
   "source": [
    "Supongamos que hiciéramos la misma idea para Runge-Kutta 4."
   ]
  },
  {
   "cell_type": "markdown",
   "metadata": {},
   "source": [
    "**[5]** ¿Cuántas evaluaciones de la función $f$ se requieren para llevar a cabo un paso de tamaño $h$?"
   ]
  },
  {
   "cell_type": "markdown",
   "metadata": {},
   "source": [
    "Dado que esto puede ser caro, hay una mejor solución. Resulta que hay métodos de Runge-Kutta (\"embedded\") tales que podemos utilizar las *mismas* evaluaciones de la función $f$ (en los mismos lugares del intervalo $[t, t+h]$), y nos da *dos* estimados diferentes de $x(t+h)$, con dos órdenes de error distintos. Esto se puede aplicar de la misma forma para controlar el tamaño de paso, pero con menos evaluaciones de $f$ en cada paso.\n",
    "\n",
    "Este método, y otros parecidos, es uno de los que se suele utilizar para cálculos serios."
   ]
  },
  {
   "cell_type": "markdown",
   "metadata": {},
   "source": [
    "**[6]** ** (Opcional) Implementa el método \"RK45\" (Runge-Kutta-Fehlberg), que mezcla un método de 4o. y de 5o. orden."
   ]
  }
 ],
 "metadata": {
  "kernelspec": {
   "display_name": "Julia 0.5.0",
   "language": "julia",
   "name": "julia-0.5"
  },
  "language_info": {
   "file_extension": ".jl",
   "mimetype": "application/julia",
   "name": "julia",
   "version": "0.5.1"
  }
 },
 "nbformat": 4,
 "nbformat_minor": 0
}
