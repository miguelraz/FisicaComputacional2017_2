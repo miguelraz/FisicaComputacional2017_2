{
 "cells": [
  {
   "cell_type": "markdown",
   "metadata": {},
   "source": [
    "# Diferenciación automática"
   ]
  },
  {
   "cell_type": "markdown",
   "metadata": {},
   "source": [
    "## Introducción a los tipos"
   ]
  },
  {
   "cell_type": "markdown",
   "metadata": {},
   "source": [
    "En este notebook vamos a empezar a ver qué son los tipos en Julia, para así construir un diferenciador. Un tipo en Julia es como una familia, o una 'especie' de variables, como lo son los \"Float64\", los complejos o los booleanos, entre otros."
   ]
  },
  {
   "cell_type": "markdown",
   "metadata": {},
   "source": [
    "Como ejemplo, vamos a construir un tipo que llamaremos \"mi_vec\", el cual será un vector. Tendremos que definir más adelante todas las operaciones entre este tipo de variables."
   ]
  },
  {
   "cell_type": "code",
   "execution_count": 1,
   "metadata": {
    "collapsed": true
   },
   "outputs": [],
   "source": [
    "immutable mi_vec\n",
    "    x\n",
    "    y\n",
    "end"
   ]
  },
  {
   "cell_type": "code",
   "execution_count": 2,
   "metadata": {
    "collapsed": false
   },
   "outputs": [
    {
     "name": "stdout",
     "output_type": "stream",
     "text": [
      "search:\n",
      "\n"
     ]
    },
    {
     "data": {
      "text/markdown": [
       "No documentation found.\n",
       "\n",
       "**Summary:**\n",
       "\n",
       "```\n",
       "immutable mi_vec <: Any\n",
       "```\n",
       "\n",
       "**Fields:**\n",
       "\n",
       "```\n",
       "x :: Any\n",
       "y :: Any\n",
       "```\n"
      ],
      "text/plain": [
       "No documentation found.\n",
       "\n",
       "**Summary:**\n",
       "\n",
       "```\n",
       "immutable mi_vec <: Any\n",
       "```\n",
       "\n",
       "**Fields:**\n",
       "\n",
       "```\n",
       "x :: Any\n",
       "y :: Any\n",
       "```\n"
      ]
     },
     "execution_count": 2,
     "metadata": {},
     "output_type": "execute_result"
    }
   ],
   "source": [
    "?mi_vec"
   ]
  },
  {
   "cell_type": "markdown",
   "metadata": {},
   "source": [
    "Como podemos ver, 'mi_vec' es entonces un tipo que está compuesto de los campos 'x' y 'y', los cuales pueden ser de cualquier tipo a su vez."
   ]
  },
  {
   "cell_type": "code",
   "execution_count": 9,
   "metadata": {
    "collapsed": false
   },
   "outputs": [
    {
     "data": {
      "text/plain": [
       "mi_vec(1,2)"
      ]
     },
     "execution_count": 9,
     "metadata": {},
     "output_type": "execute_result"
    }
   ],
   "source": [
    "A=mi_vec(1,2)"
   ]
  },
  {
   "cell_type": "markdown",
   "metadata": {},
   "source": [
    "Para acceder a los campos de este tipo, se utiliza la siguiente sintáxis:"
   ]
  },
  {
   "cell_type": "code",
   "execution_count": 11,
   "metadata": {
    "collapsed": false
   },
   "outputs": [
    {
     "data": {
      "text/plain": [
       "1"
      ]
     },
     "execution_count": 11,
     "metadata": {},
     "output_type": "execute_result"
    }
   ],
   "source": [
    "A.x"
   ]
  },
  {
   "cell_type": "code",
   "execution_count": 13,
   "metadata": {
    "collapsed": false
   },
   "outputs": [
    {
     "data": {
      "text/plain": [
       "2"
      ]
     },
     "execution_count": 13,
     "metadata": {},
     "output_type": "execute_result"
    }
   ],
   "source": [
    "A.y"
   ]
  },
  {
   "cell_type": "markdown",
   "metadata": {},
   "source": [
    "Ahora, vamos a ver que pasa cuando intentamos hacer operaciones para este tipo."
   ]
  },
  {
   "cell_type": "code",
   "execution_count": 14,
   "metadata": {
    "collapsed": false
   },
   "outputs": [
    {
     "ename": "LoadError",
     "evalue": "MethodError: no method matching +(::mi_vec, ::mi_vec)\u001b[0m\nClosest candidates are:\n  +(::Any, ::Any, \u001b[1m\u001b[31m::Any\u001b[0m, \u001b[1m\u001b[31m::Any...\u001b[0m) at operators.jl:138\u001b[0m",
     "output_type": "error",
     "traceback": [
      "MethodError: no method matching +(::mi_vec, ::mi_vec)\u001b[0m\nClosest candidates are:\n  +(::Any, ::Any, \u001b[1m\u001b[31m::Any\u001b[0m, \u001b[1m\u001b[31m::Any...\u001b[0m) at operators.jl:138\u001b[0m",
      ""
     ]
    }
   ],
   "source": [
    "A+A"
   ]
  },
  {
   "cell_type": "markdown",
   "metadata": {},
   "source": [
    "Como podemos ver, aún no se ha definido ninguna suma para este tipo, por lo cual Julia no sabe como sumar dos objetos del tipo 'mi_vec'. Para definir esto, primero hay que importar la función de suma, ya que Julia no nos permite hacer cambios en las funciones de Base (sean las funciones principales de Julia) si no las hemos importado."
   ]
  },
  {
   "cell_type": "code",
   "execution_count": 16,
   "metadata": {
    "collapsed": true
   },
   "outputs": [],
   "source": [
    "import Base.+"
   ]
  },
  {
   "cell_type": "code",
   "execution_count": 17,
   "metadata": {
    "collapsed": false
   },
   "outputs": [
    {
     "data": {
      "text/plain": [
       "+ (generic function with 164 methods)"
      ]
     },
     "execution_count": 17,
     "metadata": {},
     "output_type": "execute_result"
    }
   ],
   "source": [
    "+(A::mi_vec,B::mi_vec)=mi_vec(A.x+B.x , A.y+B.y)"
   ]
  },
  {
   "cell_type": "markdown",
   "metadata": {},
   "source": [
    "Ahora sí, vamos a poder hacer la suma anterior:"
   ]
  },
  {
   "cell_type": "code",
   "execution_count": 22,
   "metadata": {
    "collapsed": false
   },
   "outputs": [
    {
     "data": {
      "text/plain": [
       "mi_vec(2,4)"
      ]
     },
     "execution_count": 22,
     "metadata": {},
     "output_type": "execute_result"
    }
   ],
   "source": [
    "A+A"
   ]
  },
  {
   "cell_type": "markdown",
   "metadata": {},
   "source": [
    "Si quisiéramos definir cómo se suman los objetos de este tipo con un real, o con cualquier otro tipo, vamos a tener que definir la suma para esos tipos entonces."
   ]
  },
  {
   "cell_type": "code",
   "execution_count": 23,
   "metadata": {
    "collapsed": false
   },
   "outputs": [
    {
     "ename": "LoadError",
     "evalue": "MethodError: no method matching +(::mi_vec, ::Int64)\u001b[0m\nClosest candidates are:\n  +(::Any, ::Any, \u001b[1m\u001b[31m::Any\u001b[0m, \u001b[1m\u001b[31m::Any...\u001b[0m) at operators.jl:138\n  +(\u001b[1m\u001b[31m::Complex{Bool}\u001b[0m, ::Real) at complex.jl:151\n  +(\u001b[1m\u001b[31m::Char\u001b[0m, ::Integer) at char.jl:40\n  ...\u001b[0m",
     "output_type": "error",
     "traceback": [
      "MethodError: no method matching +(::mi_vec, ::Int64)\u001b[0m\nClosest candidates are:\n  +(::Any, ::Any, \u001b[1m\u001b[31m::Any\u001b[0m, \u001b[1m\u001b[31m::Any...\u001b[0m) at operators.jl:138\n  +(\u001b[1m\u001b[31m::Complex{Bool}\u001b[0m, ::Real) at complex.jl:151\n  +(\u001b[1m\u001b[31m::Char\u001b[0m, ::Integer) at char.jl:40\n  ...\u001b[0m",
      ""
     ]
    }
   ],
   "source": [
    "A+2"
   ]
  },
  {
   "cell_type": "code",
   "execution_count": 24,
   "metadata": {
    "collapsed": false
   },
   "outputs": [
    {
     "ename": "LoadError",
     "evalue": "MethodError: no method matching *(::Int64, ::mi_vec)\u001b[0m\nClosest candidates are:\n  *(::Any, ::Any, \u001b[1m\u001b[31m::Any\u001b[0m, \u001b[1m\u001b[31m::Any...\u001b[0m) at operators.jl:138\n  *{T<:Union{Int128,Int16,Int32,Int64,Int8,UInt128,UInt16,UInt32,UInt64,UInt8}}(::T<:Union{Int128,Int16,Int32,Int64,Int8,UInt128,UInt16,UInt32,UInt64,UInt8}, \u001b[1m\u001b[31m::T<:Union{Int128,Int16,Int32,Int64,Int8,UInt128,UInt16,UInt32,UInt64,UInt8}\u001b[0m) at int.jl:33\n  *(::Real, \u001b[1m\u001b[31m::Complex{Bool}\u001b[0m) at complex.jl:158\n  ...\u001b[0m",
     "output_type": "error",
     "traceback": [
      "MethodError: no method matching *(::Int64, ::mi_vec)\u001b[0m\nClosest candidates are:\n  *(::Any, ::Any, \u001b[1m\u001b[31m::Any\u001b[0m, \u001b[1m\u001b[31m::Any...\u001b[0m) at operators.jl:138\n  *{T<:Union{Int128,Int16,Int32,Int64,Int8,UInt128,UInt16,UInt32,UInt64,UInt8}}(::T<:Union{Int128,Int16,Int32,Int64,Int8,UInt128,UInt16,UInt32,UInt64,UInt8}, \u001b[1m\u001b[31m::T<:Union{Int128,Int16,Int32,Int64,Int8,UInt128,UInt16,UInt32,UInt64,UInt8}\u001b[0m) at int.jl:33\n  *(::Real, \u001b[1m\u001b[31m::Complex{Bool}\u001b[0m) at complex.jl:158\n  ...\u001b[0m",
      ""
     ]
    }
   ],
   "source": [
    "2*A"
   ]
  },
  {
   "cell_type": "markdown",
   "metadata": {},
   "source": [
    "Como se puede ver, tendríamos que definir todas las operaciones pertinentes para cada nuevo tipo que queramos construir. También se pueden definir tipos que tengan a los tipos de sus campos fijos."
   ]
  },
  {
   "cell_type": "code",
   "execution_count": 3,
   "metadata": {
    "collapsed": false
   },
   "outputs": [],
   "source": [
    "immutable mi_vec2{T<:Real}\n",
    "    x :: T\n",
    "    y :: T\n",
    "end"
   ]
  },
  {
   "cell_type": "markdown",
   "metadata": {},
   "source": [
    "Este tipo sólo va a aceptar entradas para las cuales ambos campos sean reales entonces:"
   ]
  },
  {
   "cell_type": "code",
   "execution_count": 28,
   "metadata": {
    "collapsed": false
   },
   "outputs": [
    {
     "data": {
      "text/plain": [
       "mi_vec2{Int64}(1,2)"
      ]
     },
     "execution_count": 28,
     "metadata": {},
     "output_type": "execute_result"
    }
   ],
   "source": [
    "mi_vec2(1,2)"
   ]
  },
  {
   "cell_type": "code",
   "execution_count": 29,
   "metadata": {
    "collapsed": false
   },
   "outputs": [
    {
     "ename": "LoadError",
     "evalue": "MethodError: no method matching mi_vec2{T<:Real}(::Int64, ::Float64)\u001b[0m\nClosest candidates are:\n  mi_vec2{T<:Real}{T<:Real}(::T<:Real, \u001b[1m\u001b[31m::T<:Real\u001b[0m) at In[27]:2\n  mi_vec2{T<:Real}{T}(::Any) at sysimg.jl:53\u001b[0m",
     "output_type": "error",
     "traceback": [
      "MethodError: no method matching mi_vec2{T<:Real}(::Int64, ::Float64)\u001b[0m\nClosest candidates are:\n  mi_vec2{T<:Real}{T<:Real}(::T<:Real, \u001b[1m\u001b[31m::T<:Real\u001b[0m) at In[27]:2\n  mi_vec2{T<:Real}{T}(::Any) at sysimg.jl:53\u001b[0m",
      ""
     ]
    }
   ],
   "source": [
    "mi_vec2(2,2.2)"
   ]
  },
  {
   "cell_type": "markdown",
   "metadata": {},
   "source": [
    "Como podemos ver, esta sintáxis obliga a que ambos campos tengan el mismo tipo. Se tendría que utilizar una sintáxis diferente para cambiar esto."
   ]
  },
  {
   "cell_type": "code",
   "execution_count": 4,
   "metadata": {
    "collapsed": false
   },
   "outputs": [],
   "source": [
    "immutable mi_vec3{T1<: Number, T2<: Number}\n",
    "    x :: T1\n",
    "    y :: T2\n",
    "end"
   ]
  },
  {
   "cell_type": "code",
   "execution_count": 2,
   "metadata": {
    "collapsed": false
   },
   "outputs": [
    {
     "data": {
      "text/plain": [
       "mi_vec3{Int64,Int64}(1,2)"
      ]
     },
     "execution_count": 2,
     "metadata": {},
     "output_type": "execute_result"
    }
   ],
   "source": [
    "mi_vec3(1,2)"
   ]
  },
  {
   "cell_type": "code",
   "execution_count": 3,
   "metadata": {
    "collapsed": false
   },
   "outputs": [
    {
     "data": {
      "text/plain": [
       "mi_vec3{Int64,Float64}(1,2.2)"
      ]
     },
     "execution_count": 3,
     "metadata": {},
     "output_type": "execute_result"
    }
   ],
   "source": [
    "mi_vec3(1,2.2)"
   ]
  },
  {
   "cell_type": "markdown",
   "metadata": {},
   "source": [
    "Ojo, con Julia 0.6 la sintaxis va a cambiar. En vez de  '{T<:Integer}' (o cualquier otro tipo) vamos a tener que utilizar '{T} where T<:Integer'.\n",
    "<p> Todos estos cambios se pueden ver con más detalle en https://github.com/JuliaLang/julia/blob/master/NEWS.md"
   ]
  },
  {
   "cell_type": "markdown",
   "metadata": {},
   "source": [
    "## Construyendo el tipo dual"
   ]
  },
  {
   "cell_type": "markdown",
   "metadata": {},
   "source": [
    "Para el diferenciador automático, vamos a construir el tipo 'Dual'. Este tipo va a tener dos campos. Sea $u(x)$ una función, y sea $\\vec u(x_0)$ un elemento de este tipo, se tendrá $\\vec u(x_0)=(u_0,u'_0)$, teniendo $u_0=u(x_0)$, y $u'_0=u'(x_0)$.\n",
    "<p> Vamos a querer entonces que, sean $\\vec u, \\vec w \\in \\mathcal{D}$, se tengan las operaciones siguientes:\n",
    "- $\\vec u(x_0) \\pm \\vec w(x_0)=(u_0\\pm w_0, u'_0 \\pm w'_0)$ \n",
    "- $\\vec u(x_0)*\\vec w(x_0)=(u_0*w_0, w_0*u'_0+u_0*w'_0)$\n",
    "- $\\frac{\\vec{u}(x_0)}{\\vec{w}(x_0)}=(\\frac{u_0}{w_0}, \\frac{u'_0*w_0-u_0*w'_0}{w_0^2})$\n",
    "- $\\vec{u}^{\\alpha}(x_0) =(u_0, \\alpha u_0^{\\alpha -1}*u'_0)$\n",
    "<p> Por ejemplo, si $u(x)=3x^2-2$ tomando $x_0=1$. Cabe notar que representamos las constantes como $c=(c,0)$ y las evaluaciones como $x=(x,1)$. Llegamos entonces a que:\n",
    "$$\\vec{u}(x_0=1)=(3,0)*(x_0=1,1)^3-(2,0)$$\n",
    "De aquí, aplicando las definiciones de las operaciones tenemos que:\n",
    "$$(3,0)*(1,1)^3-(2,0)=(3,0)*(1^3,3*1^2)-(2,0)=(3,0)*(1,3)-(2,0)=(3*1,3*3+0*1)-(2,0)=(3,9)-(2,0)=(1,9)$$\n",
    "Llegando finalmente a que:\n",
    "$$\\vec{u}(1)=(u(1),u'(1))=(1,9)$$\n",
    "Por lo cual se tiene que:\n",
    "$$u'(1)=9$$\n",
    "Acabamos de calcular una derivada en un punto entonces sin necesidad de utilizar la definición de límites. Esta derivada es completamente exacta."
   ]
  },
  {
   "cell_type": "markdown",
   "metadata": {},
   "source": [
    "###### [1]  Construye el tipo Dual, el cual debe de tener dos campos reales."
   ]
  },
  {
   "cell_type": "markdown",
   "metadata": {},
   "source": [
    "###### [2]  Define las operaciones de suma, resta, multiplicación y división entre objetos de este tipo."
   ]
  },
  {
   "cell_type": "markdown",
   "metadata": {},
   "source": [
    "###### [3] Define las operaciones de suma, resta, multiplicación y división entre el tipo Dual y números reales. Ojo, tendrás que hacer dos definiciones, para +(Real,Dual) y para +(Dual,Real)."
   ]
  },
  {
   "cell_type": "markdown",
   "metadata": {},
   "source": [
    "###### [4]  Define cómo se debe de elevar un objeto dual por una potencia con ^(Dual,Real)."
   ]
  },
  {
   "cell_type": "markdown",
   "metadata": {},
   "source": [
    "###### [5] A partir de este tipo, construye una función que tome como entradas una función y un punto y te de la derivada de la función en ese punto. Para hacer esto, intenta ver qué es lo que pasa cuando evalúas tu función en un dual de la forma $(x_0,1)$. Pruébala para varias funciones y verifica su funcionamiento correcto."
   ]
  },
  {
   "cell_type": "markdown",
   "metadata": {},
   "source": [
    "###### [6] Conociendo como son las derivadas de las funciones más utilizadas, define cómo deben de operar las funciones de seno, coseno, tangente, logarítmo, exponencial y raíz cuadrada sobre un objeto de tipo dual. De nuevo, prueba tu función de derivada para varias funciones que tengan este tipo de funciones. Pueden ser tan complicadas como quieras."
   ]
  },
  {
   "cell_type": "markdown",
   "metadata": {
    "collapsed": true
   },
   "source": [
    "###### [7] Piensa cómo podrías sacar la segunda derivada utilizando la función de derivada que acabas de programar. Ojo, vas a necesitar hacer objetos del tipo dual(dual,dual), por lo que vas a tener que hacer una definición del tipo dual con cualquier tipo de entrada, y no sólo con reales."
   ]
  },
  {
   "cell_type": "markdown",
   "metadata": {},
   "source": [
    "###### [8] Generaliza el procedimiento anterior, obteniendo una función que te saca la derivada n-ésima."
   ]
  }
 ],
 "metadata": {
  "kernelspec": {
   "display_name": "Julia 0.5.0",
   "language": "julia",
   "name": "julia-0.5"
  },
  "language_info": {
   "file_extension": ".jl",
   "mimetype": "application/julia",
   "name": "julia",
   "version": "0.5.0"
  }
 },
 "nbformat": 4,
 "nbformat_minor": 0
}
