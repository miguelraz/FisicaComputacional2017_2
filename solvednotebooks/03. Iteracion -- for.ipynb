{
 "cells": [
  {
   "cell_type": "markdown",
   "metadata": {},
   "source": [
    "# Iteración"
   ]
  },
  {
   "cell_type": "markdown",
   "metadata": {},
   "source": [
    "Las computadoras están diseñadas para llevar a cabo cálculos de forma repetida. En Julia, existen varias formas de llevar a cabo cálculos repetidos. Uno de los más sencillos es la **iteración**. Esto se refiere a que una variable recorra un conjunto de valores.\n",
    "\n",
    "Empezaremos con los bucles `for` (que corresponde a \"para\", en español).\n",
    "\n",
    "Ya hemos visto las comprensiones de arreglo, que ocupan la misma palabra `for`. Aquí, veremos cómo podemos utilizar un bucle `for` de forma más explícito, y por ende más poderoso. (Sin embargo, para tareas sencillas para crear arreglos de datos, se recomienda utilizar las comprensiones de arreglo.)"
   ]
  },
  {
   "cell_type": "markdown",
   "metadata": {},
   "source": [
    "## `for`"
   ]
  },
  {
   "cell_type": "markdown",
   "metadata": {},
   "source": [
    "Un bucle `for` itera a través de un arreglo, rango etc. (cualquier objeto \"iterable\", de hecho). Su sintaxis es:\n",
    "\n",
    "```\n",
    "for <variable> in <iterable>\n",
    "    [haz esto]\n",
    "    [y esto]\n",
    "end\n",
    "```\n",
    "\n",
    "En un bucle de este tipo, la variable toma cada valor en turno del arreglo. Se refiere a los comandos adentro como el \"cuerpo\" del bucle. Estos comandos se ejecutarán una y otra vez, hasta que se agote el iterable.\n",
    "\n",
    "Por lo tanto, este tipo de bucle se ocupa cuando se conoce de antemano el número de veces que se requiera repetir algo.\n",
    "\n",
    "El ejemplo más sencillo es el siguiente:"
   ]
  },
  {
   "cell_type": "code",
   "execution_count": 3,
   "metadata": {
    "collapsed": false
   },
   "outputs": [
    {
     "name": "stdout",
     "output_type": "stream",
     "text": [
      "El valor actual de i es 1\n",
      "El valor actual de i es 2\n",
      "El valor actual de i es 3\n",
      "El valor actual de i es 4\n",
      "El valor actual de i es 5\n",
      "El valor actual de i es 6\n",
      "El valor actual de i es 7\n",
      "El valor actual de i es 8\n",
      "El valor actual de i es 9\n",
      "El valor actual de i es 10\n"
     ]
    }
   ],
   "source": [
    "for i in 1:10\n",
    "    println(\"El valor actual de i es \", i)\n",
    "end"
   ]
  },
  {
   "cell_type": "markdown",
   "metadata": {},
   "source": [
    "Vemos que la variable `i` toma cada valor en el rango, de 1 hasta 10, uno por uno. Literalmente lo podemos leer como sigue: \"Para cada `i` en el conjunto de valores 1 hasta 10, haz lo siguiente\". (Donde \"lo siguiente\" se refiere a todos los comandos comprendidos entre el `for` y el `end` correspondiente.)"
   ]
  },
  {
   "cell_type": "markdown",
   "metadata": {},
   "source": [
    "[1] Escribe el código a mano para imprimir lo mismo, *sin* utilizar un bucle. ¿Quisieras hacerlo para los números de 1 a 100? ¡Por algo se inventaron los bucles!"
   ]
  },
  {
   "cell_type": "markdown",
   "metadata": {},
   "source": [
    "En este ejemplo, se iteró sobre un objeto de tipo rango. También se puede iterar sobre un vector:"
   ]
  },
  {
   "cell_type": "code",
   "execution_count": 2,
   "metadata": {
    "collapsed": false
   },
   "outputs": [
    {
     "name": "stdout",
     "output_type": "stream",
     "text": [
      "6\n",
      "8\n",
      "14\n"
     ]
    }
   ],
   "source": [
    "x = [3, 4, 7]\n",
    "\n",
    "for i in x\n",
    "    println(i)\n",
    "end"
   ]
  },
  {
   "cell_type": "markdown",
   "metadata": {},
   "source": [
    "[2] Sabemos que la multiplicación por un entero es como una adición repetida. \n",
    "\n",
    "(i) Escribe una función `mi_mult`, que multiplica un número `x` por un entero positivo `n` (los dos son argumentos de la función), usando un bucle. (Es decir, puedes utilizar el `+` de Julia, pero ¡no el `*`!) Para hacerlo, utiliza una variable nueva que se llama `total`. ¿Con cuál valor inicial se debe crear esta variable? ¿Por qué? Verifica que tu función dé el resultado correcto.\n",
    "\n",
    "(ii) Modifica tu función para utilizar un `if` para verificar si `n` realmente sea positivo y entero. [Pista: checa la función `isinteger`.]\n",
    "\n",
    "(iii) Tu función funciona para `n` igual a `1`? ¿Para `n` igual a `0`? ¿Cómo puedes cambiar tu función para que sí funcione para estos casos?\n",
    "\n",
    "(iv) ¿Cómo puedes cambiar tu función para que funcione para *cualquier* entero `n`?"
   ]
  },
  {
   "cell_type": "markdown",
   "metadata": {},
   "source": [
    "[3] (i) Crea una función `mi_sum` que calcula la suma de los primeros $N$ enteros. (Por lo tanto, `N` debe ser un argumento de la función, y que querramos ir variando `N`.) \n",
    "\n",
    "(ii) Verifica que esté bien el cálculo, comparando el resultado con la función predefinida `sum` de Julia, para distintos valores de $N$.\n",
    "\n",
    "[4] Crea una función `mi_sum2` que calcula, en un solo bucle, la suma de los primeros $N$ enteros, y de sus cuadrados. Regresa las dos sumas. Verifica que funcione usando la fórmula para la suma de los cuadrados.\n",
    "\n",
    "[5] Crea una función que cuenta el número de enteros hasta $N$ que sean divisibles por $2$, $3$ y/o $5$.\n",
    "¿Tiene sentido el resultado? Checa que funcione usando una comprensión de arreglo."
   ]
  },
  {
   "cell_type": "markdown",
   "metadata": {},
   "source": [
    "## Creando arreglos usando iteración"
   ]
  },
  {
   "cell_type": "markdown",
   "metadata": {},
   "source": [
    "Muchas veces es útil crear datos mediante una iteración. Almacenaremos los datos en un arreglo, pero no sabemos, en general, qué tan grande debe ser el arreglo.\n",
    "\n",
    "Por lo tanto, podemos empezar con un arreglo vacío e **ir agregando** los datos conforme vayan llegando.\n",
    "\n",
    "Para crear un arreglo vacío en Julia, usamos"
   ]
  },
  {
   "cell_type": "code",
   "execution_count": 4,
   "metadata": {
    "collapsed": false
   },
   "outputs": [
    {
     "data": {
      "text/plain": [
       "0-element Array{Int64,1}"
      ]
     },
     "execution_count": 4,
     "metadata": {},
     "output_type": "execute_result"
    }
   ],
   "source": [
    "v = Int[]"
   ]
  },
  {
   "cell_type": "markdown",
   "metadata": {},
   "source": [
    "La palabra `Int` al principio` le dice a Julia que este arreglo sólo puede contener objetos de tipo `Int`."
   ]
  },
  {
   "cell_type": "markdown",
   "metadata": {},
   "source": [
    "[6] ¿Qué ocurre si no ponemos `Int`? "
   ]
  },
  {
   "cell_type": "markdown",
   "metadata": {},
   "source": [
    "Para agregar un dato al arreglo, se utiliza la función `push!`. (El \"`!`\" forma parte del nombre de la función. Indica que la función modifica su argumento.):"
   ]
  },
  {
   "cell_type": "code",
   "execution_count": 5,
   "metadata": {
    "collapsed": false
   },
   "outputs": [
    {
     "data": {
      "text/plain": [
       "1-element Array{Int64,1}:\n",
       " 17"
      ]
     },
     "execution_count": 5,
     "metadata": {},
     "output_type": "execute_result"
    }
   ],
   "source": [
    "push!(v, 17)"
   ]
  },
  {
   "cell_type": "code",
   "execution_count": 6,
   "metadata": {
    "collapsed": false
   },
   "outputs": [
    {
     "data": {
      "text/plain": [
       "1-element Array{Int64,1}:\n",
       " 17"
      ]
     },
     "execution_count": 6,
     "metadata": {},
     "output_type": "execute_result"
    }
   ],
   "source": [
    "v"
   ]
  },
  {
   "cell_type": "markdown",
   "metadata": {},
   "source": [
    "[7] (i) Utiliza este método para crear un arreglo que contenga los números de 1 a 100.\n",
    "\n",
    "(ii) ¿Cómo puedes modificar tu código para excluir a los valores que son divisibles o entre 2 o entre 5?"
   ]
  },
  {
   "cell_type": "markdown",
   "metadata": {},
   "source": [
    "## Números primos"
   ]
  },
  {
   "cell_type": "markdown",
   "metadata": {},
   "source": [
    "Recordemos que los números primos son los enteros positivos mayores que $1$ que sólo son divisibles exactamente entre $1$ y sí mismo.\n",
    "\n",
    "[8] Escribe una función que verifica si un número es primo o no.\n",
    "\n",
    "[9] (i) Escribe una función que construye un arreglo de $\\pi(n)$, el número de primos menores o iguales a `n`. \n",
    "\n",
    "(ii) Grafica la función.\n",
    "\n",
    "(iii) ¿Qué tan rápido crece esta función en comparación con `n`?\n",
    "\n",
    "[10] Crea una función que calcula los factores primos de un entero, o te dice si el número es primo."
   ]
  }
 ],
 "metadata": {
  "kernelspec": {
   "display_name": "Julia 0.5.0",
   "language": "julia",
   "name": "julia-0.5"
  },
  "language_info": {
   "file_extension": ".jl",
   "mimetype": "application/julia",
   "name": "julia",
   "version": "0.5.0"
  }
 },
 "nbformat": 4,
 "nbformat_minor": 0
}
