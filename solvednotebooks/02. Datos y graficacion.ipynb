{
 "cells": [
  {
   "cell_type": "markdown",
   "metadata": {},
   "source": [
    "# Repaso del notebook 01"
   ]
  },
  {
   "cell_type": "markdown",
   "metadata": {},
   "source": [
    "[0] (i) Define una función `vol_esfera` que acepta un radio y calcula el volumen de la esfera con ese radio.\n",
    "\n",
    "(ii) Utiliza tu función para calcular el volumen de la esfera con radio $\\rho = 10$.\n",
    "\n",
    "(iii) Define una función `vol_cilindro` que calcula el volumen de un cilindro de radio $\\rho$ y altura $\\zeta$.\n",
    "\n",
    "(iv) Calcula el volumen del cilindro con radio $\\rho = \\frac{1}{2}$ y altura $\\zeta = 10$."
   ]
  },
  {
   "cell_type": "markdown",
   "metadata": {},
   "source": [
    "# Creando datos y graficación"
   ]
  },
  {
   "cell_type": "markdown",
   "metadata": {},
   "source": [
    "Una de las tareas fundamentales del cómputo científico es el manejar **datos** de todo tipo: leerlos de un archivo, o crearlos en una simulación; escribirlos a un archivo; visualizarlos, para extraer su mensaje; etc.\n",
    "\n",
    "En este notebook veremos una forma rápida de crear datos y almacenarlos."
   ]
  },
  {
   "cell_type": "markdown",
   "metadata": {},
   "source": [
    "## Arreglos por comprensión"
   ]
  },
  {
   "cell_type": "markdown",
   "metadata": {},
   "source": [
    "Tendremos que almacenar datos en algún lado. En Julia los almacenamos en arreglos.\n",
    "\n",
    "Un **arreglo** es un vector, o una lista, o una secuencia, o un conjunto (ordenado) de datos. Se puede visualizar como una pichonera con cajitas consecutivas, en las cuales se guardan los taos."
   ]
  },
  {
   "cell_type": "markdown",
   "metadata": {},
   "source": [
    "Julia tiene una sintaxis poderosa para crear arreglos: **arreglos por comprensión**\n",
    "\n",
    "En matemáticas, hay una notación bonita para especifar conjuntos. Por ejemplo, el conjunto de los cuadrados de los primeros diez enteros se escribe como sigue. Si notamos por $A := \\{ 1, 2, \\ldots, 10 \\}$ los números de 1 a 10, entonces el conjunto $C$ de sus cuadrados es \n",
    "\n",
    "$$C := \\{ x^2 : x \\in A \\}$$\n",
    "\n",
    "En Julia, ¡podemos escribir algo similar! \n",
    "\n",
    "Primero, agarremos los números de 1 al 10:"
   ]
  },
  {
   "cell_type": "code",
   "execution_count": null,
   "metadata": {
    "collapsed": false
   },
   "outputs": [],
   "source": [
    "A = 1:10"
   ]
  },
  {
   "cell_type": "markdown",
   "metadata": {},
   "source": [
    "[1] ¿Qué **tipo de objeto** es esto? "
   ]
  },
  {
   "cell_type": "code",
   "execution_count": null,
   "metadata": {
    "collapsed": false
   },
   "outputs": [],
   "source": [
    "C = [i^2 for i in A]  # i^2 para i que recorre todos los valores en A"
   ]
  },
  {
   "cell_type": "markdown",
   "metadata": {},
   "source": [
    "[2] ¿Qué tipo de objeto es este resultado? "
   ]
  },
  {
   "cell_type": "markdown",
   "metadata": {},
   "source": [
    "Podemos leer esto como \"el arreglo de $x^2$ *para* ('for') $x$ en el conjunto `A`\", o \"la colección [ordenada] de los cuadrados de los elementos de `A`."
   ]
  },
  {
   "cell_type": "markdown",
   "metadata": {},
   "source": [
    "[3] ¿Funciona si pones directamente `1:10` en lugar de `A`?"
   ]
  },
  {
   "cell_type": "markdown",
   "metadata": {},
   "source": [
    "[4] (i) Utiliza la función `sum` para calcular la suma de estos cuadrados.\n",
    "\n",
    "(ii) Escribe una función que calcule la suma de los primeros $N$ enteros. Verifica que siempre dé el resultado analítico conocido. (Es decir, hazlo para distintos $N$ y checa si sí sea cierto.)"
   ]
  },
  {
   "cell_type": "markdown",
   "metadata": {},
   "source": [
    "Nótese que desde Julia 0.5, podemos poner un `if` al final de la comprensión para incluir sólo ciertos valores que satisfagan cierta condición, e.g."
   ]
  },
  {
   "cell_type": "code",
   "execution_count": 4,
   "metadata": {
    "collapsed": false
   },
   "outputs": [
    {
     "data": {
      "text/plain": [
       "7-element Array{Int64,1}:\n",
       "  1\n",
       "  2\n",
       "  4\n",
       "  5\n",
       "  7\n",
       "  8\n",
       " 10"
      ]
     },
     "execution_count": 4,
     "metadata": {},
     "output_type": "execute_result"
    }
   ],
   "source": [
    "[i for i in A if i%3 != 0]  # % es módulo;  != es \"no es igual a\""
   ]
  },
  {
   "cell_type": "markdown",
   "metadata": {},
   "source": [
    "[5] (i) Da una lista de los números de 1 al 100 que sean múltiplos de 3 o 5. [\"O\" se escribe como `||`.] \n",
    "\n",
    "(ii) Checa a ojo que esté correcto. \n",
    "\n",
    "(iii) Calcula su suma. ¿Cómo puedes verificar que la suma esté bien? Hazlo."
   ]
  },
  {
   "cell_type": "markdown",
   "metadata": {},
   "source": [
    "# Graficación"
   ]
  },
  {
   "cell_type": "markdown",
   "metadata": {},
   "source": [
    "Ahora que somos capaces de producir datos interesantes, se nos antoja *visualizarlos*, es decir, graficarlos.\n",
    "\n",
    "Hay varios paquetes gráficos en Julia. El paquete `Plots` provee una interfaz común a muchos de ellos.\n",
    "\n",
    "Para utilizarlo, es necesario primero *instalar* el paquete; esto se hace una sola vez en cada instalación de Julia:"
   ]
  },
  {
   "cell_type": "code",
   "execution_count": null,
   "metadata": {
    "collapsed": false
   },
   "outputs": [],
   "source": [
    "Pkg.add(\"Plots\")"
   ]
  },
  {
   "cell_type": "markdown",
   "metadata": {},
   "source": [
    "Recomendamos el \"backend\" GR:"
   ]
  },
  {
   "cell_type": "code",
   "execution_count": null,
   "metadata": {
    "collapsed": false
   },
   "outputs": [],
   "source": [
    "Pkg.add(\"GR\")"
   ]
  },
  {
   "cell_type": "markdown",
   "metadata": {},
   "source": [
    "El paquete se tiene que cargar *en cada sesión*:"
   ]
  },
  {
   "cell_type": "code",
   "execution_count": null,
   "metadata": {
    "collapsed": false
   },
   "outputs": [],
   "source": [
    "using Plots  # \"using\" == \"usando\"\n",
    "gr()   # escoger el \"backend\" GR"
   ]
  },
  {
   "cell_type": "markdown",
   "metadata": {},
   "source": [
    "El comando `using Plots` carga las funciones definidas en la librería para este notebook (que ya instalaste una vez con `Pkg.add`), para que ya se puedan utilizar."
   ]
  },
  {
   "cell_type": "markdown",
   "metadata": {},
   "source": [
    "[6] (i) Crea un arreglo `x` con números igualmente espaciados de -3 a 3 y un paso chiquito.\n",
    "\n",
    "(ii) Crea un arreglo `y` que corresponde a la función $3x^2 - 2$.\n",
    "\n",
    "(iii) Usa la función `plot` de `Plots` para graficar la función.\n",
    "\n",
    "(iv) Utiliza la ayuda de la función [`?plot` o `help(plot)`] y en la documentación del paquete u otro lado para cambiar el estilo de la gráfica para utilizar líneas rojas y puntos verdes.\n",
    "\n",
    "(v) Busca cómo agregar etiquetas a los ejes (lo cual debe hacerse en *cualquier* gráfica) y un título global, así como una leyenda."
   ]
  },
  {
   "cell_type": "markdown",
   "metadata": {},
   "source": [
    "## Tiro parabólico"
   ]
  },
  {
   "cell_type": "markdown",
   "metadata": {},
   "source": [
    "[7] (i) Haz una función que calcula la trayectoria de una partícula en tiro parabólico con una posición y velocidad iniciales dadas.\n",
    "\n",
    "(ii) Grafica distintas trayectorias con la misma rapidez inicial pero distintos ángulos iniciales. Arregla tu gráfica para que sólo muestra la parte hasta que la partícula caiga al suelo.\n",
    "\n",
    "(iii) Comprueba gráficamente para cuál ángulo se tiene el máximo **alcance**."
   ]
  },
  {
   "cell_type": "markdown",
   "metadata": {},
   "source": [
    "## Calculando $\\pi$"
   ]
  },
  {
   "cell_type": "markdown",
   "metadata": {},
   "source": [
    "Ya estamos llegando a poder hacer cálculos útiles:\n",
    "\n",
    "[8] Una manera de calcular $\\pi$ es al utilizar la [siguiente fórmula](https://en.wikipedia.org/wiki/Basel_problem):\n",
    "\n",
    "$$\\sum_{n=1}^\\infty \\frac{1}{n^2} = \\frac{\\pi^2}{6}.$$\n",
    "\n",
    "(i) Fija una $N$ y calcula $\\pi$ usando una suma hasta $N$. Haz de esto una función que se llama `mi_π`.\n",
    "[\"π\" se teclea como `\\pi<TAB>`.]\n",
    "\n",
    "(ii) Ahora repite el cálculo para valores diferentes de $N$, *usando sólo lo que hemos visto en este notebook*.\n",
    "\n",
    "(iii) Grafica el resultado para los distintos valores de $N$, como función de $N$. ¿Qué observas? ¿Qué puedes agregar a tu gráfica para mostralo?\n",
    "\n",
    "(iv) ¿Cómo podrías ver qué tan rápidamente converge la suma cuando $N \\to \\infty$? Hazlo."
   ]
  },
  {
   "cell_type": "code",
   "execution_count": null,
   "metadata": {
    "collapsed": true
   },
   "outputs": [],
   "source": []
  }
 ],
 "metadata": {
  "kernelspec": {
   "display_name": "Julia 0.5.0",
   "language": "julia",
   "name": "julia-0.5"
  },
  "language_info": {
   "file_extension": ".jl",
   "mimetype": "application/julia",
   "name": "julia",
   "version": "0.5.0"
  }
 },
 "nbformat": 4,
 "nbformat_minor": 0
}
