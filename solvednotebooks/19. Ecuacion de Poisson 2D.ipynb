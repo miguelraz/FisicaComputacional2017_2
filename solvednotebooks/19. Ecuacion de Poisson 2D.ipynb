{
 "cells": [
  {
   "cell_type": "markdown",
   "metadata": {},
   "source": [
    "# La ecuación de Poisson"
   ]
  },
  {
   "cell_type": "markdown",
   "metadata": {},
   "source": [
    "En este notebook, veremos cómo podemos resolver la **ecuación de Poisson** en 2D,\n",
    "\n",
    "$$ \\nabla^2 V(\\mathbf{x}) = -\\rho(\\mathbf{x}) \\qquad (*)$$\n",
    "\n",
    "para encontrar el potencial y campo eléctrico debido a una distribución de carga $\\rho(\\mathbf{x})$ en una caja cuadrada. Extenderemos la misma idea que aplicamos en 1D."
   ]
  },
  {
   "cell_type": "markdown",
   "metadata": {},
   "source": [
    "**[1]** Discreticemos la caja de tamaño $L_x \\times L_y$ con $M_x$ y $M_y$ celdas en $x$ y $y$, respectivamente, de tamaños $h_x$ y $h_y$. Denotemos por $V_{i,j}$ el valor aproximado de $V(x_i, y_j)$ en el nodo $(x_i, y_j)$.\n",
    "\n",
    "(i) Encuentra una aproximación en diferencias finitas para $\\nabla^2 V(x_i, y_j)$ en el punto $(x_i, y_j)$ de la malla.\n",
    "\n",
    "(ii) Así, escribe la ecuación discretizada correspondiente a (*) en el nodo $(x_i, y_j)$."
   ]
  },
  {
   "cell_type": "markdown",
   "metadata": {},
   "source": [
    "**[2]** Para seguir lo que hicimos en 1D, escribe todas estas ecuaciones, para todas las $i$ y $j$, simultáneamente como *una sola ecuación matricial*. Es decir, \n",
    "debemos recolectar todas las $\\phi(x_i, y_j)$ en *un solo vector*.\n",
    "\n",
    "(i) Inventa una manera de hacer esto (es decir, enlistar los puntos $(x_i, y_j)$ de una forma coherente), y escribe funciones correspondientes para pasar de la posición dada por $(i, j)$ a la posición $k$ en tu lista, y vice versa.\n",
    "\n",
    "(ii) Para sistemas chiquitos, muestra las matrices correspondientes que se generan."
   ]
  },
  {
   "cell_type": "markdown",
   "metadata": {},
   "source": [
    "**[3]** (i) Resuelve la ecuación de Laplace,\n",
    "$$\\nabla^2 V = 0$$ con condiciones de frontera de Dirichlet, es decir, con valores dados en las fronteras. Empieza con el caso que $V=0$ en tres de las fronteras y $V=\\mathrm{constante}$ en la frontera de arriba. \n",
    "\n",
    "(ii) Dibuja el potencial como una función en 3D, y como equipotenciales (con la función `contour` o similar).\n",
    "\n",
    "(iii) Encuentra las componentes del campo eléctrico $\\mathbf{E} = -\\nabla \\phi$. Dibuja el campo vectorial usando la función `quiver`.\n",
    "\n",
    "(iv) Experimenta con distintas condiciones de frontera. Utiliza `@manipulate`."
   ]
  },
  {
   "cell_type": "markdown",
   "metadata": {},
   "source": [
    "**[4]** Resuelve la ecuación de Poisson para una carga puntual tipo delta en algún punto de la malla. Utiliza condiciones de frontera $V(x_i, y_j) = 0$ (representando un campo que decae $0$ a una distancia grande desde la carga). Dibuja el potencial y el campo eléctrico."
   ]
  },
  {
   "cell_type": "markdown",
   "metadata": {},
   "source": [
    "**[5]** Encuentra el potencial y el campo eléctrico para un capacitor \"real\", es decir, dos placas paralelas de tamaño finito (menor de la caja), tanto entre las placas como afuera de ellas."
   ]
  }
 ],
 "metadata": {
  "kernelspec": {
   "display_name": "Julia 0.5.1",
   "language": "julia",
   "name": "julia-0.5"
  },
  "language_info": {
   "file_extension": ".jl",
   "mimetype": "application/julia",
   "name": "julia",
   "version": "0.5.1"
  },
  "toc": {
   "colors": {
    "hover_highlight": "#DAA520",
    "running_highlight": "#FF0000",
    "selected_highlight": "#FFD700"
   },
   "moveMenuLeft": true,
   "nav_menu": {
    "height": "30px",
    "width": "252px"
   },
   "navigate_menu": true,
   "number_sections": true,
   "sideBar": true,
   "threshold": "2",
   "toc_cell": false,
   "toc_section_display": "block",
   "toc_window_display": false
  }
 },
 "nbformat": 4,
 "nbformat_minor": 1
}
