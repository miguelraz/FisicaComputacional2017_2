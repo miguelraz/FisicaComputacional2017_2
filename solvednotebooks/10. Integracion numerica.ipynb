{
 "cells": [
  {
   "cell_type": "markdown",
   "metadata": {},
   "source": [
    "# Integración numérica (o \"cuadratura\")"
   ]
  },
  {
   "cell_type": "markdown",
   "metadata": {},
   "source": [
    "A menudo en la física, es necesario evaluar integrales feas. [La verdad es que casi todas las integrales son feas...] Mientras que la diferenciación es un proceso que se puede llevar a cabo de manera algorítmica, siguiendo una receta, la integración no lo es. De hecho, se puede demostrar que hay integrales que no se pueden llevar a cabo de forma analítica en términos de las funciones elementales. Un ejemplo famoso es la [función error](https://es.wikipedia.org/wiki/Funci%C3%B3n_error),\n",
    "\n",
    "$$\\mathrm{erf}(x) = \\frac{2}{\\sqrt{\\pi}}\\int_{0}^x e^{-t^2/2} \\, dt.$$"
   ]
  },
  {
   "cell_type": "markdown",
   "metadata": {},
   "source": [
    "Por lo tanto, necesitamos encontrar maneras de aproximar integrales definidas, de forma numérica.\n",
    "\n",
    "Recordemos que la integral \n",
    "\n",
    "$$I(f) = \\int_a^b f(x) \\, dx$$ \n",
    "\n",
    "representa el **área debajo de la curva $y=f(x)$ entre $x=a$ y $x=b$**. Por lo tanto, la integración numérica también se llama \"cuadratura numérica\". [Ver, por ejemplo, https://es.wikipedia.org/wiki/Cuadratura_del_c%C3%ADrculo.] \n",
    "\n",
    "Nota que la integral $I(f)$ es una función [de hecho, un \"funcional\"] **lineal** de $f$. Por lo tanto, buscaremos métodos numéricos con la misma propiedad. Siguiendo la pista que vimos en el notebook sobre la interpolación, pensaremos en evaluar la función $f$ en $N+1$ **nodos** $x_j$, y buscaremos **pesos** $\\alpha_i$ que den una aproximación a la integral de la forma\n",
    "\n",
    "$$Q(f) = \\sum_{i=0}^N \\alpha_j \\, f(x_j) \\qquad  (*)$$"
   ]
  },
  {
   "cell_type": "markdown",
   "metadata": {},
   "source": [
    "**[1]** Un caso particular es una $f$ que sea **monótona**, por ejemplo el integrando $f$ que aparece en la función $\\mathrm{erf}$, dado por $f(x) = e^{-x^2/2}$. \n",
    "\n",
    "(i) La idea más natural [pero ¡no necesariamente mejor!] es dividir el intervalo $[0, x]$ en $N$ intervalos iguales de longitud $h=1/N$. Dada una $x$ y una $N$, dibuja la función, así como líneas verticales punteadas (`linestyle=:dash`) en los nodos.\n",
    "Grafícalo.\n",
    "\n",
    "(ii) La idea más sencilla es aproximar la función $f$ en un intervalo dado con una recta horizontal. \n",
    "¿Cómo podríamos calcular tanto una cota inferior como una cota superior, suponiendo que $f$ es monótona? Exprésalos en la forma de la ecuación (*). Grafícalos.\n",
    "\n",
    "Escribe una función que calcule estas áreas dadas $f$ (monótona), $a$, $b$ y $N$.\n",
    "\n",
    "(iii) ¿Cuál es la tasa de convergencia hacia el resultado exacto cuando $N \\to \\infty$ para $f(x) = e^{-x^2/2}$? [Pista: La función $\\mathrm{erf}$ en Julia se llama... `erf`. En Julia v0.6, se encontrará en el paquete `SpecialFunctions.jl`.]\n",
    "\n",
    "**[2]** (i) Dibuja las cotas para $\\mathrm{erf}(x)$.\n",
    "\n",
    "(ii) Encuentra una cota superior analítica para $\\int_{t=x}^\\infty e^{-t^2/t} dt$. [Pista: puedes utilizar, por ejemplo, $f(t) \\le e^{-t}$ para $t$ suficientemente grande. [¿Qué tan grande?].] \n",
    "\n",
    "(iii) Así, encuentra cotas para $\\lim_{x \\to \\infty} \\mathrm{erf}(x)$. ¿Cuál valor analítica tiene?"
   ]
  },
  {
   "cell_type": "markdown",
   "metadata": {},
   "source": [
    "**[3]** (i) Después de una recta horizontal, ¿cuál es la siguiente forma más natural de aproximar a la función $f$ adentro de un intervalo dado? ¿A qué aproximación de la integral lleva, expresada en la forma de la ecuación (*)? Grafícalo.\n",
    "\n",
    "(ii) Impleméntalo. Nota que este método funciona para *cualquier* función $f$, sin que tenga que ser monótona. \n",
    "\n",
    "(iii) ¿Cuál es la tasa de convergencia? ¿Cómo se compara con el método de la pregunta [1]?"
   ]
  },
  {
   "cell_type": "markdown",
   "metadata": {},
   "source": [
    "**[4]** Lo que estamos haciendo es aproximar la función $f$ en cada sub-intervalo. La siguiente aproximación es una cuadrática, que da una regla llamada el **método de Simpson**.\n",
    "\n",
    "(i) Utiliza el método de interpolación de Lagrange para encontrar una expresión analítica para un polinomio que interpola la función $f$ en tres puntos: $x_i$, $x_{i+1}$, y el punto medio $m$ entre $x_i$ y $x_{i+1}$.\n",
    "\n",
    "(ii) Integra este polinomio para encontrar $\\int_{x_i}^{x_{i+1}} f(t) \\, dt$. \n",
    "\n",
    "(iii) Así, encuentra una aproximación para $\\int_{a}^{b} f(t) \\, dt$.\n",
    "\n",
    "(iv) Encuentra numéricamente la tasa de convergencia del método."
   ]
  },
  {
   "cell_type": "markdown",
   "metadata": {},
   "source": [
    "Cabe mencionar que hay métodos muy precisos, por ejemplo la llamada **cuadratura de Gauss**, que funcionan si la función es suave, en los cuales se utiliza la interpolación de Lagrange para aproximar una función con un polinomio **globalmente en todo el rango $[a,b]$, y luego ¡se integra el polinomio! \n",
    "\n",
    "Estos métodos se pueden extender a integrales en más dimensiones."
   ]
  }
 ],
 "metadata": {
  "kernelspec": {
   "display_name": "Julia 0.5.0",
   "language": "julia",
   "name": "julia-0.5"
  },
  "language_info": {
   "file_extension": ".jl",
   "mimetype": "application/julia",
   "name": "julia",
   "version": "0.5.1"
  }
 },
 "nbformat": 4,
 "nbformat_minor": 0
}
