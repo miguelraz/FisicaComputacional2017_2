{
 "cells": [
  {
   "cell_type": "markdown",
   "metadata": {},
   "source": [
    "# Métodos de Monte Carlo"
   ]
  },
  {
   "cell_type": "markdown",
   "metadata": {},
   "source": [
    "El término \"método de Monte Carlo\" se aplica en general a cualquier método numérico que emplea números aleatorios. Una clase importante de métodos de este tipo se utiliza para calcular integrales de distintas índoles."
   ]
  },
  {
   "cell_type": "markdown",
   "metadata": {},
   "source": [
    "# Calcular $\\pi$"
   ]
  },
  {
   "cell_type": "markdown",
   "metadata": {},
   "source": [
    "¿Cómo podemos calcular $\\pi$ numéricamente? Por supuesto Julia tiene eso integrado: al teclear `\\pi<TAB>`, produce π, y nos dice"
   ]
  },
  {
   "cell_type": "code",
   "execution_count": 2,
   "metadata": {},
   "outputs": [
    {
     "data": {
      "text/plain": [
       "π = 3.1415926535897..."
      ]
     },
     "execution_count": 2,
     "metadata": {},
     "output_type": "execute_result"
    }
   ],
   "source": [
    "π"
   ]
  },
  {
   "cell_type": "markdown",
   "metadata": {},
   "source": [
    "**[1]** ¿De cuál tipo es este objeto en Julia?"
   ]
  },
  {
   "cell_type": "markdown",
   "metadata": {},
   "source": [
    "De no conocer el valor de $\\pi$ lo podemos calcular de diversas formas, como ya vimos.\n",
    "Una manera es con un método de Monte Carlo, como sigue."
   ]
  },
  {
   "cell_type": "markdown",
   "metadata": {},
   "source": [
    "**[2]** Dibuja un círculo de radio $r=1$. Dibuja un cuadrado que lo contiene. Genera muchos puntos distribuidos uniformemente en el cuadrado y dibújalos. Utiliza esto para determinar el área del círculo, y de ahí el valor de $\\pi$."
   ]
  },
  {
   "cell_type": "markdown",
   "metadata": {},
   "source": [
    "# Cálculo de integrales"
   ]
  },
  {
   "cell_type": "markdown",
   "metadata": {},
   "source": [
    "Este tipo de métodos se pueden ocupar para calcular integrales complicadas que serían difíciles o imposibles de evaluar con otros métodos. Por ejemplo:\n",
    "\n",
    "**[3]** Considera la función complicada (patológica) $$f(x) = \\sin^2 (\\textstyle \\frac{1}{x}).$$\n",
    "\n",
    "(i) Dibuja la función para $x$ entre $-2$ y $2$.\n",
    "\n",
    "Sea $I(x) := \\int_0^x f(x') dx'$. Sabemos que $0 < I(x) < x$ para toda $x$ (¿por qué?), pero no está fácil calcular su valor, ni siquiera con métodos numéricos estándares, debido a la naturaleza complicada de la función cerca de $x = 0$.\n",
    "\n",
    "(ii) Utiliza un método parecido al que usamos en la pregunta 2 para calcular $I(x)$ para un valor de $x$ dado. \n",
    "\n",
    "(iii) Dibuja la función $I(x)$."
   ]
  },
  {
   "cell_type": "markdown",
   "metadata": {},
   "source": [
    "Los métodos tipo Monte Carlo pueden ser mucho más complicados que esto, en particular para calcular integrales en dimensión alta que son simplemente imposibles de calcular de cualquier otra manera."
   ]
  }
 ],
 "metadata": {
  "kernelspec": {
   "display_name": "Julia 0.5.1",
   "language": "julia",
   "name": "julia-0.5"
  },
  "language_info": {
   "file_extension": ".jl",
   "mimetype": "application/julia",
   "name": "julia",
   "version": "0.5.1"
  }
 },
 "nbformat": 4,
 "nbformat_minor": 1
}
