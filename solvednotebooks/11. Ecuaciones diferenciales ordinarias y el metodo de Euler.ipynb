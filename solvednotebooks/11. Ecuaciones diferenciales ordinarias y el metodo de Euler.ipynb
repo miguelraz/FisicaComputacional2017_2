{
 "cells": [
  {
   "cell_type": "markdown",
   "metadata": {},
   "source": [
    "# Ecuaciones diferenciales ordinarias"
   ]
  },
  {
   "cell_type": "markdown",
   "metadata": {},
   "source": [
    "Recordemos qué una **ecuación diferencial ordinaria (EDO)** es (aproximadamente) una ecuación en la cual aparece una derivada de una función, y para la cual queremos buscar la solución para esta función.\n",
    "\n",
    "La EDO más simple no-trivial y físicamente relevante en una variable es \n",
    "\n",
    "$$\\dot{x} = -\\alpha x.$$\n",
    "\n",
    "[Recordemos la notación $\\dot{x} := \\textstyle \\frac{dx}{dt}$, donde $t$ es el tiempo; es muy común en la física que las EDOs involucren derivadas con respecto al tiempo.]"
   ]
  },
  {
   "cell_type": "markdown",
   "metadata": {},
   "source": [
    "Una solución a esta ecuación es un objeto $x$, tal que cuando la derivamos con respecto al tiempo, nos da $-\\alpha$ (una constante) multiplicada por el mismo objeto. Implícitamente está claro que $x$ depende de $t$, por lo que realmente $x$ se refiere a una función de $t$, es decir $x: \\mathbb{R} \\to \\mathbb{R}$, con $x: t \\mapsto x(t)$. Esta ecuación se puede considerar como ecuación *funcional*, es decir, una igualdad de funciones. \n",
    "\n",
    "Esta ecuación se puede escribir más explícitamente como sigue:\n",
    "\n",
    "$$\\dot{x}(t) = -\\alpha x(t) \\qquad \\text{para cada } t \\in \\mathbb{R}.$$\n",
    "\n",
    "En mi opinión, en esta forma queda más claro.\n",
    "\n",
    "Esto quiere decir que si *de alguna manera* hayamos logrado saber que la solución en el tiempo $t$ está en la posición $x(t)$, entonces nos indica cuál será la *velocidad* $\\dot{x}(t)$ en este momento. "
   ]
  },
  {
   "cell_type": "markdown",
   "metadata": {},
   "source": [
    "La forma general de una EDO en una variable es\n",
    "\n",
    "$$\\dot{x} = f(x, t),$$\n",
    "\n",
    "o sea\n",
    "\n",
    "$$\\dot{x}(t) = f(x(t), t) \\qquad \\text{para cada } t \\in \\mathbb{R}.$$\n",
    "\n",
    "Recordemos que debe ir acompañada por una condición inicial $x(t=t_0) = x_0$ para que constituya un problema bien posado (*problema de valores iniciales*, o *problema de Cauchy*).\n",
    "La solución de una ecuación de este tipo será una *función* $x(t)$ que satisface al mismo tiempo que $\\dot{x}(t) = f(x(t), t)$ para cada $t$, y que $x(t=t_0) = x_0$. \n",
    "\n",
    "En el caso particular de la ecuación $\\dot{x} = -\\alpha x$, conocemos analíticamente la solución, y nos servirá para comprobar nuestros métodos. Pero para las ecuaciones de interés para la física, esto *casi nunca ocurre*, una situación que ¡suele pasar desapercibida durante la carrera! En estos casos, debemos aplicar distintas técnicas de *aproximación* de la solución, entre las cuales se destacan los *métodos numéricos*."
   ]
  },
  {
   "cell_type": "markdown",
   "metadata": {},
   "source": [
    "# Método de Euler"
   ]
  },
  {
   "cell_type": "markdown",
   "metadata": {},
   "source": [
    "Para resolver una EDO numéricamente en la computadora, tendremos que *aproximar* la solución continua $x: t \\mapsto x(t)$ con una versión con una cantidad finita de información, es decir, *discretizarla* de alguna forma.\n",
    "\n",
    "La manera más sencilla de hacerla es usando *diferencias finitas*."
   ]
  },
  {
   "cell_type": "markdown",
   "metadata": {},
   "source": [
    "**[1]** (i) ¿Cuál es la aproximación más sencilla de la derivada $\\dot{x}(t)$, en términos de un tamaño de paso pequeño $h$?\n",
    "\n",
    "(ii) Aplica esta aproximación con la ecuación $\\dot{x} = f(x, t)$ para obtener una expresión para $x(t+h)$, es decir el valor *predicho* en el siguiente *paso* de tiempo, en términos del valor ya conocido $x(t)$.\n",
    "\n",
    "(iii) Implementa este *método de Euler* en una función. Para hacerlo, crea un arreglo `ts` de los tiempos en los cuales se evaluará la función. Luego crea otro arreglo de ceros, con la función `zeros`. [Si pasas el arreglo `t` como argumento a esta función, creará un arreglo del mismo tamaño automáticamente.] Ahora implementa el paso (ii) en un algoritmo iterativo para actualizar los valores en el nuevo arreglo para cada tiempo sucesivamente.\n",
    "\n",
    "(iv) Verifica que funcione tu método al aplicarlo a una función $f(t)$ sencilla que dependa *únicamente del tiempo*. [Recuerda que debes imponer una condición inicial.] ¿Cuál operación matemática acabas de llevar a cabo? Compara con la solución analítica."
   ]
  },
  {
   "cell_type": "markdown",
   "metadata": {},
   "source": [
    "**[2]** (i) Utiliza tu función para resolver la ecuación $\\dot{x} = -\\alpha x$, con  y compara tu solución numérica gráficamente con la solución analítica de la ecuación. ¿Qué pasa al variar el paso de tiempo? Hazlo interactivo.\n",
    "\n",
    "(ii) Dado que el método de Euler utiliza una aproximación, el resultado no es exacto. Fija una $t$ final y calcula el error (desde la solución analítica) en función del tamaño de paso $h$. ¿Cómo es la convergencia en función de $h$?"
   ]
  },
  {
   "cell_type": "markdown",
   "metadata": {},
   "source": [
    "**[3]** Considera la ecuación diferencial nolineal $\\dot{x} = x*(1-x)$ que modela la dinámica de una población. Resúelvela numéricamente desde distintas condiciones iniciales y dibuja las soluciones correspondientes. Interpreta el resultado."
   ]
  },
  {
   "cell_type": "markdown",
   "metadata": {},
   "source": [
    "# Varias variables"
   ]
  },
  {
   "cell_type": "markdown",
   "metadata": {},
   "source": [
    "El método de Euler se extiende directamente a EDOs con más de una variable."
   ]
  },
  {
   "cell_type": "markdown",
   "metadata": {},
   "source": [
    "**[4]** (i) Deriva un método de Euler para las ecuaciones acopladas\n",
    "$$\\dot{x} = f(x, y);$$\n",
    "$$\\dot{y} = g(x, y).$$\n",
    "\n",
    "Para hacerlo, aplica la definición de la derivada de nuevo.\n",
    "\n",
    "(ii) Implementa el método.\n",
    "\n",
    "(iii) Aplícalo a la ecuación diferencial lineal que describe un oscilador armónico amortiguado. [Pista: Recuerda que para hacerlo, hay un \"truco\" para reducir una ecuación diferencial de segundo orden a dos ecuaciones de primer orden; ¿cuál es?\n",
    "\n",
    "(iv) Calcula trayectorias desde distintas condiciones iniciales y dibújalas, y/o ¡hazlo interactivo!\n",
    "Debes dibujar tanto $x(t)$ y $y(t)$ como funciones del tiempo, como el **espacio fase**. "
   ]
  },
  {
   "cell_type": "markdown",
   "metadata": {},
   "source": [
    "## El enfoque vectorial"
   ]
  },
  {
   "cell_type": "markdown",
   "metadata": {},
   "source": [
    "Recordemos que *cualquier* EDO, *incluídas las de orden superior* (es decir, con derivadas más altas que la primera de alguna función) se puede escribir en la forma\n",
    "$$\\dot{\\mathbf{x}} = \\mathbf{f}(\\mathbf{x}, t) \\qquad (*)$$\n",
    "\n",
    "es decir\n",
    "\n",
    "$$\\dot{\\mathbf{x}}(t) = \\mathbf{f}(\\mathbf{x}(t), t),$$\n",
    "\n",
    "donde ahora $\\mathbf{x} = (x_1, \\ldots, x_n) \\in \\mathbb{R}^n$ es un vector y $\\mathbf{f}: \\mathbb{R}^n \\to \\mathbb{R}^n$ es una función vectorial, que nos da un **campo vectorial** que indica en cuál dirección seguir desde cada punto del espacio."
   ]
  },
  {
   "cell_type": "markdown",
   "metadata": {},
   "source": [
    "**[5]** (i) Escribe una función para hacer un paso del método de Euler para las ecuaciones acopladas\n",
    "\n",
    "$$\\dot{\\mathbf{x}} = \\mathbf{f}(\\mathbf{x}, t).$$\n",
    "\n",
    "El código ahora deberá ser *genérico*, es decir, debe funcionar para cualquier función $\\mathbf{f}$ y vector $\\mathbf{x}$.\n",
    "\n",
    "(ii) Escribe el método de Euler completo. \n",
    "\n",
    "(iii) Úsalo para resolver la caída libre y una caída con fricción lineal en la velocidad. Compara con el resultado exacto. Dibuja las resultados con distintos tamaños de fricción.\n",
    "\n",
    "(iv) Resuelve la caída libre con fricción cuadrática en la velocidad."
   ]
  },
  {
   "cell_type": "markdown",
   "metadata": {},
   "source": [
    "**[6]** (i) Resuelve numéricamente el problema del tiro parabólico con Euler para un proyectil que empieza en una altura $h>0$ con rapidez $1$ y ángulo inicial $\\alpha$, *hasta que* caiga al suelo.\n",
    "\n",
    "(ii) Encuentra la distancia horizontal donde cae al suelo (el rango). Dibuja el resultado tal que puedas manipular interactivamente las condiciones iniciales. Encuentra numéricamente el ángulo que maximiza el rango. ¿Es correcto?\n",
    "\n",
    "(iii) Agrega fricción del aire al problema y agrégalo como otro parámetro que puedas manipular. ¿Cómo cambia el resultado de la pregunta (ii)?"
   ]
  }
 ],
 "metadata": {
  "kernelspec": {
   "display_name": "Julia 0.5.0",
   "language": "julia",
   "name": "julia-0.5"
  },
  "language_info": {
   "file_extension": ".jl",
   "mimetype": "application/julia",
   "name": "julia",
   "version": "0.5.1"
  }
 },
 "nbformat": 4,
 "nbformat_minor": 0
}
