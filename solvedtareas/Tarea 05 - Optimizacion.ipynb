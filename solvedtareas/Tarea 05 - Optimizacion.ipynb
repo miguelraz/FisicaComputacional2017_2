{
 "cells": [
  {
   "cell_type": "markdown",
   "metadata": {},
   "source": [
    "# Tarea 5: Optimización\n",
    "\n",
    "## Para entregarse el jueves 16 marzo 2017, antes de las 15:00"
   ]
  },
  {
   "cell_type": "markdown",
   "metadata": {},
   "source": [
    "Una tarea importante en la ciencia computacional es la **optimización**, es decir, encontrar máximos y mínimos de funciones. Representa una aplicación de suma importancia de derivadas, como aprendimos en Cálculo 1 y 3 y en el notebook 7.\n",
    "\n",
    "[1] Escribe una función que toma una función $f:\\mathbb{R} \\to \\mathbb{R}$ lisa (es decir, suficientemente diferenciable), y utiliza el método de Newton para encontrar:\n",
    "(i) los valores de $x$ en los cuales la función toma su valor máximo y mínimo;\n",
    "(ii) el valor ahí;\n",
    "(iii) si es un máximo o un mínimo.\n",
    "\n",
    "[Pista: ¿Cuáles son las condiciones matemáticas que se deben cumplir para (i) y (iii)?]"
   ]
  },
  {
   "cell_type": "markdown",
   "metadata": {},
   "source": [
    "[2] Otro método para optimizar es darse cuenta de que la función misma te puede dar información sobre por dónde buscar. \n",
    "\n",
    "(i) Considerando una función $f:\\mathbb{R} \\to \\mathbb{R}$, si empezamos en una posición inicial $x_0$, ¿en cuál dirección nos podríamos desplazar (por un paso chiquito) para ir hacia un mínimo?\n",
    "\n",
    "(ii) Impleméntalo, y dibuja la evolución en el tiempo del algoritmo, pintando la función como si fuera una colina, para distintas funciones.\n",
    "\n",
    "Este método se llama **descenso de gradiente**."
   ]
  },
  {
   "cell_type": "markdown",
   "metadata": {},
   "source": [
    "[3] Podemos utilizar el descenso de gradietne también para buscar mínimos de funciones $f:\\mathbb{R^n} \\to \\mathbb{R}$. Hazlo para algunas funciones $f:\\mathbb{R}^2 \\to \\mathbb{R}$ y dibuja la evolución.\n",
    "\n",
    "Una versión estocástica del descenso de gradiente se utiliza mucho hoy día en aplicaciones de aprendizaje automático (\"machine learning\")."
   ]
  },
  {
   "cell_type": "markdown",
   "metadata": {},
   "source": [
    "## Mínimos cuadrados"
   ]
  },
  {
   "cell_type": "markdown",
   "metadata": {},
   "source": [
    "La optimización es muy imporante en la estadística. Por ejemplo, podemos utilizar optimización para resolver el problema de mínimos cuadrados, como sigue."
   ]
  },
  {
   "cell_type": "markdown",
   "metadata": {},
   "source": [
    "[4] Genera unos datos artificiales $(x_i, y_i)$ cerca de una recta, utilizando `rand()` para generar números aleatorios."
   ]
  },
  {
   "cell_type": "markdown",
   "metadata": {},
   "source": [
    "[5] Queremos ajustar una recta $\\ell(x)$ a los datos. \n",
    "\n",
    "(i) ¿Cuántos parámetros necesitaremos ajustar. Escribe una fórmula para $\\ell$ en términos de estos parámetros.\n",
    "\n",
    "(ii) En mínimos cuadrados, para cada punto $(x_i, y_i)$ calculamos la distancia cuadrada vertical desde la recta $\\ell$. La suma de todos ellos nos da una **función de costo** o **función de pérdida**, la cual queremos minimizar con respecto a las variables de la recta.\n",
    "\n",
    "Formula esto matemáticamente: ¿cuál función queremos minimizar, y qué satisface el mínimo?"
   ]
  },
  {
   "cell_type": "markdown",
   "metadata": {},
   "source": [
    "[6] Utiliza el método de descenso de gradiente para resolver el problema. Dibuja el resultado - ¿es razonable? [Pista: Nota que tendrás que utilizar vectores (arreglos uni-dimensionales). En Julia, puedes operar con vectores utilizando operadores aritméticos, como si fueran vectores matemáticos.]"
   ]
  },
  {
   "cell_type": "markdown",
   "metadata": {},
   "source": [
    "## Optimización con restricciones"
   ]
  },
  {
   "cell_type": "markdown",
   "metadata": {},
   "source": [
    "[7] Utiliza un multiplicador de Lagrange para minimizar la función\n",
    "$f(x,y) = 2x+y$, sujeta a la **restricción** $x^2 + y^2 = 1$.\n",
    "\n",
    "Dibuja gráficamente lo que está pasando."
   ]
  }
 ],
 "metadata": {
  "kernelspec": {
   "display_name": "Julia 0.5.0",
   "language": "julia",
   "name": "julia-0.5"
  },
  "language_info": {
   "file_extension": ".jl",
   "mimetype": "application/julia",
   "name": "julia",
   "version": "0.5.0"
  }
 },
 "nbformat": 4,
 "nbformat_minor": 2
}
