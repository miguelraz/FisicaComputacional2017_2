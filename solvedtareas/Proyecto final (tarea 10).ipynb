{
 "cells": [
  {
   "cell_type": "markdown",
   "metadata": {
    "deletable": true,
    "editable": true
   },
   "source": [
    "# Proyecto final"
   ]
  },
  {
   "cell_type": "markdown",
   "metadata": {
    "deletable": true,
    "editable": true
   },
   "source": [
    "El proyecto final constituye una parte suma importante del curso. Provee la oportunidad para que tú demuestres que hayas captado la esencia del curso, que sepas programar y que sepas investigar por tu cuenta, y para que te adentres en un tema que te guste.\n",
    "\n",
    "Consiste en desarrollar un proyecto en pareja (máximo tres personas en circunstancias especiales). Hay dos vertientes posibles:\n",
    "\n",
    "1. Desarrollar un método numérico **no** hayamos tratado en el curso, pero que es del mismo nivel, o es una extensión de lo que hemos visto, y que ocupa el mismo tipo de herramientas computacionales y métodos numéricos.\n",
    "\n",
    "2. Aplicar los métodos que hemos visto a un problema físico (o biológico etc.) interesante. En este caso, de preferencia se deberá aplicar más de un tipo de método."
   ]
  },
  {
   "cell_type": "markdown",
   "metadata": {
    "deletable": true,
    "editable": true
   },
   "source": [
    "Para buscar un tema adecuado, te recomendamos buscar en los libros de física computacional, en particular:\n",
    "\n",
    "- *Computational Physics*, de Newman\n",
    "- *Computational Physics*, de Giordano\n",
    "- *Introduction to Computer Simulation Methods*, de Gould y Tobochnik"
   ]
  },
  {
   "cell_type": "markdown",
   "metadata": {
    "deletable": true,
    "editable": true
   },
   "source": [
    "El proyecto final vale **entre 20% y 25% de tu calificación final**. Es **obligatorio**, y reemplaza al examen final del curso."
   ]
  },
  {
   "cell_type": "markdown",
   "metadata": {
    "deletable": true,
    "editable": true
   },
   "source": [
    "## Estructura del proyecto"
   ]
  },
  {
   "cell_type": "markdown",
   "metadata": {
    "deletable": true,
    "editable": true
   },
   "source": [
    "Hay que entregar un notebook con código en Julia que presente brevemente los siguientes puntos:\n",
    "- El **problema físico** que resuelves\n",
    "- Incluye las **ecuaciones** correspondientes\n",
    "- El **código** que hayas escrito para resolver el problema| (resaltando los puntos importantes, delicados y/o interesantes; el código se puede incluir como un script `.jl` aparte)\n",
    "- **Figuras y animaciones** relevantes\n",
    "- **Conclusiones físicas**. \n",
    "- Las **referencias** de los libros (y/o artículos etc.) que hayas utilizado.\n",
    "\n",
    "También habrá una **presentación oral de 15 minutos**, en la cual deben explicar **brevemente** el contenido del proyecto, y en la cual dos personas participantes deben mostrar que hayan contribuido de formas iguales al desarrollo del proyecto. Estas presentaciones orales se llevarán a cabo en la segunda semana de exámenes. Es necesario que **practiquen la presentación de antemano** para asegurarse de que **dure (sólo) 15 minutos**."
   ]
  },
  {
   "cell_type": "markdown",
   "metadata": {
    "deletable": true,
    "editable": true
   },
   "source": [
    "Manda los nombres de las dos personas en el equipo, así como una sugerencia de tema de proyecto a los ayudantes **antes del 23 de mayo**. De ser aceptado el tema, se colocará en una lista en este notebook. No se permite repetir temas, así que ¡vale la pena escoger primero!"
   ]
  },
  {
   "cell_type": "markdown",
   "metadata": {
    "deletable": true,
    "editable": true
   },
   "source": [
    "## Lista de proyectos aceptados"
   ]
  },
  {
   "cell_type": "markdown",
   "metadata": {
    "deletable": true,
    "editable": true
   },
   "source": [
    "[Proyectos](../proyectos.md)"
   ]
  }
 ],
 "metadata": {
  "kernelspec": {
   "display_name": "Julia 0.5.2-pre",
   "language": "julia",
   "name": "julia-0.5"
  },
  "language_info": {
   "file_extension": ".jl",
   "mimetype": "application/julia",
   "name": "julia",
   "version": "0.5.3"
  }
 },
 "nbformat": 4,
 "nbformat_minor": 1
}
