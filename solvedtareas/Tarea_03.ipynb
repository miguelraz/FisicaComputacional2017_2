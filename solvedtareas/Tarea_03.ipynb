{
 "cells": [
  {
   "cell_type": "markdown",
   "metadata": {},
   "source": [
    "# Tarea 03: Evaluación de funciones"
   ]
  },
  {
   "cell_type": "markdown",
   "metadata": {},
   "source": [
    "Fecha *límite* de entrega: **martes 28 de febrero del 2017, antes de las 15:00 horas**.\n",
    "\n",
    "**No** se recibirán tareas enviadas después del inicio de la clase.\n",
    "\n",
    "Manda un solo notebook de Jupyter con tus respuestas a las preguntas al ayudante.\n",
    "\n",
    "Explica brevemente qué estás haciendo. Redacta oraciones completas en español, usando acentos. Utiliza ecuaciones con notación LaTeX cuando sea necesario.\n",
    "\n",
    "El notebook debe ser ejecutable, es decir, cada celda debe correr sin errores, y debe reproducir la salida que aparece en la pantalla."
   ]
  },
  {
   "cell_type": "markdown",
   "metadata": {},
   "source": [
    "## 1. Polinomios "
   ]
  },
  {
   "cell_type": "markdown",
   "metadata": {},
   "source": [
    "En esta tarea, veremos cómo evaluar ciertas funciones en la computadora.\n",
    "\n",
    "Las funciones más fáciles de tratar son los **polinomios**."
   ]
  },
  {
   "cell_type": "markdown",
   "metadata": {},
   "source": [
    "[1] Utiliza notación LaTeX en una celda de Markdown para escribir un polinomio $p_n$ de grado $n$ con coeficientes \n",
    "$a_0$, $a_1$, $\\ldots$, $a_n$, donde $a_i$ es el coeficiente de $x^i$."
   ]
  },
  {
   "cell_type": "markdown",
   "metadata": {},
   "source": [
    "[2] (i) Escribe una función `evaluar_polinomio` que evalúa un polinomio de grado $2$, $p(x) = a + bx + c x^2$. La función debe aceptar como argumentos los valores de $a$, $b$ y $c$, así como el valor de $x$ donde evaluar. Verifica que funciona con el polinomio $p(x) = 1 + 2x - 3x^2$. [Pista, aquí la función se llama como sigue:\n",
    "\n",
    "    evaluar_polinomio(a, b, c, x).\n",
    "    \n",
    "]\n",
    "\n",
    "(ii) Escribe una función `evaluar_polinomio` evalúa un polinomio de grado $n$.\n",
    "Acepta un arreglo `a` de $n+1$ coeficients, en el orden `a_0`, `a_1`, etc., así como un valor `x`, y evalúa $p(x)$. [Pista: Recuerda que el $i$-ésimo elemento de un arreglo se accesa con `a[i]`, y el número de entradas de un arreglo es `length(a)`.] Verifica que funciona con el polinomio $p(x) = 1 + 2x - 3x^2$. [Pista: aquí, la función se llama como sigue: \n",
    "\n",
    "    evaluar_polinomio([1, 2, -3], x)\n",
    "]\n",
    "\n",
    "(iii) Verifica que funciona con un polinomio cúbico."
   ]
  },
  {
   "cell_type": "markdown",
   "metadata": {},
   "source": [
    "[3] Otra manera de evaluar un polinomio es con el llamado [**algoritmo de Horner**](https://es.wikipedia.org/wiki/Algoritmo_de_Horner). La idea es que es ineficiente calcular `xˆ3` desde cero, si ya contamos con el resultado de `xˆ2`.\n",
    "\n",
    "(i) Escribe una función para evaluar una función `evaluar_actualizar` usando esta idea: empieza desde el coeficiente de $x^0$, y guarda el valor actual de la potencia de `x` en una variable que vas actualizando.\n",
    "\n",
    "(ii) Utiliza la descripción del algoritmo en la liga para escribir una función `evaluar_horner` que implementa el método de Horner (que se supone es aún más eficiente que la (i)), con la misma estructura que la función de la pregunta 2(ii). Verifica que da las mismas respuestas que las funciones de la pregunta 2."
   ]
  },
  {
   "cell_type": "markdown",
   "metadata": {},
   "source": [
    "[4] ¿Cuál de estos tres algoritmos es \"mejor\"? Aquí, por \"mejor\" entenderemos \"más rápido\".\n",
    "Para verificarlo, utiliza el paquete `BenchmarkTools.jl`, y utiliza `@benchmark f($a, $x)` para ver cuánto tiempo se tarda cada función. (Debes poner explícitamente los signos `$`.) "
   ]
  },
  {
   "cell_type": "markdown",
   "metadata": {},
   "source": [
    "## 2. Funciones elementales"
   ]
  },
  {
   "cell_type": "markdown",
   "metadata": {},
   "source": [
    "¿Cómo evalúa una computadora la función exponencial? No hay ninguna forma fácil y exacta de evaluarla. Por eso debemos usar **aproximaciones**. Normalmente, aproximamos las funciones complicadas (o sea, ¡las que no sean polinomios!) por las únicas funciones con las cuales sí sabemos trabajar, los polinomios.\n",
    "\n",
    "Un primer tipo de aproximación es mediante las **series de Taylor**. (Ojo: no es la mejor solución, ni la que se utiliza realmente.)"
   ]
  },
  {
   "cell_type": "markdown",
   "metadata": {},
   "source": [
    "[5] Recuerda que la función exponencial se define mediante una serie de Taylor. Escribe esta serie de Taylor con notación LaTeX."
   ]
  },
  {
   "cell_type": "markdown",
   "metadata": {
    "collapsed": true
   },
   "source": [
    "Podemos aproximar la serie de Taylor con un **polinomio de Taylor** de grado $n$, que se obtiene al truncar la serie y retener sólo los términos de grado $\\le n$."
   ]
  },
  {
   "cell_type": "markdown",
   "metadata": {},
   "source": [
    "[6] Escribe una función para calcular el polinomio de Taylor de la función exponencial de orden $n$, evaluada en $x$. Utiliza una de las funciones de la preguntas 2 o 3 para evaluar el polinomio."
   ]
  },
  {
   "cell_type": "markdown",
   "metadata": {},
   "source": [
    "[7] ¿Cuál valor de $n$ nos da una buena aproximación? Podemos esperar que dependerá de $x$. Para saberlo, haz lo siguiente.\n",
    "\n",
    "(i) Dibuja la función $\\exp(x)$ y las aproximaciones con distintas $n$s. Puedes usar también `@manipulate`. ¿Qué valor de $n$ parece que necesites para tener una buena aproximación de `exp(1)`? Para `exp(5)`?\n",
    "\n",
    "(ii) Escribe una función que calcula la función exponencial que va variando $n$ *hasta que* la diferencia entre $p_{n-1}(x)$ y $p_n(x)$ sea menor que una tolerancia (la cual también es argumento de la función). ¿Concuerda con tu observación de la pregunta (i)?"
   ]
  },
  {
   "cell_type": "markdown",
   "metadata": {},
   "source": [
    "[8] Lo que acabamos de hacer es muy ineficiente -- ¿por qué?\n",
    "\n",
    "Una mejor manera de hacerlo es parecido al método de Horner: vamos guardando el valor actual del $i$-ésimo término y lo actualizamos durante el cálculo.\n",
    "\n",
    "(i) Implementa la función exponencial así, hasta que el tamaño del nuevo término sea menor que cierta tolerancia. Verifica que funciona."
   ]
  },
  {
   "cell_type": "markdown",
   "metadata": {},
   "source": [
    "[9] La función exponencial también sirve para números complejos. En Julia, $i$, la raíz cuadrada de $-1$, se escribe como `im`.\n",
    "\n",
    "(i) Utiliza esto para escribir una función `mi_sin(x)` para calcular $\\sin(x)$."
   ]
  },
  {
   "cell_type": "markdown",
   "metadata": {},
   "source": [
    "[10] Aunque estamos llevando a cabo cálculos con números de punto flotante, podemos lograr ciertas **garantías** sobre los resultados.\n",
    "\n",
    "(i) Escribe el teorema de Taylor con la forma del término complementario de Lagrange para un polinomio de Taylor $p_2(x)$ de grado 2, con término complementario de orden 3.\n",
    "\n",
    "(ii) Considera la función $\\exp$ en el rango $I = [-\\frac{1}{2}, \\frac{1}{2}]$. Encuentra una cota superior, $d$, para el término complementario en $I$. [Pista: Cuál es el valor máximo del término complementario sobre todo el intervalo?] \n",
    "\n",
    "(iii) Dibuja un \"tubo\" entre $p_2(x) - d$ y $p_2(x) + d$. Esto representa una región en la cual, de forma **garantizada**, cae $\\exp$ dentro del intervalo $I$. Dibuja $\\exp$ encima.\n",
    "\n",
    "[En `Plots.jl`, para rellenar la región entre la función `f` y la función `g`, puedes utilizar `plot(xx, f.(xx), fillrange=g.(xx), alpha=0.3)`, donde `xx` son las coordenadas `xx` de los puntos. Aquí, `alpha` corresponde al grado de transparencia de la región rellenada.]\n",
    "\n",
    "** Opcional: ¿Qué ocurre si haces lo mismo para un grado de polinomio de Taylor superior con su cota correspondiente. Puedes utilizar `@manipulate`."
   ]
  }
 ],
 "metadata": {
  "kernelspec": {
   "display_name": "Julia 0.5.0",
   "language": "julia",
   "name": "julia-0.5"
  },
  "language_info": {
   "file_extension": ".jl",
   "mimetype": "application/julia",
   "name": "julia",
   "version": "0.5.0"
  }
 },
 "nbformat": 4,
 "nbformat_minor": 0
}
