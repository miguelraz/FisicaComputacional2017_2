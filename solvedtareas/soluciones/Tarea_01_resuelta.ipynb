{
 "cells": [
  {
   "cell_type": "markdown",
   "metadata": {},
   "source": [
    "# Muestra de una buena tarea 01"
   ]
  },
  {
   "cell_type": "markdown",
   "metadata": {},
   "source": [
    "Hay muchas maneras de resolver el mismo problema. Aquí mostramos una buena serie de soluciones con código legible y ordenado."
   ]
  },
  {
   "cell_type": "markdown",
   "metadata": {},
   "source": [
    "## Repaso del notebook 01"
   ]
  },
  {
   "cell_type": "markdown",
   "metadata": {},
   "source": [
    "#### [0] \n",
    "(i) Define una función `vol_esfera` que acepta un radio y calcula el volumen de la esfera con ese radio.\n",
    "(ii) Utiliza tu función para calcular el volumen de la esfera con radio $\\rho = 10$."
   ]
  },
  {
   "cell_type": "code",
   "execution_count": 1,
   "metadata": {
    "collapsed": false
   },
   "outputs": [
    {
     "data": {
      "text/plain": [
       "vol_esfera (generic function with 1 method)"
      ]
     },
     "execution_count": 1,
     "metadata": {},
     "output_type": "execute_result"
    }
   ],
   "source": [
    "# Los comentarios pueden estar en líneas previamente vacías, como esta, si así es más claro.\n",
    "\n",
    "vol_esfera(ρ) = (4π/3)*ρ^3  # También pueden ir aquí, si son comentarios más cortos."
   ]
  },
  {
   "cell_type": "code",
   "execution_count": 2,
   "metadata": {
    "collapsed": false
   },
   "outputs": [
    {
     "data": {
      "text/plain": [
       "4188.790204786391"
      ]
     },
     "execution_count": 2,
     "metadata": {},
     "output_type": "execute_result"
    }
   ],
   "source": [
    "radio = 10  # Siempre nombra a tus variables antes de utilizarlas.\n",
    "vol_esfera(radio)"
   ]
  },
  {
   "cell_type": "markdown",
   "metadata": {},
   "source": [
    "(iii) Define una función `vol_cilindro` que calcula el volumen de un cilindro de radio $\\rho$ y altura $\\zeta$. \n",
    "\n",
    "(iv) Calcula el volumen del cilindro con radio $\\rho = \\frac{1}{2}$ y altura $\\zeta = 10$. "
   ]
  },
  {
   "cell_type": "code",
   "execution_count": 3,
   "metadata": {
    "collapsed": false
   },
   "outputs": [
    {
     "data": {
      "text/plain": [
       "vol_cilindro (generic function with 1 method)"
      ]
     },
     "execution_count": 3,
     "metadata": {},
     "output_type": "execute_result"
    }
   ],
   "source": [
    "# Definir funciones con esta sintaxis sólo es recomendable cuando la definición es muy corta.\n",
    "\n",
    "vol_cilindro(ρ,ζ) = π*ζ*ρ^2 "
   ]
  },
  {
   "cell_type": "code",
   "execution_count": 4,
   "metadata": {
    "collapsed": false
   },
   "outputs": [
    {
     "data": {
      "text/plain": [
       "7.853981633974483"
      ]
     },
     "execution_count": 4,
     "metadata": {},
     "output_type": "execute_result"
    }
   ],
   "source": [
    "ρ = 1/2 \n",
    "ζ = 10   \n",
    "vol_cilindro(ρ, ζ)"
   ]
  },
  {
   "cell_type": "markdown",
   "metadata": {},
   "source": [
    "# Creando datos y graficación"
   ]
  },
  {
   "cell_type": "markdown",
   "metadata": {},
   "source": [
    "Una de las tareas fundamentales del cómputo científico es el manejar **datos** de todo tipo: leerlos de un archivo, o crearlos en una simulación; escribirlos a un archivo; visualizarlos, para extraer su mensaje; etc.\n",
    "\n",
    "En este notebook veremos una forma rápida de crear datos y almacenarlos."
   ]
  },
  {
   "cell_type": "markdown",
   "metadata": {},
   "source": [
    "## Arreglos por comprensión"
   ]
  },
  {
   "cell_type": "markdown",
   "metadata": {},
   "source": [
    "Tendremos que almacenar datos en algún lado. En Julia los almacenamos en arreglos.\n",
    "\n",
    "Un **arreglo** es un vector, o una lista, o una secuencia, o un conjunto (ordenado) de datos. Se puede visualizar como una pichonera con cajitas consecutivas, en las cuales se guardan los taos."
   ]
  },
  {
   "cell_type": "markdown",
   "metadata": {},
   "source": [
    "Julia tiene una sintaxis poderosa para crear arreglos: **arreglos por comprensión**\n",
    "\n",
    "En matemáticas, hay una notación bonita para especifar conjuntos. Por ejemplo, el conjunto de los cuadrados de los primeros diez enteros se escribe como sigue. Si notamos por $A := \\{ 1, 2, \\ldots, 10 \\}$ los números de 1 a 10, entonces el conjunto $C$ de sus cuadrados es \n",
    "\n",
    "$$C := \\{ x^2 : x \\in A \\}$$\n",
    "\n",
    "En Julia, ¡podemos escribir algo similar! \n",
    "\n",
    "Primero, agarremos los números de 1 al 10:"
   ]
  },
  {
   "cell_type": "code",
   "execution_count": 5,
   "metadata": {
    "collapsed": false
   },
   "outputs": [
    {
     "data": {
      "text/plain": [
       "1:10"
      ]
     },
     "execution_count": 5,
     "metadata": {},
     "output_type": "execute_result"
    }
   ],
   "source": [
    "A = 1:10"
   ]
  },
  {
   "cell_type": "markdown",
   "metadata": {},
   "source": [
    "[1] ¿Qué **tipo de objeto** es esto? "
   ]
  },
  {
   "cell_type": "code",
   "execution_count": 6,
   "metadata": {
    "collapsed": false
   },
   "outputs": [
    {
     "name": "stdout",
     "output_type": "stream",
     "text": [
      "Este objeto es de tipo: UnitRange{Int64}\n"
     ]
    }
   ],
   "source": [
    "println(\"Este objeto es de tipo: \", typeof(A))"
   ]
  },
  {
   "cell_type": "code",
   "execution_count": 7,
   "metadata": {
    "collapsed": false
   },
   "outputs": [
    {
     "data": {
      "text/plain": [
       "10-element Array{Int64,1}:\n",
       "   1\n",
       "   4\n",
       "   9\n",
       "  16\n",
       "  25\n",
       "  36\n",
       "  49\n",
       "  64\n",
       "  81\n",
       " 100"
      ]
     },
     "execution_count": 7,
     "metadata": {},
     "output_type": "execute_result"
    }
   ],
   "source": [
    "C = [i^2 for i in A]  # i^2 para i que recorre todos los valores en A"
   ]
  },
  {
   "cell_type": "markdown",
   "metadata": {},
   "source": [
    "[2] ¿Qué tipo de objeto es este resultado? "
   ]
  },
  {
   "cell_type": "code",
   "execution_count": 8,
   "metadata": {
    "collapsed": false
   },
   "outputs": [
    {
     "name": "stdout",
     "output_type": "stream",
     "text": [
      "Este objeto es de tipo: Array{Int64,1}\n"
     ]
    }
   ],
   "source": [
    "println(\"Este objeto es de tipo: \", typeof(C))"
   ]
  },
  {
   "cell_type": "markdown",
   "metadata": {},
   "source": [
    "Podemos leer esto como \"el arreglo de $x^2$ *para* ('for') $x$ en el conjunto `A`\", o \"la colección [ordenada] de los cuadrados de los elementos de `A`."
   ]
  },
  {
   "cell_type": "markdown",
   "metadata": {},
   "source": [
    "[3] ¿Funciona si pones directamente `1:10` en lugar de `A`?"
   ]
  },
  {
   "cell_type": "code",
   "execution_count": 9,
   "metadata": {
    "collapsed": false
   },
   "outputs": [
    {
     "data": {
      "text/plain": [
       "10-element Array{Int64,1}:\n",
       "   1\n",
       "   4\n",
       "   9\n",
       "  16\n",
       "  25\n",
       "  36\n",
       "  49\n",
       "  64\n",
       "  81\n",
       " 100"
      ]
     },
     "execution_count": 9,
     "metadata": {},
     "output_type": "execute_result"
    }
   ],
   "source": [
    "C = [i^2 for i in 1:10] #Sí funciona."
   ]
  },
  {
   "cell_type": "markdown",
   "metadata": {},
   "source": [
    "[4] (i) Utiliza la función `sum` para calcular la suma de estos cuadrados."
   ]
  },
  {
   "cell_type": "code",
   "execution_count": 10,
   "metadata": {
    "collapsed": false
   },
   "outputs": [
    {
     "name": "stdout",
     "output_type": "stream",
     "text": [
      "search: \u001b[1ms\u001b[22m\u001b[1mu\u001b[22m\u001b[1mm\u001b[22m \u001b[1ms\u001b[22m\u001b[1mu\u001b[22m\u001b[1mm\u001b[22m! \u001b[1ms\u001b[22m\u001b[1mu\u001b[22m\u001b[1mm\u001b[22mabs \u001b[1ms\u001b[22m\u001b[1mu\u001b[22m\u001b[1mm\u001b[22mmary \u001b[1ms\u001b[22m\u001b[1mu\u001b[22m\u001b[1mm\u001b[22mabs2 \u001b[1ms\u001b[22m\u001b[1mu\u001b[22m\u001b[1mm\u001b[22mabs! \u001b[1ms\u001b[22m\u001b[1mu\u001b[22m\u001b[1mm\u001b[22m_kbn \u001b[1ms\u001b[22m\u001b[1mu\u001b[22m\u001b[1mm\u001b[22mabs2! cum\u001b[1ms\u001b[22m\u001b[1mu\u001b[22m\u001b[1mm\u001b[22m cum\u001b[1ms\u001b[22m\u001b[1mu\u001b[22m\u001b[1mm\u001b[22m!\n",
      "\n"
     ]
    },
    {
     "data": {
      "text/markdown": [
       "```\n",
       "sum(itr)\n",
       "```\n",
       "\n",
       "Returns the sum of all elements in a collection.\n",
       "\n",
       "```\n",
       "sum(A, dims)\n",
       "```\n",
       "\n",
       "Sum elements of an array over the given dimensions.\n",
       "\n",
       "```\n",
       "sum(f, itr)\n",
       "```\n",
       "\n",
       "Sum the results of calling function `f` on each element of `itr`.\n"
      ],
      "text/plain": [
       "```\n",
       "sum(itr)\n",
       "```\n",
       "\n",
       "Returns the sum of all elements in a collection.\n",
       "\n",
       "```\n",
       "sum(A, dims)\n",
       "```\n",
       "\n",
       "Sum elements of an array over the given dimensions.\n",
       "\n",
       "```\n",
       "sum(f, itr)\n",
       "```\n",
       "\n",
       "Sum the results of calling function `f` on each element of `itr`.\n"
      ]
     },
     "execution_count": 10,
     "metadata": {},
     "output_type": "execute_result"
    }
   ],
   "source": [
    "?sum # Es muy útil leer la documentación de las funciones predefinidas de Julia."
   ]
  },
  {
   "cell_type": "code",
   "execution_count": 11,
   "metadata": {
    "collapsed": false
   },
   "outputs": [
    {
     "data": {
      "text/plain": [
       "385"
      ]
     },
     "execution_count": 11,
     "metadata": {},
     "output_type": "execute_result"
    }
   ],
   "source": [
    "sum(C)"
   ]
  },
  {
   "cell_type": "markdown",
   "metadata": {},
   "source": [
    "(ii) Escribe una función que calcule la suma de los primeros $N$ enteros. Verifica que siempre dé el resultado analítico conocido. (Es decir, hazlo para distintos $N$ y checa si sí sea cierto.)"
   ]
  },
  {
   "cell_type": "code",
   "execution_count": 12,
   "metadata": {
    "collapsed": false
   },
   "outputs": [
    {
     "data": {
      "text/plain": [
       "suma_Gauss (generic function with 1 method)"
      ]
     },
     "execution_count": 12,
     "metadata": {},
     "output_type": "execute_result"
    }
   ],
   "source": [
    "# Un nombre descriptivo en las funciones ayuda a leer el código posteriormente. ¡Es por tu bien!\n",
    "\n",
    "function suma_primeros_naturales(N) # Puedes utilizar el guión bajo para separar nombres largos.\n",
    "    sum(1:N)\n",
    "end\n",
    "\n",
    "function suma_Gauss(N) # Evita nombres demasiado largos si al hacerlo no pierdes claridad.\n",
    "    N*(N+1)/2\n",
    "end"
   ]
  },
  {
   "cell_type": "code",
   "execution_count": 13,
   "metadata": {
    "collapsed": false
   },
   "outputs": [
    {
     "data": {
      "text/plain": [
       "10-element Array{Bool,1}:\n",
       " true\n",
       " true\n",
       " true\n",
       " true\n",
       " true\n",
       " true\n",
       " true\n",
       " true\n",
       " true\n",
       " true"
      ]
     },
     "execution_count": 13,
     "metadata": {},
     "output_type": "execute_result"
    }
   ],
   "source": [
    "[suma_primeros_naturales(n) == suma_Gauss(n) for n in 1000:1000:10000] # Lo compruebo usando lo que ya aprendí."
   ]
  },
  {
   "cell_type": "markdown",
   "metadata": {},
   "source": [
    "Nótese que desde Julia 0.5, podemos poner un `if` al final de la comprensión para incluir sólo ciertos valores que satisfagan cierta condición, e.g."
   ]
  },
  {
   "cell_type": "code",
   "execution_count": 14,
   "metadata": {
    "collapsed": false
   },
   "outputs": [
    {
     "data": {
      "text/plain": [
       "7-element Array{Int64,1}:\n",
       "  1\n",
       "  2\n",
       "  4\n",
       "  5\n",
       "  7\n",
       "  8\n",
       " 10"
      ]
     },
     "execution_count": 14,
     "metadata": {},
     "output_type": "execute_result"
    }
   ],
   "source": [
    "[i for i in A if i%3 != 0]  # % es módulo;  != es \"no es igual a\""
   ]
  },
  {
   "cell_type": "markdown",
   "metadata": {},
   "source": [
    "# Graficación"
   ]
  },
  {
   "cell_type": "markdown",
   "metadata": {},
   "source": [
    "[5] (i) Da una lista de los números de 1 al 100 que sean múltiplos de 3 o 5. [\"O\" se escribe como `||`.] \n",
    "\n",
    "(ii) Checa a ojo que esté correcto. "
   ]
  },
  {
   "cell_type": "code",
   "execution_count": 15,
   "metadata": {
    "collapsed": false
   },
   "outputs": [
    {
     "data": {
      "text/plain": [
       "47-element Array{Int64,1}:\n",
       "   3\n",
       "   5\n",
       "   6\n",
       "   9\n",
       "  10\n",
       "  12\n",
       "  15\n",
       "  18\n",
       "  20\n",
       "  21\n",
       "  24\n",
       "  25\n",
       "  27\n",
       "   ⋮\n",
       "  78\n",
       "  80\n",
       "  81\n",
       "  84\n",
       "  85\n",
       "  87\n",
       "  90\n",
       "  93\n",
       "  95\n",
       "  96\n",
       "  99\n",
       " 100"
      ]
     },
     "execution_count": 15,
     "metadata": {},
     "output_type": "execute_result"
    }
   ],
   "source": [
    "# Utiliza espacios cuando ayude a leer tu código.\n",
    "# i%3 == 0 || i%5 == 0 vs i%3==0||i%5==0\n",
    "\n",
    "lista_multiplos = [i for i in 1:100 if i%3 == 0 || i%5 == 0]"
   ]
  },
  {
   "cell_type": "markdown",
   "metadata": {},
   "source": [
    "(iii) Calcula su suma. ¿Cómo puedes verificar que la suma esté bien? Hazlo."
   ]
  },
  {
   "cell_type": "code",
   "execution_count": 16,
   "metadata": {
    "collapsed": false
   },
   "outputs": [
    {
     "data": {
      "text/plain": [
       "2418"
      ]
     },
     "execution_count": 16,
     "metadata": {},
     "output_type": "execute_result"
    }
   ],
   "source": [
    "sum(lista_multiplos)"
   ]
  },
  {
   "cell_type": "code",
   "execution_count": 17,
   "metadata": {
    "collapsed": false
   },
   "outputs": [
    {
     "data": {
      "text/plain": [
       "2418.0"
      ]
     },
     "execution_count": 17,
     "metadata": {},
     "output_type": "execute_result"
    }
   ],
   "source": [
    "#Hay varias maneras de verificarlo. Puedes elegir la que prefieras pero... ¡no ignores la pregunta!\n",
    "\n",
    "# En el rango 1:100 hay: 33 múltiplos de 3, 20 múltiplos de 5 y 6 múltiplos de 15.\n",
    "# Hay que tomar en cuenta que si sumamos los múltiplos del 3 y del 5, contamos doble los múltiplos de 15.\n",
    "\n",
    "3*suma_Gauss(33) + 5*suma_Gauss(20) - 15*suma_Gauss(6)"
   ]
  },
  {
   "cell_type": "markdown",
   "metadata": {},
   "source": [
    "Ahora que somos capaces de producir datos interesantes, se nos antoja *visualizarlos*, es decir, graficarlos.\n",
    "\n",
    "Hay varios paquetes gráficos en Julia. El paquete `Plots` provee una interfaz común a muchos de ellos.\n",
    "\n",
    "Para utilizarlo, es necesario primero *instalar* el paquete; esto se hace una sola vez en cada instalación de Julia:"
   ]
  },
  {
   "cell_type": "code",
   "execution_count": 18,
   "metadata": {
    "collapsed": false
   },
   "outputs": [],
   "source": [
    "#Pkg.add(\"Plots\") "
   ]
  },
  {
   "cell_type": "markdown",
   "metadata": {},
   "source": [
    "Recomendamos el \"backend\" GR:"
   ]
  },
  {
   "cell_type": "code",
   "execution_count": 19,
   "metadata": {
    "collapsed": false
   },
   "outputs": [],
   "source": [
    "#Pkg.add(\"GR\")"
   ]
  },
  {
   "cell_type": "markdown",
   "metadata": {},
   "source": [
    "El paquete se tiene que cargar *en cada sesión*:"
   ]
  },
  {
   "cell_type": "code",
   "execution_count": 20,
   "metadata": {
    "collapsed": false
   },
   "outputs": [
    {
     "data": {
      "text/plain": [
       "Plots.GRBackend()"
      ]
     },
     "execution_count": 20,
     "metadata": {},
     "output_type": "execute_result"
    }
   ],
   "source": [
    "using Plots  # \"using\" == \"usando\"\n",
    "gr()   # escoger el \"backend\" GR"
   ]
  },
  {
   "cell_type": "markdown",
   "metadata": {},
   "source": [
    "El comando `using Plots` carga las funciones definidas en la librería para este notebook (que ya instalaste una vez con `Pkg.add`), para que ya se puedan utilizar."
   ]
  },
  {
   "cell_type": "markdown",
   "metadata": {},
   "source": [
    "[6] (i) Crea un arreglo `x` con números igualmente espaciados de -3 a 3 y un paso chiquito.\n",
    "\n",
    "(ii) Crea un arreglo `y` que corresponde a la función $3x^2 - 2$.\n",
    "\n",
    "(iii) Usa la función `plot` de `Plots` para graficar la función.\n",
    "\n",
    "(iv) Utiliza la ayuda de la función [`?plot` o `help(plot)`] y en la documentación del paquete u otro lado para cambiar el estilo de la gráfica para utilizar líneas rojas y puntos verdes.\n",
    "\n",
    "(v) Busca cómo agregar etiquetas a los ejes (lo cual debe hacerse en *cualquier* gráfica) y un título global, así como una leyenda."
   ]
  },
  {
   "cell_type": "code",
   "execution_count": 21,
   "metadata": {
    "collapsed": false
   },
   "outputs": [
    {
     "name": "stdout",
     "output_type": "stream",
     "text": [
      "search: \u001b[1mp\u001b[22m\u001b[1ml\u001b[22m\u001b[1mo\u001b[22m\u001b[1mt\u001b[22m \u001b[1mp\u001b[22m\u001b[1ml\u001b[22m\u001b[1mo\u001b[22m\u001b[1mt\u001b[22m! \u001b[1mp\u001b[22m\u001b[1ml\u001b[22m\u001b[1mo\u001b[22m\u001b[1mt\u001b[22mly \u001b[1mp\u001b[22m\u001b[1ml\u001b[22m\u001b[1mo\u001b[22m\u001b[1mt\u001b[22m3d \u001b[1mP\u001b[22m\u001b[1ml\u001b[22m\u001b[1mo\u001b[22m\u001b[1mt\u001b[22ms \u001b[1mp\u001b[22m\u001b[1ml\u001b[22m\u001b[1mo\u001b[22m\u001b[1mt\u001b[22m3d! \u001b[1mp\u001b[22m\u001b[1ml\u001b[22m\u001b[1mo\u001b[22m\u001b[1mt\u001b[22mlyjs \u001b[1mp\u001b[22m\u001b[1ml\u001b[22m\u001b[1mo\u001b[22m\u001b[1mt\u001b[22marea \u001b[1mp\u001b[22m\u001b[1ml\u001b[22m\u001b[1mo\u001b[22m\u001b[1mt\u001b[22m_color\n",
      "\n"
     ]
    },
    {
     "data": {
      "text/markdown": [
       "The main plot command.  Use `plot` to create a new plot object, and `plot!` to add to an existing one:\n",
       "\n",
       "```\n",
       "    plot(args...; kw...)                  # creates a new plot window, and sets it to be the current\n",
       "    plot!(args...; kw...)                 # adds to the `current`\n",
       "    plot!(plotobj, args...; kw...)        # adds to the plot `plotobj`\n",
       "```\n",
       "\n",
       "There are lots of ways to pass in data, and lots of keyword arguments... just try it and it will likely work as expected. When you pass in matrices, it splits by columns.  See the documentation for more info.\n"
      ],
      "text/plain": [
       "The main plot command.  Use `plot` to create a new plot object, and `plot!` to add to an existing one:\n",
       "\n",
       "```\n",
       "    plot(args...; kw...)                  # creates a new plot window, and sets it to be the current\n",
       "    plot!(args...; kw...)                 # adds to the `current`\n",
       "    plot!(plotobj, args...; kw...)        # adds to the plot `plotobj`\n",
       "```\n",
       "\n",
       "There are lots of ways to pass in data, and lots of keyword arguments... just try it and it will likely work as expected. When you pass in matrices, it splits by columns.  See the documentation for more info.\n"
      ]
     },
     "execution_count": 21,
     "metadata": {},
     "output_type": "execute_result"
    }
   ],
   "source": [
    "?plot"
   ]
  },
  {
   "cell_type": "code",
   "execution_count": 22,
   "metadata": {
    "collapsed": false
   },
   "outputs": [
    {
     "data": {
      "text/html": [
       "<?xml version=\"1.0\" encoding=\"utf-8\"?>\n",
       "<svg xmlns=\"http://www.w3.org/2000/svg\" xmlns:xlink=\"http://www.w3.org/1999/xlink\" width=\"600\" height=\"400\" viewBox=\"0 0 600 400\">\n",
       "<defs>\n",
       "  <clipPath id=\"clip00\">\n",
       "    <rect x=\"0\" y=\"0\" width=\"600\" height=\"400\"/>\n",
       "  </clipPath>\n",
       "</defs>\n",
       "<polygon clip-path=\"url(#clip00)\" points=\"\n",
       "0,400 600,400 600,0 0,0 \n",
       "  \" fill=\"#ffffff\" fill-opacity=\"1\"/>\n",
       "<defs>\n",
       "  <clipPath id=\"clip01\">\n",
       "    <rect x=\"120\" y=\"0\" width=\"421\" height=\"400\"/>\n",
       "  </clipPath>\n",
       "</defs>\n",
       "<polygon clip-path=\"url(#clip00)\" points=\"\n",
       "36.9926,369.674 596.063,369.674 596.063,23.3815 36.9926,23.3815 \n",
       "  \" fill=\"#ffffff\" fill-opacity=\"1\"/>\n",
       "<defs>\n",
       "  <clipPath id=\"clip02\">\n",
       "    <rect x=\"36\" y=\"23\" width=\"560\" height=\"347\"/>\n",
       "  </clipPath>\n",
       "</defs>\n",
       "<polyline clip-path=\"url(#clip02)\" style=\"stroke:#00002d; stroke-width:0.8; stroke-opacity:0.5; fill:none\" stroke-dasharray=\"1, 2\" points=\"\n",
       "  140.719,364.48 140.719,28.5758 \n",
       "  \"/>\n",
       "<polyline clip-path=\"url(#clip02)\" style=\"stroke:#00002d; stroke-width:0.8; stroke-opacity:0.5; fill:none\" stroke-dasharray=\"1, 2\" points=\"\n",
       "  316.528,364.48 316.528,28.5758 \n",
       "  \"/>\n",
       "<polyline clip-path=\"url(#clip02)\" style=\"stroke:#00002d; stroke-width:0.8; stroke-opacity:0.5; fill:none\" stroke-dasharray=\"1, 2\" points=\"\n",
       "  492.336,364.48 492.336,28.5758 \n",
       "  \"/>\n",
       "<polyline clip-path=\"url(#clip02)\" style=\"stroke:#00002d; stroke-width:0.8; stroke-opacity:0.5; fill:none\" stroke-dasharray=\"1, 2\" points=\"\n",
       "  45.3786,335.674 587.677,335.674 \n",
       "  \"/>\n",
       "<polyline clip-path=\"url(#clip02)\" style=\"stroke:#00002d; stroke-width:0.8; stroke-opacity:0.5; fill:none\" stroke-dasharray=\"1, 2\" points=\"\n",
       "  45.3786,214.677 587.677,214.677 \n",
       "  \"/>\n",
       "<polyline clip-path=\"url(#clip02)\" style=\"stroke:#00002d; stroke-width:0.8; stroke-opacity:0.5; fill:none\" stroke-dasharray=\"1, 2\" points=\"\n",
       "  45.3786,93.6806 587.677,93.6806 \n",
       "  \"/>\n",
       "<polyline clip-path=\"url(#clip02)\" style=\"stroke:#00002d; stroke-width:0.8; stroke-opacity:1; fill:none\" points=\"\n",
       "  36.9926,369.674 596.063,369.674 \n",
       "  \"/>\n",
       "<polyline clip-path=\"url(#clip02)\" style=\"stroke:#00002d; stroke-width:0.8; stroke-opacity:1; fill:none\" points=\"\n",
       "  140.719,369.674 140.719,364.48 \n",
       "  \"/>\n",
       "<polyline clip-path=\"url(#clip02)\" style=\"stroke:#00002d; stroke-width:0.8; stroke-opacity:1; fill:none\" points=\"\n",
       "  316.528,369.674 316.528,364.48 \n",
       "  \"/>\n",
       "<polyline clip-path=\"url(#clip02)\" style=\"stroke:#00002d; stroke-width:0.8; stroke-opacity:1; fill:none\" points=\"\n",
       "  492.336,369.674 492.336,364.48 \n",
       "  \"/>\n",
       "<polyline clip-path=\"url(#clip02)\" style=\"stroke:#00002d; stroke-width:0.8; stroke-opacity:1; fill:none\" points=\"\n",
       "  36.9926,369.674 36.9926,23.3815 \n",
       "  \"/>\n",
       "<polyline clip-path=\"url(#clip02)\" style=\"stroke:#00002d; stroke-width:0.8; stroke-opacity:1; fill:none\" points=\"\n",
       "  36.9926,335.674 45.3786,335.674 \n",
       "  \"/>\n",
       "<polyline clip-path=\"url(#clip02)\" style=\"stroke:#00002d; stroke-width:0.8; stroke-opacity:1; fill:none\" points=\"\n",
       "  36.9926,214.677 45.3786,214.677 \n",
       "  \"/>\n",
       "<polyline clip-path=\"url(#clip02)\" style=\"stroke:#00002d; stroke-width:0.8; stroke-opacity:1; fill:none\" points=\"\n",
       "  36.9926,93.6806 45.3786,93.6806 \n",
       "  \"/>\n",
       "<g clip-path=\"url(#clip00)\">\n",
       "<text style=\"fill:#00002d; fill-opacity:1; font-family:Arial,Helvetica Neue,Helvetica,sans-serif; font-size:12; text-anchor:middle;\" transform=\"rotate(0, 140.719, 381.674)\" x=\"140.719\" y=\"381.674\">-2</text>\n",
       "</g>\n",
       "<g clip-path=\"url(#clip00)\">\n",
       "<text style=\"fill:#00002d; fill-opacity:1; font-family:Arial,Helvetica Neue,Helvetica,sans-serif; font-size:12; text-anchor:middle;\" transform=\"rotate(0, 316.528, 381.674)\" x=\"316.528\" y=\"381.674\">0</text>\n",
       "</g>\n",
       "<g clip-path=\"url(#clip00)\">\n",
       "<text style=\"fill:#00002d; fill-opacity:1; font-family:Arial,Helvetica Neue,Helvetica,sans-serif; font-size:12; text-anchor:middle;\" transform=\"rotate(0, 492.336, 381.674)\" x=\"492.336\" y=\"381.674\">2</text>\n",
       "</g>\n",
       "<g clip-path=\"url(#clip00)\">\n",
       "<text style=\"fill:#00002d; fill-opacity:1; font-family:Arial,Helvetica Neue,Helvetica,sans-serif; font-size:12; text-anchor:end;\" transform=\"rotate(0, 35.7926, 340.174)\" x=\"35.7926\" y=\"340.174\">0</text>\n",
       "</g>\n",
       "<g clip-path=\"url(#clip00)\">\n",
       "<text style=\"fill:#00002d; fill-opacity:1; font-family:Arial,Helvetica Neue,Helvetica,sans-serif; font-size:12; text-anchor:end;\" transform=\"rotate(0, 35.7926, 219.177)\" x=\"35.7926\" y=\"219.177\">10</text>\n",
       "</g>\n",
       "<g clip-path=\"url(#clip00)\">\n",
       "<text style=\"fill:#00002d; fill-opacity:1; font-family:Arial,Helvetica Neue,Helvetica,sans-serif; font-size:12; text-anchor:end;\" transform=\"rotate(0, 35.7926, 98.1806)\" x=\"35.7926\" y=\"98.1806\">20</text>\n",
       "</g>\n",
       "<g clip-path=\"url(#clip00)\">\n",
       "<text style=\"fill:#00002d; fill-opacity:1; font-family:Arial,Helvetica Neue,Helvetica,sans-serif; font-size:21; text-anchor:middle;\" transform=\"rotate(0, 316.528, 18)\" x=\"316.528\" y=\"18\">Parábola</text>\n",
       "</g>\n",
       "<g clip-path=\"url(#clip00)\">\n",
       "<text style=\"fill:#00002d; fill-opacity:1; font-family:Arial,Helvetica Neue,Helvetica,sans-serif; font-size:16; text-anchor:middle;\" transform=\"rotate(0, 316.528, 397.6)\" x=\"316.528\" y=\"397.6\">x</text>\n",
       "</g>\n",
       "<g clip-path=\"url(#clip00)\">\n",
       "<text style=\"fill:#00002d; fill-opacity:1; font-family:Arial,Helvetica Neue,Helvetica,sans-serif; font-size:16; text-anchor:middle;\" transform=\"rotate(-90, 14.4, 196.528)\" x=\"14.4\" y=\"196.528\">y</text>\n",
       "</g>\n",
       "<polyline clip-path=\"url(#clip02)\" style=\"stroke:#ff0000; stroke-width:0.8; stroke-opacity:1; fill:none\" points=\"\n",
       "  52.8153,33.1822 61.6057,54.5986 70.3961,75.2891 79.1866,95.2535 87.977,114.492 96.7674,133.004 105.558,150.791 114.348,167.852 123.139,184.186 131.929,199.795 \n",
       "  140.719,214.677 149.51,228.834 158.3,242.265 167.091,254.969 175.881,266.948 184.672,278.201 193.462,288.727 202.252,298.528 211.043,307.603 219.833,315.952 \n",
       "  228.624,323.574 237.414,330.471 246.204,336.642 254.995,342.087 263.785,346.806 272.576,350.799 281.366,354.066 290.157,356.606 298.947,358.421 307.737,359.51 \n",
       "  316.528,359.873 325.318,359.51 334.109,358.421 342.899,356.606 351.689,354.066 360.48,350.799 369.27,346.806 378.061,342.087 386.851,336.642 395.642,330.471 \n",
       "  404.432,323.574 413.222,315.952 422.013,307.603 430.803,298.528 439.594,288.727 448.384,278.201 457.174,266.948 465.965,254.969 474.755,242.265 483.546,228.834 \n",
       "  492.336,214.677 501.127,199.795 509.917,184.186 518.707,167.852 527.498,150.791 536.288,133.004 545.079,114.492 553.869,95.2535 562.659,75.2891 571.45,54.5986 \n",
       "  580.24,33.1822 \n",
       "  \"/>\n",
       "<circle clip-path=\"url(#clip02)\" style=\"fill:#00002d; stroke:none; fill-opacity:1\" cx=\"52.8153\" cy=\"33.1822\" r=\"3\"/>\n",
       "<circle clip-path=\"url(#clip02)\" style=\"fill:#008100; stroke:none; fill-opacity:1\" cx=\"52.8153\" cy=\"33.1822\" r=\"2\"/>\n",
       "<circle clip-path=\"url(#clip02)\" style=\"fill:#00002d; stroke:none; fill-opacity:1\" cx=\"61.6057\" cy=\"54.5986\" r=\"3\"/>\n",
       "<circle clip-path=\"url(#clip02)\" style=\"fill:#008100; stroke:none; fill-opacity:1\" cx=\"61.6057\" cy=\"54.5986\" r=\"2\"/>\n",
       "<circle clip-path=\"url(#clip02)\" style=\"fill:#00002d; stroke:none; fill-opacity:1\" cx=\"70.3961\" cy=\"75.2891\" r=\"3\"/>\n",
       "<circle clip-path=\"url(#clip02)\" style=\"fill:#008100; stroke:none; fill-opacity:1\" cx=\"70.3961\" cy=\"75.2891\" r=\"2\"/>\n",
       "<circle clip-path=\"url(#clip02)\" style=\"fill:#00002d; stroke:none; fill-opacity:1\" cx=\"79.1866\" cy=\"95.2535\" r=\"3\"/>\n",
       "<circle clip-path=\"url(#clip02)\" style=\"fill:#008100; stroke:none; fill-opacity:1\" cx=\"79.1866\" cy=\"95.2535\" r=\"2\"/>\n",
       "<circle clip-path=\"url(#clip02)\" style=\"fill:#00002d; stroke:none; fill-opacity:1\" cx=\"87.977\" cy=\"114.492\" r=\"3\"/>\n",
       "<circle clip-path=\"url(#clip02)\" style=\"fill:#008100; stroke:none; fill-opacity:1\" cx=\"87.977\" cy=\"114.492\" r=\"2\"/>\n",
       "<circle clip-path=\"url(#clip02)\" style=\"fill:#00002d; stroke:none; fill-opacity:1\" cx=\"96.7674\" cy=\"133.004\" r=\"3\"/>\n",
       "<circle clip-path=\"url(#clip02)\" style=\"fill:#008100; stroke:none; fill-opacity:1\" cx=\"96.7674\" cy=\"133.004\" r=\"2\"/>\n",
       "<circle clip-path=\"url(#clip02)\" style=\"fill:#00002d; stroke:none; fill-opacity:1\" cx=\"105.558\" cy=\"150.791\" r=\"3\"/>\n",
       "<circle clip-path=\"url(#clip02)\" style=\"fill:#008100; stroke:none; fill-opacity:1\" cx=\"105.558\" cy=\"150.791\" r=\"2\"/>\n",
       "<circle clip-path=\"url(#clip02)\" style=\"fill:#00002d; stroke:none; fill-opacity:1\" cx=\"114.348\" cy=\"167.852\" r=\"3\"/>\n",
       "<circle clip-path=\"url(#clip02)\" style=\"fill:#008100; stroke:none; fill-opacity:1\" cx=\"114.348\" cy=\"167.852\" r=\"2\"/>\n",
       "<circle clip-path=\"url(#clip02)\" style=\"fill:#00002d; stroke:none; fill-opacity:1\" cx=\"123.139\" cy=\"184.186\" r=\"3\"/>\n",
       "<circle clip-path=\"url(#clip02)\" style=\"fill:#008100; stroke:none; fill-opacity:1\" cx=\"123.139\" cy=\"184.186\" r=\"2\"/>\n",
       "<circle clip-path=\"url(#clip02)\" style=\"fill:#00002d; stroke:none; fill-opacity:1\" cx=\"131.929\" cy=\"199.795\" r=\"3\"/>\n",
       "<circle clip-path=\"url(#clip02)\" style=\"fill:#008100; stroke:none; fill-opacity:1\" cx=\"131.929\" cy=\"199.795\" r=\"2\"/>\n",
       "<circle clip-path=\"url(#clip02)\" style=\"fill:#00002d; stroke:none; fill-opacity:1\" cx=\"140.719\" cy=\"214.677\" r=\"3\"/>\n",
       "<circle clip-path=\"url(#clip02)\" style=\"fill:#008100; stroke:none; fill-opacity:1\" cx=\"140.719\" cy=\"214.677\" r=\"2\"/>\n",
       "<circle clip-path=\"url(#clip02)\" style=\"fill:#00002d; stroke:none; fill-opacity:1\" cx=\"149.51\" cy=\"228.834\" r=\"3\"/>\n",
       "<circle clip-path=\"url(#clip02)\" style=\"fill:#008100; stroke:none; fill-opacity:1\" cx=\"149.51\" cy=\"228.834\" r=\"2\"/>\n",
       "<circle clip-path=\"url(#clip02)\" style=\"fill:#00002d; stroke:none; fill-opacity:1\" cx=\"158.3\" cy=\"242.265\" r=\"3\"/>\n",
       "<circle clip-path=\"url(#clip02)\" style=\"fill:#008100; stroke:none; fill-opacity:1\" cx=\"158.3\" cy=\"242.265\" r=\"2\"/>\n",
       "<circle clip-path=\"url(#clip02)\" style=\"fill:#00002d; stroke:none; fill-opacity:1\" cx=\"167.091\" cy=\"254.969\" r=\"3\"/>\n",
       "<circle clip-path=\"url(#clip02)\" style=\"fill:#008100; stroke:none; fill-opacity:1\" cx=\"167.091\" cy=\"254.969\" r=\"2\"/>\n",
       "<circle clip-path=\"url(#clip02)\" style=\"fill:#00002d; stroke:none; fill-opacity:1\" cx=\"175.881\" cy=\"266.948\" r=\"3\"/>\n",
       "<circle clip-path=\"url(#clip02)\" style=\"fill:#008100; stroke:none; fill-opacity:1\" cx=\"175.881\" cy=\"266.948\" r=\"2\"/>\n",
       "<circle clip-path=\"url(#clip02)\" style=\"fill:#00002d; stroke:none; fill-opacity:1\" cx=\"184.672\" cy=\"278.201\" r=\"3\"/>\n",
       "<circle clip-path=\"url(#clip02)\" style=\"fill:#008100; stroke:none; fill-opacity:1\" cx=\"184.672\" cy=\"278.201\" r=\"2\"/>\n",
       "<circle clip-path=\"url(#clip02)\" style=\"fill:#00002d; stroke:none; fill-opacity:1\" cx=\"193.462\" cy=\"288.727\" r=\"3\"/>\n",
       "<circle clip-path=\"url(#clip02)\" style=\"fill:#008100; stroke:none; fill-opacity:1\" cx=\"193.462\" cy=\"288.727\" r=\"2\"/>\n",
       "<circle clip-path=\"url(#clip02)\" style=\"fill:#00002d; stroke:none; fill-opacity:1\" cx=\"202.252\" cy=\"298.528\" r=\"3\"/>\n",
       "<circle clip-path=\"url(#clip02)\" style=\"fill:#008100; stroke:none; fill-opacity:1\" cx=\"202.252\" cy=\"298.528\" r=\"2\"/>\n",
       "<circle clip-path=\"url(#clip02)\" style=\"fill:#00002d; stroke:none; fill-opacity:1\" cx=\"211.043\" cy=\"307.603\" r=\"3\"/>\n",
       "<circle clip-path=\"url(#clip02)\" style=\"fill:#008100; stroke:none; fill-opacity:1\" cx=\"211.043\" cy=\"307.603\" r=\"2\"/>\n",
       "<circle clip-path=\"url(#clip02)\" style=\"fill:#00002d; stroke:none; fill-opacity:1\" cx=\"219.833\" cy=\"315.952\" r=\"3\"/>\n",
       "<circle clip-path=\"url(#clip02)\" style=\"fill:#008100; stroke:none; fill-opacity:1\" cx=\"219.833\" cy=\"315.952\" r=\"2\"/>\n",
       "<circle clip-path=\"url(#clip02)\" style=\"fill:#00002d; stroke:none; fill-opacity:1\" cx=\"228.624\" cy=\"323.574\" r=\"3\"/>\n",
       "<circle clip-path=\"url(#clip02)\" style=\"fill:#008100; stroke:none; fill-opacity:1\" cx=\"228.624\" cy=\"323.574\" r=\"2\"/>\n",
       "<circle clip-path=\"url(#clip02)\" style=\"fill:#00002d; stroke:none; fill-opacity:1\" cx=\"237.414\" cy=\"330.471\" r=\"3\"/>\n",
       "<circle clip-path=\"url(#clip02)\" style=\"fill:#008100; stroke:none; fill-opacity:1\" cx=\"237.414\" cy=\"330.471\" r=\"2\"/>\n",
       "<circle clip-path=\"url(#clip02)\" style=\"fill:#00002d; stroke:none; fill-opacity:1\" cx=\"246.204\" cy=\"336.642\" r=\"3\"/>\n",
       "<circle clip-path=\"url(#clip02)\" style=\"fill:#008100; stroke:none; fill-opacity:1\" cx=\"246.204\" cy=\"336.642\" r=\"2\"/>\n",
       "<circle clip-path=\"url(#clip02)\" style=\"fill:#00002d; stroke:none; fill-opacity:1\" cx=\"254.995\" cy=\"342.087\" r=\"3\"/>\n",
       "<circle clip-path=\"url(#clip02)\" style=\"fill:#008100; stroke:none; fill-opacity:1\" cx=\"254.995\" cy=\"342.087\" r=\"2\"/>\n",
       "<circle clip-path=\"url(#clip02)\" style=\"fill:#00002d; stroke:none; fill-opacity:1\" cx=\"263.785\" cy=\"346.806\" r=\"3\"/>\n",
       "<circle clip-path=\"url(#clip02)\" style=\"fill:#008100; stroke:none; fill-opacity:1\" cx=\"263.785\" cy=\"346.806\" r=\"2\"/>\n",
       "<circle clip-path=\"url(#clip02)\" style=\"fill:#00002d; stroke:none; fill-opacity:1\" cx=\"272.576\" cy=\"350.799\" r=\"3\"/>\n",
       "<circle clip-path=\"url(#clip02)\" style=\"fill:#008100; stroke:none; fill-opacity:1\" cx=\"272.576\" cy=\"350.799\" r=\"2\"/>\n",
       "<circle clip-path=\"url(#clip02)\" style=\"fill:#00002d; stroke:none; fill-opacity:1\" cx=\"281.366\" cy=\"354.066\" r=\"3\"/>\n",
       "<circle clip-path=\"url(#clip02)\" style=\"fill:#008100; stroke:none; fill-opacity:1\" cx=\"281.366\" cy=\"354.066\" r=\"2\"/>\n",
       "<circle clip-path=\"url(#clip02)\" style=\"fill:#00002d; stroke:none; fill-opacity:1\" cx=\"290.157\" cy=\"356.606\" r=\"3\"/>\n",
       "<circle clip-path=\"url(#clip02)\" style=\"fill:#008100; stroke:none; fill-opacity:1\" cx=\"290.157\" cy=\"356.606\" r=\"2\"/>\n",
       "<circle clip-path=\"url(#clip02)\" style=\"fill:#00002d; stroke:none; fill-opacity:1\" cx=\"298.947\" cy=\"358.421\" r=\"3\"/>\n",
       "<circle clip-path=\"url(#clip02)\" style=\"fill:#008100; stroke:none; fill-opacity:1\" cx=\"298.947\" cy=\"358.421\" r=\"2\"/>\n",
       "<circle clip-path=\"url(#clip02)\" style=\"fill:#00002d; stroke:none; fill-opacity:1\" cx=\"307.737\" cy=\"359.51\" r=\"3\"/>\n",
       "<circle clip-path=\"url(#clip02)\" style=\"fill:#008100; stroke:none; fill-opacity:1\" cx=\"307.737\" cy=\"359.51\" r=\"2\"/>\n",
       "<circle clip-path=\"url(#clip02)\" style=\"fill:#00002d; stroke:none; fill-opacity:1\" cx=\"316.528\" cy=\"359.873\" r=\"3\"/>\n",
       "<circle clip-path=\"url(#clip02)\" style=\"fill:#008100; stroke:none; fill-opacity:1\" cx=\"316.528\" cy=\"359.873\" r=\"2\"/>\n",
       "<circle clip-path=\"url(#clip02)\" style=\"fill:#00002d; stroke:none; fill-opacity:1\" cx=\"325.318\" cy=\"359.51\" r=\"3\"/>\n",
       "<circle clip-path=\"url(#clip02)\" style=\"fill:#008100; stroke:none; fill-opacity:1\" cx=\"325.318\" cy=\"359.51\" r=\"2\"/>\n",
       "<circle clip-path=\"url(#clip02)\" style=\"fill:#00002d; stroke:none; fill-opacity:1\" cx=\"334.109\" cy=\"358.421\" r=\"3\"/>\n",
       "<circle clip-path=\"url(#clip02)\" style=\"fill:#008100; stroke:none; fill-opacity:1\" cx=\"334.109\" cy=\"358.421\" r=\"2\"/>\n",
       "<circle clip-path=\"url(#clip02)\" style=\"fill:#00002d; stroke:none; fill-opacity:1\" cx=\"342.899\" cy=\"356.606\" r=\"3\"/>\n",
       "<circle clip-path=\"url(#clip02)\" style=\"fill:#008100; stroke:none; fill-opacity:1\" cx=\"342.899\" cy=\"356.606\" r=\"2\"/>\n",
       "<circle clip-path=\"url(#clip02)\" style=\"fill:#00002d; stroke:none; fill-opacity:1\" cx=\"351.689\" cy=\"354.066\" r=\"3\"/>\n",
       "<circle clip-path=\"url(#clip02)\" style=\"fill:#008100; stroke:none; fill-opacity:1\" cx=\"351.689\" cy=\"354.066\" r=\"2\"/>\n",
       "<circle clip-path=\"url(#clip02)\" style=\"fill:#00002d; stroke:none; fill-opacity:1\" cx=\"360.48\" cy=\"350.799\" r=\"3\"/>\n",
       "<circle clip-path=\"url(#clip02)\" style=\"fill:#008100; stroke:none; fill-opacity:1\" cx=\"360.48\" cy=\"350.799\" r=\"2\"/>\n",
       "<circle clip-path=\"url(#clip02)\" style=\"fill:#00002d; stroke:none; fill-opacity:1\" cx=\"369.27\" cy=\"346.806\" r=\"3\"/>\n",
       "<circle clip-path=\"url(#clip02)\" style=\"fill:#008100; stroke:none; fill-opacity:1\" cx=\"369.27\" cy=\"346.806\" r=\"2\"/>\n",
       "<circle clip-path=\"url(#clip02)\" style=\"fill:#00002d; stroke:none; fill-opacity:1\" cx=\"378.061\" cy=\"342.087\" r=\"3\"/>\n",
       "<circle clip-path=\"url(#clip02)\" style=\"fill:#008100; stroke:none; fill-opacity:1\" cx=\"378.061\" cy=\"342.087\" r=\"2\"/>\n",
       "<circle clip-path=\"url(#clip02)\" style=\"fill:#00002d; stroke:none; fill-opacity:1\" cx=\"386.851\" cy=\"336.642\" r=\"3\"/>\n",
       "<circle clip-path=\"url(#clip02)\" style=\"fill:#008100; stroke:none; fill-opacity:1\" cx=\"386.851\" cy=\"336.642\" r=\"2\"/>\n",
       "<circle clip-path=\"url(#clip02)\" style=\"fill:#00002d; stroke:none; fill-opacity:1\" cx=\"395.642\" cy=\"330.471\" r=\"3\"/>\n",
       "<circle clip-path=\"url(#clip02)\" style=\"fill:#008100; stroke:none; fill-opacity:1\" cx=\"395.642\" cy=\"330.471\" r=\"2\"/>\n",
       "<circle clip-path=\"url(#clip02)\" style=\"fill:#00002d; stroke:none; fill-opacity:1\" cx=\"404.432\" cy=\"323.574\" r=\"3\"/>\n",
       "<circle clip-path=\"url(#clip02)\" style=\"fill:#008100; stroke:none; fill-opacity:1\" cx=\"404.432\" cy=\"323.574\" r=\"2\"/>\n",
       "<circle clip-path=\"url(#clip02)\" style=\"fill:#00002d; stroke:none; fill-opacity:1\" cx=\"413.222\" cy=\"315.952\" r=\"3\"/>\n",
       "<circle clip-path=\"url(#clip02)\" style=\"fill:#008100; stroke:none; fill-opacity:1\" cx=\"413.222\" cy=\"315.952\" r=\"2\"/>\n",
       "<circle clip-path=\"url(#clip02)\" style=\"fill:#00002d; stroke:none; fill-opacity:1\" cx=\"422.013\" cy=\"307.603\" r=\"3\"/>\n",
       "<circle clip-path=\"url(#clip02)\" style=\"fill:#008100; stroke:none; fill-opacity:1\" cx=\"422.013\" cy=\"307.603\" r=\"2\"/>\n",
       "<circle clip-path=\"url(#clip02)\" style=\"fill:#00002d; stroke:none; fill-opacity:1\" cx=\"430.803\" cy=\"298.528\" r=\"3\"/>\n",
       "<circle clip-path=\"url(#clip02)\" style=\"fill:#008100; stroke:none; fill-opacity:1\" cx=\"430.803\" cy=\"298.528\" r=\"2\"/>\n",
       "<circle clip-path=\"url(#clip02)\" style=\"fill:#00002d; stroke:none; fill-opacity:1\" cx=\"439.594\" cy=\"288.727\" r=\"3\"/>\n",
       "<circle clip-path=\"url(#clip02)\" style=\"fill:#008100; stroke:none; fill-opacity:1\" cx=\"439.594\" cy=\"288.727\" r=\"2\"/>\n",
       "<circle clip-path=\"url(#clip02)\" style=\"fill:#00002d; stroke:none; fill-opacity:1\" cx=\"448.384\" cy=\"278.201\" r=\"3\"/>\n",
       "<circle clip-path=\"url(#clip02)\" style=\"fill:#008100; stroke:none; fill-opacity:1\" cx=\"448.384\" cy=\"278.201\" r=\"2\"/>\n",
       "<circle clip-path=\"url(#clip02)\" style=\"fill:#00002d; stroke:none; fill-opacity:1\" cx=\"457.174\" cy=\"266.948\" r=\"3\"/>\n",
       "<circle clip-path=\"url(#clip02)\" style=\"fill:#008100; stroke:none; fill-opacity:1\" cx=\"457.174\" cy=\"266.948\" r=\"2\"/>\n",
       "<circle clip-path=\"url(#clip02)\" style=\"fill:#00002d; stroke:none; fill-opacity:1\" cx=\"465.965\" cy=\"254.969\" r=\"3\"/>\n",
       "<circle clip-path=\"url(#clip02)\" style=\"fill:#008100; stroke:none; fill-opacity:1\" cx=\"465.965\" cy=\"254.969\" r=\"2\"/>\n",
       "<circle clip-path=\"url(#clip02)\" style=\"fill:#00002d; stroke:none; fill-opacity:1\" cx=\"474.755\" cy=\"242.265\" r=\"3\"/>\n",
       "<circle clip-path=\"url(#clip02)\" style=\"fill:#008100; stroke:none; fill-opacity:1\" cx=\"474.755\" cy=\"242.265\" r=\"2\"/>\n",
       "<circle clip-path=\"url(#clip02)\" style=\"fill:#00002d; stroke:none; fill-opacity:1\" cx=\"483.546\" cy=\"228.834\" r=\"3\"/>\n",
       "<circle clip-path=\"url(#clip02)\" style=\"fill:#008100; stroke:none; fill-opacity:1\" cx=\"483.546\" cy=\"228.834\" r=\"2\"/>\n",
       "<circle clip-path=\"url(#clip02)\" style=\"fill:#00002d; stroke:none; fill-opacity:1\" cx=\"492.336\" cy=\"214.677\" r=\"3\"/>\n",
       "<circle clip-path=\"url(#clip02)\" style=\"fill:#008100; stroke:none; fill-opacity:1\" cx=\"492.336\" cy=\"214.677\" r=\"2\"/>\n",
       "<circle clip-path=\"url(#clip02)\" style=\"fill:#00002d; stroke:none; fill-opacity:1\" cx=\"501.127\" cy=\"199.795\" r=\"3\"/>\n",
       "<circle clip-path=\"url(#clip02)\" style=\"fill:#008100; stroke:none; fill-opacity:1\" cx=\"501.127\" cy=\"199.795\" r=\"2\"/>\n",
       "<circle clip-path=\"url(#clip02)\" style=\"fill:#00002d; stroke:none; fill-opacity:1\" cx=\"509.917\" cy=\"184.186\" r=\"3\"/>\n",
       "<circle clip-path=\"url(#clip02)\" style=\"fill:#008100; stroke:none; fill-opacity:1\" cx=\"509.917\" cy=\"184.186\" r=\"2\"/>\n",
       "<circle clip-path=\"url(#clip02)\" style=\"fill:#00002d; stroke:none; fill-opacity:1\" cx=\"518.707\" cy=\"167.852\" r=\"3\"/>\n",
       "<circle clip-path=\"url(#clip02)\" style=\"fill:#008100; stroke:none; fill-opacity:1\" cx=\"518.707\" cy=\"167.852\" r=\"2\"/>\n",
       "<circle clip-path=\"url(#clip02)\" style=\"fill:#00002d; stroke:none; fill-opacity:1\" cx=\"527.498\" cy=\"150.791\" r=\"3\"/>\n",
       "<circle clip-path=\"url(#clip02)\" style=\"fill:#008100; stroke:none; fill-opacity:1\" cx=\"527.498\" cy=\"150.791\" r=\"2\"/>\n",
       "<circle clip-path=\"url(#clip02)\" style=\"fill:#00002d; stroke:none; fill-opacity:1\" cx=\"536.288\" cy=\"133.004\" r=\"3\"/>\n",
       "<circle clip-path=\"url(#clip02)\" style=\"fill:#008100; stroke:none; fill-opacity:1\" cx=\"536.288\" cy=\"133.004\" r=\"2\"/>\n",
       "<circle clip-path=\"url(#clip02)\" style=\"fill:#00002d; stroke:none; fill-opacity:1\" cx=\"545.079\" cy=\"114.492\" r=\"3\"/>\n",
       "<circle clip-path=\"url(#clip02)\" style=\"fill:#008100; stroke:none; fill-opacity:1\" cx=\"545.079\" cy=\"114.492\" r=\"2\"/>\n",
       "<circle clip-path=\"url(#clip02)\" style=\"fill:#00002d; stroke:none; fill-opacity:1\" cx=\"553.869\" cy=\"95.2535\" r=\"3\"/>\n",
       "<circle clip-path=\"url(#clip02)\" style=\"fill:#008100; stroke:none; fill-opacity:1\" cx=\"553.869\" cy=\"95.2535\" r=\"2\"/>\n",
       "<circle clip-path=\"url(#clip02)\" style=\"fill:#00002d; stroke:none; fill-opacity:1\" cx=\"562.659\" cy=\"75.2891\" r=\"3\"/>\n",
       "<circle clip-path=\"url(#clip02)\" style=\"fill:#008100; stroke:none; fill-opacity:1\" cx=\"562.659\" cy=\"75.2891\" r=\"2\"/>\n",
       "<circle clip-path=\"url(#clip02)\" style=\"fill:#00002d; stroke:none; fill-opacity:1\" cx=\"571.45\" cy=\"54.5986\" r=\"3\"/>\n",
       "<circle clip-path=\"url(#clip02)\" style=\"fill:#008100; stroke:none; fill-opacity:1\" cx=\"571.45\" cy=\"54.5986\" r=\"2\"/>\n",
       "<circle clip-path=\"url(#clip02)\" style=\"fill:#00002d; stroke:none; fill-opacity:1\" cx=\"580.24\" cy=\"33.1822\" r=\"3\"/>\n",
       "<circle clip-path=\"url(#clip02)\" style=\"fill:#008100; stroke:none; fill-opacity:1\" cx=\"580.24\" cy=\"33.1822\" r=\"2\"/>\n",
       "<polygon clip-path=\"url(#clip00)\" points=\"\n",
       "487.118,74.5015 578.063,74.5015 578.063,44.2615 487.118,44.2615 \n",
       "  \" fill=\"#ffffff\" fill-opacity=\"1\"/>\n",
       "<polyline clip-path=\"url(#clip00)\" style=\"stroke:#00002d; stroke-width:0.8; stroke-opacity:1; fill:none\" points=\"\n",
       "  487.118,74.5015 578.063,74.5015 578.063,44.2615 487.118,44.2615 487.118,74.5015 \n",
       "  \"/>\n",
       "<polyline clip-path=\"url(#clip00)\" style=\"stroke:#ff0000; stroke-width:0.8; stroke-opacity:1; fill:none\" points=\"\n",
       "  493.118,59.3815 529.118,59.3815 \n",
       "  \"/>\n",
       "<circle clip-path=\"url(#clip00)\" style=\"fill:#00002d; stroke:none; fill-opacity:1\" cx=\"499.118\" cy=\"59.3815\" r=\"7\"/>\n",
       "<circle clip-path=\"url(#clip00)\" style=\"fill:#008100; stroke:none; fill-opacity:1\" cx=\"499.118\" cy=\"59.3815\" r=\"7\"/>\n",
       "<circle clip-path=\"url(#clip00)\" style=\"fill:#00002d; stroke:none; fill-opacity:1\" cx=\"523.118\" cy=\"59.3815\" r=\"7\"/>\n",
       "<circle clip-path=\"url(#clip00)\" style=\"fill:#008100; stroke:none; fill-opacity:1\" cx=\"523.118\" cy=\"59.3815\" r=\"7\"/>\n",
       "<g clip-path=\"url(#clip00)\">\n",
       "<text style=\"fill:#00002d; fill-opacity:1; font-family:Arial,Helvetica Neue,Helvetica,sans-serif; font-size:12; text-anchor:start;\" transform=\"rotate(0, 535.118, 63.8815)\" x=\"535.118\" y=\"63.8815\">Collar</text>\n",
       "</g>\n",
       "</svg>\n"
      ]
     },
     "execution_count": 22,
     "metadata": {},
     "output_type": "execute_result"
    }
   ],
   "source": [
    "# Si todos los incisos se refieren a la misma gráfica los puedes hacer en una celda.\n",
    "\n",
    "x = collect(-3:0.1:3) # collect() convierte el rango a un arreglo.\n",
    "y = [3X^2 - 2 for X in x]\n",
    "plot(x,y, linecolor=:red, label=\"Collar\", markershape=:circle, markercolor=:green)\n",
    "title!(\"Parábola\")\n",
    "xlabel!(\"x\")\n",
    "ylabel!(\"y\")"
   ]
  },
  {
   "cell_type": "code",
   "execution_count": 23,
   "metadata": {
    "collapsed": false
   },
   "outputs": [
    {
     "data": {
      "text/html": [
       "<?xml version=\"1.0\" encoding=\"utf-8\"?>\n",
       "<svg xmlns=\"http://www.w3.org/2000/svg\" xmlns:xlink=\"http://www.w3.org/1999/xlink\" width=\"600\" height=\"400\" viewBox=\"0 0 600 400\">\n",
       "<defs>\n",
       "  <clipPath id=\"clip00\">\n",
       "    <rect x=\"0\" y=\"0\" width=\"600\" height=\"400\"/>\n",
       "  </clipPath>\n",
       "</defs>\n",
       "<polygon clip-path=\"url(#clip00)\" points=\"\n",
       "0,400 600,400 600,0 0,0 \n",
       "  \" fill=\"#ffffff\" fill-opacity=\"1\"/>\n",
       "<defs>\n",
       "  <clipPath id=\"clip01\">\n",
       "    <rect x=\"120\" y=\"0\" width=\"421\" height=\"400\"/>\n",
       "  </clipPath>\n",
       "</defs>\n",
       "<polygon clip-path=\"url(#clip00)\" points=\"\n",
       "36.9926,369.674 596.063,369.674 596.063,23.3815 36.9926,23.3815 \n",
       "  \" fill=\"#ffffff\" fill-opacity=\"1\"/>\n",
       "<defs>\n",
       "  <clipPath id=\"clip02\">\n",
       "    <rect x=\"36\" y=\"23\" width=\"560\" height=\"347\"/>\n",
       "  </clipPath>\n",
       "</defs>\n",
       "<polyline clip-path=\"url(#clip02)\" style=\"stroke:#00002d; stroke-width:0.8; stroke-opacity:0.5; fill:none\" stroke-dasharray=\"1, 2\" points=\"\n",
       "  140.719,364.48 140.719,28.5758 \n",
       "  \"/>\n",
       "<polyline clip-path=\"url(#clip02)\" style=\"stroke:#00002d; stroke-width:0.8; stroke-opacity:0.5; fill:none\" stroke-dasharray=\"1, 2\" points=\"\n",
       "  316.528,364.48 316.528,28.5758 \n",
       "  \"/>\n",
       "<polyline clip-path=\"url(#clip02)\" style=\"stroke:#00002d; stroke-width:0.8; stroke-opacity:0.5; fill:none\" stroke-dasharray=\"1, 2\" points=\"\n",
       "  492.336,364.48 492.336,28.5758 \n",
       "  \"/>\n",
       "<polyline clip-path=\"url(#clip02)\" style=\"stroke:#00002d; stroke-width:0.8; stroke-opacity:0.5; fill:none\" stroke-dasharray=\"1, 2\" points=\"\n",
       "  45.3786,335.674 587.677,335.674 \n",
       "  \"/>\n",
       "<polyline clip-path=\"url(#clip02)\" style=\"stroke:#00002d; stroke-width:0.8; stroke-opacity:0.5; fill:none\" stroke-dasharray=\"1, 2\" points=\"\n",
       "  45.3786,214.677 587.677,214.677 \n",
       "  \"/>\n",
       "<polyline clip-path=\"url(#clip02)\" style=\"stroke:#00002d; stroke-width:0.8; stroke-opacity:0.5; fill:none\" stroke-dasharray=\"1, 2\" points=\"\n",
       "  45.3786,93.6806 587.677,93.6806 \n",
       "  \"/>\n",
       "<polyline clip-path=\"url(#clip02)\" style=\"stroke:#00002d; stroke-width:0.8; stroke-opacity:1; fill:none\" points=\"\n",
       "  36.9926,369.674 596.063,369.674 \n",
       "  \"/>\n",
       "<polyline clip-path=\"url(#clip02)\" style=\"stroke:#00002d; stroke-width:0.8; stroke-opacity:1; fill:none\" points=\"\n",
       "  140.719,369.674 140.719,364.48 \n",
       "  \"/>\n",
       "<polyline clip-path=\"url(#clip02)\" style=\"stroke:#00002d; stroke-width:0.8; stroke-opacity:1; fill:none\" points=\"\n",
       "  316.528,369.674 316.528,364.48 \n",
       "  \"/>\n",
       "<polyline clip-path=\"url(#clip02)\" style=\"stroke:#00002d; stroke-width:0.8; stroke-opacity:1; fill:none\" points=\"\n",
       "  492.336,369.674 492.336,364.48 \n",
       "  \"/>\n",
       "<polyline clip-path=\"url(#clip02)\" style=\"stroke:#00002d; stroke-width:0.8; stroke-opacity:1; fill:none\" points=\"\n",
       "  36.9926,369.674 36.9926,23.3815 \n",
       "  \"/>\n",
       "<polyline clip-path=\"url(#clip02)\" style=\"stroke:#00002d; stroke-width:0.8; stroke-opacity:1; fill:none\" points=\"\n",
       "  36.9926,335.674 45.3786,335.674 \n",
       "  \"/>\n",
       "<polyline clip-path=\"url(#clip02)\" style=\"stroke:#00002d; stroke-width:0.8; stroke-opacity:1; fill:none\" points=\"\n",
       "  36.9926,214.677 45.3786,214.677 \n",
       "  \"/>\n",
       "<polyline clip-path=\"url(#clip02)\" style=\"stroke:#00002d; stroke-width:0.8; stroke-opacity:1; fill:none\" points=\"\n",
       "  36.9926,93.6806 45.3786,93.6806 \n",
       "  \"/>\n",
       "<g clip-path=\"url(#clip00)\">\n",
       "<text style=\"fill:#00002d; fill-opacity:1; font-family:Arial,Helvetica Neue,Helvetica,sans-serif; font-size:12; text-anchor:middle;\" transform=\"rotate(0, 140.719, 381.674)\" x=\"140.719\" y=\"381.674\">-2</text>\n",
       "</g>\n",
       "<g clip-path=\"url(#clip00)\">\n",
       "<text style=\"fill:#00002d; fill-opacity:1; font-family:Arial,Helvetica Neue,Helvetica,sans-serif; font-size:12; text-anchor:middle;\" transform=\"rotate(0, 316.528, 381.674)\" x=\"316.528\" y=\"381.674\">0</text>\n",
       "</g>\n",
       "<g clip-path=\"url(#clip00)\">\n",
       "<text style=\"fill:#00002d; fill-opacity:1; font-family:Arial,Helvetica Neue,Helvetica,sans-serif; font-size:12; text-anchor:middle;\" transform=\"rotate(0, 492.336, 381.674)\" x=\"492.336\" y=\"381.674\">2</text>\n",
       "</g>\n",
       "<g clip-path=\"url(#clip00)\">\n",
       "<text style=\"fill:#00002d; fill-opacity:1; font-family:Arial,Helvetica Neue,Helvetica,sans-serif; font-size:12; text-anchor:end;\" transform=\"rotate(0, 35.7926, 340.174)\" x=\"35.7926\" y=\"340.174\">0</text>\n",
       "</g>\n",
       "<g clip-path=\"url(#clip00)\">\n",
       "<text style=\"fill:#00002d; fill-opacity:1; font-family:Arial,Helvetica Neue,Helvetica,sans-serif; font-size:12; text-anchor:end;\" transform=\"rotate(0, 35.7926, 219.177)\" x=\"35.7926\" y=\"219.177\">10</text>\n",
       "</g>\n",
       "<g clip-path=\"url(#clip00)\">\n",
       "<text style=\"fill:#00002d; fill-opacity:1; font-family:Arial,Helvetica Neue,Helvetica,sans-serif; font-size:12; text-anchor:end;\" transform=\"rotate(0, 35.7926, 98.1806)\" x=\"35.7926\" y=\"98.1806\">20</text>\n",
       "</g>\n",
       "<g clip-path=\"url(#clip00)\">\n",
       "<text style=\"fill:#00002d; fill-opacity:1; font-family:Arial,Helvetica Neue,Helvetica,sans-serif; font-size:21; text-anchor:middle;\" transform=\"rotate(0, 316.528, 18)\" x=\"316.528\" y=\"18\">Parábola</text>\n",
       "</g>\n",
       "<g clip-path=\"url(#clip00)\">\n",
       "<text style=\"fill:#00002d; fill-opacity:1; font-family:Arial,Helvetica Neue,Helvetica,sans-serif; font-size:16; text-anchor:middle;\" transform=\"rotate(0, 316.528, 397.6)\" x=\"316.528\" y=\"397.6\">Argumento</text>\n",
       "</g>\n",
       "<g clip-path=\"url(#clip00)\">\n",
       "<text style=\"fill:#00002d; fill-opacity:1; font-family:Arial,Helvetica Neue,Helvetica,sans-serif; font-size:16; text-anchor:middle;\" transform=\"rotate(-90, 14.4, 196.528)\" x=\"14.4\" y=\"196.528\">Imagen</text>\n",
       "</g>\n",
       "<polyline clip-path=\"url(#clip02)\" style=\"stroke:#ff0000; stroke-width:0.8; stroke-opacity:1; fill:none\" points=\"\n",
       "  52.8153,33.1822 61.6057,54.5986 70.3961,75.2891 79.1866,95.2535 87.977,114.492 96.7674,133.004 105.558,150.791 114.348,167.852 123.139,184.186 131.929,199.795 \n",
       "  140.719,214.677 149.51,228.834 158.3,242.265 167.091,254.969 175.881,266.948 184.672,278.201 193.462,288.727 202.252,298.528 211.043,307.603 219.833,315.952 \n",
       "  228.624,323.574 237.414,330.471 246.204,336.642 254.995,342.087 263.785,346.806 272.576,350.799 281.366,354.066 290.157,356.606 298.947,358.421 307.737,359.51 \n",
       "  316.528,359.873 325.318,359.51 334.109,358.421 342.899,356.606 351.689,354.066 360.48,350.799 369.27,346.806 378.061,342.087 386.851,336.642 395.642,330.471 \n",
       "  404.432,323.574 413.222,315.952 422.013,307.603 430.803,298.528 439.594,288.727 448.384,278.201 457.174,266.948 465.965,254.969 474.755,242.265 483.546,228.834 \n",
       "  492.336,214.677 501.127,199.795 509.917,184.186 518.707,167.852 527.498,150.791 536.288,133.004 545.079,114.492 553.869,95.2535 562.659,75.2891 571.45,54.5986 \n",
       "  580.24,33.1822 \n",
       "  \"/>\n",
       "<circle clip-path=\"url(#clip02)\" style=\"fill:#00002d; stroke:none; fill-opacity:1\" cx=\"52.8153\" cy=\"33.1822\" r=\"4\"/>\n",
       "<circle clip-path=\"url(#clip02)\" style=\"fill:#008100; stroke:none; fill-opacity:1\" cx=\"52.8153\" cy=\"33.1822\" r=\"3\"/>\n",
       "<circle clip-path=\"url(#clip02)\" style=\"fill:#00002d; stroke:none; fill-opacity:1\" cx=\"61.6057\" cy=\"54.5986\" r=\"4\"/>\n",
       "<circle clip-path=\"url(#clip02)\" style=\"fill:#008100; stroke:none; fill-opacity:1\" cx=\"61.6057\" cy=\"54.5986\" r=\"3\"/>\n",
       "<circle clip-path=\"url(#clip02)\" style=\"fill:#00002d; stroke:none; fill-opacity:1\" cx=\"70.3961\" cy=\"75.2891\" r=\"4\"/>\n",
       "<circle clip-path=\"url(#clip02)\" style=\"fill:#008100; stroke:none; fill-opacity:1\" cx=\"70.3961\" cy=\"75.2891\" r=\"3\"/>\n",
       "<circle clip-path=\"url(#clip02)\" style=\"fill:#00002d; stroke:none; fill-opacity:1\" cx=\"79.1866\" cy=\"95.2535\" r=\"4\"/>\n",
       "<circle clip-path=\"url(#clip02)\" style=\"fill:#008100; stroke:none; fill-opacity:1\" cx=\"79.1866\" cy=\"95.2535\" r=\"3\"/>\n",
       "<circle clip-path=\"url(#clip02)\" style=\"fill:#00002d; stroke:none; fill-opacity:1\" cx=\"87.977\" cy=\"114.492\" r=\"4\"/>\n",
       "<circle clip-path=\"url(#clip02)\" style=\"fill:#008100; stroke:none; fill-opacity:1\" cx=\"87.977\" cy=\"114.492\" r=\"3\"/>\n",
       "<circle clip-path=\"url(#clip02)\" style=\"fill:#00002d; stroke:none; fill-opacity:1\" cx=\"96.7674\" cy=\"133.004\" r=\"4\"/>\n",
       "<circle clip-path=\"url(#clip02)\" style=\"fill:#008100; stroke:none; fill-opacity:1\" cx=\"96.7674\" cy=\"133.004\" r=\"3\"/>\n",
       "<circle clip-path=\"url(#clip02)\" style=\"fill:#00002d; stroke:none; fill-opacity:1\" cx=\"105.558\" cy=\"150.791\" r=\"4\"/>\n",
       "<circle clip-path=\"url(#clip02)\" style=\"fill:#008100; stroke:none; fill-opacity:1\" cx=\"105.558\" cy=\"150.791\" r=\"3\"/>\n",
       "<circle clip-path=\"url(#clip02)\" style=\"fill:#00002d; stroke:none; fill-opacity:1\" cx=\"114.348\" cy=\"167.852\" r=\"4\"/>\n",
       "<circle clip-path=\"url(#clip02)\" style=\"fill:#008100; stroke:none; fill-opacity:1\" cx=\"114.348\" cy=\"167.852\" r=\"3\"/>\n",
       "<circle clip-path=\"url(#clip02)\" style=\"fill:#00002d; stroke:none; fill-opacity:1\" cx=\"123.139\" cy=\"184.186\" r=\"4\"/>\n",
       "<circle clip-path=\"url(#clip02)\" style=\"fill:#008100; stroke:none; fill-opacity:1\" cx=\"123.139\" cy=\"184.186\" r=\"3\"/>\n",
       "<circle clip-path=\"url(#clip02)\" style=\"fill:#00002d; stroke:none; fill-opacity:1\" cx=\"131.929\" cy=\"199.795\" r=\"4\"/>\n",
       "<circle clip-path=\"url(#clip02)\" style=\"fill:#008100; stroke:none; fill-opacity:1\" cx=\"131.929\" cy=\"199.795\" r=\"3\"/>\n",
       "<circle clip-path=\"url(#clip02)\" style=\"fill:#00002d; stroke:none; fill-opacity:1\" cx=\"140.719\" cy=\"214.677\" r=\"4\"/>\n",
       "<circle clip-path=\"url(#clip02)\" style=\"fill:#008100; stroke:none; fill-opacity:1\" cx=\"140.719\" cy=\"214.677\" r=\"3\"/>\n",
       "<circle clip-path=\"url(#clip02)\" style=\"fill:#00002d; stroke:none; fill-opacity:1\" cx=\"149.51\" cy=\"228.834\" r=\"4\"/>\n",
       "<circle clip-path=\"url(#clip02)\" style=\"fill:#008100; stroke:none; fill-opacity:1\" cx=\"149.51\" cy=\"228.834\" r=\"3\"/>\n",
       "<circle clip-path=\"url(#clip02)\" style=\"fill:#00002d; stroke:none; fill-opacity:1\" cx=\"158.3\" cy=\"242.265\" r=\"4\"/>\n",
       "<circle clip-path=\"url(#clip02)\" style=\"fill:#008100; stroke:none; fill-opacity:1\" cx=\"158.3\" cy=\"242.265\" r=\"3\"/>\n",
       "<circle clip-path=\"url(#clip02)\" style=\"fill:#00002d; stroke:none; fill-opacity:1\" cx=\"167.091\" cy=\"254.969\" r=\"4\"/>\n",
       "<circle clip-path=\"url(#clip02)\" style=\"fill:#008100; stroke:none; fill-opacity:1\" cx=\"167.091\" cy=\"254.969\" r=\"3\"/>\n",
       "<circle clip-path=\"url(#clip02)\" style=\"fill:#00002d; stroke:none; fill-opacity:1\" cx=\"175.881\" cy=\"266.948\" r=\"4\"/>\n",
       "<circle clip-path=\"url(#clip02)\" style=\"fill:#008100; stroke:none; fill-opacity:1\" cx=\"175.881\" cy=\"266.948\" r=\"3\"/>\n",
       "<circle clip-path=\"url(#clip02)\" style=\"fill:#00002d; stroke:none; fill-opacity:1\" cx=\"184.672\" cy=\"278.201\" r=\"4\"/>\n",
       "<circle clip-path=\"url(#clip02)\" style=\"fill:#008100; stroke:none; fill-opacity:1\" cx=\"184.672\" cy=\"278.201\" r=\"3\"/>\n",
       "<circle clip-path=\"url(#clip02)\" style=\"fill:#00002d; stroke:none; fill-opacity:1\" cx=\"193.462\" cy=\"288.727\" r=\"4\"/>\n",
       "<circle clip-path=\"url(#clip02)\" style=\"fill:#008100; stroke:none; fill-opacity:1\" cx=\"193.462\" cy=\"288.727\" r=\"3\"/>\n",
       "<circle clip-path=\"url(#clip02)\" style=\"fill:#00002d; stroke:none; fill-opacity:1\" cx=\"202.252\" cy=\"298.528\" r=\"4\"/>\n",
       "<circle clip-path=\"url(#clip02)\" style=\"fill:#008100; stroke:none; fill-opacity:1\" cx=\"202.252\" cy=\"298.528\" r=\"3\"/>\n",
       "<circle clip-path=\"url(#clip02)\" style=\"fill:#00002d; stroke:none; fill-opacity:1\" cx=\"211.043\" cy=\"307.603\" r=\"4\"/>\n",
       "<circle clip-path=\"url(#clip02)\" style=\"fill:#008100; stroke:none; fill-opacity:1\" cx=\"211.043\" cy=\"307.603\" r=\"3\"/>\n",
       "<circle clip-path=\"url(#clip02)\" style=\"fill:#00002d; stroke:none; fill-opacity:1\" cx=\"219.833\" cy=\"315.952\" r=\"4\"/>\n",
       "<circle clip-path=\"url(#clip02)\" style=\"fill:#008100; stroke:none; fill-opacity:1\" cx=\"219.833\" cy=\"315.952\" r=\"3\"/>\n",
       "<circle clip-path=\"url(#clip02)\" style=\"fill:#00002d; stroke:none; fill-opacity:1\" cx=\"228.624\" cy=\"323.574\" r=\"4\"/>\n",
       "<circle clip-path=\"url(#clip02)\" style=\"fill:#008100; stroke:none; fill-opacity:1\" cx=\"228.624\" cy=\"323.574\" r=\"3\"/>\n",
       "<circle clip-path=\"url(#clip02)\" style=\"fill:#00002d; stroke:none; fill-opacity:1\" cx=\"237.414\" cy=\"330.471\" r=\"4\"/>\n",
       "<circle clip-path=\"url(#clip02)\" style=\"fill:#008100; stroke:none; fill-opacity:1\" cx=\"237.414\" cy=\"330.471\" r=\"3\"/>\n",
       "<circle clip-path=\"url(#clip02)\" style=\"fill:#00002d; stroke:none; fill-opacity:1\" cx=\"246.204\" cy=\"336.642\" r=\"4\"/>\n",
       "<circle clip-path=\"url(#clip02)\" style=\"fill:#008100; stroke:none; fill-opacity:1\" cx=\"246.204\" cy=\"336.642\" r=\"3\"/>\n",
       "<circle clip-path=\"url(#clip02)\" style=\"fill:#00002d; stroke:none; fill-opacity:1\" cx=\"254.995\" cy=\"342.087\" r=\"4\"/>\n",
       "<circle clip-path=\"url(#clip02)\" style=\"fill:#008100; stroke:none; fill-opacity:1\" cx=\"254.995\" cy=\"342.087\" r=\"3\"/>\n",
       "<circle clip-path=\"url(#clip02)\" style=\"fill:#00002d; stroke:none; fill-opacity:1\" cx=\"263.785\" cy=\"346.806\" r=\"4\"/>\n",
       "<circle clip-path=\"url(#clip02)\" style=\"fill:#008100; stroke:none; fill-opacity:1\" cx=\"263.785\" cy=\"346.806\" r=\"3\"/>\n",
       "<circle clip-path=\"url(#clip02)\" style=\"fill:#00002d; stroke:none; fill-opacity:1\" cx=\"272.576\" cy=\"350.799\" r=\"4\"/>\n",
       "<circle clip-path=\"url(#clip02)\" style=\"fill:#008100; stroke:none; fill-opacity:1\" cx=\"272.576\" cy=\"350.799\" r=\"3\"/>\n",
       "<circle clip-path=\"url(#clip02)\" style=\"fill:#00002d; stroke:none; fill-opacity:1\" cx=\"281.366\" cy=\"354.066\" r=\"4\"/>\n",
       "<circle clip-path=\"url(#clip02)\" style=\"fill:#008100; stroke:none; fill-opacity:1\" cx=\"281.366\" cy=\"354.066\" r=\"3\"/>\n",
       "<circle clip-path=\"url(#clip02)\" style=\"fill:#00002d; stroke:none; fill-opacity:1\" cx=\"290.157\" cy=\"356.606\" r=\"4\"/>\n",
       "<circle clip-path=\"url(#clip02)\" style=\"fill:#008100; stroke:none; fill-opacity:1\" cx=\"290.157\" cy=\"356.606\" r=\"3\"/>\n",
       "<circle clip-path=\"url(#clip02)\" style=\"fill:#00002d; stroke:none; fill-opacity:1\" cx=\"298.947\" cy=\"358.421\" r=\"4\"/>\n",
       "<circle clip-path=\"url(#clip02)\" style=\"fill:#008100; stroke:none; fill-opacity:1\" cx=\"298.947\" cy=\"358.421\" r=\"3\"/>\n",
       "<circle clip-path=\"url(#clip02)\" style=\"fill:#00002d; stroke:none; fill-opacity:1\" cx=\"307.737\" cy=\"359.51\" r=\"4\"/>\n",
       "<circle clip-path=\"url(#clip02)\" style=\"fill:#008100; stroke:none; fill-opacity:1\" cx=\"307.737\" cy=\"359.51\" r=\"3\"/>\n",
       "<circle clip-path=\"url(#clip02)\" style=\"fill:#00002d; stroke:none; fill-opacity:1\" cx=\"316.528\" cy=\"359.873\" r=\"4\"/>\n",
       "<circle clip-path=\"url(#clip02)\" style=\"fill:#008100; stroke:none; fill-opacity:1\" cx=\"316.528\" cy=\"359.873\" r=\"3\"/>\n",
       "<circle clip-path=\"url(#clip02)\" style=\"fill:#00002d; stroke:none; fill-opacity:1\" cx=\"325.318\" cy=\"359.51\" r=\"4\"/>\n",
       "<circle clip-path=\"url(#clip02)\" style=\"fill:#008100; stroke:none; fill-opacity:1\" cx=\"325.318\" cy=\"359.51\" r=\"3\"/>\n",
       "<circle clip-path=\"url(#clip02)\" style=\"fill:#00002d; stroke:none; fill-opacity:1\" cx=\"334.109\" cy=\"358.421\" r=\"4\"/>\n",
       "<circle clip-path=\"url(#clip02)\" style=\"fill:#008100; stroke:none; fill-opacity:1\" cx=\"334.109\" cy=\"358.421\" r=\"3\"/>\n",
       "<circle clip-path=\"url(#clip02)\" style=\"fill:#00002d; stroke:none; fill-opacity:1\" cx=\"342.899\" cy=\"356.606\" r=\"4\"/>\n",
       "<circle clip-path=\"url(#clip02)\" style=\"fill:#008100; stroke:none; fill-opacity:1\" cx=\"342.899\" cy=\"356.606\" r=\"3\"/>\n",
       "<circle clip-path=\"url(#clip02)\" style=\"fill:#00002d; stroke:none; fill-opacity:1\" cx=\"351.689\" cy=\"354.066\" r=\"4\"/>\n",
       "<circle clip-path=\"url(#clip02)\" style=\"fill:#008100; stroke:none; fill-opacity:1\" cx=\"351.689\" cy=\"354.066\" r=\"3\"/>\n",
       "<circle clip-path=\"url(#clip02)\" style=\"fill:#00002d; stroke:none; fill-opacity:1\" cx=\"360.48\" cy=\"350.799\" r=\"4\"/>\n",
       "<circle clip-path=\"url(#clip02)\" style=\"fill:#008100; stroke:none; fill-opacity:1\" cx=\"360.48\" cy=\"350.799\" r=\"3\"/>\n",
       "<circle clip-path=\"url(#clip02)\" style=\"fill:#00002d; stroke:none; fill-opacity:1\" cx=\"369.27\" cy=\"346.806\" r=\"4\"/>\n",
       "<circle clip-path=\"url(#clip02)\" style=\"fill:#008100; stroke:none; fill-opacity:1\" cx=\"369.27\" cy=\"346.806\" r=\"3\"/>\n",
       "<circle clip-path=\"url(#clip02)\" style=\"fill:#00002d; stroke:none; fill-opacity:1\" cx=\"378.061\" cy=\"342.087\" r=\"4\"/>\n",
       "<circle clip-path=\"url(#clip02)\" style=\"fill:#008100; stroke:none; fill-opacity:1\" cx=\"378.061\" cy=\"342.087\" r=\"3\"/>\n",
       "<circle clip-path=\"url(#clip02)\" style=\"fill:#00002d; stroke:none; fill-opacity:1\" cx=\"386.851\" cy=\"336.642\" r=\"4\"/>\n",
       "<circle clip-path=\"url(#clip02)\" style=\"fill:#008100; stroke:none; fill-opacity:1\" cx=\"386.851\" cy=\"336.642\" r=\"3\"/>\n",
       "<circle clip-path=\"url(#clip02)\" style=\"fill:#00002d; stroke:none; fill-opacity:1\" cx=\"395.642\" cy=\"330.471\" r=\"4\"/>\n",
       "<circle clip-path=\"url(#clip02)\" style=\"fill:#008100; stroke:none; fill-opacity:1\" cx=\"395.642\" cy=\"330.471\" r=\"3\"/>\n",
       "<circle clip-path=\"url(#clip02)\" style=\"fill:#00002d; stroke:none; fill-opacity:1\" cx=\"404.432\" cy=\"323.574\" r=\"4\"/>\n",
       "<circle clip-path=\"url(#clip02)\" style=\"fill:#008100; stroke:none; fill-opacity:1\" cx=\"404.432\" cy=\"323.574\" r=\"3\"/>\n",
       "<circle clip-path=\"url(#clip02)\" style=\"fill:#00002d; stroke:none; fill-opacity:1\" cx=\"413.222\" cy=\"315.952\" r=\"4\"/>\n",
       "<circle clip-path=\"url(#clip02)\" style=\"fill:#008100; stroke:none; fill-opacity:1\" cx=\"413.222\" cy=\"315.952\" r=\"3\"/>\n",
       "<circle clip-path=\"url(#clip02)\" style=\"fill:#00002d; stroke:none; fill-opacity:1\" cx=\"422.013\" cy=\"307.603\" r=\"4\"/>\n",
       "<circle clip-path=\"url(#clip02)\" style=\"fill:#008100; stroke:none; fill-opacity:1\" cx=\"422.013\" cy=\"307.603\" r=\"3\"/>\n",
       "<circle clip-path=\"url(#clip02)\" style=\"fill:#00002d; stroke:none; fill-opacity:1\" cx=\"430.803\" cy=\"298.528\" r=\"4\"/>\n",
       "<circle clip-path=\"url(#clip02)\" style=\"fill:#008100; stroke:none; fill-opacity:1\" cx=\"430.803\" cy=\"298.528\" r=\"3\"/>\n",
       "<circle clip-path=\"url(#clip02)\" style=\"fill:#00002d; stroke:none; fill-opacity:1\" cx=\"439.594\" cy=\"288.727\" r=\"4\"/>\n",
       "<circle clip-path=\"url(#clip02)\" style=\"fill:#008100; stroke:none; fill-opacity:1\" cx=\"439.594\" cy=\"288.727\" r=\"3\"/>\n",
       "<circle clip-path=\"url(#clip02)\" style=\"fill:#00002d; stroke:none; fill-opacity:1\" cx=\"448.384\" cy=\"278.201\" r=\"4\"/>\n",
       "<circle clip-path=\"url(#clip02)\" style=\"fill:#008100; stroke:none; fill-opacity:1\" cx=\"448.384\" cy=\"278.201\" r=\"3\"/>\n",
       "<circle clip-path=\"url(#clip02)\" style=\"fill:#00002d; stroke:none; fill-opacity:1\" cx=\"457.174\" cy=\"266.948\" r=\"4\"/>\n",
       "<circle clip-path=\"url(#clip02)\" style=\"fill:#008100; stroke:none; fill-opacity:1\" cx=\"457.174\" cy=\"266.948\" r=\"3\"/>\n",
       "<circle clip-path=\"url(#clip02)\" style=\"fill:#00002d; stroke:none; fill-opacity:1\" cx=\"465.965\" cy=\"254.969\" r=\"4\"/>\n",
       "<circle clip-path=\"url(#clip02)\" style=\"fill:#008100; stroke:none; fill-opacity:1\" cx=\"465.965\" cy=\"254.969\" r=\"3\"/>\n",
       "<circle clip-path=\"url(#clip02)\" style=\"fill:#00002d; stroke:none; fill-opacity:1\" cx=\"474.755\" cy=\"242.265\" r=\"4\"/>\n",
       "<circle clip-path=\"url(#clip02)\" style=\"fill:#008100; stroke:none; fill-opacity:1\" cx=\"474.755\" cy=\"242.265\" r=\"3\"/>\n",
       "<circle clip-path=\"url(#clip02)\" style=\"fill:#00002d; stroke:none; fill-opacity:1\" cx=\"483.546\" cy=\"228.834\" r=\"4\"/>\n",
       "<circle clip-path=\"url(#clip02)\" style=\"fill:#008100; stroke:none; fill-opacity:1\" cx=\"483.546\" cy=\"228.834\" r=\"3\"/>\n",
       "<circle clip-path=\"url(#clip02)\" style=\"fill:#00002d; stroke:none; fill-opacity:1\" cx=\"492.336\" cy=\"214.677\" r=\"4\"/>\n",
       "<circle clip-path=\"url(#clip02)\" style=\"fill:#008100; stroke:none; fill-opacity:1\" cx=\"492.336\" cy=\"214.677\" r=\"3\"/>\n",
       "<circle clip-path=\"url(#clip02)\" style=\"fill:#00002d; stroke:none; fill-opacity:1\" cx=\"501.127\" cy=\"199.795\" r=\"4\"/>\n",
       "<circle clip-path=\"url(#clip02)\" style=\"fill:#008100; stroke:none; fill-opacity:1\" cx=\"501.127\" cy=\"199.795\" r=\"3\"/>\n",
       "<circle clip-path=\"url(#clip02)\" style=\"fill:#00002d; stroke:none; fill-opacity:1\" cx=\"509.917\" cy=\"184.186\" r=\"4\"/>\n",
       "<circle clip-path=\"url(#clip02)\" style=\"fill:#008100; stroke:none; fill-opacity:1\" cx=\"509.917\" cy=\"184.186\" r=\"3\"/>\n",
       "<circle clip-path=\"url(#clip02)\" style=\"fill:#00002d; stroke:none; fill-opacity:1\" cx=\"518.707\" cy=\"167.852\" r=\"4\"/>\n",
       "<circle clip-path=\"url(#clip02)\" style=\"fill:#008100; stroke:none; fill-opacity:1\" cx=\"518.707\" cy=\"167.852\" r=\"3\"/>\n",
       "<circle clip-path=\"url(#clip02)\" style=\"fill:#00002d; stroke:none; fill-opacity:1\" cx=\"527.498\" cy=\"150.791\" r=\"4\"/>\n",
       "<circle clip-path=\"url(#clip02)\" style=\"fill:#008100; stroke:none; fill-opacity:1\" cx=\"527.498\" cy=\"150.791\" r=\"3\"/>\n",
       "<circle clip-path=\"url(#clip02)\" style=\"fill:#00002d; stroke:none; fill-opacity:1\" cx=\"536.288\" cy=\"133.004\" r=\"4\"/>\n",
       "<circle clip-path=\"url(#clip02)\" style=\"fill:#008100; stroke:none; fill-opacity:1\" cx=\"536.288\" cy=\"133.004\" r=\"3\"/>\n",
       "<circle clip-path=\"url(#clip02)\" style=\"fill:#00002d; stroke:none; fill-opacity:1\" cx=\"545.079\" cy=\"114.492\" r=\"4\"/>\n",
       "<circle clip-path=\"url(#clip02)\" style=\"fill:#008100; stroke:none; fill-opacity:1\" cx=\"545.079\" cy=\"114.492\" r=\"3\"/>\n",
       "<circle clip-path=\"url(#clip02)\" style=\"fill:#00002d; stroke:none; fill-opacity:1\" cx=\"553.869\" cy=\"95.2535\" r=\"4\"/>\n",
       "<circle clip-path=\"url(#clip02)\" style=\"fill:#008100; stroke:none; fill-opacity:1\" cx=\"553.869\" cy=\"95.2535\" r=\"3\"/>\n",
       "<circle clip-path=\"url(#clip02)\" style=\"fill:#00002d; stroke:none; fill-opacity:1\" cx=\"562.659\" cy=\"75.2891\" r=\"4\"/>\n",
       "<circle clip-path=\"url(#clip02)\" style=\"fill:#008100; stroke:none; fill-opacity:1\" cx=\"562.659\" cy=\"75.2891\" r=\"3\"/>\n",
       "<circle clip-path=\"url(#clip02)\" style=\"fill:#00002d; stroke:none; fill-opacity:1\" cx=\"571.45\" cy=\"54.5986\" r=\"4\"/>\n",
       "<circle clip-path=\"url(#clip02)\" style=\"fill:#008100; stroke:none; fill-opacity:1\" cx=\"571.45\" cy=\"54.5986\" r=\"3\"/>\n",
       "<circle clip-path=\"url(#clip02)\" style=\"fill:#00002d; stroke:none; fill-opacity:1\" cx=\"580.24\" cy=\"33.1822\" r=\"4\"/>\n",
       "<circle clip-path=\"url(#clip02)\" style=\"fill:#008100; stroke:none; fill-opacity:1\" cx=\"580.24\" cy=\"33.1822\" r=\"3\"/>\n",
       "<polygon clip-path=\"url(#clip00)\" points=\"\n",
       "487.118,74.5015 578.063,74.5015 578.063,44.2615 487.118,44.2615 \n",
       "  \" fill=\"#ffffff\" fill-opacity=\"1\"/>\n",
       "<polyline clip-path=\"url(#clip00)\" style=\"stroke:#00002d; stroke-width:0.8; stroke-opacity:1; fill:none\" points=\"\n",
       "  487.118,74.5015 578.063,74.5015 578.063,44.2615 487.118,44.2615 487.118,74.5015 \n",
       "  \"/>\n",
       "<polyline clip-path=\"url(#clip00)\" style=\"stroke:#ff0000; stroke-width:0.8; stroke-opacity:1; fill:none\" points=\"\n",
       "  493.118,59.3815 529.118,59.3815 \n",
       "  \"/>\n",
       "<circle clip-path=\"url(#clip00)\" style=\"fill:#00002d; stroke:none; fill-opacity:1\" cx=\"499.118\" cy=\"59.3815\" r=\"7\"/>\n",
       "<circle clip-path=\"url(#clip00)\" style=\"fill:#008100; stroke:none; fill-opacity:1\" cx=\"499.118\" cy=\"59.3815\" r=\"7\"/>\n",
       "<circle clip-path=\"url(#clip00)\" style=\"fill:#00002d; stroke:none; fill-opacity:1\" cx=\"523.118\" cy=\"59.3815\" r=\"7\"/>\n",
       "<circle clip-path=\"url(#clip00)\" style=\"fill:#008100; stroke:none; fill-opacity:1\" cx=\"523.118\" cy=\"59.3815\" r=\"7\"/>\n",
       "<g clip-path=\"url(#clip00)\">\n",
       "<text style=\"fill:#00002d; fill-opacity:1; font-family:Arial,Helvetica Neue,Helvetica,sans-serif; font-size:12; text-anchor:start;\" transform=\"rotate(0, 535.118, 63.8815)\" x=\"535.118\" y=\"63.8815\">Collar</text>\n",
       "</g>\n",
       "</svg>\n"
      ]
     },
     "execution_count": 23,
     "metadata": {},
     "output_type": "execute_result"
    }
   ],
   "source": [
    "# Esta versión organizada se lee mucho mejor... \n",
    "plot(x, y, \n",
    "    title = \"Parábola\", \n",
    "    xlabel = \"Argumento\", \n",
    "    ylabel = \"Imagen\", \n",
    "    linecolor = :red, \n",
    "    markershape = :circle,\n",
    "    markersize = 5,  # Exploando un poco las opciones\n",
    "    markercolor = :green,\n",
    "    label=\"Collar\")"
   ]
  },
  {
   "cell_type": "markdown",
   "metadata": {},
   "source": [
    "## Tiro parabólico"
   ]
  },
  {
   "cell_type": "markdown",
   "metadata": {},
   "source": [
    "[7] (i) Haz una función que calcula la trayectoria de una partícula en tiro parabólico con una posición y velocidad iniciales dadas.\n",
    "\n",
    "(ii) Grafica distintas trayectorias con la misma rapidez inicial pero distintos ángulos iniciales. Arregla tu gráfica para que sólo muestra la parte hasta que la partícula caiga al suelo.\n",
    "\n",
    "(iii) Comprueba gráficamente para cuál ángulo se tiene el máximo **alcance**."
   ]
  },
  {
   "cell_type": "code",
   "execution_count": 24,
   "metadata": {
    "collapsed": false
   },
   "outputs": [
    {
     "data": {
      "text/plain": [
       "tiro_parabolico (generic function with 1 method)"
      ]
     },
     "execution_count": 24,
     "metadata": {},
     "output_type": "execute_result"
    }
   ],
   "source": [
    "# Separa los argumentos con espacios. Puedes usar acentos si lo prefieres pero no es muy recomendable. \n",
    "\n",
    "function tiro_parabolico(v, θ, x0, y0, t_final)   # Aquí se utiliza el ángulo en radianes\n",
    "    \n",
    "    tiempos = 0:0.1:t_final\n",
    "    \n",
    "    g = 9.81\n",
    "    vx = v*cos(θ)\n",
    "    vy = v*sin(θ)\n",
    "    \n",
    "    # Una forma aceptable de guardar las posiciones en cada tiempo es utilizar arreglos por comprensión\n",
    "    X = [vx*t + x0 for t in tiempos]\n",
    "    Y = [-g*t^2 / 2 + vy*t + y0 for t in tiempos]\n",
    "    \n",
    "    return (X,Y)\n",
    "end"
   ]
  },
  {
   "cell_type": "code",
   "execution_count": 25,
   "metadata": {
    "collapsed": false
   },
   "outputs": [
    {
     "name": "stdout",
     "output_type": "stream",
     "text": [
      "Base.minmax\n",
      "Base.gcdx\n",
      "Base.maxabs\n",
      "Base.alignment\n",
      "Base.findmax!\n",
      "Base.Channel\n",
      "Base.indmax\n",
      "Base.big\n",
      "Base.extrema\n",
      "Base.length\n",
      "Base.maximum!\n",
      "Base.AsyncCollector\n",
      "Base.maxintfloat\n",
      "Base.addprocs\n",
      "Base.max\n",
      "Base.isapprox\n",
      "Base.ind2sub\n",
      "Base.Random.rand\n",
      "Base.reducedim\n",
      "Base.IOBuffer\n",
      "Base.Cintmax_t\n",
      "Base.retry\n",
      "Base.LinAlg.pinv\n",
      "Base.batchsplit\n",
      "Base.findmax\n",
      "Base.maxabs!\n",
      "Base.pmap\n",
      "Base.reduce\n",
      "Base.Cuintmax_t\n",
      "Base.maximum\n",
      "Base.cummax\n",
      "Base.split\n",
      "Base.AsyncGenerator\n",
      "Base.realmax\n",
      "Base.read\n",
      "Base.typemax\n",
      "Base.PipeBuffer\n",
      "Base.Threads.atomic_min!\n",
      "Base.Threads.atomic_max!\n",
      "Base.Test.@inferred\n",
      "Base.LinAlg.svds\n",
      "Base.LinAlg.eigmax\n",
      "Base.LinAlg.eigs\n",
      "Base.QuadGK.quadgk\n",
      "Base.Profile.print\n",
      "Base.Dates.DateTime\n",
      "Base.Dates.Date\n",
      "Base.SparseArrays.sparse\n",
      "Compat\n",
      "IJulia.watch_stream\n",
      "IJulia.set_max_stdio\n",
      "Base.isapprox\n",
      "ColorTypes.mapc\n",
      "Colors\n",
      "Colors.distinguishable_colors\n",
      "PlotUtils.adapted_grid\n",
      "GR.cellarray\n",
      "GR.setwsviewport\n",
      "GR.setspace\n",
      "GR.fillrect\n",
      "GR.drawimage\n",
      "GR.fillarc\n",
      "GR.setwindow\n",
      "GR.drawarc\n",
      "GR.drawrect\n",
      "GR.setwswindow\n",
      "GR.setviewport\n"
     ]
    }
   ],
   "source": [
    "apropos(max) # Busco una función que me ayude a delimitar mi gráfica."
   ]
  },
  {
   "cell_type": "code",
   "execution_count": 26,
   "metadata": {
    "collapsed": false
   },
   "outputs": [
    {
     "data": {
      "text/markdown": [
       "```\n",
       "maximum(itr)\n",
       "```\n",
       "\n",
       "Returns the largest element in a collection.\n",
       "\n",
       "```jldoctest\n",
       "julia> maximum(-20.5:10)\n",
       "9.5\n",
       "\n",
       "julia> maximum([1,2,3])\n",
       "3\n",
       "```\n",
       "\n",
       "```\n",
       "maximum(A, dims)\n",
       "```\n",
       "\n",
       "Compute the maximum value of an array over the given dimensions.\n"
      ],
      "text/plain": [
       "```\n",
       "maximum(itr)\n",
       "```\n",
       "\n",
       "Returns the largest element in a collection.\n",
       "\n",
       "```jldoctest\n",
       "julia> maximum(-20.5:10)\n",
       "9.5\n",
       "\n",
       "julia> maximum([1,2,3])\n",
       "3\n",
       "```\n",
       "\n",
       "```\n",
       "maximum(A, dims)\n",
       "```\n",
       "\n",
       "Compute the maximum value of an array over the given dimensions.\n"
      ]
     },
     "execution_count": 26,
     "metadata": {},
     "output_type": "execute_result"
    }
   ],
   "source": [
    "?maximum() # Veo como funciona"
   ]
  },
  {
   "cell_type": "code",
   "execution_count": 27,
   "metadata": {
    "collapsed": false
   },
   "outputs": [
    {
     "name": "stdout",
     "output_type": "stream",
     "text": [
      "Base.rotl90\n",
      "Base.Math.cotd\n",
      "Base.Math.rad2deg\n",
      "Base.rotr90\n",
      "Base.rot180\n",
      "Base.Math.cscd\n",
      "Base.Math.secd\n",
      "Base.Math.deg2rad\n",
      "Base.Math.cosd\n",
      "Base.Math.asind\n",
      "Base.Math.atand\n",
      "Base.Math.acscd\n",
      "Base.Math.asecd\n",
      "Base.Math.acotd\n",
      "Base.Math.tand\n",
      "Base.Math.acosd\n",
      "Base.Math.sind\n",
      "GR.setspace\n",
      "GR.fillarc\n",
      "GR.drawarc\n"
     ]
    }
   ],
   "source": [
    "apropos(\"degrees\") # Busco otra función auxiliar."
   ]
  },
  {
   "cell_type": "code",
   "execution_count": 28,
   "metadata": {
    "collapsed": false
   },
   "outputs": [
    {
     "data": {
      "text/markdown": [
       "```\n",
       "deg2rad(x)\n",
       "```\n",
       "\n",
       "Convert `x` from degrees to radians.\n"
      ],
      "text/plain": [
       "```\n",
       "deg2rad(x)\n",
       "```\n",
       "\n",
       "Convert `x` from degrees to radians.\n"
      ]
     },
     "execution_count": 28,
     "metadata": {},
     "output_type": "execute_result"
    }
   ],
   "source": [
    "?deg2rad()"
   ]
  },
  {
   "cell_type": "code",
   "execution_count": 29,
   "metadata": {
    "collapsed": false
   },
   "outputs": [
    {
     "data": {
      "text/html": [
       "<?xml version=\"1.0\" encoding=\"utf-8\"?>\n",
       "<svg xmlns=\"http://www.w3.org/2000/svg\" xmlns:xlink=\"http://www.w3.org/1999/xlink\" width=\"600\" height=\"400\" viewBox=\"0 0 600 400\">\n",
       "<defs>\n",
       "  <clipPath id=\"clip00\">\n",
       "    <rect x=\"0\" y=\"0\" width=\"600\" height=\"400\"/>\n",
       "  </clipPath>\n",
       "</defs>\n",
       "<polygon clip-path=\"url(#clip00)\" points=\"\n",
       "0,400 600,400 600,0 0,0 \n",
       "  \" fill=\"#ffffff\" fill-opacity=\"1\"/>\n",
       "<defs>\n",
       "  <clipPath id=\"clip01\">\n",
       "    <rect x=\"120\" y=\"0\" width=\"421\" height=\"400\"/>\n",
       "  </clipPath>\n",
       "</defs>\n",
       "<polygon clip-path=\"url(#clip00)\" points=\"\n",
       "45.8815,369.674 596.063,369.674 596.063,23.3815 45.8815,23.3815 \n",
       "  \" fill=\"#ffffff\" fill-opacity=\"1\"/>\n",
       "<defs>\n",
       "  <clipPath id=\"clip02\">\n",
       "    <rect x=\"45\" y=\"23\" width=\"551\" height=\"347\"/>\n",
       "  </clipPath>\n",
       "</defs>\n",
       "<polyline clip-path=\"url(#clip02)\" style=\"stroke:#00002d; stroke-width:0.8; stroke-opacity:0.5; fill:none\" stroke-dasharray=\"1, 2\" points=\"\n",
       "  45.8815,364.48 45.8815,28.5758 \n",
       "  \"/>\n",
       "<polyline clip-path=\"url(#clip02)\" style=\"stroke:#00002d; stroke-width:0.8; stroke-opacity:0.5; fill:none\" stroke-dasharray=\"1, 2\" points=\"\n",
       "  149.625,364.48 149.625,28.5758 \n",
       "  \"/>\n",
       "<polyline clip-path=\"url(#clip02)\" style=\"stroke:#00002d; stroke-width:0.8; stroke-opacity:0.5; fill:none\" stroke-dasharray=\"1, 2\" points=\"\n",
       "  253.368,364.48 253.368,28.5758 \n",
       "  \"/>\n",
       "<polyline clip-path=\"url(#clip02)\" style=\"stroke:#00002d; stroke-width:0.8; stroke-opacity:0.5; fill:none\" stroke-dasharray=\"1, 2\" points=\"\n",
       "  357.111,364.48 357.111,28.5758 \n",
       "  \"/>\n",
       "<polyline clip-path=\"url(#clip02)\" style=\"stroke:#00002d; stroke-width:0.8; stroke-opacity:0.5; fill:none\" stroke-dasharray=\"1, 2\" points=\"\n",
       "  460.854,364.48 460.854,28.5758 \n",
       "  \"/>\n",
       "<polyline clip-path=\"url(#clip02)\" style=\"stroke:#00002d; stroke-width:0.8; stroke-opacity:0.5; fill:none\" stroke-dasharray=\"1, 2\" points=\"\n",
       "  564.598,364.48 564.598,28.5758 \n",
       "  \"/>\n",
       "<polyline clip-path=\"url(#clip02)\" style=\"stroke:#00002d; stroke-width:0.8; stroke-opacity:0.5; fill:none\" stroke-dasharray=\"1, 2\" points=\"\n",
       "  54.1342,369.674 587.81,369.674 \n",
       "  \"/>\n",
       "<polyline clip-path=\"url(#clip02)\" style=\"stroke:#00002d; stroke-width:0.8; stroke-opacity:0.5; fill:none\" stroke-dasharray=\"1, 2\" points=\"\n",
       "  54.1342,279.084 587.81,279.084 \n",
       "  \"/>\n",
       "<polyline clip-path=\"url(#clip02)\" style=\"stroke:#00002d; stroke-width:0.8; stroke-opacity:0.5; fill:none\" stroke-dasharray=\"1, 2\" points=\"\n",
       "  54.1342,188.494 587.81,188.494 \n",
       "  \"/>\n",
       "<polyline clip-path=\"url(#clip02)\" style=\"stroke:#00002d; stroke-width:0.8; stroke-opacity:0.5; fill:none\" stroke-dasharray=\"1, 2\" points=\"\n",
       "  54.1342,97.9033 587.81,97.9033 \n",
       "  \"/>\n",
       "<polyline clip-path=\"url(#clip02)\" style=\"stroke:#00002d; stroke-width:0.8; stroke-opacity:1; fill:none\" points=\"\n",
       "  45.8815,369.674 596.063,369.674 \n",
       "  \"/>\n",
       "<polyline clip-path=\"url(#clip02)\" style=\"stroke:#00002d; stroke-width:0.8; stroke-opacity:1; fill:none\" points=\"\n",
       "  45.8815,369.674 45.8815,364.48 \n",
       "  \"/>\n",
       "<polyline clip-path=\"url(#clip02)\" style=\"stroke:#00002d; stroke-width:0.8; stroke-opacity:1; fill:none\" points=\"\n",
       "  149.625,369.674 149.625,364.48 \n",
       "  \"/>\n",
       "<polyline clip-path=\"url(#clip02)\" style=\"stroke:#00002d; stroke-width:0.8; stroke-opacity:1; fill:none\" points=\"\n",
       "  253.368,369.674 253.368,364.48 \n",
       "  \"/>\n",
       "<polyline clip-path=\"url(#clip02)\" style=\"stroke:#00002d; stroke-width:0.8; stroke-opacity:1; fill:none\" points=\"\n",
       "  357.111,369.674 357.111,364.48 \n",
       "  \"/>\n",
       "<polyline clip-path=\"url(#clip02)\" style=\"stroke:#00002d; stroke-width:0.8; stroke-opacity:1; fill:none\" points=\"\n",
       "  460.854,369.674 460.854,364.48 \n",
       "  \"/>\n",
       "<polyline clip-path=\"url(#clip02)\" style=\"stroke:#00002d; stroke-width:0.8; stroke-opacity:1; fill:none\" points=\"\n",
       "  564.598,369.674 564.598,364.48 \n",
       "  \"/>\n",
       "<polyline clip-path=\"url(#clip02)\" style=\"stroke:#00002d; stroke-width:0.8; stroke-opacity:1; fill:none\" points=\"\n",
       "  45.8815,369.674 45.8815,23.3815 \n",
       "  \"/>\n",
       "<polyline clip-path=\"url(#clip02)\" style=\"stroke:#00002d; stroke-width:0.8; stroke-opacity:1; fill:none\" points=\"\n",
       "  45.8815,369.674 54.1342,369.674 \n",
       "  \"/>\n",
       "<polyline clip-path=\"url(#clip02)\" style=\"stroke:#00002d; stroke-width:0.8; stroke-opacity:1; fill:none\" points=\"\n",
       "  45.8815,279.084 54.1342,279.084 \n",
       "  \"/>\n",
       "<polyline clip-path=\"url(#clip02)\" style=\"stroke:#00002d; stroke-width:0.8; stroke-opacity:1; fill:none\" points=\"\n",
       "  45.8815,188.494 54.1342,188.494 \n",
       "  \"/>\n",
       "<polyline clip-path=\"url(#clip02)\" style=\"stroke:#00002d; stroke-width:0.8; stroke-opacity:1; fill:none\" points=\"\n",
       "  45.8815,97.9033 54.1342,97.9033 \n",
       "  \"/>\n",
       "<g clip-path=\"url(#clip00)\">\n",
       "<text style=\"fill:#00002d; fill-opacity:1; font-family:Arial,Helvetica Neue,Helvetica,sans-serif; font-size:12; text-anchor:middle;\" transform=\"rotate(0, 45.8815, 381.674)\" x=\"45.8815\" y=\"381.674\">0</text>\n",
       "</g>\n",
       "<g clip-path=\"url(#clip00)\">\n",
       "<text style=\"fill:#00002d; fill-opacity:1; font-family:Arial,Helvetica Neue,Helvetica,sans-serif; font-size:12; text-anchor:middle;\" transform=\"rotate(0, 149.625, 381.674)\" x=\"149.625\" y=\"381.674\">200</text>\n",
       "</g>\n",
       "<g clip-path=\"url(#clip00)\">\n",
       "<text style=\"fill:#00002d; fill-opacity:1; font-family:Arial,Helvetica Neue,Helvetica,sans-serif; font-size:12; text-anchor:middle;\" transform=\"rotate(0, 253.368, 381.674)\" x=\"253.368\" y=\"381.674\">400</text>\n",
       "</g>\n",
       "<g clip-path=\"url(#clip00)\">\n",
       "<text style=\"fill:#00002d; fill-opacity:1; font-family:Arial,Helvetica Neue,Helvetica,sans-serif; font-size:12; text-anchor:middle;\" transform=\"rotate(0, 357.111, 381.674)\" x=\"357.111\" y=\"381.674\">600</text>\n",
       "</g>\n",
       "<g clip-path=\"url(#clip00)\">\n",
       "<text style=\"fill:#00002d; fill-opacity:1; font-family:Arial,Helvetica Neue,Helvetica,sans-serif; font-size:12; text-anchor:middle;\" transform=\"rotate(0, 460.854, 381.674)\" x=\"460.854\" y=\"381.674\">800</text>\n",
       "</g>\n",
       "<g clip-path=\"url(#clip00)\">\n",
       "<text style=\"fill:#00002d; fill-opacity:1; font-family:Arial,Helvetica Neue,Helvetica,sans-serif; font-size:12; text-anchor:middle;\" transform=\"rotate(0, 564.598, 381.674)\" x=\"564.598\" y=\"381.674\">1000</text>\n",
       "</g>\n",
       "<g clip-path=\"url(#clip00)\">\n",
       "<text style=\"fill:#00002d; fill-opacity:1; font-family:Arial,Helvetica Neue,Helvetica,sans-serif; font-size:12; text-anchor:end;\" transform=\"rotate(0, 44.6815, 374.174)\" x=\"44.6815\" y=\"374.174\">0</text>\n",
       "</g>\n",
       "<g clip-path=\"url(#clip00)\">\n",
       "<text style=\"fill:#00002d; fill-opacity:1; font-family:Arial,Helvetica Neue,Helvetica,sans-serif; font-size:12; text-anchor:end;\" transform=\"rotate(0, 44.6815, 283.584)\" x=\"44.6815\" y=\"283.584\">100</text>\n",
       "</g>\n",
       "<g clip-path=\"url(#clip00)\">\n",
       "<text style=\"fill:#00002d; fill-opacity:1; font-family:Arial,Helvetica Neue,Helvetica,sans-serif; font-size:12; text-anchor:end;\" transform=\"rotate(0, 44.6815, 192.994)\" x=\"44.6815\" y=\"192.994\">200</text>\n",
       "</g>\n",
       "<g clip-path=\"url(#clip00)\">\n",
       "<text style=\"fill:#00002d; fill-opacity:1; font-family:Arial,Helvetica Neue,Helvetica,sans-serif; font-size:12; text-anchor:end;\" transform=\"rotate(0, 44.6815, 102.403)\" x=\"44.6815\" y=\"102.403\">300</text>\n",
       "</g>\n",
       "<g clip-path=\"url(#clip00)\">\n",
       "<text style=\"fill:#00002d; fill-opacity:1; font-family:Arial,Helvetica Neue,Helvetica,sans-serif; font-size:21; text-anchor:middle;\" transform=\"rotate(0, 320.972, 18)\" x=\"320.972\" y=\"18\">Tiro Parabólico</text>\n",
       "</g>\n",
       "<g clip-path=\"url(#clip00)\">\n",
       "<text style=\"fill:#00002d; fill-opacity:1; font-family:Arial,Helvetica Neue,Helvetica,sans-serif; font-size:16; text-anchor:middle;\" transform=\"rotate(0, 320.972, 397.6)\" x=\"320.972\" y=\"397.6\">Alcance</text>\n",
       "</g>\n",
       "<g clip-path=\"url(#clip00)\">\n",
       "<text style=\"fill:#00002d; fill-opacity:1; font-family:Arial,Helvetica Neue,Helvetica,sans-serif; font-size:16; text-anchor:middle;\" transform=\"rotate(-90, 14.4, 196.528)\" x=\"14.4\" y=\"196.528\">Altura</text>\n",
       "</g>\n",
       "<polyline clip-path=\"url(#clip02)\" style=\"stroke:#0099ff; stroke-width:2.4; stroke-opacity:1; fill:none\" points=\"\n",
       "  45.8815,369.674 49.5493,363.313 53.2172,357.04 56.8851,350.857 60.553,344.762 64.2208,338.756 67.8887,332.84 71.5566,327.011 75.2245,321.272 78.8923,315.622 \n",
       "  82.5602,310.061 86.2281,304.588 89.896,299.204 93.5639,293.909 97.2317,288.703 100.9,283.586 104.567,278.558 108.235,273.619 111.903,268.768 115.571,264.007 \n",
       "  119.239,259.334 122.907,254.75 126.575,250.255 130.243,245.849 133.91,241.532 137.578,237.303 141.246,233.164 144.914,229.113 148.582,225.151 152.25,221.278 \n",
       "  155.918,217.494 159.586,213.799 163.254,210.193 166.921,206.675 170.589,203.247 174.257,199.907 177.925,196.656 181.593,193.494 185.261,190.421 188.929,187.437 \n",
       "  192.597,184.541 196.264,181.735 199.932,179.017 203.6,176.388 207.268,173.849 210.936,171.398 214.604,169.035 218.272,166.762 221.94,164.578 225.607,162.482 \n",
       "  229.275,160.475 232.943,158.558 236.611,156.729 240.279,154.989 243.947,153.337 247.615,151.775 251.283,150.302 254.95,148.917 258.618,147.621 262.286,146.414 \n",
       "  265.954,145.296 269.622,144.267 273.29,143.327 276.958,142.476 280.626,141.713 284.293,141.04 287.961,140.455 291.629,139.959 295.297,139.552 298.965,139.234 \n",
       "  302.633,139.004 306.301,138.864 309.969,138.812 313.636,138.85 317.304,138.976 320.972,139.191 324.64,139.495 328.308,139.888 331.976,140.369 335.644,140.94 \n",
       "  339.312,141.599 342.979,142.347 346.647,143.185 350.315,144.111 353.983,145.125 357.651,146.229 361.319,147.422 364.987,148.703 368.655,150.074 372.322,151.533 \n",
       "  375.99,153.081 379.658,154.718 383.326,156.444 386.994,158.258 390.662,160.162 394.33,162.154 397.998,164.236 401.666,166.406 405.333,168.665 409.001,171.013 \n",
       "  412.669,173.449 416.337,175.975 420.005,178.59 423.673,181.293 427.341,184.085 431.009,186.966 434.676,189.936 438.344,192.995 442.012,196.143 445.68,199.379 \n",
       "  449.348,202.705 453.016,206.119 456.684,209.622 460.352,213.215 464.019,216.895 467.687,220.665 471.355,224.524 475.023,228.472 478.691,232.508 482.359,236.633 \n",
       "  486.027,240.847 489.695,245.15 493.362,249.542 497.03,254.023 500.698,258.593 504.366,263.251 508.034,267.999 511.702,272.835 515.37,277.76 519.038,282.774 \n",
       "  522.705,287.877 526.373,293.068 530.041,298.349 533.709,303.718 537.377,309.177 541.045,314.724 544.713,320.36 548.381,326.085 552.048,331.899 555.716,337.801 \n",
       "  559.384,343.793 563.052,349.873 566.72,356.043 570.388,362.301 574.056,368.648 577.724,375.084 581.391,381.608 585.059,388.222 588.727,394.924 592.395,401.716 \n",
       "  596.063,408.596 \n",
       "  \"/>\n",
       "<polygon clip-path=\"url(#clip00)\" points=\"\n",
       "444.925,74.5015 578.063,74.5015 578.063,44.2615 444.925,44.2615 \n",
       "  \" fill=\"#ffffff\" fill-opacity=\"1\"/>\n",
       "<polyline clip-path=\"url(#clip00)\" style=\"stroke:#00002d; stroke-width:0.8; stroke-opacity:1; fill:none\" points=\"\n",
       "  444.925,74.5015 578.063,74.5015 578.063,44.2615 444.925,44.2615 444.925,74.5015 \n",
       "  \"/>\n",
       "<polyline clip-path=\"url(#clip00)\" style=\"stroke:#0099ff; stroke-width:2.4; stroke-opacity:1; fill:none\" points=\"\n",
       "  450.925,59.3815 486.925,59.3815 \n",
       "  \"/>\n",
       "<g clip-path=\"url(#clip00)\">\n",
       "<text style=\"fill:#00002d; fill-opacity:1; font-family:Arial,Helvetica Neue,Helvetica,sans-serif; font-size:12; text-anchor:start;\" transform=\"rotate(0, 492.925, 63.8815)\" x=\"492.925\" y=\"63.8815\">Ángulo: 45 °   </text>\n",
       "</g>\n",
       "</svg>\n"
      ]
     },
     "execution_count": 29,
     "metadata": {},
     "output_type": "execute_result"
    }
   ],
   "source": [
    "### Primero grafico una trayectoria\n",
    "\n",
    "## Nombro todas las variables antes de evaluar mi función.\n",
    "\n",
    "# Busco valores que se vean bien...\n",
    "\n",
    "t_final = 15\n",
    "v_inicial = 100\n",
    "\n",
    "x_inicial = 0\n",
    "y_inicial = 0\n",
    "\n",
    "θ_grados = 45                    # Esto representa grados\n",
    "θ_radianes = deg2rad(θ_grados)  # Esto ya está en radianes\n",
    "\n",
    "# Guardo los resultados de mi función con nombres (descriptivos) antes de utilizarlos. Así es más claro.\n",
    "\n",
    "X, Y = tiro_parabolico(v_inicial , θ_radianes, x_inicial, y_inicial, t_final)\n",
    "\n",
    "x_max = maximum(X)\n",
    "y_max = maximum(Y)\n",
    "\n",
    "plot(X, Y,\n",
    "    title = \"Tiro Parabólico\", \n",
    "    xlabel = \"Alcance\", \n",
    "    ylabel = \"Altura\", \n",
    "    xlims = (0, x_max),       # Podría ser más fino pero por ahora está bien.\n",
    "    ylim = (0, 1.5 * y_max),  # Sólo la parte hasta que cae al suelo, como dice la instrucción.\n",
    "    linewidth = 3,\n",
    "    label = \"Ángulo: $θ_grados °   \")  # Intento que todo se vea bien."
   ]
  },
  {
   "cell_type": "code",
   "execution_count": 30,
   "metadata": {
    "collapsed": false
   },
   "outputs": [
    {
     "data": {
      "text/html": [
       "<?xml version=\"1.0\" encoding=\"utf-8\"?>\n",
       "<svg xmlns=\"http://www.w3.org/2000/svg\" xmlns:xlink=\"http://www.w3.org/1999/xlink\" width=\"600\" height=\"400\" viewBox=\"0 0 600 400\">\n",
       "<defs>\n",
       "  <clipPath id=\"clip00\">\n",
       "    <rect x=\"0\" y=\"0\" width=\"600\" height=\"400\"/>\n",
       "  </clipPath>\n",
       "</defs>\n",
       "<polygon clip-path=\"url(#clip00)\" points=\"\n",
       "0,400 600,400 600,0 0,0 \n",
       "  \" fill=\"#ffffff\" fill-opacity=\"1\"/>\n",
       "<defs>\n",
       "  <clipPath id=\"clip01\">\n",
       "    <rect x=\"120\" y=\"0\" width=\"421\" height=\"400\"/>\n",
       "  </clipPath>\n",
       "</defs>\n",
       "<polygon clip-path=\"url(#clip00)\" points=\"\n",
       "45.8815,369.674 596.063,369.674 596.063,23.3815 45.8815,23.3815 \n",
       "  \" fill=\"#ffffff\" fill-opacity=\"1\"/>\n",
       "<defs>\n",
       "  <clipPath id=\"clip02\">\n",
       "    <rect x=\"45\" y=\"23\" width=\"551\" height=\"347\"/>\n",
       "  </clipPath>\n",
       "</defs>\n",
       "<polyline clip-path=\"url(#clip02)\" style=\"stroke:#00002d; stroke-width:0.8; stroke-opacity:0.5; fill:none\" stroke-dasharray=\"1, 2\" points=\"\n",
       "  45.8815,364.48 45.8815,28.5758 \n",
       "  \"/>\n",
       "<polyline clip-path=\"url(#clip02)\" style=\"stroke:#00002d; stroke-width:0.8; stroke-opacity:0.5; fill:none\" stroke-dasharray=\"1, 2\" points=\"\n",
       "  149.625,364.48 149.625,28.5758 \n",
       "  \"/>\n",
       "<polyline clip-path=\"url(#clip02)\" style=\"stroke:#00002d; stroke-width:0.8; stroke-opacity:0.5; fill:none\" stroke-dasharray=\"1, 2\" points=\"\n",
       "  253.368,364.48 253.368,28.5758 \n",
       "  \"/>\n",
       "<polyline clip-path=\"url(#clip02)\" style=\"stroke:#00002d; stroke-width:0.8; stroke-opacity:0.5; fill:none\" stroke-dasharray=\"1, 2\" points=\"\n",
       "  357.111,364.48 357.111,28.5758 \n",
       "  \"/>\n",
       "<polyline clip-path=\"url(#clip02)\" style=\"stroke:#00002d; stroke-width:0.8; stroke-opacity:0.5; fill:none\" stroke-dasharray=\"1, 2\" points=\"\n",
       "  460.854,364.48 460.854,28.5758 \n",
       "  \"/>\n",
       "<polyline clip-path=\"url(#clip02)\" style=\"stroke:#00002d; stroke-width:0.8; stroke-opacity:0.5; fill:none\" stroke-dasharray=\"1, 2\" points=\"\n",
       "  564.598,364.48 564.598,28.5758 \n",
       "  \"/>\n",
       "<polyline clip-path=\"url(#clip02)\" style=\"stroke:#00002d; stroke-width:0.8; stroke-opacity:0.5; fill:none\" stroke-dasharray=\"1, 2\" points=\"\n",
       "  54.1342,369.674 587.81,369.674 \n",
       "  \"/>\n",
       "<polyline clip-path=\"url(#clip02)\" style=\"stroke:#00002d; stroke-width:0.8; stroke-opacity:0.5; fill:none\" stroke-dasharray=\"1, 2\" points=\"\n",
       "  54.1342,300.416 587.81,300.416 \n",
       "  \"/>\n",
       "<polyline clip-path=\"url(#clip02)\" style=\"stroke:#00002d; stroke-width:0.8; stroke-opacity:0.5; fill:none\" stroke-dasharray=\"1, 2\" points=\"\n",
       "  54.1342,231.157 587.81,231.157 \n",
       "  \"/>\n",
       "<polyline clip-path=\"url(#clip02)\" style=\"stroke:#00002d; stroke-width:0.8; stroke-opacity:0.5; fill:none\" stroke-dasharray=\"1, 2\" points=\"\n",
       "  54.1342,161.899 587.81,161.899 \n",
       "  \"/>\n",
       "<polyline clip-path=\"url(#clip02)\" style=\"stroke:#00002d; stroke-width:0.8; stroke-opacity:0.5; fill:none\" stroke-dasharray=\"1, 2\" points=\"\n",
       "  54.1342,92.64 587.81,92.64 \n",
       "  \"/>\n",
       "<polyline clip-path=\"url(#clip02)\" style=\"stroke:#00002d; stroke-width:0.8; stroke-opacity:0.5; fill:none\" stroke-dasharray=\"1, 2\" points=\"\n",
       "  54.1342,23.3815 587.81,23.3815 \n",
       "  \"/>\n",
       "<polyline clip-path=\"url(#clip02)\" style=\"stroke:#00002d; stroke-width:0.8; stroke-opacity:1; fill:none\" points=\"\n",
       "  45.8815,369.674 596.063,369.674 \n",
       "  \"/>\n",
       "<polyline clip-path=\"url(#clip02)\" style=\"stroke:#00002d; stroke-width:0.8; stroke-opacity:1; fill:none\" points=\"\n",
       "  45.8815,369.674 45.8815,364.48 \n",
       "  \"/>\n",
       "<polyline clip-path=\"url(#clip02)\" style=\"stroke:#00002d; stroke-width:0.8; stroke-opacity:1; fill:none\" points=\"\n",
       "  149.625,369.674 149.625,364.48 \n",
       "  \"/>\n",
       "<polyline clip-path=\"url(#clip02)\" style=\"stroke:#00002d; stroke-width:0.8; stroke-opacity:1; fill:none\" points=\"\n",
       "  253.368,369.674 253.368,364.48 \n",
       "  \"/>\n",
       "<polyline clip-path=\"url(#clip02)\" style=\"stroke:#00002d; stroke-width:0.8; stroke-opacity:1; fill:none\" points=\"\n",
       "  357.111,369.674 357.111,364.48 \n",
       "  \"/>\n",
       "<polyline clip-path=\"url(#clip02)\" style=\"stroke:#00002d; stroke-width:0.8; stroke-opacity:1; fill:none\" points=\"\n",
       "  460.854,369.674 460.854,364.48 \n",
       "  \"/>\n",
       "<polyline clip-path=\"url(#clip02)\" style=\"stroke:#00002d; stroke-width:0.8; stroke-opacity:1; fill:none\" points=\"\n",
       "  564.598,369.674 564.598,364.48 \n",
       "  \"/>\n",
       "<polyline clip-path=\"url(#clip02)\" style=\"stroke:#00002d; stroke-width:0.8; stroke-opacity:1; fill:none\" points=\"\n",
       "  45.8815,369.674 45.8815,23.3815 \n",
       "  \"/>\n",
       "<polyline clip-path=\"url(#clip02)\" style=\"stroke:#00002d; stroke-width:0.8; stroke-opacity:1; fill:none\" points=\"\n",
       "  45.8815,369.674 54.1342,369.674 \n",
       "  \"/>\n",
       "<polyline clip-path=\"url(#clip02)\" style=\"stroke:#00002d; stroke-width:0.8; stroke-opacity:1; fill:none\" points=\"\n",
       "  45.8815,300.416 54.1342,300.416 \n",
       "  \"/>\n",
       "<polyline clip-path=\"url(#clip02)\" style=\"stroke:#00002d; stroke-width:0.8; stroke-opacity:1; fill:none\" points=\"\n",
       "  45.8815,231.157 54.1342,231.157 \n",
       "  \"/>\n",
       "<polyline clip-path=\"url(#clip02)\" style=\"stroke:#00002d; stroke-width:0.8; stroke-opacity:1; fill:none\" points=\"\n",
       "  45.8815,161.899 54.1342,161.899 \n",
       "  \"/>\n",
       "<polyline clip-path=\"url(#clip02)\" style=\"stroke:#00002d; stroke-width:0.8; stroke-opacity:1; fill:none\" points=\"\n",
       "  45.8815,92.64 54.1342,92.64 \n",
       "  \"/>\n",
       "<polyline clip-path=\"url(#clip02)\" style=\"stroke:#00002d; stroke-width:0.8; stroke-opacity:1; fill:none\" points=\"\n",
       "  45.8815,23.3815 54.1342,23.3815 \n",
       "  \"/>\n",
       "<g clip-path=\"url(#clip00)\">\n",
       "<text style=\"fill:#00002d; fill-opacity:1; font-family:Arial,Helvetica Neue,Helvetica,sans-serif; font-size:12; text-anchor:middle;\" transform=\"rotate(0, 45.8815, 381.674)\" x=\"45.8815\" y=\"381.674\">0</text>\n",
       "</g>\n",
       "<g clip-path=\"url(#clip00)\">\n",
       "<text style=\"fill:#00002d; fill-opacity:1; font-family:Arial,Helvetica Neue,Helvetica,sans-serif; font-size:12; text-anchor:middle;\" transform=\"rotate(0, 149.625, 381.674)\" x=\"149.625\" y=\"381.674\">200</text>\n",
       "</g>\n",
       "<g clip-path=\"url(#clip00)\">\n",
       "<text style=\"fill:#00002d; fill-opacity:1; font-family:Arial,Helvetica Neue,Helvetica,sans-serif; font-size:12; text-anchor:middle;\" transform=\"rotate(0, 253.368, 381.674)\" x=\"253.368\" y=\"381.674\">400</text>\n",
       "</g>\n",
       "<g clip-path=\"url(#clip00)\">\n",
       "<text style=\"fill:#00002d; fill-opacity:1; font-family:Arial,Helvetica Neue,Helvetica,sans-serif; font-size:12; text-anchor:middle;\" transform=\"rotate(0, 357.111, 381.674)\" x=\"357.111\" y=\"381.674\">600</text>\n",
       "</g>\n",
       "<g clip-path=\"url(#clip00)\">\n",
       "<text style=\"fill:#00002d; fill-opacity:1; font-family:Arial,Helvetica Neue,Helvetica,sans-serif; font-size:12; text-anchor:middle;\" transform=\"rotate(0, 460.854, 381.674)\" x=\"460.854\" y=\"381.674\">800</text>\n",
       "</g>\n",
       "<g clip-path=\"url(#clip00)\">\n",
       "<text style=\"fill:#00002d; fill-opacity:1; font-family:Arial,Helvetica Neue,Helvetica,sans-serif; font-size:12; text-anchor:middle;\" transform=\"rotate(0, 564.598, 381.674)\" x=\"564.598\" y=\"381.674\">1000</text>\n",
       "</g>\n",
       "<g clip-path=\"url(#clip00)\">\n",
       "<text style=\"fill:#00002d; fill-opacity:1; font-family:Arial,Helvetica Neue,Helvetica,sans-serif; font-size:12; text-anchor:end;\" transform=\"rotate(0, 44.6815, 374.174)\" x=\"44.6815\" y=\"374.174\">0</text>\n",
       "</g>\n",
       "<g clip-path=\"url(#clip00)\">\n",
       "<text style=\"fill:#00002d; fill-opacity:1; font-family:Arial,Helvetica Neue,Helvetica,sans-serif; font-size:12; text-anchor:end;\" transform=\"rotate(0, 44.6815, 304.916)\" x=\"44.6815\" y=\"304.916\">100</text>\n",
       "</g>\n",
       "<g clip-path=\"url(#clip00)\">\n",
       "<text style=\"fill:#00002d; fill-opacity:1; font-family:Arial,Helvetica Neue,Helvetica,sans-serif; font-size:12; text-anchor:end;\" transform=\"rotate(0, 44.6815, 235.657)\" x=\"44.6815\" y=\"235.657\">200</text>\n",
       "</g>\n",
       "<g clip-path=\"url(#clip00)\">\n",
       "<text style=\"fill:#00002d; fill-opacity:1; font-family:Arial,Helvetica Neue,Helvetica,sans-serif; font-size:12; text-anchor:end;\" transform=\"rotate(0, 44.6815, 166.399)\" x=\"44.6815\" y=\"166.399\">300</text>\n",
       "</g>\n",
       "<g clip-path=\"url(#clip00)\">\n",
       "<text style=\"fill:#00002d; fill-opacity:1; font-family:Arial,Helvetica Neue,Helvetica,sans-serif; font-size:12; text-anchor:end;\" transform=\"rotate(0, 44.6815, 97.14)\" x=\"44.6815\" y=\"97.14\">400</text>\n",
       "</g>\n",
       "<g clip-path=\"url(#clip00)\">\n",
       "<text style=\"fill:#00002d; fill-opacity:1; font-family:Arial,Helvetica Neue,Helvetica,sans-serif; font-size:12; text-anchor:end;\" transform=\"rotate(0, 44.6815, 27.8815)\" x=\"44.6815\" y=\"27.8815\">500</text>\n",
       "</g>\n",
       "<g clip-path=\"url(#clip00)\">\n",
       "<text style=\"fill:#00002d; fill-opacity:1; font-family:Arial,Helvetica Neue,Helvetica,sans-serif; font-size:21; text-anchor:middle;\" transform=\"rotate(0, 320.972, 18)\" x=\"320.972\" y=\"18\">Tiros parabólicos</text>\n",
       "</g>\n",
       "<g clip-path=\"url(#clip00)\">\n",
       "<text style=\"fill:#00002d; fill-opacity:1; font-family:Arial,Helvetica Neue,Helvetica,sans-serif; font-size:16; text-anchor:middle;\" transform=\"rotate(0, 320.972, 397.6)\" x=\"320.972\" y=\"397.6\">Alcance</text>\n",
       "</g>\n",
       "<g clip-path=\"url(#clip00)\">\n",
       "<text style=\"fill:#00002d; fill-opacity:1; font-family:Arial,Helvetica Neue,Helvetica,sans-serif; font-size:16; text-anchor:middle;\" transform=\"rotate(-90, 14.4, 196.528)\" x=\"14.4\" y=\"196.528\">Altura</text>\n",
       "</g>\n",
       "<polyline clip-path=\"url(#clip02)\" style=\"stroke:#0099ff; stroke-width:2.4; stroke-opacity:1; fill:none\" points=\"\n",
       "  45.8815,369.674 49.5493,364.811 53.2172,360.015 56.8851,355.288 60.553,350.628 64.2208,346.037 67.8887,341.513 71.5566,337.057 75.2245,332.67 78.8923,328.35 \n",
       "  82.5602,324.098 86.2281,319.914 89.896,315.798 93.5639,311.75 97.2317,307.77 100.9,303.858 104.567,300.014 108.235,296.237 111.903,292.529 115.571,288.889 \n",
       "  119.239,285.316 122.907,281.812 126.575,278.375 130.243,275.007 133.91,271.706 137.578,268.473 141.246,265.308 144.914,262.212 148.582,259.183 152.25,256.222 \n",
       "  155.918,253.329 159.586,250.504 163.254,247.747 166.921,245.057 170.589,242.436 174.257,239.883 177.925,237.397 181.593,234.98 185.261,232.631 188.929,230.349 \n",
       "  192.597,228.135 196.264,225.99 199.932,223.912 203.6,221.902 207.268,219.961 210.936,218.087 214.604,216.281 218.272,214.543 221.94,212.873 225.607,211.271 \n",
       "  229.275,209.736 232.943,208.27 236.611,206.872 240.279,205.542 243.947,204.279 247.615,203.085 251.283,201.958 254.95,200.9 258.618,199.909 262.286,198.986 \n",
       "  265.954,198.132 269.622,197.345 273.29,196.626 276.958,195.975 280.626,195.392 284.293,194.877 287.961,194.43 291.629,194.051 295.297,193.74 298.965,193.497 \n",
       "  302.633,193.321 306.301,193.214 309.969,193.174 313.636,193.203 317.304,193.299 320.972,193.464 324.64,193.696 328.308,193.997 331.976,194.365 335.644,194.801 \n",
       "  339.312,195.305 342.979,195.877 346.647,196.517 350.315,197.225 353.983,198.001 357.651,198.845 361.319,199.757 364.987,200.736 368.655,201.784 372.322,202.9 \n",
       "  375.99,204.083 379.658,205.335 383.326,206.654 386.994,208.041 390.662,209.497 394.33,211.02 397.998,212.611 401.666,214.27 405.333,215.997 409.001,217.792 \n",
       "  412.669,219.655 416.337,221.586 420.005,223.585 423.673,225.652 427.341,227.787 431.009,229.989 434.676,232.26 438.344,234.599 442.012,237.005 445.68,239.48 \n",
       "  449.348,242.022 453.016,244.632 456.684,247.311 460.352,250.057 464.019,252.871 467.687,255.753 471.355,258.703 475.023,261.721 478.691,264.807 482.359,267.961 \n",
       "  486.027,271.183 489.695,274.473 493.362,277.83 497.03,281.256 500.698,284.75 504.366,288.311 508.034,291.941 511.702,295.638 515.37,299.403 519.038,303.237 \n",
       "  522.705,307.138 526.373,311.107 530.041,315.144 533.709,319.249 537.377,323.422 541.045,327.663 544.713,331.972 548.381,336.349 552.048,340.794 555.716,345.307 \n",
       "  559.384,349.887 563.052,354.536 566.72,359.252 570.388,364.037 574.056,368.889 577.724,373.81 581.391,378.798 585.059,383.854 588.727,388.979 592.395,394.171 \n",
       "  596.063,399.431 \n",
       "  \"/>\n",
       "<polyline clip-path=\"url(#clip02)\" style=\"stroke:#e9746a; stroke-width:2.4; stroke-opacity:1; fill:none\" points=\"\n",
       "  45.8815,369.674 50.9898,368.505 56.0982,367.405 61.2065,366.372 66.3149,365.407 71.4232,364.51 76.5316,363.681 81.6399,362.92 86.7483,362.227 91.8567,361.602 \n",
       "  96.965,361.045 102.073,360.555 107.182,360.134 112.29,359.781 117.398,359.495 122.507,359.278 127.615,359.128 132.724,359.047 137.832,359.033 142.94,359.087 \n",
       "  148.049,359.209 153.157,359.4 158.265,359.658 163.374,359.984 168.482,360.378 173.59,360.84 178.699,361.37 183.807,361.967 188.915,362.633 194.024,363.367 \n",
       "  199.132,364.168 204.241,365.038 209.349,365.976 214.457,366.981 219.566,368.054 224.674,369.196 229.782,370.405 234.891,371.682 239.999,373.028 245.107,374.441 \n",
       "  250.216,375.922 255.324,377.471 260.432,379.088 265.541,380.773 270.649,382.525 275.758,384.346 280.866,386.235 285.974,388.192 291.083,390.216 296.191,392.309 \n",
       "  301.299,394.469 306.408,396.698 311.516,398.994 316.624,401.358 321.733,403.791 326.841,406.291 331.949,408.859 337.058,411.495 342.166,414.199 347.274,416.971 \n",
       "  352.383,419.811 357.491,422.719 362.6,425.695 367.708,428.739 372.816,431.85 377.925,435.03 383.033,438.277 388.141,441.593 393.25,444.976 398.358,448.428 \n",
       "  403.466,451.947 408.575,455.534 413.683,459.19 418.791,462.913 423.9,466.704 429.008,470.563 434.117,474.49 439.225,478.485 444.333,482.548 449.442,486.679 \n",
       "  454.55,490.878 459.658,495.144 464.767,499.479 469.875,503.882 474.983,508.352 480.092,512.891 485.2,517.497 490.308,522.171 495.417,526.914 500.525,531.724 \n",
       "  505.634,536.602 510.742,541.548 515.85,546.562 520.959,551.644 526.067,556.794 531.175,562.012 536.284,567.298 541.392,572.652 546.5,578.074 551.609,583.563 \n",
       "  556.717,589.121 561.825,594.747 566.934,600.44 572.042,606.202 577.151,612.031 582.259,617.928 587.367,623.894 592.476,629.927 597.584,636.028 602.692,642.197 \n",
       "  607.801,648.434 612.909,654.739 618.017,661.112 623.126,667.553 628.234,674.062 633.342,680.639 638.451,687.283 643.559,693.996 648.668,700.777 653.776,707.625 \n",
       "  658.884,714.542 663.993,721.526 669.101,728.578 674.209,735.699 679.318,742.887 684.426,750.143 689.534,757.467 694.643,764.859 699.751,772.319 704.859,779.847 \n",
       "  709.968,787.443 715.076,795.107 720.185,802.839 725.293,810.639 730.401,818.506 735.51,826.442 740.618,834.445 745.726,842.517 750.835,850.656 755.943,858.864 \n",
       "  761.051,867.139 766.16,875.482 771.268,883.894 776.376,892.373 781.485,900.92 786.593,909.535 791.702,918.218 796.81,926.969 801.918,935.788 807.027,944.675 \n",
       "  812.135,953.629 817.243,962.652 822.352,971.743 827.46,980.901 832.568,990.128 837.677,999.422 842.785,1008.78 847.893,1018.22 853.002,1027.71 858.11,1037.28 \n",
       "  863.219,1046.91 868.327,1056.62 873.435,1066.39 878.544,1076.22 883.652,1086.13 888.76,1096.1 893.869,1106.15 898.977,1116.26 904.085,1126.43 909.194,1136.68 \n",
       "  914.302,1146.99 919.41,1157.37 924.519,1167.82 929.627,1178.34 934.736,1188.93 939.844,1199.58 944.952,1210.3 950.061,1221.09 955.169,1231.95 960.277,1242.87 \n",
       "  965.386,1253.87 970.494,1264.93 975.602,1276.06 980.711,1287.25 985.819,1298.52 990.927,1309.85 996.036,1321.25 1001.14,1332.72 1006.25,1344.26 1011.36,1355.86 \n",
       "  1016.47,1367.53 1021.58,1379.27 1026.69,1391.08 1031.79,1402.96 1036.9,1414.9 1042.01,1426.91 1047.12,1438.99 1052.23,1451.14 1057.34,1463.36 1062.44,1475.64 \n",
       "  1067.55,1487.99 1072.66,1500.41 1077.77,1512.9 1082.88,1525.46 1087.99,1538.08 1093.09,1550.77 1098.2,1563.53 1103.31,1576.36 1108.42,1589.26 1113.53,1602.22 \n",
       "  1118.64,1615.25 1123.74,1628.35 1128.85,1641.52 1133.96,1654.75 1139.07,1668.05 1144.18,1681.43 1149.29,1694.86 1154.39,1708.37 1159.5,1721.95 1164.61,1735.59 \n",
       "  1169.72,1749.3 1174.83,1763.08 1179.94,1776.93 1185.04,1790.84 1190.15,1804.82 1195.26,1818.87 1200.37,1832.99 1205.48,1847.18 1210.59,1861.43 1215.7,1875.75 \n",
       "  1220.8,1890.14 1225.91,1904.6 1231.02,1919.13 1236.13,1933.72 1241.24,1948.38 1246.35,1963.11 1251.45,1977.91 1256.56,1992.78 1261.67,2007.71 1266.78,2022.71 \n",
       "  1271.89,2037.78 1277,2052.92 1282.1,2068.13 1287.21,2083.4 1292.32,2098.74 1297.43,2114.15 1302.54,2129.63 1307.65,2145.17 1312.75,2160.79 1317.86,2176.47 \n",
       "  1322.97,2192.22 \n",
       "  \"/>\n",
       "<polyline clip-path=\"url(#clip02)\" style=\"stroke:#3cb370; stroke-width:2.4; stroke-opacity:1; fill:none\" points=\"\n",
       "  45.8815,369.674 50.5826,366.781 55.2838,363.956 59.9849,361.199 64.6861,358.51 69.3873,355.888 74.0884,353.335 78.7896,350.85 83.4908,348.432 88.1919,346.083 \n",
       "  92.8931,343.801 97.5943,341.588 102.295,339.442 106.997,337.364 111.698,335.355 116.399,333.413 121.1,331.539 125.801,329.733 130.502,327.995 135.204,326.325 \n",
       "  139.905,324.723 144.606,323.189 149.307,321.722 154.008,320.324 158.709,318.994 163.411,317.731 168.112,316.537 172.813,315.41 177.514,314.352 182.215,313.361 \n",
       "  186.916,312.439 191.618,311.584 196.319,310.797 201.02,310.078 205.721,309.427 210.422,308.844 215.123,308.329 219.825,307.882 224.526,307.503 229.227,307.192 \n",
       "  233.928,306.949 238.629,306.773 243.33,306.666 248.032,306.626 252.733,306.655 257.434,306.751 262.135,306.916 266.836,307.148 271.537,307.448 276.239,307.817 \n",
       "  280.94,308.253 285.641,308.757 290.342,309.329 295.043,309.969 299.744,310.677 304.446,311.453 309.147,312.297 313.848,313.208 318.549,314.188 323.25,315.236 \n",
       "  327.951,316.351 332.652,317.535 337.354,318.786 342.055,320.106 346.756,321.493 351.457,322.948 356.158,324.472 360.859,326.063 365.561,327.722 370.262,329.449 \n",
       "  374.963,331.244 379.664,333.107 384.365,335.038 389.066,337.037 393.768,339.104 398.469,341.238 403.17,343.441 407.871,345.712 412.572,348.05 417.273,350.457 \n",
       "  421.975,352.931 426.676,355.474 431.377,358.084 436.078,360.762 440.779,363.508 445.48,366.322 450.182,369.205 454.883,372.155 459.584,375.173 464.285,378.259 \n",
       "  468.986,381.412 473.687,384.634 478.389,387.924 483.09,391.282 487.791,394.707 492.492,398.201 497.193,401.762 501.894,405.392 506.596,409.089 511.297,412.855 \n",
       "  515.998,416.688 520.699,420.589 525.4,424.558 530.101,428.596 534.803,432.701 539.504,436.874 544.205,441.115 548.906,445.423 553.607,449.8 558.308,454.245 \n",
       "  563.01,458.758 567.711,463.338 572.412,467.987 577.113,472.704 581.814,477.488 586.515,482.341 591.217,487.261 595.918,492.249 600.619,497.306 605.32,502.43 \n",
       "  610.021,507.622 614.722,512.882 619.424,518.21 624.125,523.606 628.826,529.07 633.527,534.602 638.228,540.202 642.929,545.869 647.631,551.605 652.332,557.409 \n",
       "  657.033,563.28 661.734,569.22 666.435,575.227 671.136,581.303 675.838,587.446 680.539,593.657 685.24,599.937 689.941,606.284 694.642,612.699 699.343,619.182 \n",
       "  704.045,625.733 708.746,632.352 713.447,639.039 718.148,645.794 722.849,652.616 727.55,659.507 732.251,666.466 736.953,673.492 741.654,680.587 746.355,687.749 \n",
       "  751.056,694.98 755.757,702.278 760.458,709.644 765.16,717.079 769.861,724.581 774.562,732.151 779.263,739.789 783.964,747.495 788.665,755.269 793.367,763.111 \n",
       "  798.068,771.021 802.769,778.999 807.47,787.044 812.171,795.158 816.872,803.34 821.574,811.589 826.275,819.907 830.976,828.292 835.677,836.746 840.378,845.267 \n",
       "  845.079,853.856 849.781,862.514 854.482,871.239 859.183,880.032 863.884,888.893 868.585,897.822 873.286,906.819 877.988,915.884 882.689,925.016 887.39,934.217 \n",
       "  892.091,943.486 896.792,952.823 901.493,962.227 906.195,971.7 910.896,981.24 915.597,990.849 920.298,1000.53 924.999,1010.27 929.7,1020.08 934.402,1029.96 \n",
       "  939.103,1039.91 943.804,1049.93 948.505,1060.01 953.206,1070.16 957.907,1080.38 962.609,1090.67 967.31,1101.03 972.011,1111.45 976.712,1121.94 981.413,1132.5 \n",
       "  986.114,1143.13 990.816,1153.82 995.517,1164.59 1000.22,1175.42 1004.92,1186.32 1009.62,1197.29 1014.32,1208.32 1019.02,1219.42 1023.72,1230.59 1028.42,1241.83 \n",
       "  1033.13,1253.14 1037.83,1264.52 1042.53,1275.96 1047.23,1287.47 1051.93,1299.05 1056.63,1310.69 1061.33,1322.41 1066.03,1334.19 1070.74,1346.04 1075.44,1357.96 \n",
       "  1080.14,1369.95 1084.84,1382 1089.54,1394.12 1094.24,1406.31 1098.94,1418.57 1103.64,1430.9 1108.34,1443.29 1113.05,1455.75 1117.75,1468.28 1122.45,1480.88 \n",
       "  1127.15,1493.55 1131.85,1506.28 1136.55,1519.08 1141.25,1531.95 1145.95,1544.89 1150.66,1557.9 1155.36,1570.97 1160.06,1584.11 1164.76,1597.32 1169.46,1610.6 \n",
       "  1174.16,1623.94 1178.86,1637.36 1183.56,1650.84 1188.26,1664.39 1192.97,1678 1197.67,1691.69 1202.37,1705.44 1207.07,1719.26 1211.77,1733.15 1216.47,1747.11 \n",
       "  1221.17,1761.13 \n",
       "  \"/>\n",
       "<polyline clip-path=\"url(#clip02)\" style=\"stroke:#d96fd5; stroke-width:2.4; stroke-opacity:1; fill:none\" points=\"\n",
       "  45.8815,369.674 49.855,365.256 53.8286,360.906 57.8022,356.624 61.7758,352.41 65.7494,348.264 69.723,344.186 73.6966,340.176 77.6702,336.233 81.6438,332.359 \n",
       "  85.6174,328.553 89.591,324.814 93.5646,321.144 97.5382,317.541 101.512,314.007 105.485,310.54 109.459,307.141 113.433,303.81 117.406,300.547 121.38,297.353 \n",
       "  125.353,294.226 129.327,291.167 133.301,288.175 137.274,285.252 141.248,282.397 145.221,279.61 149.195,276.891 153.169,274.239 157.142,271.656 161.116,269.14 \n",
       "  165.089,266.693 169.063,264.313 173.037,262.001 177.01,259.758 180.984,257.582 184.957,255.474 188.931,253.434 192.905,251.462 196.878,249.558 200.852,247.722 \n",
       "  204.825,245.954 208.799,244.254 212.772,242.622 216.746,241.057 220.72,239.561 224.693,238.133 228.667,236.772 232.64,235.48 236.614,234.255 240.588,233.098 \n",
       "  244.561,232.01 248.535,230.989 252.508,230.036 256.482,229.151 260.456,228.334 264.429,227.585 268.403,226.904 272.376,226.291 276.35,225.746 280.324,225.269 \n",
       "  284.297,224.86 288.271,224.518 292.244,224.245 296.218,224.04 300.192,223.902 304.165,223.832 308.139,223.831 312.112,223.897 316.086,224.031 320.06,224.234 \n",
       "  324.033,224.504 328.007,224.842 331.98,225.248 335.954,225.722 339.928,226.264 343.901,226.874 347.875,227.552 351.848,228.297 355.822,229.111 359.796,229.993 \n",
       "  363.769,230.942 367.743,231.96 371.716,233.045 375.69,234.199 379.664,235.42 383.637,236.709 387.611,238.067 391.584,239.492 395.558,240.985 399.532,242.546 \n",
       "  403.505,244.175 407.479,245.872 411.452,247.637 415.426,249.47 419.399,251.37 423.373,253.339 427.347,255.376 431.32,257.48 435.294,259.653 439.267,261.894 \n",
       "  443.241,264.202 447.215,266.578 451.188,269.023 455.162,271.535 459.135,274.115 463.109,276.763 467.083,279.479 471.056,282.263 475.03,285.115 479.003,288.035 \n",
       "  482.977,291.023 486.951,294.079 490.924,297.203 494.898,300.394 498.871,303.654 502.845,306.982 506.819,310.377 510.792,313.841 514.766,317.372 518.739,320.971 \n",
       "  522.713,324.639 526.687,328.374 530.66,332.177 534.634,336.048 538.607,339.987 542.581,343.994 546.555,348.069 550.528,352.212 554.502,356.423 558.475,360.702 \n",
       "  562.449,365.048 566.423,369.463 570.396,373.946 574.37,378.496 578.343,383.115 582.317,387.801 586.291,392.555 590.264,397.378 594.238,402.268 598.211,407.226 \n",
       "  602.185,412.252 606.159,417.346 610.132,422.509 614.106,427.738 618.079,433.036 622.053,438.402 626.026,443.836 630,449.338 633.974,454.907 637.947,460.545 \n",
       "  641.921,466.251 645.894,472.024 649.868,477.866 653.842,483.775 657.815,489.752 661.789,495.798 665.762,501.911 669.736,508.092 673.71,514.341 677.683,520.658 \n",
       "  681.657,527.043 685.63,533.496 689.604,540.017 693.578,546.606 697.551,553.263 701.525,559.987 705.498,566.78 709.472,573.641 713.446,580.569 717.419,587.566 \n",
       "  721.393,594.63 725.366,601.762 729.34,608.963 733.314,616.231 737.287,623.567 741.261,630.971 745.234,638.443 749.208,645.983 753.182,653.591 757.155,661.267 \n",
       "  761.129,669.011 765.102,676.823 769.076,684.703 773.05,692.65 777.023,700.666 780.997,708.749 784.97,716.901 788.944,725.12 792.918,733.408 796.891,741.763 \n",
       "  800.865,750.186 804.838,758.678 808.812,767.237 812.785,775.864 816.759,784.559 820.733,793.322 824.706,802.153 828.68,811.052 832.653,820.019 836.627,829.053 \n",
       "  840.601,838.156 844.574,847.327 848.548,856.565 852.521,865.872 856.495,875.246 860.469,884.689 864.442,894.199 868.416,903.777 872.389,913.423 876.363,923.138 \n",
       "  880.337,932.92 884.31,942.77 888.284,952.688 892.257,962.674 896.231,972.728 900.205,982.85 904.178,993.039 908.152,1003.3 912.125,1013.62 916.099,1024.02 \n",
       "  920.073,1034.48 924.046,1045.01 928.02,1055.6 931.993,1066.27 935.967,1077 939.941,1087.8 943.914,1098.67 947.888,1109.61 951.861,1120.62 955.835,1131.69 \n",
       "  959.809,1142.83 963.782,1154.04 967.756,1165.32 971.729,1176.66 975.703,1188.07 979.677,1199.55 983.65,1211.1 987.624,1222.72 991.597,1234.4 995.571,1246.16 \n",
       "  999.545,1257.98 1003.52,1269.87 1007.49,1281.82 1011.47,1293.85 1015.44,1305.94 1019.41,1318.1 1023.39,1330.33 1027.36,1342.62 1031.33,1354.99 1035.31,1367.42 \n",
       "  1039.28,1379.92 \n",
       "  \"/>\n",
       "<polyline clip-path=\"url(#clip02)\" style=\"stroke:#b28c19; stroke-width:2.4; stroke-opacity:1; fill:none\" points=\"\n",
       "  45.8815,369.674 48.8567,364.035 51.8319,358.463 54.8072,352.96 57.7824,347.524 60.7576,342.157 63.7329,336.857 66.7081,331.625 69.6833,326.462 72.6586,321.366 \n",
       "  75.6338,316.338 78.609,311.378 81.5843,306.486 84.5595,301.662 87.5347,296.906 90.51,292.218 93.4852,287.598 96.4604,283.045 99.4357,278.561 102.411,274.145 \n",
       "  105.386,269.796 108.361,265.516 111.337,261.303 114.312,257.158 117.287,253.082 120.262,249.073 123.238,245.132 126.213,241.259 129.188,237.454 132.163,233.718 \n",
       "  135.138,230.048 138.114,226.447 141.089,222.914 144.064,219.449 147.039,216.052 150.015,212.723 152.99,209.461 155.965,206.268 158.94,203.142 161.916,200.085 \n",
       "  164.891,197.095 167.866,194.173 170.841,191.32 173.816,188.534 176.792,185.816 179.767,183.166 182.742,180.584 185.717,178.07 188.693,175.624 191.668,173.246 \n",
       "  194.643,170.936 197.618,168.694 200.594,166.52 203.569,164.413 206.544,162.375 209.519,160.404 212.495,158.502 215.47,156.667 218.445,154.901 221.42,153.202 \n",
       "  224.395,151.571 227.371,150.008 230.346,148.514 233.321,147.087 236.296,145.728 239.272,144.437 242.247,143.214 245.222,142.058 248.197,140.971 251.173,139.952 \n",
       "  254.148,139.001 257.123,138.117 260.098,137.302 263.073,136.554 266.049,135.875 269.024,135.263 271.999,134.72 274.974,134.244 277.95,133.836 280.925,133.496 \n",
       "  283.9,133.224 286.875,133.02 289.851,132.884 292.826,132.816 295.801,132.816 298.776,132.884 301.752,133.02 304.727,133.224 307.702,133.495 310.677,133.835 \n",
       "  313.652,134.242 316.628,134.718 319.603,135.261 322.578,135.873 325.553,136.552 328.529,137.299 331.504,138.114 334.479,138.997 337.454,139.949 340.43,140.968 \n",
       "  343.405,142.055 346.38,143.209 349.355,144.432 352.331,145.723 355.306,147.082 358.281,148.508 361.256,150.003 364.231,151.566 367.207,153.196 370.182,154.895 \n",
       "  373.157,156.661 376.132,158.495 379.108,160.398 382.083,162.368 385.058,164.406 388.033,166.512 391.009,168.686 393.984,170.928 396.959,173.238 399.934,175.616 \n",
       "  402.909,178.062 405.885,180.576 408.86,183.157 411.835,185.807 414.81,188.524 417.786,191.31 420.761,194.163 423.736,197.085 426.711,200.074 429.687,203.132 \n",
       "  432.662,206.257 435.637,209.45 438.612,212.711 441.588,216.04 444.563,219.437 447.538,222.902 450.513,226.435 453.488,230.036 456.464,233.705 459.439,237.441 \n",
       "  462.414,241.246 465.389,245.119 468.365,249.059 471.34,253.068 474.315,257.144 477.29,261.289 480.266,265.501 483.241,269.781 486.216,274.129 489.191,278.545 \n",
       "  492.166,283.03 495.142,287.582 498.117,292.202 501.092,296.889 504.067,301.645 507.043,306.469 510.018,311.361 512.993,316.321 515.968,321.348 518.944,326.444 \n",
       "  521.919,331.607 524.894,336.839 527.869,342.138 530.845,347.506 533.82,352.941 536.795,358.444 539.77,364.015 542.745,369.654 545.721,375.361 548.696,381.136 \n",
       "  551.671,386.979 554.646,392.89 557.622,398.869 560.597,404.916 563.572,411.031 566.547,417.213 569.523,423.464 572.498,429.782 575.473,436.169 578.448,442.623 \n",
       "  581.423,449.146 584.399,455.736 587.374,462.394 590.349,469.12 593.324,475.915 596.3,482.777 599.275,489.707 602.25,496.705 605.225,503.771 608.201,510.904 \n",
       "  611.176,518.106 614.151,525.376 617.126,532.714 620.102,540.119 623.077,547.593 626.052,555.134 629.027,562.744 632.002,570.421 634.978,578.167 637.953,585.98 \n",
       "  640.928,593.861 643.903,601.81 646.879,609.827 649.854,617.912 652.829,626.065 655.804,634.286 658.78,642.575 661.755,650.932 664.73,659.357 667.705,667.85 \n",
       "  670.68,676.41 673.656,685.039 676.631,693.735 679.606,702.5 682.581,711.332 685.557,720.233 688.532,729.201 691.507,738.237 694.482,747.341 697.458,756.514 \n",
       "  700.433,765.754 703.408,775.062 706.383,784.438 709.359,793.881 712.334,803.393 715.309,812.973 718.284,822.621 721.259,832.337 724.235,842.12 727.21,851.972 \n",
       "  730.185,861.891 733.16,871.879 736.136,881.934 739.111,892.057 742.086,902.249 745.061,912.508 748.037,922.835 751.012,933.23 753.987,943.693 756.962,954.224 \n",
       "  759.937,964.823 762.913,975.49 765.888,986.225 768.863,997.028 771.838,1007.9 774.814,1018.84 777.789,1029.84 780.764,1040.92 783.739,1052.06 786.715,1063.27 \n",
       "  789.69,1074.55 \n",
       "  \"/>\n",
       "<polyline clip-path=\"url(#clip02)\" style=\"stroke:#00abab; stroke-width:2.4; stroke-opacity:1; fill:none\" points=\"\n",
       "  45.8815,369.674 47.6556,363.2 49.4297,356.794 51.2038,350.455 52.9779,344.185 54.752,337.983 56.5261,331.848 58.3002,325.781 60.0744,319.783 61.8485,313.852 \n",
       "  63.6226,307.99 65.3967,302.195 67.1708,296.468 68.9449,290.809 70.719,285.218 72.4932,279.695 74.2673,274.24 76.0414,268.853 77.8155,263.534 79.5896,258.282 \n",
       "  81.3637,253.099 83.1378,247.984 84.912,242.936 86.6861,237.957 88.4602,233.045 90.2343,228.202 92.0084,223.426 93.7825,218.719 95.5566,214.079 97.3307,209.507 \n",
       "  99.1049,205.003 100.879,200.567 102.653,196.199 104.427,191.899 106.201,187.667 107.975,183.503 109.75,179.407 111.524,175.378 113.298,171.418 115.072,167.526 \n",
       "  116.846,163.701 118.62,159.945 120.394,156.256 122.168,152.636 123.942,149.083 125.717,145.598 127.491,142.181 129.265,138.833 131.039,135.552 132.813,132.339 \n",
       "  134.587,129.194 136.361,126.117 138.135,123.108 139.909,120.166 141.684,117.293 143.458,114.488 145.232,111.75 147.006,109.081 148.78,106.48 150.554,103.946 \n",
       "  152.328,101.48 154.102,99.0828 155.876,96.7531 157.651,94.4913 159.425,92.2975 161.199,90.1716 162.973,88.1137 164.747,86.1237 166.521,84.2017 168.295,82.3476 \n",
       "  170.069,80.5614 171.844,78.8432 173.618,77.1929 175.392,75.6106 177.166,74.0962 178.94,72.6497 180.714,71.2712 182.488,69.9607 184.262,68.7181 186.036,67.5434 \n",
       "  187.811,66.4366 189.585,65.3979 191.359,64.427 193.133,63.5241 194.907,62.6891 196.681,61.9221 198.455,61.223 200.229,60.5919 202.003,60.0287 203.778,59.5334 \n",
       "  205.552,59.1061 207.326,58.7468 209.1,58.4553 210.874,58.2319 212.648,58.0763 214.422,57.9887 216.196,57.9691 217.97,58.0174 219.745,58.1336 221.519,58.3178 \n",
       "  223.293,58.5699 225.067,58.89 226.841,59.278 228.615,59.7339 230.389,60.2578 232.163,60.8496 233.937,61.5094 235.712,62.2371 237.486,63.0328 239.26,63.8964 \n",
       "  241.034,64.8279 242.808,65.8274 244.582,66.8948 246.356,68.0302 248.13,69.2335 249.905,70.5048 251.679,71.844 253.453,73.2511 255.227,74.7262 257.001,76.2692 \n",
       "  258.775,77.8802 260.549,79.5591 262.323,81.306 264.097,83.1208 265.872,85.0035 267.646,86.9542 269.42,88.9728 271.194,91.0594 272.968,93.2139 274.742,95.4363 \n",
       "  276.516,97.7267 278.29,100.085 280.064,102.511 281.839,105.006 283.613,107.568 285.387,110.198 287.161,112.896 288.935,115.662 290.709,118.496 292.483,121.398 \n",
       "  294.257,124.368 296.031,127.405 297.806,130.511 299.58,133.685 301.354,136.926 303.128,140.236 304.902,143.613 306.676,147.059 308.45,150.572 310.224,154.153 \n",
       "  311.999,157.803 313.773,161.52 315.547,165.305 317.321,169.158 319.095,173.079 320.869,177.068 322.643,181.125 324.417,185.25 326.191,189.443 327.966,193.703 \n",
       "  329.74,198.032 331.514,202.429 333.288,206.893 335.062,211.426 336.836,216.026 338.61,220.694 340.384,225.431 342.158,230.235 343.933,235.107 345.707,240.047 \n",
       "  347.481,245.056 349.255,250.132 351.029,255.276 352.803,260.487 354.577,265.767 356.351,271.115 358.125,276.531 359.9,282.015 361.674,287.566 363.448,293.186 \n",
       "  365.222,298.873 366.996,304.629 368.77,310.452 370.544,316.344 372.318,322.303 374.092,328.33 375.867,334.425 377.641,340.588 379.415,346.82 381.189,353.119 \n",
       "  382.963,359.485 384.737,365.92 386.511,372.423 388.285,378.994 390.06,385.633 391.834,392.339 393.608,399.114 395.382,405.957 397.156,412.867 398.93,419.845 \n",
       "  400.704,426.892 402.478,434.006 404.252,441.188 406.027,448.439 407.801,455.757 409.575,463.143 411.349,470.597 413.123,478.119 414.897,485.709 416.671,493.367 \n",
       "  418.445,501.093 420.219,508.886 421.994,516.748 423.768,524.678 425.542,532.675 427.316,540.741 429.09,548.874 430.864,557.076 432.638,565.345 434.412,573.682 \n",
       "  436.186,582.087 437.961,590.561 439.735,599.102 441.509,607.711 443.283,616.388 445.057,625.133 446.831,633.946 448.605,642.826 450.379,651.775 452.153,660.792 \n",
       "  453.928,669.877 455.702,679.029 457.476,688.25 459.25,697.538 461.024,706.895 462.798,716.319 464.572,725.811 466.346,735.372 468.121,745 469.895,754.696 \n",
       "  471.669,764.46 473.443,774.292 475.217,784.192 476.991,794.16 478.765,804.196 480.539,814.3 482.313,824.471 484.088,834.711 485.862,845.019 487.636,855.394 \n",
       "  489.41,865.838 \n",
       "  \"/>\n",
       "<polygon clip-path=\"url(#clip00)\" points=\"\n",
       "444.925,150.101 578.063,150.101 578.063,44.2615 444.925,44.2615 \n",
       "  \" fill=\"#ffffff\" fill-opacity=\"1\"/>\n",
       "<polyline clip-path=\"url(#clip00)\" style=\"stroke:#00002d; stroke-width:0.8; stroke-opacity:1; fill:none\" points=\"\n",
       "  444.925,150.101 578.063,150.101 578.063,44.2615 444.925,44.2615 444.925,150.101 \n",
       "  \"/>\n",
       "<polyline clip-path=\"url(#clip00)\" style=\"stroke:#0099ff; stroke-width:2.4; stroke-opacity:1; fill:none\" points=\"\n",
       "  450.925,59.3815 486.925,59.3815 \n",
       "  \"/>\n",
       "<g clip-path=\"url(#clip00)\">\n",
       "<text style=\"fill:#00002d; fill-opacity:1; font-family:Arial,Helvetica Neue,Helvetica,sans-serif; font-size:12; text-anchor:start;\" transform=\"rotate(0, 492.925, 63.8815)\" x=\"492.925\" y=\"63.8815\">Ángulo: 45 °   </text>\n",
       "</g>\n",
       "<polyline clip-path=\"url(#clip00)\" style=\"stroke:#e9746a; stroke-width:2.4; stroke-opacity:1; fill:none\" points=\"\n",
       "  450.925,74.5015 486.925,74.5015 \n",
       "  \"/>\n",
       "<g clip-path=\"url(#clip00)\">\n",
       "<text style=\"fill:#00002d; fill-opacity:1; font-family:Arial,Helvetica Neue,Helvetica,sans-serif; font-size:12; text-anchor:start;\" transform=\"rotate(0, 492.925, 79.0015)\" x=\"492.925\" y=\"79.0015\">Ángulo: 10 °   </text>\n",
       "</g>\n",
       "<polyline clip-path=\"url(#clip00)\" style=\"stroke:#3cb370; stroke-width:2.4; stroke-opacity:1; fill:none\" points=\"\n",
       "  450.925,89.6215 486.925,89.6215 \n",
       "  \"/>\n",
       "<g clip-path=\"url(#clip00)\">\n",
       "<text style=\"fill:#00002d; fill-opacity:1; font-family:Arial,Helvetica Neue,Helvetica,sans-serif; font-size:12; text-anchor:start;\" transform=\"rotate(0, 492.925, 94.1215)\" x=\"492.925\" y=\"94.1215\">Ángulo: 25 °   </text>\n",
       "</g>\n",
       "<polyline clip-path=\"url(#clip00)\" style=\"stroke:#d96fd5; stroke-width:2.4; stroke-opacity:1; fill:none\" points=\"\n",
       "  450.925,104.741 486.925,104.741 \n",
       "  \"/>\n",
       "<g clip-path=\"url(#clip00)\">\n",
       "<text style=\"fill:#00002d; fill-opacity:1; font-family:Arial,Helvetica Neue,Helvetica,sans-serif; font-size:12; text-anchor:start;\" transform=\"rotate(0, 492.925, 109.241)\" x=\"492.925\" y=\"109.241\">Ángulo: 40 °   </text>\n",
       "</g>\n",
       "<polyline clip-path=\"url(#clip00)\" style=\"stroke:#b28c19; stroke-width:2.4; stroke-opacity:1; fill:none\" points=\"\n",
       "  450.925,119.861 486.925,119.861 \n",
       "  \"/>\n",
       "<g clip-path=\"url(#clip00)\">\n",
       "<text style=\"fill:#00002d; fill-opacity:1; font-family:Arial,Helvetica Neue,Helvetica,sans-serif; font-size:12; text-anchor:start;\" transform=\"rotate(0, 492.925, 124.361)\" x=\"492.925\" y=\"124.361\">Ángulo: 55 °   </text>\n",
       "</g>\n",
       "<polyline clip-path=\"url(#clip00)\" style=\"stroke:#00abab; stroke-width:2.4; stroke-opacity:1; fill:none\" points=\"\n",
       "  450.925,134.981 486.925,134.981 \n",
       "  \"/>\n",
       "<g clip-path=\"url(#clip00)\">\n",
       "<text style=\"fill:#00002d; fill-opacity:1; font-family:Arial,Helvetica Neue,Helvetica,sans-serif; font-size:12; text-anchor:start;\" transform=\"rotate(0, 492.925, 139.481)\" x=\"492.925\" y=\"139.481\">Ángulo: 70 °   </text>\n",
       "</g>\n",
       "</svg>\n"
      ]
     },
     "execution_count": 30,
     "metadata": {},
     "output_type": "execute_result"
    }
   ],
   "source": [
    "### Ahora dibujo muchas trayectorias en la misma gráfica\n",
    "\n",
    "t_final = 25\n",
    "v_inicial = 100   \n",
    "\n",
    "x_inicial = 0\n",
    "y_inicial = 0\n",
    "\n",
    "\n",
    "δθ = 15\n",
    "θ_min = 10\n",
    "θ_max = 80\n",
    "\n",
    "for θ_grados in θ_min : δθ : θ_max\n",
    "    \n",
    "    θ_radianes = deg2rad(θ_grados)\n",
    "    X, Y = tiro_parabolico(v_inicial , θ_radianes, x_inicial, y_inicial, t_final)\n",
    "    \n",
    "    plot!(X, Y,\n",
    "            linewidth = 3,\n",
    "            label = \"Ángulo: $θ_grados °   \")  # Intento que todo se vea bien.\n",
    "end\n",
    "title!(\"Tiros parabólicos\")\n",
    "xlabel!(\"Alcance\")\n",
    "ylabel!(\"Altura\")\n",
    "ylims!(0, 500)"
   ]
  },
  {
   "cell_type": "markdown",
   "metadata": {},
   "source": [
    "* Claramente el máximo alcance se obtiene cuando el ángulo inicial es $\\pi/4$."
   ]
  },
  {
   "cell_type": "markdown",
   "metadata": {},
   "source": [
    "## Calculando $\\pi$"
   ]
  },
  {
   "cell_type": "markdown",
   "metadata": {},
   "source": [
    "Ya estamos llegando a poder hacer cálculos útiles:\n",
    "\n",
    "[8] Una manera de calcular $\\pi$ es al utilizar la [siguiente fórmula](https://en.wikipedia.org/wiki/Basel_problem):\n",
    "\n",
    "$$\\sum_{n=1}^\\infty \\frac{1}{n^2} = \\frac{\\pi^2}{6}.$$"
   ]
  },
  {
   "cell_type": "markdown",
   "metadata": {},
   "source": [
    "* Voy a separar lo incisos para que se entienda mejor mi tarea. Con `<Ctrl-Shift-Minus>` es fácil hacerlo."
   ]
  },
  {
   "cell_type": "markdown",
   "metadata": {},
   "source": [
    "(i) Fija una $N$ y calcula $\\pi$ usando una suma hasta $N$. Haz de esto una función que se llama `mi_π`.\n",
    "[\"π\" se teclea como `\\pi<TAB>`.]"
   ]
  },
  {
   "cell_type": "code",
   "execution_count": 31,
   "metadata": {
    "collapsed": false
   },
   "outputs": [
    {
     "data": {
      "text/plain": [
       "mi_π (generic function with 1 method)"
      ]
     },
     "execution_count": 31,
     "metadata": {},
     "output_type": "execute_result"
    }
   ],
   "source": [
    "function mi_π(n)  # Separo las operaciones con nombres descriptivos para que se lea facilmente mi código.\n",
    "    elementos_suma = [1/(i^2) for i in 1:n]\n",
    "    suma = sum(elementos_suma)\n",
    "    return sqrt(6*suma)\n",
    "end"
   ]
  },
  {
   "cell_type": "markdown",
   "metadata": {},
   "source": [
    "(ii) Ahora repite el cálculo para valores diferentes de $N$, *usando sólo lo que hemos visto en este notebook*."
   ]
  },
  {
   "cell_type": "code",
   "execution_count": 32,
   "metadata": {
    "collapsed": false
   },
   "outputs": [
    {
     "data": {
      "text/plain": [
       "10-element Array{Float64,1}:\n",
       " 2.44949\n",
       " 3.05748\n",
       " 3.09687\n",
       " 3.11113\n",
       " 3.1185 \n",
       " 3.123  \n",
       " 3.12603\n",
       " 3.12821\n",
       " 3.12985\n",
       " 3.13114"
      ]
     },
     "execution_count": 32,
     "metadata": {},
     "output_type": "execute_result"
    }
   ],
   "source": [
    "aproximaciones = [mi_π(i) for i in 1:10:100] "
   ]
  },
  {
   "cell_type": "markdown",
   "metadata": {},
   "source": [
    "(iii) Grafica el resultado para los distintos valores de $N$, como función de $N$. ¿Qué observas? ¿Qué puedes agregar a tu gráfica para mostralo?"
   ]
  },
  {
   "cell_type": "code",
   "execution_count": 33,
   "metadata": {
    "collapsed": false
   },
   "outputs": [
    {
     "data": {
      "text/plain": [
       "aprox_pi (generic function with 1 method)"
      ]
     },
     "execution_count": 33,
     "metadata": {},
     "output_type": "execute_result"
    }
   ],
   "source": [
    "# Si defino todo en una función podré experimentar más fácilmente.\n",
    "\n",
    "function aprox_pi(N)\n",
    "    \n",
    "    rango = 0:10:N\n",
    "    aproximaciones = [mi_π(i) for i in rango] \n",
    "    \n",
    "    plot( rango, aproximaciones,\n",
    "            linewidth=3,\n",
    "            xlabel=\"N\",\n",
    "            ylabel=\"mi_pi\",\n",
    "            title=\"Calculando Pi\",\n",
    "            label=\"Mi función\",\n",
    "            ylims=(3.0,3.15) )\n",
    "    hline!([π],linewidth=3,label=\"Valor de Pi\")\n",
    "end"
   ]
  },
  {
   "cell_type": "code",
   "execution_count": 34,
   "metadata": {
    "collapsed": false
   },
   "outputs": [
    {
     "data": {
      "text/html": [
       "<?xml version=\"1.0\" encoding=\"utf-8\"?>\n",
       "<svg xmlns=\"http://www.w3.org/2000/svg\" xmlns:xlink=\"http://www.w3.org/1999/xlink\" width=\"600\" height=\"400\" viewBox=\"0 0 600 400\">\n",
       "<defs>\n",
       "  <clipPath id=\"clip00\">\n",
       "    <rect x=\"0\" y=\"0\" width=\"600\" height=\"400\"/>\n",
       "  </clipPath>\n",
       "</defs>\n",
       "<polygon clip-path=\"url(#clip00)\" points=\"\n",
       "0,400 600,400 600,0 0,0 \n",
       "  \" fill=\"#ffffff\" fill-opacity=\"1\"/>\n",
       "<defs>\n",
       "  <clipPath id=\"clip01\">\n",
       "    <rect x=\"120\" y=\"0\" width=\"421\" height=\"400\"/>\n",
       "  </clipPath>\n",
       "</defs>\n",
       "<polygon clip-path=\"url(#clip00)\" points=\"\n",
       "54.7703,369.674 596.063,369.674 596.063,23.3815 54.7703,23.3815 \n",
       "  \" fill=\"#ffffff\" fill-opacity=\"1\"/>\n",
       "<defs>\n",
       "  <clipPath id=\"clip02\">\n",
       "    <rect x=\"54\" y=\"23\" width=\"542\" height=\"347\"/>\n",
       "  </clipPath>\n",
       "</defs>\n",
       "<polyline clip-path=\"url(#clip02)\" style=\"stroke:#00002d; stroke-width:0.8; stroke-opacity:0.5; fill:none\" stroke-dasharray=\"1, 2\" points=\"\n",
       "  54.7703,364.48 54.7703,28.5758 \n",
       "  \"/>\n",
       "<polyline clip-path=\"url(#clip02)\" style=\"stroke:#00002d; stroke-width:0.8; stroke-opacity:0.5; fill:none\" stroke-dasharray=\"1, 2\" points=\"\n",
       "  163.029,364.48 163.029,28.5758 \n",
       "  \"/>\n",
       "<polyline clip-path=\"url(#clip02)\" style=\"stroke:#00002d; stroke-width:0.8; stroke-opacity:0.5; fill:none\" stroke-dasharray=\"1, 2\" points=\"\n",
       "  271.287,364.48 271.287,28.5758 \n",
       "  \"/>\n",
       "<polyline clip-path=\"url(#clip02)\" style=\"stroke:#00002d; stroke-width:0.8; stroke-opacity:0.5; fill:none\" stroke-dasharray=\"1, 2\" points=\"\n",
       "  379.546,364.48 379.546,28.5758 \n",
       "  \"/>\n",
       "<polyline clip-path=\"url(#clip02)\" style=\"stroke:#00002d; stroke-width:0.8; stroke-opacity:0.5; fill:none\" stroke-dasharray=\"1, 2\" points=\"\n",
       "  487.804,364.48 487.804,28.5758 \n",
       "  \"/>\n",
       "<polyline clip-path=\"url(#clip02)\" style=\"stroke:#00002d; stroke-width:0.8; stroke-opacity:0.5; fill:none\" stroke-dasharray=\"1, 2\" points=\"\n",
       "  596.063,364.48 596.063,28.5758 \n",
       "  \"/>\n",
       "<polyline clip-path=\"url(#clip02)\" style=\"stroke:#00002d; stroke-width:0.8; stroke-opacity:0.5; fill:none\" stroke-dasharray=\"1, 2\" points=\"\n",
       "  62.8897,369.674 587.944,369.674 \n",
       "  \"/>\n",
       "<polyline clip-path=\"url(#clip02)\" style=\"stroke:#00002d; stroke-width:0.8; stroke-opacity:0.5; fill:none\" stroke-dasharray=\"1, 2\" points=\"\n",
       "  62.8897,254.243 587.944,254.243 \n",
       "  \"/>\n",
       "<polyline clip-path=\"url(#clip02)\" style=\"stroke:#00002d; stroke-width:0.8; stroke-opacity:0.5; fill:none\" stroke-dasharray=\"1, 2\" points=\"\n",
       "  62.8897,138.812 587.944,138.812 \n",
       "  \"/>\n",
       "<polyline clip-path=\"url(#clip02)\" style=\"stroke:#00002d; stroke-width:0.8; stroke-opacity:1; fill:none\" points=\"\n",
       "  54.7703,369.674 596.063,369.674 \n",
       "  \"/>\n",
       "<polyline clip-path=\"url(#clip02)\" style=\"stroke:#00002d; stroke-width:0.8; stroke-opacity:1; fill:none\" points=\"\n",
       "  54.7703,369.674 54.7703,364.48 \n",
       "  \"/>\n",
       "<polyline clip-path=\"url(#clip02)\" style=\"stroke:#00002d; stroke-width:0.8; stroke-opacity:1; fill:none\" points=\"\n",
       "  163.029,369.674 163.029,364.48 \n",
       "  \"/>\n",
       "<polyline clip-path=\"url(#clip02)\" style=\"stroke:#00002d; stroke-width:0.8; stroke-opacity:1; fill:none\" points=\"\n",
       "  271.287,369.674 271.287,364.48 \n",
       "  \"/>\n",
       "<polyline clip-path=\"url(#clip02)\" style=\"stroke:#00002d; stroke-width:0.8; stroke-opacity:1; fill:none\" points=\"\n",
       "  379.546,369.674 379.546,364.48 \n",
       "  \"/>\n",
       "<polyline clip-path=\"url(#clip02)\" style=\"stroke:#00002d; stroke-width:0.8; stroke-opacity:1; fill:none\" points=\"\n",
       "  487.804,369.674 487.804,364.48 \n",
       "  \"/>\n",
       "<polyline clip-path=\"url(#clip02)\" style=\"stroke:#00002d; stroke-width:0.8; stroke-opacity:1; fill:none\" points=\"\n",
       "  596.063,369.674 596.063,364.48 \n",
       "  \"/>\n",
       "<polyline clip-path=\"url(#clip02)\" style=\"stroke:#00002d; stroke-width:0.8; stroke-opacity:1; fill:none\" points=\"\n",
       "  54.7703,369.674 54.7703,23.3815 \n",
       "  \"/>\n",
       "<polyline clip-path=\"url(#clip02)\" style=\"stroke:#00002d; stroke-width:0.8; stroke-opacity:1; fill:none\" points=\"\n",
       "  54.7703,369.674 62.8897,369.674 \n",
       "  \"/>\n",
       "<polyline clip-path=\"url(#clip02)\" style=\"stroke:#00002d; stroke-width:0.8; stroke-opacity:1; fill:none\" points=\"\n",
       "  54.7703,254.243 62.8897,254.243 \n",
       "  \"/>\n",
       "<polyline clip-path=\"url(#clip02)\" style=\"stroke:#00002d; stroke-width:0.8; stroke-opacity:1; fill:none\" points=\"\n",
       "  54.7703,138.812 62.8897,138.812 \n",
       "  \"/>\n",
       "<g clip-path=\"url(#clip00)\">\n",
       "<text style=\"fill:#00002d; fill-opacity:1; font-family:Arial,Helvetica Neue,Helvetica,sans-serif; font-size:12; text-anchor:middle;\" transform=\"rotate(0, 54.7703, 381.674)\" x=\"54.7703\" y=\"381.674\">0</text>\n",
       "</g>\n",
       "<g clip-path=\"url(#clip00)\">\n",
       "<text style=\"fill:#00002d; fill-opacity:1; font-family:Arial,Helvetica Neue,Helvetica,sans-serif; font-size:12; text-anchor:middle;\" transform=\"rotate(0, 163.029, 381.674)\" x=\"163.029\" y=\"381.674\">200</text>\n",
       "</g>\n",
       "<g clip-path=\"url(#clip00)\">\n",
       "<text style=\"fill:#00002d; fill-opacity:1; font-family:Arial,Helvetica Neue,Helvetica,sans-serif; font-size:12; text-anchor:middle;\" transform=\"rotate(0, 271.287, 381.674)\" x=\"271.287\" y=\"381.674\">400</text>\n",
       "</g>\n",
       "<g clip-path=\"url(#clip00)\">\n",
       "<text style=\"fill:#00002d; fill-opacity:1; font-family:Arial,Helvetica Neue,Helvetica,sans-serif; font-size:12; text-anchor:middle;\" transform=\"rotate(0, 379.546, 381.674)\" x=\"379.546\" y=\"381.674\">600</text>\n",
       "</g>\n",
       "<g clip-path=\"url(#clip00)\">\n",
       "<text style=\"fill:#00002d; fill-opacity:1; font-family:Arial,Helvetica Neue,Helvetica,sans-serif; font-size:12; text-anchor:middle;\" transform=\"rotate(0, 487.804, 381.674)\" x=\"487.804\" y=\"381.674\">800</text>\n",
       "</g>\n",
       "<g clip-path=\"url(#clip00)\">\n",
       "<text style=\"fill:#00002d; fill-opacity:1; font-family:Arial,Helvetica Neue,Helvetica,sans-serif; font-size:12; text-anchor:middle;\" transform=\"rotate(0, 596.063, 381.674)\" x=\"596.063\" y=\"381.674\">1000</text>\n",
       "</g>\n",
       "<g clip-path=\"url(#clip00)\">\n",
       "<text style=\"fill:#00002d; fill-opacity:1; font-family:Arial,Helvetica Neue,Helvetica,sans-serif; font-size:12; text-anchor:end;\" transform=\"rotate(0, 53.5703, 374.174)\" x=\"53.5703\" y=\"374.174\">3.00</text>\n",
       "</g>\n",
       "<g clip-path=\"url(#clip00)\">\n",
       "<text style=\"fill:#00002d; fill-opacity:1; font-family:Arial,Helvetica Neue,Helvetica,sans-serif; font-size:12; text-anchor:end;\" transform=\"rotate(0, 53.5703, 258.743)\" x=\"53.5703\" y=\"258.743\">3.05</text>\n",
       "</g>\n",
       "<g clip-path=\"url(#clip00)\">\n",
       "<text style=\"fill:#00002d; fill-opacity:1; font-family:Arial,Helvetica Neue,Helvetica,sans-serif; font-size:12; text-anchor:end;\" transform=\"rotate(0, 53.5703, 143.312)\" x=\"53.5703\" y=\"143.312\">3.10</text>\n",
       "</g>\n",
       "<g clip-path=\"url(#clip00)\">\n",
       "<text style=\"fill:#00002d; fill-opacity:1; font-family:Arial,Helvetica Neue,Helvetica,sans-serif; font-size:21; text-anchor:middle;\" transform=\"rotate(0, 325.417, 18)\" x=\"325.417\" y=\"18\">Calculando Pi</text>\n",
       "</g>\n",
       "<g clip-path=\"url(#clip00)\">\n",
       "<text style=\"fill:#00002d; fill-opacity:1; font-family:Arial,Helvetica Neue,Helvetica,sans-serif; font-size:16; text-anchor:middle;\" transform=\"rotate(0, 325.417, 397.6)\" x=\"325.417\" y=\"397.6\">N</text>\n",
       "</g>\n",
       "<g clip-path=\"url(#clip00)\">\n",
       "<text style=\"fill:#00002d; fill-opacity:1; font-family:Arial,Helvetica Neue,Helvetica,sans-serif; font-size:16; text-anchor:start;\" transform=\"rotate(-90, 14.7312, 210.275)\" x=\"14.7312\" y=\"210.275\">mi</text>\n",
       "</g>\n",
       "<g clip-path=\"url(#clip00)\">\n",
       "<text style=\"fill:#00002d; fill-opacity:1; font-family:Arial,Helvetica Neue,Helvetica,sans-serif; font-size:14; text-anchor:start;\" transform=\"rotate(-90, 19.4164, 193.082)\" x=\"19.4164\" y=\"193.082\">pi</text>\n",
       "</g>\n",
       "<polyline clip-path=\"url(#clip02)\" style=\"stroke:#0099ff; stroke-width:2.4; stroke-opacity:1; fill:none\" points=\"\n",
       "  54.7703,7295.53 60.1833,255.717 65.5962,151.118 71.0091,115.429 76.422,97.4276 81.835,86.5763 87.2479,79.3211 92.6608,74.1284 98.0738,70.2283 103.487,67.1915 \n",
       "  108.9,64.7599 114.313,62.769 119.725,61.109 125.138,59.7037 130.551,58.4986 135.964,57.4539 141.377,56.5394 146.79,55.7323 152.203,55.0147 157.616,54.3726 \n",
       "  163.029,53.7945 168.442,53.2714 173.855,52.7957 179.268,52.3614 184.681,51.9632 190.094,51.5968 195.506,51.2586 200.919,50.9453 206.332,50.6545 211.745,50.3836 \n",
       "  217.158,50.1308 222.571,49.8943 227.984,49.6726 233.397,49.4643 238.81,49.2682 244.223,49.0833 249.636,48.9087 255.049,48.7435 260.462,48.587 265.874,48.4385 \n",
       "  271.287,48.2974 276.7,48.1632 282.113,48.0354 287.526,47.9136 292.939,47.7972 298.352,47.6861 303.765,47.5797 309.178,47.4779 314.591,47.3803 320.004,47.2867 \n",
       "  325.417,47.1969 330.83,47.1105 336.243,47.0275 341.655,46.9476 347.068,46.8707 352.481,46.7966 357.894,46.7251 363.307,46.6561 368.72,46.5895 374.133,46.5252 \n",
       "  379.546,46.4629 384.959,46.4028 390.372,46.3446 395.785,46.2882 401.198,46.2336 406.611,46.1806 412.023,46.1293 417.436,46.0795 422.849,46.0312 428.262,45.9842 \n",
       "  433.675,45.9386 439.088,45.8943 444.501,45.8512 449.914,45.8093 455.327,45.7685 460.74,45.7289 466.153,45.6902 471.566,45.6526 476.979,45.6159 482.392,45.5802 \n",
       "  487.804,45.5453 493.217,45.5113 498.63,45.4782 504.043,45.4458 509.456,45.4142 514.869,45.3833 520.282,45.3532 525.695,45.3238 531.108,45.295 536.521,45.2669 \n",
       "  541.934,45.2394 547.347,45.2125 552.76,45.1862 558.173,45.1604 563.585,45.1352 568.998,45.1105 574.411,45.0864 579.824,45.0627 585.237,45.0396 590.65,45.0169 \n",
       "  596.063,44.9946 \n",
       "  \"/>\n",
       "<polyline clip-path=\"url(#clip02)\" style=\"stroke:#e9746a; stroke-width:2.4; stroke-opacity:1; fill:none\" points=\"\n",
       "  54.7703,42.7908 596.063,42.7908 \n",
       "  \"/>\n",
       "<polygon clip-path=\"url(#clip00)\" points=\"\n",
       "460.096,89.6215 578.063,89.6215 578.063,44.2615 460.096,44.2615 \n",
       "  \" fill=\"#ffffff\" fill-opacity=\"1\"/>\n",
       "<polyline clip-path=\"url(#clip00)\" style=\"stroke:#00002d; stroke-width:0.8; stroke-opacity:1; fill:none\" points=\"\n",
       "  460.096,89.6215 578.063,89.6215 578.063,44.2615 460.096,44.2615 460.096,89.6215 \n",
       "  \"/>\n",
       "<polyline clip-path=\"url(#clip00)\" style=\"stroke:#0099ff; stroke-width:2.4; stroke-opacity:1; fill:none\" points=\"\n",
       "  466.096,59.3815 502.096,59.3815 \n",
       "  \"/>\n",
       "<g clip-path=\"url(#clip00)\">\n",
       "<text style=\"fill:#00002d; fill-opacity:1; font-family:Arial,Helvetica Neue,Helvetica,sans-serif; font-size:12; text-anchor:start;\" transform=\"rotate(0, 508.096, 63.8815)\" x=\"508.096\" y=\"63.8815\">Mi función</text>\n",
       "</g>\n",
       "<polyline clip-path=\"url(#clip00)\" style=\"stroke:#e9746a; stroke-width:2.4; stroke-opacity:1; fill:none\" points=\"\n",
       "  466.096,74.5015 502.096,74.5015 \n",
       "  \"/>\n",
       "<g clip-path=\"url(#clip00)\">\n",
       "<text style=\"fill:#00002d; fill-opacity:1; font-family:Arial,Helvetica Neue,Helvetica,sans-serif; font-size:12; text-anchor:start;\" transform=\"rotate(0, 508.096, 79.0015)\" x=\"508.096\" y=\"79.0015\">Valor de Pi</text>\n",
       "</g>\n",
       "</svg>\n"
      ]
     },
     "execution_count": 34,
     "metadata": {},
     "output_type": "execute_result"
    }
   ],
   "source": [
    "aprox_pi(1000)"
   ]
  },
  {
   "cell_type": "markdown",
   "metadata": {},
   "source": [
    "(iv) ¿Cómo podrías ver qué tan rápidamente converge la suma cuando $N \\to \\infty$? Hazlo."
   ]
  },
  {
   "cell_type": "code",
   "execution_count": 35,
   "metadata": {
    "collapsed": false
   },
   "outputs": [
    {
     "data": {
      "text/plain": [
       "convergencia_pi (generic function with 1 method)"
      ]
     },
     "execution_count": 35,
     "metadata": {},
     "output_type": "execute_result"
    }
   ],
   "source": [
    "# Analizando el valor absoluto de la diferencia entre mi aproximación y el valor real en función de N.\n",
    "\n",
    "function convergencia_pi(N)\n",
    "    \n",
    "    rango = 1:10:N\n",
    "    separacion = [abs(mi_π(i) - π ) for i in rango]\n",
    "    \n",
    "    plot(rango, separacion,\n",
    "        linecolor = :blue, \n",
    "        markershape = :circle,\n",
    "        markersize = 5,  # Exploando un poco las opciones\n",
    "        markercolor = :magenta,\n",
    "        alpha = 0.5,\n",
    "        xscale = :log10, \n",
    "        yscale = :log10,\n",
    "        label = \"Aproximaciones   \",\n",
    "        xlabel = \"Orden de aproximación\",\n",
    "        ylabel = \"Diferencia con valor real\",\n",
    "        title = \"Convergencia a Pi\")\n",
    "\n",
    "end"
   ]
  },
  {
   "cell_type": "code",
   "execution_count": 36,
   "metadata": {
    "collapsed": false
   },
   "outputs": [
    {
     "data": {
      "text/html": [
       "<?xml version=\"1.0\" encoding=\"utf-8\"?>\n",
       "<svg xmlns=\"http://www.w3.org/2000/svg\" xmlns:xlink=\"http://www.w3.org/1999/xlink\" width=\"600\" height=\"400\" viewBox=\"0 0 600 400\">\n",
       "<defs>\n",
       "  <clipPath id=\"clip00\">\n",
       "    <rect x=\"0\" y=\"0\" width=\"600\" height=\"400\"/>\n",
       "  </clipPath>\n",
       "</defs>\n",
       "<polygon clip-path=\"url(#clip00)\" points=\"\n",
       "0,400 600,400 600,0 0,0 \n",
       "  \" fill=\"#ffffff\" fill-opacity=\"1\"/>\n",
       "<defs>\n",
       "  <clipPath id=\"clip01\">\n",
       "    <rect x=\"120\" y=\"0\" width=\"421\" height=\"400\"/>\n",
       "  </clipPath>\n",
       "</defs>\n",
       "<polygon clip-path=\"url(#clip00)\" points=\"\n",
       "81.437,369.674 596.063,369.674 596.063,23.3815 81.437,23.3815 \n",
       "  \" fill=\"#ffffff\" fill-opacity=\"1\"/>\n",
       "<defs>\n",
       "  <clipPath id=\"clip02\">\n",
       "    <rect x=\"81\" y=\"23\" width=\"515\" height=\"347\"/>\n",
       "  </clipPath>\n",
       "</defs>\n",
       "<polyline clip-path=\"url(#clip02)\" style=\"stroke:#00002d; stroke-width:0.8; stroke-opacity:0.5; fill:none\" stroke-dasharray=\"1, 2\" points=\"\n",
       "  81.437,364.48 81.437,28.5758 \n",
       "  \"/>\n",
       "<polyline clip-path=\"url(#clip02)\" style=\"stroke:#00002d; stroke-width:0.8; stroke-opacity:0.5; fill:none\" stroke-dasharray=\"1, 2\" points=\"\n",
       "  212.783,364.48 212.783,28.5758 \n",
       "  \"/>\n",
       "<polyline clip-path=\"url(#clip02)\" style=\"stroke:#00002d; stroke-width:0.8; stroke-opacity:0.5; fill:none\" stroke-dasharray=\"1, 2\" points=\"\n",
       "  344.13,364.48 344.13,28.5758 \n",
       "  \"/>\n",
       "<polyline clip-path=\"url(#clip02)\" style=\"stroke:#00002d; stroke-width:0.8; stroke-opacity:0.5; fill:none\" stroke-dasharray=\"1, 2\" points=\"\n",
       "  475.476,364.48 475.476,28.5758 \n",
       "  \"/>\n",
       "<polyline clip-path=\"url(#clip02)\" style=\"stroke:#00002d; stroke-width:0.8; stroke-opacity:0.5; fill:none\" stroke-dasharray=\"1, 2\" points=\"\n",
       "  89.1564,278.25 588.344,278.25 \n",
       "  \"/>\n",
       "<polyline clip-path=\"url(#clip02)\" style=\"stroke:#00002d; stroke-width:0.8; stroke-opacity:0.5; fill:none\" stroke-dasharray=\"1, 2\" points=\"\n",
       "  89.1564,183.162 588.344,183.162 \n",
       "  \"/>\n",
       "<polyline clip-path=\"url(#clip02)\" style=\"stroke:#00002d; stroke-width:0.8; stroke-opacity:0.5; fill:none\" stroke-dasharray=\"1, 2\" points=\"\n",
       "  89.1564,88.0739 588.344,88.0739 \n",
       "  \"/>\n",
       "<polyline clip-path=\"url(#clip02)\" style=\"stroke:#00002d; stroke-width:0.8; stroke-opacity:1; fill:none\" points=\"\n",
       "  81.437,369.674 596.063,369.674 \n",
       "  \"/>\n",
       "<polyline clip-path=\"url(#clip02)\" style=\"stroke:#00002d; stroke-width:0.8; stroke-opacity:1; fill:none\" points=\"\n",
       "  81.437,369.674 81.437,364.48 \n",
       "  \"/>\n",
       "<polyline clip-path=\"url(#clip02)\" style=\"stroke:#00002d; stroke-width:0.8; stroke-opacity:1; fill:none\" points=\"\n",
       "  212.783,369.674 212.783,364.48 \n",
       "  \"/>\n",
       "<polyline clip-path=\"url(#clip02)\" style=\"stroke:#00002d; stroke-width:0.8; stroke-opacity:1; fill:none\" points=\"\n",
       "  344.13,369.674 344.13,364.48 \n",
       "  \"/>\n",
       "<polyline clip-path=\"url(#clip02)\" style=\"stroke:#00002d; stroke-width:0.8; stroke-opacity:1; fill:none\" points=\"\n",
       "  475.476,369.674 475.476,364.48 \n",
       "  \"/>\n",
       "<polyline clip-path=\"url(#clip02)\" style=\"stroke:#00002d; stroke-width:0.8; stroke-opacity:1; fill:none\" points=\"\n",
       "  81.437,369.674 81.437,23.3815 \n",
       "  \"/>\n",
       "<polyline clip-path=\"url(#clip02)\" style=\"stroke:#00002d; stroke-width:0.8; stroke-opacity:1; fill:none\" points=\"\n",
       "  81.437,278.25 89.1564,278.25 \n",
       "  \"/>\n",
       "<polyline clip-path=\"url(#clip02)\" style=\"stroke:#00002d; stroke-width:0.8; stroke-opacity:1; fill:none\" points=\"\n",
       "  81.437,183.162 89.1564,183.162 \n",
       "  \"/>\n",
       "<polyline clip-path=\"url(#clip02)\" style=\"stroke:#00002d; stroke-width:0.8; stroke-opacity:1; fill:none\" points=\"\n",
       "  81.437,88.0739 89.1564,88.0739 \n",
       "  \"/>\n",
       "<g clip-path=\"url(#clip00)\">\n",
       "<text style=\"fill:#00002d; fill-opacity:1; font-family:Arial,Helvetica Neue,Helvetica,sans-serif; font-size:12; text-anchor:start;\" transform=\"rotate(0, 68.1548, 386.626)\" x=\"68.1548\" y=\"386.626\">10</text>\n",
       "</g>\n",
       "<g clip-path=\"url(#clip00)\">\n",
       "<text style=\"fill:#00002d; fill-opacity:1; font-family:Arial,Helvetica Neue,Helvetica,sans-serif; font-size:10; text-anchor:start;\" transform=\"rotate(0, 81.334, 379.773)\" x=\"81.334\" y=\"379.773\">0.0</text>\n",
       "</g>\n",
       "<g clip-path=\"url(#clip00)\">\n",
       "<text style=\"fill:#00002d; fill-opacity:1; font-family:Arial,Helvetica Neue,Helvetica,sans-serif; font-size:12; text-anchor:start;\" transform=\"rotate(0, 199.501, 386.626)\" x=\"199.501\" y=\"386.626\">10</text>\n",
       "</g>\n",
       "<g clip-path=\"url(#clip00)\">\n",
       "<text style=\"fill:#00002d; fill-opacity:1; font-family:Arial,Helvetica Neue,Helvetica,sans-serif; font-size:10; text-anchor:start;\" transform=\"rotate(0, 212.68, 379.773)\" x=\"212.68\" y=\"379.773\">0.5</text>\n",
       "</g>\n",
       "<g clip-path=\"url(#clip00)\">\n",
       "<text style=\"fill:#00002d; fill-opacity:1; font-family:Arial,Helvetica Neue,Helvetica,sans-serif; font-size:12; text-anchor:start;\" transform=\"rotate(0, 330.848, 386.626)\" x=\"330.848\" y=\"386.626\">10</text>\n",
       "</g>\n",
       "<g clip-path=\"url(#clip00)\">\n",
       "<text style=\"fill:#00002d; fill-opacity:1; font-family:Arial,Helvetica Neue,Helvetica,sans-serif; font-size:10; text-anchor:start;\" transform=\"rotate(0, 344.027, 379.773)\" x=\"344.027\" y=\"379.773\">1.0</text>\n",
       "</g>\n",
       "<g clip-path=\"url(#clip00)\">\n",
       "<text style=\"fill:#00002d; fill-opacity:1; font-family:Arial,Helvetica Neue,Helvetica,sans-serif; font-size:12; text-anchor:start;\" transform=\"rotate(0, 462.194, 386.626)\" x=\"462.194\" y=\"386.626\">10</text>\n",
       "</g>\n",
       "<g clip-path=\"url(#clip00)\">\n",
       "<text style=\"fill:#00002d; fill-opacity:1; font-family:Arial,Helvetica Neue,Helvetica,sans-serif; font-size:10; text-anchor:start;\" transform=\"rotate(0, 475.373, 379.773)\" x=\"475.373\" y=\"379.773\">1.5</text>\n",
       "</g>\n",
       "<g clip-path=\"url(#clip00)\">\n",
       "<text style=\"fill:#00002d; fill-opacity:1; font-family:Arial,Helvetica Neue,Helvetica,sans-serif; font-size:12; text-anchor:start;\" transform=\"rotate(0, 48.0489, 284.182)\" x=\"48.0489\" y=\"284.182\">10</text>\n",
       "</g>\n",
       "<g clip-path=\"url(#clip00)\">\n",
       "<text style=\"fill:#00002d; fill-opacity:1; font-family:Arial,Helvetica Neue,Helvetica,sans-serif; font-size:10; text-anchor:start;\" transform=\"rotate(0, 61.2281, 277.33)\" x=\"61.2281\" y=\"277.33\">-</text>\n",
       "</g>\n",
       "<g clip-path=\"url(#clip00)\">\n",
       "<text style=\"fill:#00002d; fill-opacity:1; font-family:Arial,Helvetica Neue,Helvetica,sans-serif; font-size:10; text-anchor:start;\" transform=\"rotate(0, 66.8518, 277.33)\" x=\"66.8518\" y=\"277.33\">1.5</text>\n",
       "</g>\n",
       "<g clip-path=\"url(#clip00)\">\n",
       "<text style=\"fill:#00002d; fill-opacity:1; font-family:Arial,Helvetica Neue,Helvetica,sans-serif; font-size:12; text-anchor:start;\" transform=\"rotate(0, 48.0489, 189.094)\" x=\"48.0489\" y=\"189.094\">10</text>\n",
       "</g>\n",
       "<g clip-path=\"url(#clip00)\">\n",
       "<text style=\"fill:#00002d; fill-opacity:1; font-family:Arial,Helvetica Neue,Helvetica,sans-serif; font-size:10; text-anchor:start;\" transform=\"rotate(0, 61.2281, 182.241)\" x=\"61.2281\" y=\"182.241\">-</text>\n",
       "</g>\n",
       "<g clip-path=\"url(#clip00)\">\n",
       "<text style=\"fill:#00002d; fill-opacity:1; font-family:Arial,Helvetica Neue,Helvetica,sans-serif; font-size:10; text-anchor:start;\" transform=\"rotate(0, 66.8518, 182.241)\" x=\"66.8518\" y=\"182.241\">1.0</text>\n",
       "</g>\n",
       "<g clip-path=\"url(#clip00)\">\n",
       "<text style=\"fill:#00002d; fill-opacity:1; font-family:Arial,Helvetica Neue,Helvetica,sans-serif; font-size:12; text-anchor:start;\" transform=\"rotate(0, 48.0489, 94.0058)\" x=\"48.0489\" y=\"94.0058\">10</text>\n",
       "</g>\n",
       "<g clip-path=\"url(#clip00)\">\n",
       "<text style=\"fill:#00002d; fill-opacity:1; font-family:Arial,Helvetica Neue,Helvetica,sans-serif; font-size:10; text-anchor:start;\" transform=\"rotate(0, 61.2281, 87.1532)\" x=\"61.2281\" y=\"87.1532\">-</text>\n",
       "</g>\n",
       "<g clip-path=\"url(#clip00)\">\n",
       "<text style=\"fill:#00002d; fill-opacity:1; font-family:Arial,Helvetica Neue,Helvetica,sans-serif; font-size:10; text-anchor:start;\" transform=\"rotate(0, 66.8518, 87.1532)\" x=\"66.8518\" y=\"87.1532\">0.5</text>\n",
       "</g>\n",
       "<g clip-path=\"url(#clip00)\">\n",
       "<text style=\"fill:#00002d; fill-opacity:1; font-family:Arial,Helvetica Neue,Helvetica,sans-serif; font-size:21; text-anchor:middle;\" transform=\"rotate(0, 338.75, 18)\" x=\"338.75\" y=\"18\">Convergencia a Pi</text>\n",
       "</g>\n",
       "<g clip-path=\"url(#clip00)\">\n",
       "<text style=\"fill:#00002d; fill-opacity:1; font-family:Arial,Helvetica Neue,Helvetica,sans-serif; font-size:16; text-anchor:middle;\" transform=\"rotate(0, 338.75, 397.6)\" x=\"338.75\" y=\"397.6\">Orden de aproximación</text>\n",
       "</g>\n",
       "<g clip-path=\"url(#clip00)\">\n",
       "<text style=\"fill:#00002d; fill-opacity:1; font-family:Arial,Helvetica Neue,Helvetica,sans-serif; font-size:16; text-anchor:middle;\" transform=\"rotate(-90, 14.4, 196.528)\" x=\"14.4\" y=\"196.528\">Diferencia con valor real</text>\n",
       "</g>\n",
       "<polyline clip-path=\"url(#clip02)\" style=\"stroke:#0000ff; stroke-width:0.8; stroke-opacity:0.5; fill:none\" points=\"\n",
       "  81.437,23.3815 355.003,197.453 428.774,249.618 473.207,281.344 505.104,304.209 530.003,322.098 550.43,336.794 567.749,349.265 582.782,360.098 596.063,369.674 \n",
       "  \n",
       "  \"/>\n",
       "<circle clip-path=\"url(#clip02)\" style=\"fill:#00002d; stroke:none; fill-opacity:0.5\" cx=\"81.437\" cy=\"23.3815\" r=\"4\"/>\n",
       "<circle clip-path=\"url(#clip02)\" style=\"fill:#ff00ff; stroke:none; fill-opacity:0.5\" cx=\"81.437\" cy=\"23.3815\" r=\"3\"/>\n",
       "<circle clip-path=\"url(#clip02)\" style=\"fill:#00002d; stroke:none; fill-opacity:0.5\" cx=\"355.003\" cy=\"197.453\" r=\"4\"/>\n",
       "<circle clip-path=\"url(#clip02)\" style=\"fill:#ff00ff; stroke:none; fill-opacity:0.5\" cx=\"355.003\" cy=\"197.453\" r=\"3\"/>\n",
       "<circle clip-path=\"url(#clip02)\" style=\"fill:#00002d; stroke:none; fill-opacity:0.5\" cx=\"428.774\" cy=\"249.618\" r=\"4\"/>\n",
       "<circle clip-path=\"url(#clip02)\" style=\"fill:#ff00ff; stroke:none; fill-opacity:0.5\" cx=\"428.774\" cy=\"249.618\" r=\"3\"/>\n",
       "<circle clip-path=\"url(#clip02)\" style=\"fill:#00002d; stroke:none; fill-opacity:0.5\" cx=\"473.207\" cy=\"281.344\" r=\"4\"/>\n",
       "<circle clip-path=\"url(#clip02)\" style=\"fill:#ff00ff; stroke:none; fill-opacity:0.5\" cx=\"473.207\" cy=\"281.344\" r=\"3\"/>\n",
       "<circle clip-path=\"url(#clip02)\" style=\"fill:#00002d; stroke:none; fill-opacity:0.5\" cx=\"505.104\" cy=\"304.209\" r=\"4\"/>\n",
       "<circle clip-path=\"url(#clip02)\" style=\"fill:#ff00ff; stroke:none; fill-opacity:0.5\" cx=\"505.104\" cy=\"304.209\" r=\"3\"/>\n",
       "<circle clip-path=\"url(#clip02)\" style=\"fill:#00002d; stroke:none; fill-opacity:0.5\" cx=\"530.003\" cy=\"322.098\" r=\"4\"/>\n",
       "<circle clip-path=\"url(#clip02)\" style=\"fill:#ff00ff; stroke:none; fill-opacity:0.5\" cx=\"530.003\" cy=\"322.098\" r=\"3\"/>\n",
       "<circle clip-path=\"url(#clip02)\" style=\"fill:#00002d; stroke:none; fill-opacity:0.5\" cx=\"550.43\" cy=\"336.794\" r=\"4\"/>\n",
       "<circle clip-path=\"url(#clip02)\" style=\"fill:#ff00ff; stroke:none; fill-opacity:0.5\" cx=\"550.43\" cy=\"336.794\" r=\"3\"/>\n",
       "<circle clip-path=\"url(#clip02)\" style=\"fill:#00002d; stroke:none; fill-opacity:0.5\" cx=\"567.749\" cy=\"349.265\" r=\"4\"/>\n",
       "<circle clip-path=\"url(#clip02)\" style=\"fill:#ff00ff; stroke:none; fill-opacity:0.5\" cx=\"567.749\" cy=\"349.265\" r=\"3\"/>\n",
       "<circle clip-path=\"url(#clip02)\" style=\"fill:#00002d; stroke:none; fill-opacity:0.5\" cx=\"582.782\" cy=\"360.098\" r=\"4\"/>\n",
       "<circle clip-path=\"url(#clip02)\" style=\"fill:#ff00ff; stroke:none; fill-opacity:0.5\" cx=\"582.782\" cy=\"360.098\" r=\"3\"/>\n",
       "<circle clip-path=\"url(#clip02)\" style=\"fill:#00002d; stroke:none; fill-opacity:0.5\" cx=\"596.063\" cy=\"369.674\" r=\"4\"/>\n",
       "<circle clip-path=\"url(#clip02)\" style=\"fill:#ff00ff; stroke:none; fill-opacity:0.5\" cx=\"596.063\" cy=\"369.674\" r=\"3\"/>\n",
       "<polygon clip-path=\"url(#clip00)\" points=\"\n",
       "423.876,74.5015 578.063,74.5015 578.063,44.2615 423.876,44.2615 \n",
       "  \" fill=\"#ffffff\" fill-opacity=\"1\"/>\n",
       "<polyline clip-path=\"url(#clip00)\" style=\"stroke:#00002d; stroke-width:0.8; stroke-opacity:1; fill:none\" points=\"\n",
       "  423.876,74.5015 578.063,74.5015 578.063,44.2615 423.876,44.2615 423.876,74.5015 \n",
       "  \"/>\n",
       "<polyline clip-path=\"url(#clip00)\" style=\"stroke:#0000ff; stroke-width:0.8; stroke-opacity:0.5; fill:none\" points=\"\n",
       "  429.876,59.3815 465.876,59.3815 \n",
       "  \"/>\n",
       "<circle clip-path=\"url(#clip00)\" style=\"fill:#00002d; stroke:none; fill-opacity:0.5\" cx=\"435.876\" cy=\"59.3815\" r=\"7\"/>\n",
       "<circle clip-path=\"url(#clip00)\" style=\"fill:#ff00ff; stroke:none; fill-opacity:0.5\" cx=\"435.876\" cy=\"59.3815\" r=\"7\"/>\n",
       "<circle clip-path=\"url(#clip00)\" style=\"fill:#00002d; stroke:none; fill-opacity:0.5\" cx=\"459.876\" cy=\"59.3815\" r=\"7\"/>\n",
       "<circle clip-path=\"url(#clip00)\" style=\"fill:#ff00ff; stroke:none; fill-opacity:0.5\" cx=\"459.876\" cy=\"59.3815\" r=\"7\"/>\n",
       "<g clip-path=\"url(#clip00)\">\n",
       "<text style=\"fill:#00002d; fill-opacity:1; font-family:Arial,Helvetica Neue,Helvetica,sans-serif; font-size:12; text-anchor:start;\" transform=\"rotate(0, 471.876, 63.8815)\" x=\"471.876\" y=\"63.8815\">Aproximaciones   </text>\n",
       "</g>\n",
       "</svg>\n"
      ]
     },
     "execution_count": 36,
     "metadata": {},
     "output_type": "execute_result"
    }
   ],
   "source": [
    "convergencia_pi(100)"
   ]
  },
  {
   "cell_type": "markdown",
   "metadata": {},
   "source": [
    "La gráfica con ejes logarítmicos es una linea recta.\n",
    "\n",
    "Si $\\Delta$ representa la diferencia entre el valor real y mi aproximación, $b$ la ordenada al origen y $m$ la pendiente de la recta obtenida, tenemos que:\n",
    "\n",
    "$$ log_{10}\\Delta = b + m \\log_{10}N$$ \n",
    "\n",
    "$$ \\Delta = 10^{ b + m \\log_{10}N} = 10^b N^m $$"
   ]
  },
  {
   "cell_type": "code",
   "execution_count": 37,
   "metadata": {
    "collapsed": false
   },
   "outputs": [
    {
     "name": "stdout",
     "output_type": "stream",
     "text": [
      "search: \u001b[1ml\u001b[22m\u001b[1mi\u001b[22m\u001b[1mn\u001b[22m\u001b[1mr\u001b[22m\u001b[1me\u001b[22m\u001b[1mg\u001b[22m \u001b[1ml\u001b[22m\u001b[1mi\u001b[22m\u001b[1mn\u001b[22mea\u001b[1mr\u001b[22mindic\u001b[1me\u001b[22ms \u001b[1mL\u001b[22m\u001b[1mi\u001b[22m\u001b[1mn\u001b[22meNumbe\u001b[1mr\u001b[22mNod\u001b[1me\u001b[22m\n",
      "\n"
     ]
    },
    {
     "data": {
      "text/markdown": [
       "```\n",
       "linreg(x, y)\n",
       "```\n",
       "\n",
       "Perform simple linear regression using Ordinary Least Squares. Returns `a` and `b` such that `a + b*x` is the closest straight line to the given points `(x, y)`, i.e., such that the squared error between `y` and `a + b*x` is minimized.\n",
       "\n",
       "Examples:\n",
       "\n",
       "```\n",
       "using PyPlot\n",
       "x = 1.0:12.0\n",
       "y = [5.5, 6.3, 7.6, 8.8, 10.9, 11.79, 13.48, 15.02, 17.77, 20.81, 22.0, 22.99]\n",
       "a, b = linreg(x, y)          # Linear regression\n",
       "plot(x, y, \"o\")              # Plot (x, y) points\n",
       "plot(x, a + b*x)             # Plot line determined by linear regression\n",
       "```\n",
       "\n",
       "See also:\n",
       "\n",
       "`\\`, `cov`, `std`, `mean`\n"
      ],
      "text/plain": [
       "```\n",
       "linreg(x, y)\n",
       "```\n",
       "\n",
       "Perform simple linear regression using Ordinary Least Squares. Returns `a` and `b` such that `a + b*x` is the closest straight line to the given points `(x, y)`, i.e., such that the squared error between `y` and `a + b*x` is minimized.\n",
       "\n",
       "Examples:\n",
       "\n",
       "```\n",
       "using PyPlot\n",
       "x = 1.0:12.0\n",
       "y = [5.5, 6.3, 7.6, 8.8, 10.9, 11.79, 13.48, 15.02, 17.77, 20.81, 22.0, 22.99]\n",
       "a, b = linreg(x, y)          # Linear regression\n",
       "plot(x, y, \"o\")              # Plot (x, y) points\n",
       "plot(x, a + b*x)             # Plot line determined by linear regression\n",
       "```\n",
       "\n",
       "See also:\n",
       "\n",
       "`\\`, `cov`, `std`, `mean`\n"
      ]
     },
     "execution_count": 37,
     "metadata": {},
     "output_type": "execute_result"
    }
   ],
   "source": [
    "?linreg  # Usamos lo que se mostró en clase."
   ]
  },
  {
   "cell_type": "code",
   "execution_count": 38,
   "metadata": {
    "collapsed": false
   },
   "outputs": [
    {
     "data": {
      "text/plain": [
       "(-0.0730631287552459,-0.9967867713271358)"
      ]
     },
     "execution_count": 38,
     "metadata": {},
     "output_type": "execute_result"
    }
   ],
   "source": [
    "rango = 1:10:10000\n",
    "separacion = [abs(mi_π(i) - π ) for i in rango]\n",
    "b, m = linreg(log(rango), log(separacion))"
   ]
  },
  {
   "cell_type": "markdown",
   "metadata": {},
   "source": [
    "$$ \\Delta \\sim \\frac{1}{N} $$"
   ]
  }
 ],
 "metadata": {
  "anaconda-cloud": {},
  "hide_input": false,
  "kernelspec": {
   "display_name": "Julia 0.5.1-pre",
   "language": "julia",
   "name": "julia-0.5"
  },
  "language_info": {
   "file_extension": ".jl",
   "mimetype": "application/julia",
   "name": "julia",
   "version": "0.5.1"
  }
 },
 "nbformat": 4,
 "nbformat_minor": 0
}
