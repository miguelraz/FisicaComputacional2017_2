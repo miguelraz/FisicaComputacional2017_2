{
 "cells": [
  {
   "cell_type": "markdown",
   "metadata": {},
   "source": [
    "# Tarea 07: Modelaje de sistemas físicos\n",
    "\n",
    "## Fecha límite de entrega: lunes 17 de abril de 2017"
   ]
  },
  {
   "cell_type": "markdown",
   "metadata": {},
   "source": [
    "Teniendo métodos numéricos para EDOs, podemos modelar distintos sistemas físicos.\n",
    "Para hacerlo, puedes utilizar o los métodos que has implementado, o utilizar un paquete de Julia ya desarrollado (y muy poderoso), `DifferentialEquations.jl`."
   ]
  },
  {
   "cell_type": "markdown",
   "metadata": {},
   "source": [
    "## DifferentialEquations.jl"
   ]
  },
  {
   "cell_type": "markdown",
   "metadata": {},
   "source": [
    "**[1]** (i) Instala el paquete. \n",
    "\n",
    "(ii) Lee las instrucciones y anota si algo no te queda claro.\n",
    "\n",
    "(iii) Escribe un breve resumen de cómo se utilizan las funciones del paquete y qué tipo de objeto regresan, usando un ejemplo sencillo, por ejemplo, el péndulo simple.\n",
    "\n",
    "(iv) Escribe un pedazo de la documentación que no hayas entendido de forma más claro. (Puede ser en español.)"
   ]
  },
  {
   "cell_type": "markdown",
   "metadata": {},
   "source": [
    "### Atractor de Lorenz"
   ]
  },
  {
   "cell_type": "markdown",
   "metadata": {},
   "source": [
    "**[2]** (i) Encuentra las **ecuaciones de Lorenz** (¡no Lorentz!), que provee un modelo (o, más bien, una caricatura) de la dinámica de la atmósfera.\n",
    "\n",
    "(ii) Intégralos y dibuja trayectorias largas en 2D y 3D con distintos colores. ¿Qué observas? [Para dibujar en 3D, se puede utilizar `plot3D` de PyPlot.] Hazlo animado y/o interactivo.\n",
    "\n",
    "(iii) Toma dos trayectorias con condiciones iniciales *muy* cercanas. ¿Cómo varía la distancia entre ellas en el tiempo (para tiempos suficientemente cortos)? -- calcúlalo numéricamente Dibújalos en colores diferentes. Llamamos un sistema con este tipo de comportamiento *caótico*."
   ]
  },
  {
   "cell_type": "markdown",
   "metadata": {},
   "source": [
    "### Dinámica de $N$ cuerpos"
   ]
  },
  {
   "cell_type": "markdown",
   "metadata": {},
   "source": [
    "**[3]** Gran parte de la dinámica clásica se originó en el estudio de los cuerpos celestes. \n",
    "\n",
    "(i) Considera un sistema de dos cuerpos con una interacción gravitacional. ¿Cuáles variables necesitas? Escribe las ecuaciones diferenciales cuidadosamente y escribe la función $\\mathbf{f}$ correspondiente de Julia para el sistema $\\dot{\\mathbf{x}} = \\mathbf{f}(\\mathbf{x})$.\n",
    "\n",
    "(ii) Resuelve las ecuaciones numéricamente para dos masas iguales. ¿Ocurre lo que debería ocurrir? Haz una animación de la dinámica.\n",
    "\n",
    "(iii) Cambia una de las dos masas. ¿Ahora qué pasa? \n",
    "\n",
    "(iv) Cambia al sistema de coordenadas del centro de masa. ¿Qué ocurre?\n",
    "\n",
    "(iv) ¿Qué ocurre si una de las dos masas es mucho más grande?"
   ]
  },
  {
   "cell_type": "markdown",
   "metadata": {},
   "source": [
    "**[4]**\n",
    "\n",
    "(i) Haz lo mismo para 3 cuerpos. \n",
    "\n",
    "(ii) De este sistema, existen soluciones especiales llamadas *coreografías* (choreographies), en las cuales las masas se siguen la una a la otra. Busca las condiciones iniciales adecuadas e integra las ecuaciones. Haz una animación.\n",
    "\n",
    "(iii) En el problema restringida de 3 cuerpos, una de las masas es tan pequeña que no influye a las otras dos. ¿Cómo puedes resolver esto numéricamente? ¿Qué observas? ¡Hazlo interactivo!"
   ]
  },
  {
   "cell_type": "markdown",
   "metadata": {},
   "source": [
    "**[5]** ** (Opcional) ¿Cómo puedes hacer una simulación de $N$ cuerpos, donde $N$ es un parámetro que puedes variar? ¡Hazlo!"
   ]
  }
 ],
 "metadata": {
  "kernelspec": {
   "display_name": "Julia 0.5.0",
   "language": "julia",
   "name": "julia-0.5"
  },
  "language_info": {
   "file_extension": ".jl",
   "mimetype": "application/julia",
   "name": "julia",
   "version": "0.5.1"
  }
 },
 "nbformat": 4,
 "nbformat_minor": 0
}
