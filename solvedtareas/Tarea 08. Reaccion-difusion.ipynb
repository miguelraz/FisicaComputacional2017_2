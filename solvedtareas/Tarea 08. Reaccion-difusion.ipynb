{
 "cells": [
  {
   "cell_type": "markdown",
   "metadata": {},
   "source": [
    "# Tarea 8\n",
    "\n",
    "## Entrega: jueves 27 de abril de 2017"
   ]
  },
  {
   "cell_type": "markdown",
   "metadata": {},
   "source": [
    "Una ecuación ligeramente distinta en apariencia, pero radicalmente distinta en comportamiento, de la ecuación de difusión es la siguiente ecuación de **reacción-difusión**; el primer término se puede considerar como modelando una reacción química local, o el crecimiento local de una población de animales:\n",
    "\n",
    "$$\\frac{\\partial u}{\\partial t} = u(1-u) + \\nabla^2 u.$$"
   ]
  },
  {
   "cell_type": "markdown",
   "metadata": {},
   "source": [
    "**[1]** Considera la ecuación de reacción-difusión en una dimensión espacial: $u = u(t, x)$.\n",
    "\n",
    "(i) Considera estados **espacialmente uniformes** de la ecuación, es decir, que no dependan del espacio, tal que la derivada espacial desaparece. Encuentra las soluciones **estacionarias** de la EDO correspondiente, es decir, que no cambian en el tiempo. ¿Cuál es estable y cuál es inestable? Es decir, si el sistema comienza cerca de cada uno, ¿se queda cerca, o se aleja?\n",
    "\n",
    "(ii) Utiliza las condiciones de frontera particulares de Dirichlet siguientes: $u(0) = a$ y $u(L) = b$, donde $a$ y $b$ son los valores estacionarios de la ecuación que encontraste en la pregunta (i). Como condición inicial, utiliza todos ceros excepto en las fronteras. Simula la evolución del sistema por bastante tiempo. Puedes utilizar Euler (o sea, la discretización más sencilla en el tiempo). [No guardes todos los pasos intermedios para que no se trabe tu computadora.]\n",
    "\n",
    "(iii) Dibuja sólo unas cuantas gráficas que ilustren la evolución (e.g. 10 figuras). Haz una animación. ¿Qué observas? Descríbelo con la máxima precisión que puedas.\n",
    "\n",
    "(iv) Ahora utiliza condiciones periódicas, con una condición inicial localizada y chica, es decir, como una delta, pero de magnitud chica, digamos 0.1. ¿Qué observas? ¿Cómo se relaciona con la pregunta (i)?\n",
    "\n",
    "(v) Debes haber visto algún tipo de esparcimiento en el espacio. Para calcular qué tan rápido se esparce, calcula en el tiempo el número de sitios del sistema cuyo valor $u_i$ excede un cierto umbral, e.g. $0.9a$. Dibuja una gráfica de esta cantidad en función del tiempo para calcular un tipo de velocidad. Compara esto con la tasa de esparcimiento de difusión que conoces (por ejemplo, por el desplazamiento cuadrático medio).\n",
    "\n",
    "(vi) ¿Qué concluyes acerca del comportamiento físico de este sistema? Interprétalo en el contexto de las reacciones o de los animales, y contrástalo con la difusión pura."
   ]
  },
  {
   "cell_type": "markdown",
   "metadata": {},
   "source": [
    "**[2]** (i) Simula la ecuación de reacción-difusión en 2D con condiciones periódicas y una condición inicial que es una delta chiquita de nuevo. ¿Observas el mismo comportamiento físico?\n",
    "\n",
    "(ii) Utiliza una condición inicial que es 1 en un cuadrado chico. ¿Qué observas?\n",
    "\n",
    "(iii) ¿Qué conclusión general sacas acerca del comportamiento físico de esta ecuación y lo que modela?"
   ]
  }
 ],
 "metadata": {
  "kernelspec": {
   "display_name": "Julia 0.5.1",
   "language": "julia",
   "name": "julia-0.5"
  },
  "language_info": {
   "file_extension": ".jl",
   "mimetype": "application/julia",
   "name": "julia",
   "version": "0.5.1"
  }
 },
 "nbformat": 4,
 "nbformat_minor": 1
}
