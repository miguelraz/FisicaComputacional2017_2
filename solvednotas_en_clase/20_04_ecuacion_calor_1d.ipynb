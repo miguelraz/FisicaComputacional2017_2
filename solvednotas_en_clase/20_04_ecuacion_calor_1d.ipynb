{
 "cells": [
  {
   "cell_type": "markdown",
   "metadata": {},
   "source": [
    "# La ecuación de calor en 1D "
   ]
  },
  {
   "cell_type": "code",
   "execution_count": 1,
   "metadata": {
    "collapsed": false
   },
   "outputs": [
    {
     "data": {
      "text/plain": [
       "calor_paso"
      ]
     },
     "execution_count": 1,
     "metadata": {},
     "output_type": "execute_result"
    }
   ],
   "source": [
    "\"\"\"\n",
    "Un paso de Euler de la ecuación de calor\n",
    "\"\"\"\n",
    "function calor_paso(u, k, h)  # h: tiempo; k: espacio\n",
    "    \n",
    "    D = 1.0\n",
    "    \n",
    "    u_nueva = zeros(u)  # un nuevo vector del mismo tamaño\n",
    "    \n",
    "    # condiciones de frontera:\n",
    "    u[1] = u[end] = 0.0\n",
    "    \n",
    "    M = length(u)\n",
    "\n",
    "    for i in 2:M-1  # primero y último lugares son frontera\n",
    "        u_nueva[i] = u[i] + D*h/(k^2) * (u[i-1] - 2u[i] + u[i+1])\n",
    "    end\n",
    "\n",
    "    u_nueva[1] = u_nueva[end] = 0.0\n",
    "\n",
    "    return u_nueva\n",
    "    \n",
    "end"
   ]
  },
  {
   "cell_type": "code",
   "execution_count": 4,
   "metadata": {
    "collapsed": false
   },
   "outputs": [
    {
     "data": {
      "text/plain": [
       "25"
      ]
     },
     "execution_count": 4,
     "metadata": {},
     "output_type": "execute_result"
    }
   ],
   "source": [
    "51 ÷ 2"
   ]
  },
  {
   "cell_type": "code",
   "execution_count": 5,
   "metadata": {
    "collapsed": false
   },
   "outputs": [
    {
     "data": {
      "text/plain": [
       "25"
      ]
     },
     "execution_count": 5,
     "metadata": {},
     "output_type": "execute_result"
    }
   ],
   "source": [
    "div(51, 2)"
   ]
  },
  {
   "cell_type": "code",
   "execution_count": 3,
   "metadata": {
    "collapsed": false
   },
   "outputs": [
    {
     "data": {
      "text/plain": [
       "50-element Array{Float64,1}:\n",
       " 0.0\n",
       " 0.0\n",
       " 0.0\n",
       " 0.0\n",
       " 0.0\n",
       " 0.0\n",
       " 0.0\n",
       " 0.0\n",
       " 0.0\n",
       " 0.0\n",
       " 0.0\n",
       " 0.0\n",
       " 0.0\n",
       " ⋮  \n",
       " 0.0\n",
       " 0.0\n",
       " 0.0\n",
       " 0.0\n",
       " 0.0\n",
       " 0.0\n",
       " 0.0\n",
       " 0.0\n",
       " 0.0\n",
       " 0.0\n",
       " 0.0\n",
       " 0.0"
      ]
     },
     "execution_count": 3,
     "metadata": {},
     "output_type": "execute_result"
    }
   ],
   "source": [
    "M = 50\n",
    "L = 10\n",
    "\n",
    "k = 2L / M\n",
    "\n",
    "u0 = zeros(M)\n",
    "u0[M ÷ 2]   # \\div<TAB> -- división de enteros\n",
    "\n",
    "h = 0.1\n",
    "\n",
    "calor(u0, k, h)"
   ]
  },
  {
   "cell_type": "code",
   "execution_count": 23,
   "metadata": {
    "collapsed": false
   },
   "outputs": [
    {
     "data": {
      "text/plain": [
       "-10.0:0.1:10.0"
      ]
     },
     "execution_count": 23,
     "metadata": {},
     "output_type": "execute_result"
    }
   ],
   "source": [
    "L = 10.0\n",
    "k = 0.1\n",
    "-L:k:L"
   ]
  },
  {
   "cell_type": "code",
   "execution_count": 20,
   "metadata": {
    "collapsed": false
   },
   "outputs": [
    {
     "data": {
      "text/plain": [
       "-10.0:0.1:10.0"
      ]
     },
     "execution_count": 20,
     "metadata": {},
     "output_type": "execute_result"
    }
   ],
   "source": [
    "-10.0:0.1:10.0"
   ]
  },
  {
   "cell_type": "code",
   "execution_count": 20,
   "metadata": {
    "collapsed": false
   },
   "outputs": [
    {
     "name": "stderr",
     "output_type": "stream",
     "text": [
      "WARNING: Method definition calor(Any, Any, Any) in module Main at In[18]:3 overwritten at In[20]:3.\n"
     ]
    },
    {
     "data": {
      "text/plain": [
       "calor (generic function with 1 method)"
      ]
     },
     "execution_count": 20,
     "metadata": {},
     "output_type": "execute_result"
    }
   ],
   "source": [
    "function calor(xs, k, h)\n",
    "\n",
    "    M = length(xs)\n",
    "    \n",
    "    # @show M\n",
    "\n",
    "    u = zeros(M)\n",
    "    u[M ÷ 2] = 1.0   # \\div<TAB> -- división de enteros\n",
    "\n",
    "    showall(u)\n",
    "    \n",
    "    us = [u]\n",
    "    \n",
    "    for i in 1:20\n",
    "        u_nueva = calor_paso(u, k, h)\n",
    "        push!(us, u_nueva)\n",
    "    \n",
    "        u = u_nueva\n",
    "    end\n",
    "    \n",
    "    D = 1.0\n",
    "    @show D*h/(k^2)\n",
    "    \n",
    "    return us\n",
    "end\n",
    "    "
   ]
  },
  {
   "cell_type": "code",
   "execution_count": 31,
   "metadata": {
    "collapsed": false
   },
   "outputs": [
    {
     "name": "stdout",
     "output_type": "stream",
     "text": [
      "[0.0,0.0,0.0,0.0,0.0,0.0,0.0,0.0,0.0,0.0,0.0,0.0,0.0,0.0,0.0,0.0,0.0,0.0,0.0,0.0,0.0,0.0,0.0,0.0,0.0,0.0,0.0,0.0,0.0,0.0,0.0,0.0,0.0,0.0,0.0,0.0,0.0,0.0,0.0,0.0,0.0,0.0,0.0,0.0,0.0,0.0,0.0,0.0,0.0,0.0,0.0,0.0,0.0,0.0,0.0,0.0,0.0,0.0,0.0,0.0,0.0,0.0,0.0,0.0,0.0,0.0,0.0,0.0,0.0,0.0,0.0,0.0,0.0,0.0,0.0,0.0,0.0,0.0,0.0,0.0,0.0,0.0,0.0,0.0,0.0,0.0,0.0,0.0,0.0,0.0,0.0,0.0,0.0,0.0,0.0,0.0,0.0,0.0,0.0,1.0,0.0,0.0,0.0,0.0,0.0,0.0,0.0,0.0,0.0,0.0,0.0,0.0,0.0,0.0,0.0,0.0,0.0,0.0,0.0,0.0,0.0,0.0,0.0,0.0,0.0,0.0,0.0,0.0,0.0,0.0,0.0,0.0,0.0,0.0,0.0,0.0,0.0,0.0,0.0,0.0,0.0,0.0,0.0,0.0,0.0,0.0,0.0,0.0,0.0,0.0,0.0,0.0,0.0,0.0,0.0,0.0,0.0,0.0,0.0,0.0,0.0,0.0,0.0,0.0,0.0,0.0,0.0,0.0,0.0,0.0,0.0,0.0,0.0,0.0,0.0,0.0,0.0,0.0,0.0,0.0,0.0,0.0,0.0,0.0,0.0,0.0,0.0,0.0,0.0,0.0,0.0,0.0,0.0,0.0,0.0,0.0,0.0,0.0,0.0,0.0,0.0](D * h) / k ^ 2 = 0.24999999999999994\n"
     ]
    }
   ],
   "source": [
    "xs = -2.0:0.02:2.0\n",
    "\n",
    "us = calor(xs, 0.2, 0.01);"
   ]
  },
  {
   "cell_type": "code",
   "execution_count": 32,
   "metadata": {
    "collapsed": false
   },
   "outputs": [
    {
     "data": {
      "text/plain": [
       "Plots.GRBackend()"
      ]
     },
     "execution_count": 32,
     "metadata": {},
     "output_type": "execute_result"
    }
   ],
   "source": [
    "using Plots, Interact\n",
    "gr()"
   ]
  },
  {
   "cell_type": "code",
   "execution_count": 33,
   "metadata": {
    "collapsed": false
   },
   "outputs": [
    {
     "data": {
      "text/html": [],
      "text/plain": [
       "Interact.Options{:SelectionSlider,Int64}(Signal{Int64}(11, nactions=1),\"i\",11,\"11\",Interact.OptionDict(DataStructures.OrderedDict(\"1\"=>1,\"2\"=>2,\"3\"=>3,\"4\"=>4,\"5\"=>5,\"6\"=>6,\"7\"=>7,\"8\"=>8,\"9\"=>9,\"10\"=>10…),Dict(18=>\"18\",2=>\"2\",16=>\"16\",11=>\"11\",21=>\"21\",7=>\"7\",9=>\"9\",10=>\"10\",19=>\"19\",17=>\"17\"…)),Any[],Any[],true,\"horizontal\")"
      ]
     },
     "metadata": {},
     "output_type": "display_data"
    },
    {
     "data": {
      "text/html": [
       "<?xml version=\"1.0\" encoding=\"utf-8\"?>\n",
       "<svg xmlns=\"http://www.w3.org/2000/svg\" xmlns:xlink=\"http://www.w3.org/1999/xlink\" width=\"600\" height=\"400\" viewBox=\"0 0 600 400\">\n",
       "<defs>\n",
       "  <clipPath id=\"clip00\">\n",
       "    <rect x=\"0\" y=\"0\" width=\"600\" height=\"400\"/>\n",
       "  </clipPath>\n",
       "</defs>\n",
       "<polygon clip-path=\"url(#clip00)\" points=\"\n",
       "0,400 600,400 600,0 0,0 \n",
       "  \" fill=\"#ffffff\" fill-opacity=\"1\"/>\n",
       "<defs>\n",
       "  <clipPath id=\"clip01\">\n",
       "    <rect x=\"120\" y=\"0\" width=\"421\" height=\"400\"/>\n",
       "  </clipPath>\n",
       "</defs>\n",
       "<polygon clip-path=\"url(#clip00)\" points=\"\n",
       "30.6037,384.952 596.063,384.952 596.063,3.93701 30.6037,3.93701 \n",
       "  \" fill=\"#ffffff\" fill-opacity=\"1\"/>\n",
       "<defs>\n",
       "  <clipPath id=\"clip02\">\n",
       "    <rect x=\"30\" y=\"3\" width=\"566\" height=\"382\"/>\n",
       "  </clipPath>\n",
       "</defs>\n",
       "<polyline clip-path=\"url(#clip02)\" style=\"stroke:#00002d; stroke-width:0.8; stroke-opacity:0.5; fill:none\" stroke-dasharray=\"1, 2\" points=\"\n",
       "  30.6037,379.237 30.6037,9.65223 \n",
       "  \"/>\n",
       "<polyline clip-path=\"url(#clip02)\" style=\"stroke:#00002d; stroke-width:0.8; stroke-opacity:0.5; fill:none\" stroke-dasharray=\"1, 2\" points=\"\n",
       "  171.969,379.237 171.969,9.65223 \n",
       "  \"/>\n",
       "<polyline clip-path=\"url(#clip02)\" style=\"stroke:#00002d; stroke-width:0.8; stroke-opacity:0.5; fill:none\" stroke-dasharray=\"1, 2\" points=\"\n",
       "  313.333,379.237 313.333,9.65223 \n",
       "  \"/>\n",
       "<polyline clip-path=\"url(#clip02)\" style=\"stroke:#00002d; stroke-width:0.8; stroke-opacity:0.5; fill:none\" stroke-dasharray=\"1, 2\" points=\"\n",
       "  454.698,379.237 454.698,9.65223 \n",
       "  \"/>\n",
       "<polyline clip-path=\"url(#clip02)\" style=\"stroke:#00002d; stroke-width:0.8; stroke-opacity:0.5; fill:none\" stroke-dasharray=\"1, 2\" points=\"\n",
       "  596.063,379.237 596.063,9.65223 \n",
       "  \"/>\n",
       "<polyline clip-path=\"url(#clip02)\" style=\"stroke:#00002d; stroke-width:0.8; stroke-opacity:0.5; fill:none\" stroke-dasharray=\"1, 2\" points=\"\n",
       "  39.0856,384.952 587.581,384.952 \n",
       "  \"/>\n",
       "<polyline clip-path=\"url(#clip02)\" style=\"stroke:#00002d; stroke-width:0.8; stroke-opacity:0.5; fill:none\" stroke-dasharray=\"1, 2\" points=\"\n",
       "  39.0856,308.749 587.581,308.749 \n",
       "  \"/>\n",
       "<polyline clip-path=\"url(#clip02)\" style=\"stroke:#00002d; stroke-width:0.8; stroke-opacity:0.5; fill:none\" stroke-dasharray=\"1, 2\" points=\"\n",
       "  39.0856,232.546 587.581,232.546 \n",
       "  \"/>\n",
       "<polyline clip-path=\"url(#clip02)\" style=\"stroke:#00002d; stroke-width:0.8; stroke-opacity:0.5; fill:none\" stroke-dasharray=\"1, 2\" points=\"\n",
       "  39.0856,156.343 587.581,156.343 \n",
       "  \"/>\n",
       "<polyline clip-path=\"url(#clip02)\" style=\"stroke:#00002d; stroke-width:0.8; stroke-opacity:0.5; fill:none\" stroke-dasharray=\"1, 2\" points=\"\n",
       "  39.0856,80.14 587.581,80.14 \n",
       "  \"/>\n",
       "<polyline clip-path=\"url(#clip02)\" style=\"stroke:#00002d; stroke-width:0.8; stroke-opacity:0.5; fill:none\" stroke-dasharray=\"1, 2\" points=\"\n",
       "  39.0856,3.93701 587.581,3.93701 \n",
       "  \"/>\n",
       "<polyline clip-path=\"url(#clip02)\" style=\"stroke:#00002d; stroke-width:0.8; stroke-opacity:1; fill:none\" points=\"\n",
       "  30.6037,384.952 596.063,384.952 \n",
       "  \"/>\n",
       "<polyline clip-path=\"url(#clip02)\" style=\"stroke:#00002d; stroke-width:0.8; stroke-opacity:1; fill:none\" points=\"\n",
       "  30.6037,384.952 30.6037,379.237 \n",
       "  \"/>\n",
       "<polyline clip-path=\"url(#clip02)\" style=\"stroke:#00002d; stroke-width:0.8; stroke-opacity:1; fill:none\" points=\"\n",
       "  171.969,384.952 171.969,379.237 \n",
       "  \"/>\n",
       "<polyline clip-path=\"url(#clip02)\" style=\"stroke:#00002d; stroke-width:0.8; stroke-opacity:1; fill:none\" points=\"\n",
       "  313.333,384.952 313.333,379.237 \n",
       "  \"/>\n",
       "<polyline clip-path=\"url(#clip02)\" style=\"stroke:#00002d; stroke-width:0.8; stroke-opacity:1; fill:none\" points=\"\n",
       "  454.698,384.952 454.698,379.237 \n",
       "  \"/>\n",
       "<polyline clip-path=\"url(#clip02)\" style=\"stroke:#00002d; stroke-width:0.8; stroke-opacity:1; fill:none\" points=\"\n",
       "  596.063,384.952 596.063,379.237 \n",
       "  \"/>\n",
       "<polyline clip-path=\"url(#clip02)\" style=\"stroke:#00002d; stroke-width:0.8; stroke-opacity:1; fill:none\" points=\"\n",
       "  30.6037,384.952 30.6037,3.93701 \n",
       "  \"/>\n",
       "<polyline clip-path=\"url(#clip02)\" style=\"stroke:#00002d; stroke-width:0.8; stroke-opacity:1; fill:none\" points=\"\n",
       "  30.6037,384.952 39.0856,384.952 \n",
       "  \"/>\n",
       "<polyline clip-path=\"url(#clip02)\" style=\"stroke:#00002d; stroke-width:0.8; stroke-opacity:1; fill:none\" points=\"\n",
       "  30.6037,308.749 39.0856,308.749 \n",
       "  \"/>\n",
       "<polyline clip-path=\"url(#clip02)\" style=\"stroke:#00002d; stroke-width:0.8; stroke-opacity:1; fill:none\" points=\"\n",
       "  30.6037,232.546 39.0856,232.546 \n",
       "  \"/>\n",
       "<polyline clip-path=\"url(#clip02)\" style=\"stroke:#00002d; stroke-width:0.8; stroke-opacity:1; fill:none\" points=\"\n",
       "  30.6037,156.343 39.0856,156.343 \n",
       "  \"/>\n",
       "<polyline clip-path=\"url(#clip02)\" style=\"stroke:#00002d; stroke-width:0.8; stroke-opacity:1; fill:none\" points=\"\n",
       "  30.6037,80.14 39.0856,80.14 \n",
       "  \"/>\n",
       "<polyline clip-path=\"url(#clip02)\" style=\"stroke:#00002d; stroke-width:0.8; stroke-opacity:1; fill:none\" points=\"\n",
       "  30.6037,3.93701 39.0856,3.93701 \n",
       "  \"/>\n",
       "<g clip-path=\"url(#clip00)\">\n",
       "<text style=\"fill:#00002d; fill-opacity:1; font-family:Arial,Helvetica Neue,Helvetica,sans-serif; font-size:12; text-anchor:middle;\" transform=\"rotate(0, 30.6037, 396.952)\" x=\"30.6037\" y=\"396.952\">-2</text>\n",
       "</g>\n",
       "<g clip-path=\"url(#clip00)\">\n",
       "<text style=\"fill:#00002d; fill-opacity:1; font-family:Arial,Helvetica Neue,Helvetica,sans-serif; font-size:12; text-anchor:middle;\" transform=\"rotate(0, 171.969, 396.952)\" x=\"171.969\" y=\"396.952\">-1</text>\n",
       "</g>\n",
       "<g clip-path=\"url(#clip00)\">\n",
       "<text style=\"fill:#00002d; fill-opacity:1; font-family:Arial,Helvetica Neue,Helvetica,sans-serif; font-size:12; text-anchor:middle;\" transform=\"rotate(0, 313.333, 396.952)\" x=\"313.333\" y=\"396.952\">0</text>\n",
       "</g>\n",
       "<g clip-path=\"url(#clip00)\">\n",
       "<text style=\"fill:#00002d; fill-opacity:1; font-family:Arial,Helvetica Neue,Helvetica,sans-serif; font-size:12; text-anchor:middle;\" transform=\"rotate(0, 454.698, 396.952)\" x=\"454.698\" y=\"396.952\">1</text>\n",
       "</g>\n",
       "<g clip-path=\"url(#clip00)\">\n",
       "<text style=\"fill:#00002d; fill-opacity:1; font-family:Arial,Helvetica Neue,Helvetica,sans-serif; font-size:12; text-anchor:middle;\" transform=\"rotate(0, 596.063, 396.952)\" x=\"596.063\" y=\"396.952\">2</text>\n",
       "</g>\n",
       "<g clip-path=\"url(#clip00)\">\n",
       "<text style=\"fill:#00002d; fill-opacity:1; font-family:Arial,Helvetica Neue,Helvetica,sans-serif; font-size:12; text-anchor:end;\" transform=\"rotate(0, 29.4037, 389.452)\" x=\"29.4037\" y=\"389.452\">0.0</text>\n",
       "</g>\n",
       "<g clip-path=\"url(#clip00)\">\n",
       "<text style=\"fill:#00002d; fill-opacity:1; font-family:Arial,Helvetica Neue,Helvetica,sans-serif; font-size:12; text-anchor:end;\" transform=\"rotate(0, 29.4037, 313.249)\" x=\"29.4037\" y=\"313.249\">0.1</text>\n",
       "</g>\n",
       "<g clip-path=\"url(#clip00)\">\n",
       "<text style=\"fill:#00002d; fill-opacity:1; font-family:Arial,Helvetica Neue,Helvetica,sans-serif; font-size:12; text-anchor:end;\" transform=\"rotate(0, 29.4037, 237.046)\" x=\"29.4037\" y=\"237.046\">0.2</text>\n",
       "</g>\n",
       "<g clip-path=\"url(#clip00)\">\n",
       "<text style=\"fill:#00002d; fill-opacity:1; font-family:Arial,Helvetica Neue,Helvetica,sans-serif; font-size:12; text-anchor:end;\" transform=\"rotate(0, 29.4037, 160.843)\" x=\"29.4037\" y=\"160.843\">0.3</text>\n",
       "</g>\n",
       "<g clip-path=\"url(#clip00)\">\n",
       "<text style=\"fill:#00002d; fill-opacity:1; font-family:Arial,Helvetica Neue,Helvetica,sans-serif; font-size:12; text-anchor:end;\" transform=\"rotate(0, 29.4037, 84.64)\" x=\"29.4037\" y=\"84.64\">0.4</text>\n",
       "</g>\n",
       "<g clip-path=\"url(#clip00)\">\n",
       "<text style=\"fill:#00002d; fill-opacity:1; font-family:Arial,Helvetica Neue,Helvetica,sans-serif; font-size:12; text-anchor:end;\" transform=\"rotate(0, 29.4037, 8.43701)\" x=\"29.4037\" y=\"8.43701\">0.5</text>\n",
       "</g>\n",
       "<polyline clip-path=\"url(#clip02)\" style=\"stroke:#0099ff; stroke-width:0.8; stroke-opacity:1; fill:none\" points=\"\n",
       "  30.6037,384.952 33.431,384.952 36.2583,384.952 39.0856,384.952 41.9129,384.952 44.7402,384.952 47.5675,384.952 50.3948,384.952 53.222,384.952 56.0493,384.952 \n",
       "  58.8766,384.952 61.7039,384.952 64.5312,384.952 67.3585,384.952 70.1858,384.952 73.0131,384.952 75.8404,384.952 78.6677,384.952 81.495,384.952 84.3223,384.952 \n",
       "  87.1496,384.952 89.9769,384.952 92.8042,384.952 95.6315,384.952 98.4588,384.952 101.286,384.952 104.113,384.952 106.941,384.952 109.768,384.952 112.595,384.952 \n",
       "  115.423,384.952 118.25,384.952 121.077,384.952 123.904,384.952 126.732,384.952 129.559,384.952 132.386,384.952 135.214,384.952 138.041,384.952 140.868,384.952 \n",
       "  143.696,384.952 146.523,384.952 149.35,384.952 152.177,384.952 155.005,384.952 157.832,384.952 160.659,384.952 163.487,384.952 166.314,384.952 169.141,384.952 \n",
       "  171.969,384.952 174.796,384.952 177.623,384.952 180.45,384.952 183.278,384.952 186.105,384.952 188.932,384.952 191.76,384.952 194.587,384.952 197.414,384.952 \n",
       "  200.241,384.952 203.069,384.952 205.896,384.952 208.723,384.952 211.551,384.952 214.378,384.952 217.205,384.952 220.033,384.952 222.86,384.952 225.687,384.952 \n",
       "  228.514,384.952 231.342,384.952 234.169,384.952 236.996,384.952 239.824,384.952 242.651,384.952 245.478,384.952 248.306,384.952 251.133,384.952 253.96,384.952 \n",
       "  256.787,384.952 259.615,384.952 262.442,384.952 265.269,384.952 268.097,384.952 270.924,384.952 273.751,384.952 276.578,384.952 279.406,384.952 282.233,384.951 \n",
       "  285.06,384.937 287.888,384.814 290.715,384.123 293.542,381.431 296.37,373.685 299.197,356.784 302.024,328.616 304.851,293.406 307.679,262.891 310.506,250.684 \n",
       "  313.333,262.891 316.161,293.406 318.988,328.616 321.815,356.784 324.643,373.685 327.47,381.431 330.297,384.123 333.124,384.814 335.952,384.937 338.779,384.951 \n",
       "  341.606,384.952 344.434,384.952 347.261,384.952 350.088,384.952 352.915,384.952 355.743,384.952 358.57,384.952 361.397,384.952 364.225,384.952 367.052,384.952 \n",
       "  369.879,384.952 372.707,384.952 375.534,384.952 378.361,384.952 381.188,384.952 384.016,384.952 386.843,384.952 389.67,384.952 392.498,384.952 395.325,384.952 \n",
       "  398.152,384.952 400.98,384.952 403.807,384.952 406.634,384.952 409.461,384.952 412.289,384.952 415.116,384.952 417.943,384.952 420.771,384.952 423.598,384.952 \n",
       "  426.425,384.952 429.252,384.952 432.08,384.952 434.907,384.952 437.734,384.952 440.562,384.952 443.389,384.952 446.216,384.952 449.044,384.952 451.871,384.952 \n",
       "  454.698,384.952 457.525,384.952 460.353,384.952 463.18,384.952 466.007,384.952 468.835,384.952 471.662,384.952 474.489,384.952 477.317,384.952 480.144,384.952 \n",
       "  482.971,384.952 485.798,384.952 488.626,384.952 491.453,384.952 494.28,384.952 497.108,384.952 499.935,384.952 502.762,384.952 505.59,384.952 508.417,384.952 \n",
       "  511.244,384.952 514.071,384.952 516.899,384.952 519.726,384.952 522.553,384.952 525.381,384.952 528.208,384.952 531.035,384.952 533.862,384.952 536.69,384.952 \n",
       "  539.517,384.952 542.344,384.952 545.172,384.952 547.999,384.952 550.826,384.952 553.654,384.952 556.481,384.952 559.308,384.952 562.135,384.952 564.963,384.952 \n",
       "  567.79,384.952 570.617,384.952 573.445,384.952 576.272,384.952 579.099,384.952 581.927,384.952 584.754,384.952 587.581,384.952 590.408,384.952 593.236,384.952 \n",
       "  596.063,384.952 \n",
       "  \"/>\n",
       "<polygon clip-path=\"url(#clip00)\" points=\"\n",
       "505.547,55.057 578.063,55.057 578.063,24.817 505.547,24.817 \n",
       "  \" fill=\"#ffffff\" fill-opacity=\"1\"/>\n",
       "<polyline clip-path=\"url(#clip00)\" style=\"stroke:#00002d; stroke-width:0.8; stroke-opacity:1; fill:none\" points=\"\n",
       "  505.547,55.057 578.063,55.057 578.063,24.817 505.547,24.817 505.547,55.057 \n",
       "  \"/>\n",
       "<polyline clip-path=\"url(#clip00)\" style=\"stroke:#0099ff; stroke-width:0.8; stroke-opacity:1; fill:none\" points=\"\n",
       "  511.547,39.937 547.547,39.937 \n",
       "  \"/>\n",
       "<g clip-path=\"url(#clip00)\">\n",
       "<text style=\"fill:#00002d; fill-opacity:1; font-family:Arial,Helvetica Neue,Helvetica,sans-serif; font-size:12; text-anchor:start;\" transform=\"rotate(0, 553.547, 44.437)\" x=\"553.547\" y=\"44.437\">y1</text>\n",
       "</g>\n",
       "</svg>\n"
      ]
     },
     "execution_count": 33,
     "metadata": {
      "comm_id": "bff1ed87-c8b9-4ed1-8533-a044ec218064",
      "reactive": true
     },
     "output_type": "execute_result"
    }
   ],
   "source": [
    "@manipulate for i in 1:length(us)\n",
    "    plot(xs, us[i], ylim=(0,0.5))\n",
    "end"
   ]
  },
  {
   "cell_type": "markdown",
   "metadata": {
    "collapsed": true
   },
   "source": [
    "## Sin alojamiento"
   ]
  },
  {
   "cell_type": "code",
   "execution_count": 37,
   "metadata": {
    "collapsed": false
   },
   "outputs": [
    {
     "name": "stderr",
     "output_type": "stream",
     "text": [
      "WARNING: Method definition calor_paso!(Any, Any, Any, Any) in module Main at In[36]:9 overwritten at In[37]:9.\n",
      "\u001b[1m\u001b[31mWARNING: replacing docs for 'calor_paso! :: Tuple{Any,Any,Any,Any}' in module 'Main'.\u001b[0m\n"
     ]
    },
    {
     "data": {
      "text/plain": [
       "calor_paso!"
      ]
     },
     "execution_count": 37,
     "metadata": {},
     "output_type": "execute_result"
    }
   ],
   "source": [
    "\"\"\"\n",
    "Esta versión modifica u_nueva \"in place\" (en el mismo lugar).\n",
    "NO aloja memoria.\n",
    "\n",
    "Esto se indica (convencionalmente con el ! en el nombre de la función)\n",
    "\"\"\"\n",
    "function calor_paso!(u_nueva, u, k, h)  # h: tiempo; k: espacio\n",
    "    \n",
    "    D = 1.0\n",
    "        \n",
    "    # condiciones de frontera:\n",
    "    u[1] = u[end] = 0.0\n",
    "    \n",
    "    M = length(u)\n",
    "\n",
    "    for i in 2:M-1  # primero y último lugares son frontera\n",
    "        u_nueva[i] = u[i] + D*h/(k^2) * (u[i-1] - 2u[i] + u[i+1])\n",
    "    end\n",
    "\n",
    "    u_nueva[1] = u_nueva[end] = 0.0\n",
    "    \n",
    "end"
   ]
  },
  {
   "cell_type": "code",
   "execution_count": 38,
   "metadata": {
    "collapsed": false
   },
   "outputs": [
    {
     "name": "stderr",
     "output_type": "stream",
     "text": [
      "WARNING: Method definition calor(Any, Any, Any) in module Main at In[20]:3 overwritten at In[38]:3.\n"
     ]
    },
    {
     "data": {
      "text/plain": [
       "calor (generic function with 1 method)"
      ]
     },
     "execution_count": 38,
     "metadata": {},
     "output_type": "execute_result"
    }
   ],
   "source": [
    "function calor(xs, k, h)\n",
    "\n",
    "    M = length(xs)\n",
    "    \n",
    "    # @show M\n",
    "\n",
    "    u = zeros(M)\n",
    "    u[M ÷ 2] = 1.0   # \\div<TAB> -- división de enteros\n",
    "\n",
    "    u_nueva = zeros(M)\n",
    "    \n",
    "    showall(u)\n",
    "    \n",
    "    us = [u]\n",
    "    \n",
    "    for i in 1:20\n",
    "        calor_paso!(u_nueva, u, k, h) # modifica u_nueva en el lugar\n",
    "        # push!(us, u_nueva)\n",
    "    \n",
    "        # u = u_nueva  #  ¡¡ya no funciona!!\n",
    "    end\n",
    "    \n",
    "    # u[:] = u_nueva   # copia todos las entradas, uno por uno, de u_nueva a u\n",
    "    # todavía ineficiente. Mejor:\n",
    "    \n",
    "    u, u_nueva = u_nueva, u  # intercambia los \"punteros\"\n",
    "    \n",
    "    D = 1.0\n",
    "    @show D*h/(k^2)\n",
    "    \n",
    "    return us\n",
    "end\n",
    "    "
   ]
  },
  {
   "cell_type": "code",
   "execution_count": null,
   "metadata": {
    "collapsed": true
   },
   "outputs": [],
   "source": []
  }
 ],
 "metadata": {
  "kernelspec": {
   "display_name": "Julia 0.5.0",
   "language": "julia",
   "name": "julia-0.5"
  },
  "language_info": {
   "file_extension": ".jl",
   "mimetype": "application/julia",
   "name": "julia",
   "version": "0.5.0"
  }
 },
 "nbformat": 4,
 "nbformat_minor": 2
}
