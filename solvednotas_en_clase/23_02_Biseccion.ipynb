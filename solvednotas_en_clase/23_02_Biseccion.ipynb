{
 "cells": [
  {
   "cell_type": "markdown",
   "metadata": {},
   "source": [
    "# Bisección"
   ]
  },
  {
   "cell_type": "code",
   "execution_count": 2,
   "metadata": {
    "collapsed": false
   },
   "outputs": [
    {
     "data": {
      "text/plain": [
       "f (generic function with 1 method)"
      ]
     },
     "execution_count": 2,
     "metadata": {},
     "output_type": "execute_result"
    }
   ],
   "source": [
    "f(x) = x^2 - 2"
   ]
  },
  {
   "cell_type": "code",
   "execution_count": 3,
   "metadata": {
    "collapsed": false
   },
   "outputs": [
    {
     "data": {
      "text/plain": [
       "10"
      ]
     },
     "execution_count": 3,
     "metadata": {},
     "output_type": "execute_result"
    }
   ],
   "source": [
    "a = 0\n",
    "b = 10"
   ]
  },
  {
   "cell_type": "code",
   "execution_count": 22,
   "metadata": {
    "collapsed": false
   },
   "outputs": [
    {
     "data": {
      "text/plain": [
       "(0,10)"
      ]
     },
     "execution_count": 22,
     "metadata": {},
     "output_type": "execute_result"
    }
   ],
   "source": [
    "a, b = 0, 10"
   ]
  },
  {
   "cell_type": "code",
   "execution_count": 23,
   "metadata": {
    "collapsed": false
   },
   "outputs": [
    {
     "data": {
      "text/plain": [
       "-2"
      ]
     },
     "execution_count": 23,
     "metadata": {},
     "output_type": "execute_result"
    }
   ],
   "source": [
    "fa = f(a) "
   ]
  },
  {
   "cell_type": "code",
   "execution_count": 24,
   "metadata": {
    "collapsed": false
   },
   "outputs": [
    {
     "data": {
      "text/plain": [
       "98"
      ]
     },
     "execution_count": 24,
     "metadata": {},
     "output_type": "execute_result"
    }
   ],
   "source": [
    "fb = f(b)"
   ]
  },
  {
   "cell_type": "markdown",
   "metadata": {},
   "source": [
    "Checar si signos de la función evaluada en la frontera del intervalo sean diferentes:"
   ]
  },
  {
   "cell_type": "code",
   "execution_count": 25,
   "metadata": {
    "collapsed": false
   },
   "outputs": [
    {
     "data": {
      "text/plain": [
       "1"
      ]
     },
     "execution_count": 25,
     "metadata": {},
     "output_type": "execute_result"
    }
   ],
   "source": [
    "sign(3)"
   ]
  },
  {
   "cell_type": "code",
   "execution_count": 18,
   "metadata": {
    "collapsed": false
   },
   "outputs": [
    {
     "name": "stdout",
     "output_type": "stream",
     "text": [
      "Signos opuestos\n"
     ]
    }
   ],
   "source": [
    "if sign(fa) != sign(fb) # no es igual\n",
    "    println(\"Signos opuestos\")\n",
    "end"
   ]
  },
  {
   "cell_type": "code",
   "execution_count": 26,
   "metadata": {
    "collapsed": false
   },
   "outputs": [
    {
     "name": "stdout",
     "output_type": "stream",
     "text": [
      "Signos opuestos\n"
     ]
    }
   ],
   "source": [
    "if sign(fa) * sign(fb) < 0 # no es igual\n",
    "    println(\"Signos opuestos\")\n",
    "end"
   ]
  },
  {
   "cell_type": "code",
   "execution_count": 27,
   "metadata": {
    "collapsed": false
   },
   "outputs": [
    {
     "data": {
      "text/plain": [
       "5.0"
      ]
     },
     "execution_count": 27,
     "metadata": {},
     "output_type": "execute_result"
    }
   ],
   "source": [
    "c = a + (b-a)/2 #  (a+b)/2"
   ]
  },
  {
   "cell_type": "code",
   "execution_count": 29,
   "metadata": {
    "collapsed": true
   },
   "outputs": [],
   "source": [
    "if f(c) == 0\n",
    "    println(\"Encontramos la raíz, ¡yay!\")\n",
    "end"
   ]
  },
  {
   "cell_type": "code",
   "execution_count": 33,
   "metadata": {
    "collapsed": false
   },
   "outputs": [
    {
     "name": "stdout",
     "output_type": "stream",
     "text": [
      "Sí hay raíz en [a,c]\n"
     ]
    }
   ],
   "source": [
    "if f(a) == f(c)\n",
    "    println(\"Signos iguales, entonces hay una raiz en [c,b]\")\n",
    "    a, b = c, b  # equiv. a \"a = c\"\n",
    "else\n",
    "    println(\"Sí hay raíz en [a,c]\")\n",
    "    a, b = a, c  # equiv. a \"b = c\"\n",
    "end"
   ]
  },
  {
   "cell_type": "code",
   "execution_count": 34,
   "metadata": {
    "collapsed": false
   },
   "outputs": [
    {
     "data": {
      "text/plain": [
       "true"
      ]
     },
     "execution_count": 34,
     "metadata": {},
     "output_type": "execute_result"
    }
   ],
   "source": [
    "f(a) != f(c)"
   ]
  },
  {
   "cell_type": "markdown",
   "metadata": {},
   "source": [
    "## Bucles while"
   ]
  },
  {
   "cell_type": "markdown",
   "metadata": {},
   "source": [
    "Pregunta: Dado un número `y`, encuentra la potencia de 2 más grande que esté debajo de `y`."
   ]
  },
  {
   "cell_type": "markdown",
   "metadata": {},
   "source": [
    "- \"Mientras 2^i sea menor que y, continuar\"\n",
    "\n",
    "- \"Continuar, hasta que 2^i sea mayor que y\"\n",
    "\n"
   ]
  },
  {
   "cell_type": "code",
   "execution_count": 40,
   "metadata": {
    "collapsed": false
   },
   "outputs": [
    {
     "name": "stdout",
     "output_type": "stream",
     "text": [
      "(i,2 ^ i) = (1,2)\n",
      "(i,2 ^ i) = (2,4)\n",
      "(i,2 ^ i) = (3,8)\n",
      "(i,2 ^ i) = (4,16)\n",
      "(i,2 ^ i) = (5,32)\n"
     ]
    },
    {
     "data": {
      "text/plain": [
       "4"
      ]
     },
     "execution_count": 40,
     "metadata": {},
     "output_type": "execute_result"
    }
   ],
   "source": [
    "y = 17\n",
    "i = 0\n",
    "\n",
    "while 2^i < y\n",
    "    i += 1 \n",
    "    @show i, 2^i\n",
    "end\n",
    "\n",
    "i -= 1"
   ]
  },
  {
   "cell_type": "code",
   "execution_count": 37,
   "metadata": {
    "collapsed": false
   },
   "outputs": [
    {
     "data": {
      "text/plain": [
       "5"
      ]
     },
     "execution_count": 37,
     "metadata": {},
     "output_type": "execute_result"
    }
   ],
   "source": [
    "i"
   ]
  },
  {
   "cell_type": "code",
   "execution_count": 43,
   "metadata": {
    "collapsed": false
   },
   "outputs": [
    {
     "name": "stderr",
     "output_type": "stream",
     "text": [
      "WARNING: Method definition potencia_menor(Any) in module Main at In[41]:2 overwritten at In[43]:2.\n"
     ]
    },
    {
     "data": {
      "text/plain": [
       "potencia_menor (generic function with 1 method)"
      ]
     },
     "execution_count": 43,
     "metadata": {},
     "output_type": "execute_result"
    }
   ],
   "source": [
    "function potencia_menor(y)\n",
    "    i = 0\n",
    "\n",
    "    while 2^i < y\n",
    "        i += 1 \n",
    "        # @show i, 2^i\n",
    "    end\n",
    "\n",
    "    i -= 1\n",
    "    \n",
    "    return i\n",
    "end"
   ]
  },
  {
   "cell_type": "code",
   "execution_count": 44,
   "metadata": {
    "collapsed": false
   },
   "outputs": [
    {
     "data": {
      "text/plain": [
       "4"
      ]
     },
     "execution_count": 44,
     "metadata": {},
     "output_type": "execute_result"
    }
   ],
   "source": [
    "potencia_menor(18)"
   ]
  },
  {
   "cell_type": "code",
   "execution_count": 46,
   "metadata": {
    "collapsed": false
   },
   "outputs": [
    {
     "data": {
      "text/plain": [
       "33"
      ]
     },
     "execution_count": 46,
     "metadata": {},
     "output_type": "execute_result"
    }
   ],
   "source": [
    "potencia_menor(12304981237)"
   ]
  },
  {
   "cell_type": "markdown",
   "metadata": {},
   "source": [
    "Más eficiente, pero con gasto de almacenamiento mayor:"
   ]
  },
  {
   "cell_type": "code",
   "execution_count": 51,
   "metadata": {
    "collapsed": false
   },
   "outputs": [
    {
     "name": "stderr",
     "output_type": "stream",
     "text": [
      "WARNING: Method definition potencia_menor(Any) in module Main at In[49]:2 overwritten at In[51]:2.\n"
     ]
    },
    {
     "data": {
      "text/plain": [
       "potencia_menor (generic function with 1 method)"
      ]
     },
     "execution_count": 51,
     "metadata": {},
     "output_type": "execute_result"
    }
   ],
   "source": [
    "function potencia_menor(y)\n",
    "    i = 0\n",
    "    potencia = 1\n",
    "\n",
    "    while potencia < y\n",
    "        i += 1 \n",
    "        potencia *= 2\n",
    "    end\n",
    "\n",
    "    i -= 1\n",
    "    \n",
    "    return i\n",
    "end"
   ]
  },
  {
   "cell_type": "code",
   "execution_count": 52,
   "metadata": {
    "collapsed": false
   },
   "outputs": [
    {
     "data": {
      "text/plain": [
       "4"
      ]
     },
     "execution_count": 52,
     "metadata": {},
     "output_type": "execute_result"
    }
   ],
   "source": [
    "potencia_menor(18)"
   ]
  },
  {
   "cell_type": "markdown",
   "metadata": {},
   "source": [
    " ### Bisección completa"
   ]
  },
  {
   "cell_type": "code",
   "execution_count": 70,
   "metadata": {
    "collapsed": false
   },
   "outputs": [
    {
     "name": "stderr",
     "output_type": "stream",
     "text": [
      "WARNING: Method definition bisección(Any, Any, Any) in module Main at In[67]:3 overwritten at In[70]:3.\n",
      "WARNING: Method definition bisección(Any, Any, Any, Any) in module Main at In[67]:3 overwritten at In[70]:3.\n"
     ]
    },
    {
     "data": {
      "text/plain": [
       "bisección (generic function with 2 methods)"
      ]
     },
     "execution_count": 70,
     "metadata": {},
     "output_type": "execute_result"
    }
   ],
   "source": [
    "function bisección(f, a, b, ϵ=0.01)\n",
    "    \n",
    "    if sign(f(a)) == sign(f(b))\n",
    "        error(\"No puedo garantizar que haya raíz\")\n",
    "    end\n",
    "    \n",
    "    c = (a + b) / 2  # punto medio\n",
    "    \n",
    "    while abs(f(c)) > ϵ\n",
    "        \n",
    "        @show a, b, c, f(c)\n",
    "        \n",
    "        if sign(f(a)) == sign(f(c))\n",
    "            a, b = c, b  # equiv. a \"a = c\"\n",
    "        else\n",
    "            a, b = a, c  # equiv. a \"b = c\"\n",
    "        end\n",
    "        \n",
    "        c = (a + b) / 2  # punto medio\n",
    "        \n",
    "    end\n",
    "    \n",
    "    return c  # raíz aproximada\n",
    "end\n"
   ]
  },
  {
   "cell_type": "code",
   "execution_count": 71,
   "metadata": {
    "collapsed": false
   },
   "outputs": [
    {
     "name": "stderr",
     "output_type": "stream",
     "text": [
      "WARNING: Method definition g(Any) in module Main at In[68]:1 overwritten at In[71]:1.\n"
     ]
    },
    {
     "data": {
      "text/plain": [
       "(-100,100)"
      ]
     },
     "execution_count": 71,
     "metadata": {},
     "output_type": "execute_result"
    }
   ],
   "source": [
    "g(x) = 7x - 9\n",
    "c, d = -100, 100"
   ]
  },
  {
   "cell_type": "code",
   "execution_count": 72,
   "metadata": {
    "collapsed": false
   },
   "outputs": [
    {
     "name": "stdout",
     "output_type": "stream",
     "text": [
      "(a,b,c,f(c)) = (-100,100,0.0,-9.0)\n",
      "(a,b,c,f(c)) = (0.0,100,50.0,341.0)\n",
      "(a,b,c,f(c)) = (0.0,50.0,25.0,166.0)\n",
      "(a,b,c,f(c)) = (0.0,25.0,12.5,78.5)\n",
      "(a,b,c,f(c)) = (0.0,12.5,6.25,34.75)\n",
      "(a,b,c,f(c)) = (0.0,6.25,3.125,12.875)\n",
      "(a,b,c,f(c)) = (0.0,3.125,1.5625,1.9375)\n",
      "(a,b,c,f(c)) = (0.0,1.5625,0.78125,-3.53125)\n",
      "(a,b,c,f(c)) = (0.78125,1.5625,1.171875,-0.796875)\n",
      "(a,b,c,f(c)) = (1.171875,1.5625,1.3671875,0.5703125)\n",
      "(a,b,c,f(c)) = (1.171875,1.3671875,1.26953125,-0.11328125)\n",
      "(a,b,c,f(c)) = (1.26953125,1.3671875,1.318359375,0.228515625)\n",
      "(a,b,c,f(c)) = (1.26953125,1.318359375,1.2939453125,0.0576171875)\n",
      "(a,b,c,f(c)) = (1.26953125,1.2939453125,1.28173828125,-0.02783203125)\n",
      "(a,b,c,f(c)) = (1.28173828125,1.2939453125,1.287841796875,0.014892578125)\n"
     ]
    },
    {
     "data": {
      "text/plain": [
       "1.2847900390625"
      ]
     },
     "execution_count": 72,
     "metadata": {},
     "output_type": "execute_result"
    }
   ],
   "source": [
    "bisección(x->g(x), c, d)"
   ]
  },
  {
   "cell_type": "code",
   "execution_count": 73,
   "metadata": {
    "collapsed": false
   },
   "outputs": [
    {
     "data": {
      "text/plain": [
       "1.2857142857142858"
      ]
     },
     "execution_count": 73,
     "metadata": {},
     "output_type": "execute_result"
    }
   ],
   "source": [
    "x = 9/7"
   ]
  },
  {
   "cell_type": "code",
   "execution_count": 74,
   "metadata": {
    "collapsed": false
   },
   "outputs": [
    {
     "name": "stdout",
     "output_type": "stream",
     "text": [
      "(a,b,c,f(c)) = (-100,100,0.0,-9.0)\n",
      "(a,b,c,f(c)) = (0.0,100,50.0,341.0)\n",
      "(a,b,c,f(c)) = (0.0,50.0,25.0,166.0)\n",
      "(a,b,c,f(c)) = (0.0,25.0,12.5,78.5)\n",
      "(a,b,c,f(c)) = (0.0,12.5,6.25,34.75)\n",
      "(a,b,c,f(c)) = (0.0,6.25,3.125,12.875)\n",
      "(a,b,c,f(c)) = (0.0,3.125,1.5625,1.9375)\n",
      "(a,b,c,f(c)) = (0.0,1.5625,0.78125,-3.53125)\n",
      "(a,b,c,f(c)) = (0.78125,1.5625,1.171875,-0.796875)\n",
      "(a,b,c,f(c)) = (1.171875,1.5625,1.3671875,0.5703125)\n",
      "(a,b,c,f(c)) = (1.171875,1.3671875,1.26953125,-0.11328125)\n",
      "(a,b,c,f(c)) = (1.26953125,1.3671875,1.318359375,0.228515625)\n",
      "(a,b,c,f(c)) = (1.26953125,1.318359375,1.2939453125,0.0576171875)\n",
      "(a,b,c,f(c)) = (1.26953125,1.2939453125,1.28173828125,-0.02783203125)\n",
      "(a,b,c,f(c)) = (1.28173828125,1.2939453125,1.287841796875,0.014892578125)\n",
      "(a,b,c,f(c)) = (1.28173828125,1.287841796875,1.2847900390625,-0.0064697265625)\n",
      "(a,b,c,f(c)) = (1.2847900390625,1.287841796875,1.28631591796875,0.00421142578125)\n",
      "(a,b,c,f(c)) = (1.2847900390625,1.28631591796875,1.285552978515625,-0.001129150390625)\n",
      "(a,b,c,f(c)) = (1.285552978515625,1.28631591796875,1.2859344482421875,0.0015411376953125)\n",
      "(a,b,c,f(c)) = (1.285552978515625,1.2859344482421875,1.2857437133789062,0.00020599365234375)\n",
      "(a,b,c,f(c)) = (1.285552978515625,1.2857437133789062,1.2856483459472656,-0.000461578369140625)\n",
      "(a,b,c,f(c)) = (1.2856483459472656,1.2857437133789062,1.285696029663086,-0.0001277923583984375)\n",
      "(a,b,c,f(c)) = (1.285696029663086,1.2857437133789062,1.285719871520996,3.910064697265625e-5)\n",
      "(a,b,c,f(c)) = (1.285696029663086,1.285719871520996,1.285707950592041,-4.4345855712890625e-5)\n",
      "(a,b,c,f(c)) = (1.285707950592041,1.285719871520996,1.2857139110565186,-2.6226043701171875e-6)\n",
      "(a,b,c,f(c)) = (1.2857139110565186,1.285719871520996,1.2857168912887573,1.823902130126953e-5)\n",
      "(a,b,c,f(c)) = (1.2857139110565186,1.2857168912887573,1.285715401172638,7.808208465576172e-6)\n",
      "(a,b,c,f(c)) = (1.2857139110565186,1.285715401172638,1.2857146561145782,2.592802047729492e-6)\n",
      "(a,b,c,f(c)) = (1.2857139110565186,1.2857146561145782,1.2857142835855484,-1.4901161193847656e-8)\n",
      "(a,b,c,f(c)) = (1.2857142835855484,1.2857146561145782,1.2857144698500633,1.2889504432678223e-6)\n",
      "(a,b,c,f(c)) = (1.2857142835855484,1.2857144698500633,1.2857143767178059,6.370246410369873e-7)\n",
      "(a,b,c,f(c)) = (1.2857142835855484,1.2857143767178059,1.2857143301516771,3.110617399215698e-7)\n",
      "(a,b,c,f(c)) = (1.2857142835855484,1.2857143301516771,1.2857143068686128,1.4808028936386108e-7)\n",
      "(a,b,c,f(c)) = (1.2857142835855484,1.2857143068686128,1.2857142952270806,6.658956408500671e-8)\n",
      "(a,b,c,f(c)) = (1.2857142835855484,1.2857142952270806,1.2857142894063145,2.584420144557953e-8)\n",
      "(a,b,c,f(c)) = (1.2857142835855484,1.2857142894063145,1.2857142864959314,5.471520125865936e-9)\n",
      "(a,b,c,f(c)) = (1.2857142835855484,1.2857142864959314,1.28571428504074,-4.71482053399086e-9)\n",
      "(a,b,c,f(c)) = (1.28571428504074,1.2857142864959314,1.2857142857683357,3.7834979593753815e-10)\n",
      "(a,b,c,f(c)) = (1.28571428504074,1.2857142857683357,1.2857142854045378,-2.168235369026661e-9)\n",
      "(a,b,c,f(c)) = (1.2857142854045378,1.2857142857683357,1.2857142855864367,-8.949427865445614e-10)\n",
      "(a,b,c,f(c)) = (1.2857142855864367,1.2857142857683357,1.2857142856773862,-2.582964953035116e-10)\n"
     ]
    },
    {
     "data": {
      "text/plain": [
       "1.285714285722861"
      ]
     },
     "execution_count": 74,
     "metadata": {},
     "output_type": "execute_result"
    }
   ],
   "source": [
    "bisección(x->g(x), c, d, 1e-10)"
   ]
  },
  {
   "cell_type": "code",
   "execution_count": 75,
   "metadata": {
    "collapsed": false
   },
   "outputs": [
    {
     "data": {
      "text/plain": [
       "1.2857142857142858"
      ]
     },
     "execution_count": 75,
     "metadata": {},
     "output_type": "execute_result"
    }
   ],
   "source": [
    "9 / 7"
   ]
  },
  {
   "cell_type": "code",
   "execution_count": 76,
   "metadata": {
    "collapsed": false
   },
   "outputs": [
    {
     "name": "stderr",
     "output_type": "stream",
     "text": [
      "WARNING: Method definition bisección(Any, Any, Any) in module Main at In[70]:3 overwritten at In[76]:4.\n",
      "WARNING: Method definition bisección(Any, Any, Any, Any) in module Main at In[70]:3 overwritten at In[76]:4.\n"
     ]
    },
    {
     "data": {
      "text/plain": [
       "bisección (generic function with 2 methods)"
      ]
     },
     "execution_count": 76,
     "metadata": {},
     "output_type": "execute_result"
    }
   ],
   "source": [
    "function bisección(f, a, b, ϵ=0.01)\n",
    "    \n",
    "    \n",
    "    if sign(f(a)) == sign(f(b))\n",
    "        error(\"No puedo garantizar que haya raíz\")\n",
    "    end\n",
    "    \n",
    "    c = (a + b) / 2  # punto medio\n",
    "    \n",
    "    datos = Float64[c]\n",
    "    \n",
    "    while abs(f(c)) > ϵ\n",
    "        \n",
    "        @show a, b, c, f(c)\n",
    "        \n",
    "        if sign(f(a)) == sign(f(c))\n",
    "            a, b = c, b  # equiv. a \"a = c\"\n",
    "        else\n",
    "            a, b = a, c  # equiv. a \"b = c\"\n",
    "        end\n",
    "        \n",
    "        c = (a + b) / 2  # punto medio\n",
    "        \n",
    "        push!(datos, c)\n",
    "        \n",
    "    end\n",
    "    \n",
    "    return c, datos  # raíz aproximada\n",
    "end\n"
   ]
  },
  {
   "cell_type": "code",
   "execution_count": 80,
   "metadata": {
    "collapsed": false
   },
   "outputs": [
    {
     "name": "stdout",
     "output_type": "stream",
     "text": [
      "(a,b,c,f(c)) = (-10,10,0.0,-9.0)\n",
      "(a,b,c,f(c)) = (0.0,10,5.0,26.0)\n",
      "(a,b,c,f(c)) = (0.0,5.0,2.5,8.5)\n",
      "(a,b,c,f(c)) = (0.0,2.5,1.25,-0.25)\n",
      "(a,b,c,f(c)) = (1.25,2.5,1.875,4.125)\n",
      "(a,b,c,f(c)) = (1.25,1.875,1.5625,1.9375)\n",
      "(a,b,c,f(c)) = (1.25,1.5625,1.40625,0.84375)\n",
      "(a,b,c,f(c)) = (1.25,1.40625,1.328125,0.296875)\n",
      "(a,b,c,f(c)) = (1.25,1.328125,1.2890625,0.0234375)\n",
      "(a,b,c,f(c)) = (1.25,1.2890625,1.26953125,-0.11328125)\n",
      "(a,b,c,f(c)) = (1.26953125,1.2890625,1.279296875,-0.044921875)\n",
      "(a,b,c,f(c)) = (1.279296875,1.2890625,1.2841796875,-0.0107421875)\n",
      "(a,b,c,f(c)) = (1.2841796875,1.2890625,1.28662109375,0.00634765625)\n",
      "(a,b,c,f(c)) = (1.2841796875,1.28662109375,1.285400390625,-0.002197265625)\n",
      "(a,b,c,f(c)) = (1.285400390625,1.28662109375,1.2860107421875,0.0020751953125)\n",
      "(a,b,c,f(c)) = (1.285400390625,1.2860107421875,1.28570556640625,-6.103515625e-5)\n",
      "(a,b,c,f(c)) = (1.28570556640625,1.2860107421875,1.285858154296875,0.001007080078125)\n",
      "(a,b,c,f(c)) = (1.28570556640625,1.285858154296875,1.2857818603515625,0.0004730224609375)\n",
      "(a,b,c,f(c)) = (1.28570556640625,1.2857818603515625,1.2857437133789062,0.00020599365234375)\n",
      "(a,b,c,f(c)) = (1.28570556640625,1.2857437133789062,1.2857246398925781,7.2479248046875e-5)\n",
      "(a,b,c,f(c)) = (1.28570556640625,1.2857246398925781,1.285715103149414,5.7220458984375e-6)\n",
      "(a,b,c,f(c)) = (1.28570556640625,1.285715103149414,1.285710334777832,-2.765655517578125e-5)\n",
      "(a,b,c,f(c)) = (1.285710334777832,1.285715103149414,1.285712718963623,-1.0967254638671875e-5)\n",
      "(a,b,c,f(c)) = (1.285712718963623,1.285715103149414,1.2857139110565186,-2.6226043701171875e-6)\n",
      "(a,b,c,f(c)) = (1.2857139110565186,1.285715103149414,1.2857145071029663,1.5497207641601562e-6)\n",
      "(a,b,c,f(c)) = (1.2857139110565186,1.2857145071029663,1.2857142090797424,-5.364418029785156e-7)\n",
      "(a,b,c,f(c)) = (1.2857142090797424,1.2857145071029663,1.2857143580913544,5.066394805908203e-7)\n",
      "(a,b,c,f(c)) = (1.2857142090797424,1.2857143580913544,1.2857142835855484,-1.4901161193847656e-8)\n",
      "(a,b,c,f(c)) = (1.2857142835855484,1.2857143580913544,1.2857143208384514,2.4586915969848633e-7)\n",
      "(a,b,c,f(c)) = (1.2857142835855484,1.2857143208384514,1.285714302212,1.1548399925231934e-7)\n",
      "(a,b,c,f(c)) = (1.2857142835855484,1.285714302212,1.2857142928987741,5.029141902923584e-8)\n",
      "(a,b,c,f(c)) = (1.2857142835855484,1.2857142928987741,1.2857142882421613,1.7695128917694092e-8)\n",
      "(a,b,c,f(c)) = (1.2857142835855484,1.2857142882421613,1.2857142859138548,1.3969838619232178e-9)\n",
      "(a,b,c,f(c)) = (1.2857142835855484,1.2857142859138548,1.2857142847497016,-6.752088665962219e-9)\n",
      "(a,b,c,f(c)) = (1.2857142847497016,1.2857142859138548,1.2857142853317782,-2.6775524020195007e-9)\n",
      "(a,b,c,f(c)) = (1.2857142853317782,1.2857142859138548,1.2857142856228165,-6.402842700481415e-10)\n",
      "(a,b,c,f(c)) = (1.2857142856228165,1.2857142859138548,1.2857142857683357,3.7834979593753815e-10)\n",
      "(a,b,c,f(c)) = (1.2857142856228165,1.2857142857683357,1.285714285695576,-1.3096723705530167e-10)\n",
      "(a,b,c,f(c)) = (1.285714285695576,1.2857142857683357,1.285714285731956,1.2369127944111824e-10)\n"
     ]
    },
    {
     "data": {
      "text/plain": [
       "(1.285714285713766,[0.0,5.0,2.5,1.25,1.875,1.5625,1.40625,1.32813,1.28906,1.26953  …  1.28571,1.28571,1.28571,1.28571,1.28571,1.28571,1.28571,1.28571,1.28571,1.28571])"
      ]
     },
     "execution_count": 80,
     "metadata": {},
     "output_type": "execute_result"
    }
   ],
   "source": [
    "raiz, datos = bisección(x->g(x), -10, 10, 1e-10)"
   ]
  },
  {
   "cell_type": "code",
   "execution_count": 81,
   "metadata": {
    "collapsed": false
   },
   "outputs": [
    {
     "data": {
      "text/plain": [
       "40-element Array{Float64,1}:\n",
       " 0.0    \n",
       " 5.0    \n",
       " 2.5    \n",
       " 1.25   \n",
       " 1.875  \n",
       " 1.5625 \n",
       " 1.40625\n",
       " 1.32813\n",
       " 1.28906\n",
       " 1.26953\n",
       " 1.2793 \n",
       " 1.28418\n",
       " 1.28662\n",
       " ⋮      \n",
       " 1.28571\n",
       " 1.28571\n",
       " 1.28571\n",
       " 1.28571\n",
       " 1.28571\n",
       " 1.28571\n",
       " 1.28571\n",
       " 1.28571\n",
       " 1.28571\n",
       " 1.28571\n",
       " 1.28571\n",
       " 1.28571"
      ]
     },
     "execution_count": 81,
     "metadata": {},
     "output_type": "execute_result"
    }
   ],
   "source": [
    "datos"
   ]
  },
  {
   "cell_type": "code",
   "execution_count": 82,
   "metadata": {
    "collapsed": false
   },
   "outputs": [
    {
     "data": {
      "text/plain": [
       "40-element Array{Float64,1}:\n",
       " -1.28571    \n",
       "  3.71429    \n",
       "  1.21429    \n",
       " -0.0357143  \n",
       "  0.589286   \n",
       "  0.276786   \n",
       "  0.120536   \n",
       "  0.0424107  \n",
       "  0.00334821 \n",
       " -0.016183   \n",
       " -0.00641741 \n",
       " -0.0015346  \n",
       "  0.000906808\n",
       "  ⋮          \n",
       "  3.51247e-8 \n",
       "  1.64982e-8 \n",
       "  7.18501e-9 \n",
       "  2.5284e-9  \n",
       "  2.00089e-10\n",
       " -9.64064e-10\n",
       " -3.81988e-10\n",
       " -9.09495e-11\n",
       "  5.45697e-11\n",
       " -1.81899e-11\n",
       "  1.81899e-11\n",
       "  0.0        "
      ]
     },
     "execution_count": 82,
     "metadata": {},
     "output_type": "execute_result"
    }
   ],
   "source": [
    "datos .- raiz"
   ]
  },
  {
   "cell_type": "code",
   "execution_count": 83,
   "metadata": {
    "collapsed": false
   },
   "outputs": [
    {
     "name": "stderr",
     "output_type": "stream",
     "text": [
      "\u001b[1m\u001b[34mINFO: Precompiling module Plots.\n",
      "\u001b[0m\u001b[1m\u001b[34mINFO: Recompiling stale cache file /Users/dpsanders/.julia/lib/v0.5/GR.ji for module GR.\n",
      "\u001b[0m"
     ]
    },
    {
     "data": {
      "text/plain": [
       "Plots.GRBackend()"
      ]
     },
     "execution_count": 83,
     "metadata": {},
     "output_type": "execute_result"
    }
   ],
   "source": [
    "using Plots; gr()"
   ]
  },
  {
   "cell_type": "code",
   "execution_count": 87,
   "metadata": {
    "collapsed": false
   },
   "outputs": [
    {
     "data": {
      "text/html": [
       "<?xml version=\"1.0\" encoding=\"utf-8\"?>\n",
       "<svg xmlns=\"http://www.w3.org/2000/svg\" xmlns:xlink=\"http://www.w3.org/1999/xlink\" width=\"600\" height=\"400\" viewBox=\"0 0 600 400\">\n",
       "<defs>\n",
       "  <clipPath id=\"clip00\">\n",
       "    <rect x=\"0\" y=\"0\" width=\"600\" height=\"400\"/>\n",
       "  </clipPath>\n",
       "</defs>\n",
       "<polygon clip-path=\"url(#clip00)\" points=\"\n",
       "0,400 600,400 600,0 0,0 \n",
       "  \" fill=\"#ffffff\" fill-opacity=\"1\"/>\n",
       "<defs>\n",
       "  <clipPath id=\"clip01\">\n",
       "    <rect x=\"120\" y=\"0\" width=\"421\" height=\"400\"/>\n",
       "  </clipPath>\n",
       "</defs>\n",
       "<polygon clip-path=\"url(#clip00)\" points=\"\n",
       "16.7629,381.015 596.063,381.015 596.063,3.93701 16.7629,3.93701 \n",
       "  \" fill=\"#ffffff\" fill-opacity=\"1\"/>\n",
       "<defs>\n",
       "  <clipPath id=\"clip02\">\n",
       "    <rect x=\"16\" y=\"3\" width=\"580\" height=\"378\"/>\n",
       "  </clipPath>\n",
       "</defs>\n",
       "<polyline clip-path=\"url(#clip02)\" style=\"stroke:#00002d; stroke-width:0.8; stroke-opacity:0.5; fill:none\" stroke-dasharray=\"1, 2\" points=\"\n",
       "  19.1451,375.359 19.1451,9.59318 \n",
       "  \"/>\n",
       "<polyline clip-path=\"url(#clip02)\" style=\"stroke:#00002d; stroke-width:0.8; stroke-opacity:0.5; fill:none\" stroke-dasharray=\"1, 2\" points=\"\n",
       "  159.276,375.359 159.276,9.59318 \n",
       "  \"/>\n",
       "<polyline clip-path=\"url(#clip02)\" style=\"stroke:#00002d; stroke-width:0.8; stroke-opacity:0.5; fill:none\" stroke-dasharray=\"1, 2\" points=\"\n",
       "  299.406,375.359 299.406,9.59318 \n",
       "  \"/>\n",
       "<polyline clip-path=\"url(#clip02)\" style=\"stroke:#00002d; stroke-width:0.8; stroke-opacity:0.5; fill:none\" stroke-dasharray=\"1, 2\" points=\"\n",
       "  439.537,375.359 439.537,9.59318 \n",
       "  \"/>\n",
       "<polyline clip-path=\"url(#clip02)\" style=\"stroke:#00002d; stroke-width:0.8; stroke-opacity:0.5; fill:none\" stroke-dasharray=\"1, 2\" points=\"\n",
       "  579.668,375.359 579.668,9.59318 \n",
       "  \"/>\n",
       "<polyline clip-path=\"url(#clip02)\" style=\"stroke:#00002d; stroke-width:0.8; stroke-opacity:0.5; fill:none\" stroke-dasharray=\"1, 2\" points=\"\n",
       "  25.4524,370.343 587.373,370.343 \n",
       "  \"/>\n",
       "<polyline clip-path=\"url(#clip02)\" style=\"stroke:#00002d; stroke-width:0.8; stroke-opacity:0.5; fill:none\" stroke-dasharray=\"1, 2\" points=\"\n",
       "  25.4524,274.568 587.373,274.568 \n",
       "  \"/>\n",
       "<polyline clip-path=\"url(#clip02)\" style=\"stroke:#00002d; stroke-width:0.8; stroke-opacity:0.5; fill:none\" stroke-dasharray=\"1, 2\" points=\"\n",
       "  25.4524,178.794 587.373,178.794 \n",
       "  \"/>\n",
       "<polyline clip-path=\"url(#clip02)\" style=\"stroke:#00002d; stroke-width:0.8; stroke-opacity:0.5; fill:none\" stroke-dasharray=\"1, 2\" points=\"\n",
       "  25.4524,83.0194 587.373,83.0194 \n",
       "  \"/>\n",
       "<polyline clip-path=\"url(#clip02)\" style=\"stroke:#00002d; stroke-width:0.8; stroke-opacity:1; fill:none\" points=\"\n",
       "  16.7629,381.015 596.063,381.015 \n",
       "  \"/>\n",
       "<polyline clip-path=\"url(#clip02)\" style=\"stroke:#00002d; stroke-width:0.8; stroke-opacity:1; fill:none\" points=\"\n",
       "  19.1451,381.015 19.1451,375.359 \n",
       "  \"/>\n",
       "<polyline clip-path=\"url(#clip02)\" style=\"stroke:#00002d; stroke-width:0.8; stroke-opacity:1; fill:none\" points=\"\n",
       "  159.276,381.015 159.276,375.359 \n",
       "  \"/>\n",
       "<polyline clip-path=\"url(#clip02)\" style=\"stroke:#00002d; stroke-width:0.8; stroke-opacity:1; fill:none\" points=\"\n",
       "  299.406,381.015 299.406,375.359 \n",
       "  \"/>\n",
       "<polyline clip-path=\"url(#clip02)\" style=\"stroke:#00002d; stroke-width:0.8; stroke-opacity:1; fill:none\" points=\"\n",
       "  439.537,381.015 439.537,375.359 \n",
       "  \"/>\n",
       "<polyline clip-path=\"url(#clip02)\" style=\"stroke:#00002d; stroke-width:0.8; stroke-opacity:1; fill:none\" points=\"\n",
       "  579.668,381.015 579.668,375.359 \n",
       "  \"/>\n",
       "<polyline clip-path=\"url(#clip02)\" style=\"stroke:#00002d; stroke-width:0.8; stroke-opacity:1; fill:none\" points=\"\n",
       "  16.7629,381.015 16.7629,3.93701 \n",
       "  \"/>\n",
       "<polyline clip-path=\"url(#clip02)\" style=\"stroke:#00002d; stroke-width:0.8; stroke-opacity:1; fill:none\" points=\"\n",
       "  16.7629,370.343 25.4524,370.343 \n",
       "  \"/>\n",
       "<polyline clip-path=\"url(#clip02)\" style=\"stroke:#00002d; stroke-width:0.8; stroke-opacity:1; fill:none\" points=\"\n",
       "  16.7629,274.568 25.4524,274.568 \n",
       "  \"/>\n",
       "<polyline clip-path=\"url(#clip02)\" style=\"stroke:#00002d; stroke-width:0.8; stroke-opacity:1; fill:none\" points=\"\n",
       "  16.7629,178.794 25.4524,178.794 \n",
       "  \"/>\n",
       "<polyline clip-path=\"url(#clip02)\" style=\"stroke:#00002d; stroke-width:0.8; stroke-opacity:1; fill:none\" points=\"\n",
       "  16.7629,83.0194 25.4524,83.0194 \n",
       "  \"/>\n",
       "<g clip-path=\"url(#clip00)\">\n",
       "<text style=\"fill:#00002d; fill-opacity:1; font-family:Arial,Helvetica Neue,Helvetica,sans-serif; font-size:12; text-anchor:middle;\" transform=\"rotate(0, 19.1451, 393.015)\" x=\"19.1451\" y=\"393.015\">0</text>\n",
       "</g>\n",
       "<g clip-path=\"url(#clip00)\">\n",
       "<text style=\"fill:#00002d; fill-opacity:1; font-family:Arial,Helvetica Neue,Helvetica,sans-serif; font-size:12; text-anchor:middle;\" transform=\"rotate(0, 159.276, 393.015)\" x=\"159.276\" y=\"393.015\">10</text>\n",
       "</g>\n",
       "<g clip-path=\"url(#clip00)\">\n",
       "<text style=\"fill:#00002d; fill-opacity:1; font-family:Arial,Helvetica Neue,Helvetica,sans-serif; font-size:12; text-anchor:middle;\" transform=\"rotate(0, 299.406, 393.015)\" x=\"299.406\" y=\"393.015\">20</text>\n",
       "</g>\n",
       "<g clip-path=\"url(#clip00)\">\n",
       "<text style=\"fill:#00002d; fill-opacity:1; font-family:Arial,Helvetica Neue,Helvetica,sans-serif; font-size:12; text-anchor:middle;\" transform=\"rotate(0, 439.537, 393.015)\" x=\"439.537\" y=\"393.015\">30</text>\n",
       "</g>\n",
       "<g clip-path=\"url(#clip00)\">\n",
       "<text style=\"fill:#00002d; fill-opacity:1; font-family:Arial,Helvetica Neue,Helvetica,sans-serif; font-size:12; text-anchor:middle;\" transform=\"rotate(0, 579.668, 393.015)\" x=\"579.668\" y=\"393.015\">40</text>\n",
       "</g>\n",
       "<g clip-path=\"url(#clip00)\">\n",
       "<text style=\"fill:#00002d; fill-opacity:1; font-family:Arial,Helvetica Neue,Helvetica,sans-serif; font-size:12; text-anchor:end;\" transform=\"rotate(0, 15.5629, 374.843)\" x=\"15.5629\" y=\"374.843\">0</text>\n",
       "</g>\n",
       "<g clip-path=\"url(#clip00)\">\n",
       "<text style=\"fill:#00002d; fill-opacity:1; font-family:Arial,Helvetica Neue,Helvetica,sans-serif; font-size:12; text-anchor:end;\" transform=\"rotate(0, 15.5629, 279.068)\" x=\"15.5629\" y=\"279.068\">1</text>\n",
       "</g>\n",
       "<g clip-path=\"url(#clip00)\">\n",
       "<text style=\"fill:#00002d; fill-opacity:1; font-family:Arial,Helvetica Neue,Helvetica,sans-serif; font-size:12; text-anchor:end;\" transform=\"rotate(0, 15.5629, 183.294)\" x=\"15.5629\" y=\"183.294\">2</text>\n",
       "</g>\n",
       "<g clip-path=\"url(#clip00)\">\n",
       "<text style=\"fill:#00002d; fill-opacity:1; font-family:Arial,Helvetica Neue,Helvetica,sans-serif; font-size:12; text-anchor:end;\" transform=\"rotate(0, 15.5629, 87.5194)\" x=\"15.5629\" y=\"87.5194\">3</text>\n",
       "</g>\n",
       "<polyline clip-path=\"url(#clip02)\" style=\"stroke:#0099ff; stroke-width:0.8; stroke-opacity:1; fill:none\" points=\"\n",
       "  33.1582,247.204 47.1713,14.609 61.1843,254.045 75.1974,366.922 89.2104,313.904 103.224,343.834 117.237,358.799 131.25,366.281 145.263,370.022 159.276,368.793 \n",
       "  173.289,369.728 187.302,370.196 201.315,370.256 215.328,370.313 229.341,370.314 243.354,370.342 257.367,370.329 271.38,370.336 285.393,370.34 299.406,370.342 \n",
       "  313.419,370.343 327.433,370.342 341.446,370.343 355.459,370.343 369.472,370.343 383.485,370.343 397.498,370.343 411.511,370.343 425.524,370.343 439.537,370.343 \n",
       "  453.55,370.343 467.563,370.343 481.576,370.343 495.589,370.343 509.602,370.343 523.615,370.343 537.629,370.343 551.642,370.343 565.655,370.343 579.668,370.343 \n",
       "  \n",
       "  \"/>\n",
       "<polygon clip-path=\"url(#clip02)\" style=\"fill:#00002d; fill-opacity:1\" points=\"\n",
       "  29.1582,243.204 29.1582,251.204 37.1582,251.204 37.1582,243.204 29.1582,243.204 \n",
       "  \"/>\n",
       "<polygon clip-path=\"url(#clip02)\" style=\"fill:#0099ff; fill-opacity:1\" points=\"\n",
       "  29.9582,244.004 29.9582,250.404 36.3582,250.404 36.3582,244.004 29.9582,244.004 \n",
       "  \"/>\n",
       "<polygon clip-path=\"url(#clip02)\" style=\"fill:#00002d; fill-opacity:1\" points=\"\n",
       "  43.1713,10.609 43.1713,18.609 51.1713,18.609 51.1713,10.609 43.1713,10.609 \n",
       "  \"/>\n",
       "<polygon clip-path=\"url(#clip02)\" style=\"fill:#0099ff; fill-opacity:1\" points=\"\n",
       "  43.9713,11.409 43.9713,17.809 50.3713,17.809 50.3713,11.409 43.9713,11.409 \n",
       "  \"/>\n",
       "<polygon clip-path=\"url(#clip02)\" style=\"fill:#00002d; fill-opacity:1\" points=\"\n",
       "  57.1843,250.045 57.1843,258.045 65.1843,258.045 65.1843,250.045 57.1843,250.045 \n",
       "  \"/>\n",
       "<polygon clip-path=\"url(#clip02)\" style=\"fill:#0099ff; fill-opacity:1\" points=\"\n",
       "  57.9843,250.845 57.9843,257.245 64.3843,257.245 64.3843,250.845 57.9843,250.845 \n",
       "  \"/>\n",
       "<polygon clip-path=\"url(#clip02)\" style=\"fill:#00002d; fill-opacity:1\" points=\"\n",
       "  71.1974,362.922 71.1974,370.922 79.1974,370.922 79.1974,362.922 71.1974,362.922 \n",
       "  \"/>\n",
       "<polygon clip-path=\"url(#clip02)\" style=\"fill:#0099ff; fill-opacity:1\" points=\"\n",
       "  71.9974,363.722 71.9974,370.122 78.3974,370.122 78.3974,363.722 71.9974,363.722 \n",
       "  \"/>\n",
       "<polygon clip-path=\"url(#clip02)\" style=\"fill:#00002d; fill-opacity:1\" points=\"\n",
       "  85.2104,309.904 85.2104,317.904 93.2104,317.904 93.2104,309.904 85.2104,309.904 \n",
       "  \"/>\n",
       "<polygon clip-path=\"url(#clip02)\" style=\"fill:#0099ff; fill-opacity:1\" points=\"\n",
       "  86.0104,310.704 86.0104,317.104 92.4104,317.104 92.4104,310.704 86.0104,310.704 \n",
       "  \"/>\n",
       "<polygon clip-path=\"url(#clip02)\" style=\"fill:#00002d; fill-opacity:1\" points=\"\n",
       "  99.2235,339.834 99.2235,347.834 107.224,347.834 107.224,339.834 99.2235,339.834 \n",
       "  \"/>\n",
       "<polygon clip-path=\"url(#clip02)\" style=\"fill:#0099ff; fill-opacity:1\" points=\"\n",
       "  100.024,340.634 100.024,347.034 106.424,347.034 106.424,340.634 100.024,340.634 \n",
       "  \"/>\n",
       "<polygon clip-path=\"url(#clip02)\" style=\"fill:#00002d; fill-opacity:1\" points=\"\n",
       "  113.237,354.799 113.237,362.799 121.237,362.799 121.237,354.799 113.237,354.799 \n",
       "  \"/>\n",
       "<polygon clip-path=\"url(#clip02)\" style=\"fill:#0099ff; fill-opacity:1\" points=\"\n",
       "  114.037,355.599 114.037,361.999 120.437,361.999 120.437,355.599 114.037,355.599 \n",
       "  \"/>\n",
       "<polygon clip-path=\"url(#clip02)\" style=\"fill:#00002d; fill-opacity:1\" points=\"\n",
       "  127.25,362.281 127.25,370.281 135.25,370.281 135.25,362.281 127.25,362.281 \n",
       "  \"/>\n",
       "<polygon clip-path=\"url(#clip02)\" style=\"fill:#0099ff; fill-opacity:1\" points=\"\n",
       "  128.05,363.081 128.05,369.481 134.45,369.481 134.45,363.081 128.05,363.081 \n",
       "  \"/>\n",
       "<polygon clip-path=\"url(#clip02)\" style=\"fill:#00002d; fill-opacity:1\" points=\"\n",
       "  141.263,366.022 141.263,374.022 149.263,374.022 149.263,366.022 141.263,366.022 \n",
       "  \"/>\n",
       "<polygon clip-path=\"url(#clip02)\" style=\"fill:#0099ff; fill-opacity:1\" points=\"\n",
       "  142.063,366.822 142.063,373.222 148.463,373.222 148.463,366.822 142.063,366.822 \n",
       "  \"/>\n",
       "<polygon clip-path=\"url(#clip02)\" style=\"fill:#00002d; fill-opacity:1\" points=\"\n",
       "  155.276,364.793 155.276,372.793 163.276,372.793 163.276,364.793 155.276,364.793 \n",
       "  \"/>\n",
       "<polygon clip-path=\"url(#clip02)\" style=\"fill:#0099ff; fill-opacity:1\" points=\"\n",
       "  156.076,365.593 156.076,371.993 162.476,371.993 162.476,365.593 156.076,365.593 \n",
       "  \"/>\n",
       "<polygon clip-path=\"url(#clip02)\" style=\"fill:#00002d; fill-opacity:1\" points=\"\n",
       "  169.289,365.728 169.289,373.728 177.289,373.728 177.289,365.728 169.289,365.728 \n",
       "  \"/>\n",
       "<polygon clip-path=\"url(#clip02)\" style=\"fill:#0099ff; fill-opacity:1\" points=\"\n",
       "  170.089,366.528 170.089,372.928 176.489,372.928 176.489,366.528 170.089,366.528 \n",
       "  \"/>\n",
       "<polygon clip-path=\"url(#clip02)\" style=\"fill:#00002d; fill-opacity:1\" points=\"\n",
       "  183.302,366.196 183.302,374.196 191.302,374.196 191.302,366.196 183.302,366.196 \n",
       "  \"/>\n",
       "<polygon clip-path=\"url(#clip02)\" style=\"fill:#0099ff; fill-opacity:1\" points=\"\n",
       "  184.102,366.996 184.102,373.396 190.502,373.396 190.502,366.996 184.102,366.996 \n",
       "  \"/>\n",
       "<polygon clip-path=\"url(#clip02)\" style=\"fill:#00002d; fill-opacity:1\" points=\"\n",
       "  197.315,366.256 197.315,374.256 205.315,374.256 205.315,366.256 197.315,366.256 \n",
       "  \"/>\n",
       "<polygon clip-path=\"url(#clip02)\" style=\"fill:#0099ff; fill-opacity:1\" points=\"\n",
       "  198.115,367.056 198.115,373.456 204.515,373.456 204.515,367.056 198.115,367.056 \n",
       "  \"/>\n",
       "<polygon clip-path=\"url(#clip02)\" style=\"fill:#00002d; fill-opacity:1\" points=\"\n",
       "  211.328,366.313 211.328,374.313 219.328,374.313 219.328,366.313 211.328,366.313 \n",
       "  \"/>\n",
       "<polygon clip-path=\"url(#clip02)\" style=\"fill:#0099ff; fill-opacity:1\" points=\"\n",
       "  212.128,367.113 212.128,373.513 218.528,373.513 218.528,367.113 212.128,367.113 \n",
       "  \"/>\n",
       "<polygon clip-path=\"url(#clip02)\" style=\"fill:#00002d; fill-opacity:1\" points=\"\n",
       "  225.341,366.314 225.341,374.314 233.341,374.314 233.341,366.314 225.341,366.314 \n",
       "  \"/>\n",
       "<polygon clip-path=\"url(#clip02)\" style=\"fill:#0099ff; fill-opacity:1\" points=\"\n",
       "  226.141,367.114 226.141,373.514 232.541,373.514 232.541,367.114 226.141,367.114 \n",
       "  \"/>\n",
       "<polygon clip-path=\"url(#clip02)\" style=\"fill:#00002d; fill-opacity:1\" points=\"\n",
       "  239.354,366.342 239.354,374.342 247.354,374.342 247.354,366.342 239.354,366.342 \n",
       "  \"/>\n",
       "<polygon clip-path=\"url(#clip02)\" style=\"fill:#0099ff; fill-opacity:1\" points=\"\n",
       "  240.154,367.142 240.154,373.542 246.554,373.542 246.554,367.142 240.154,367.142 \n",
       "  \"/>\n",
       "<polygon clip-path=\"url(#clip02)\" style=\"fill:#00002d; fill-opacity:1\" points=\"\n",
       "  253.367,366.329 253.367,374.329 261.367,374.329 261.367,366.329 253.367,366.329 \n",
       "  \"/>\n",
       "<polygon clip-path=\"url(#clip02)\" style=\"fill:#0099ff; fill-opacity:1\" points=\"\n",
       "  254.167,367.129 254.167,373.529 260.567,373.529 260.567,367.129 254.167,367.129 \n",
       "  \"/>\n",
       "<polygon clip-path=\"url(#clip02)\" style=\"fill:#00002d; fill-opacity:1\" points=\"\n",
       "  267.38,366.336 267.38,374.336 275.38,374.336 275.38,366.336 267.38,366.336 \n",
       "  \"/>\n",
       "<polygon clip-path=\"url(#clip02)\" style=\"fill:#0099ff; fill-opacity:1\" points=\"\n",
       "  268.18,367.136 268.18,373.536 274.58,373.536 274.58,367.136 268.18,367.136 \n",
       "  \"/>\n",
       "<polygon clip-path=\"url(#clip02)\" style=\"fill:#00002d; fill-opacity:1\" points=\"\n",
       "  281.393,366.34 281.393,374.34 289.393,374.34 289.393,366.34 281.393,366.34 \n",
       "  \"/>\n",
       "<polygon clip-path=\"url(#clip02)\" style=\"fill:#0099ff; fill-opacity:1\" points=\"\n",
       "  282.193,367.14 282.193,373.54 288.593,373.54 288.593,367.14 282.193,367.14 \n",
       "  \"/>\n",
       "<polygon clip-path=\"url(#clip02)\" style=\"fill:#00002d; fill-opacity:1\" points=\"\n",
       "  295.406,366.342 295.406,374.342 303.406,374.342 303.406,366.342 295.406,366.342 \n",
       "  \"/>\n",
       "<polygon clip-path=\"url(#clip02)\" style=\"fill:#0099ff; fill-opacity:1\" points=\"\n",
       "  296.206,367.142 296.206,373.542 302.606,373.542 302.606,367.142 296.206,367.142 \n",
       "  \"/>\n",
       "<polygon clip-path=\"url(#clip02)\" style=\"fill:#00002d; fill-opacity:1\" points=\"\n",
       "  309.419,366.343 309.419,374.343 317.419,374.343 317.419,366.343 309.419,366.343 \n",
       "  \"/>\n",
       "<polygon clip-path=\"url(#clip02)\" style=\"fill:#0099ff; fill-opacity:1\" points=\"\n",
       "  310.219,367.143 310.219,373.543 316.619,373.543 316.619,367.143 310.219,367.143 \n",
       "  \"/>\n",
       "<polygon clip-path=\"url(#clip02)\" style=\"fill:#00002d; fill-opacity:1\" points=\"\n",
       "  323.433,366.342 323.433,374.342 331.433,374.342 331.433,366.342 323.433,366.342 \n",
       "  \"/>\n",
       "<polygon clip-path=\"url(#clip02)\" style=\"fill:#0099ff; fill-opacity:1\" points=\"\n",
       "  324.233,367.142 324.233,373.542 330.633,373.542 330.633,367.142 324.233,367.142 \n",
       "  \"/>\n",
       "<polygon clip-path=\"url(#clip02)\" style=\"fill:#00002d; fill-opacity:1\" points=\"\n",
       "  337.446,366.343 337.446,374.343 345.446,374.343 345.446,366.343 337.446,366.343 \n",
       "  \"/>\n",
       "<polygon clip-path=\"url(#clip02)\" style=\"fill:#0099ff; fill-opacity:1\" points=\"\n",
       "  338.246,367.143 338.246,373.543 344.646,373.543 344.646,367.143 338.246,367.143 \n",
       "  \"/>\n",
       "<polygon clip-path=\"url(#clip02)\" style=\"fill:#00002d; fill-opacity:1\" points=\"\n",
       "  351.459,366.343 351.459,374.343 359.459,374.343 359.459,366.343 351.459,366.343 \n",
       "  \"/>\n",
       "<polygon clip-path=\"url(#clip02)\" style=\"fill:#0099ff; fill-opacity:1\" points=\"\n",
       "  352.259,367.143 352.259,373.543 358.659,373.543 358.659,367.143 352.259,367.143 \n",
       "  \"/>\n",
       "<polygon clip-path=\"url(#clip02)\" style=\"fill:#00002d; fill-opacity:1\" points=\"\n",
       "  365.472,366.343 365.472,374.343 373.472,374.343 373.472,366.343 365.472,366.343 \n",
       "  \"/>\n",
       "<polygon clip-path=\"url(#clip02)\" style=\"fill:#0099ff; fill-opacity:1\" points=\"\n",
       "  366.272,367.143 366.272,373.543 372.672,373.543 372.672,367.143 366.272,367.143 \n",
       "  \"/>\n",
       "<polygon clip-path=\"url(#clip02)\" style=\"fill:#00002d; fill-opacity:1\" points=\"\n",
       "  379.485,366.343 379.485,374.343 387.485,374.343 387.485,366.343 379.485,366.343 \n",
       "  \"/>\n",
       "<polygon clip-path=\"url(#clip02)\" style=\"fill:#0099ff; fill-opacity:1\" points=\"\n",
       "  380.285,367.143 380.285,373.543 386.685,373.543 386.685,367.143 380.285,367.143 \n",
       "  \"/>\n",
       "<polygon clip-path=\"url(#clip02)\" style=\"fill:#00002d; fill-opacity:1\" points=\"\n",
       "  393.498,366.343 393.498,374.343 401.498,374.343 401.498,366.343 393.498,366.343 \n",
       "  \"/>\n",
       "<polygon clip-path=\"url(#clip02)\" style=\"fill:#0099ff; fill-opacity:1\" points=\"\n",
       "  394.298,367.143 394.298,373.543 400.698,373.543 400.698,367.143 394.298,367.143 \n",
       "  \"/>\n",
       "<polygon clip-path=\"url(#clip02)\" style=\"fill:#00002d; fill-opacity:1\" points=\"\n",
       "  407.511,366.343 407.511,374.343 415.511,374.343 415.511,366.343 407.511,366.343 \n",
       "  \"/>\n",
       "<polygon clip-path=\"url(#clip02)\" style=\"fill:#0099ff; fill-opacity:1\" points=\"\n",
       "  408.311,367.143 408.311,373.543 414.711,373.543 414.711,367.143 408.311,367.143 \n",
       "  \"/>\n",
       "<polygon clip-path=\"url(#clip02)\" style=\"fill:#00002d; fill-opacity:1\" points=\"\n",
       "  421.524,366.343 421.524,374.343 429.524,374.343 429.524,366.343 421.524,366.343 \n",
       "  \"/>\n",
       "<polygon clip-path=\"url(#clip02)\" style=\"fill:#0099ff; fill-opacity:1\" points=\"\n",
       "  422.324,367.143 422.324,373.543 428.724,373.543 428.724,367.143 422.324,367.143 \n",
       "  \"/>\n",
       "<polygon clip-path=\"url(#clip02)\" style=\"fill:#00002d; fill-opacity:1\" points=\"\n",
       "  435.537,366.343 435.537,374.343 443.537,374.343 443.537,366.343 435.537,366.343 \n",
       "  \"/>\n",
       "<polygon clip-path=\"url(#clip02)\" style=\"fill:#0099ff; fill-opacity:1\" points=\"\n",
       "  436.337,367.143 436.337,373.543 442.737,373.543 442.737,367.143 436.337,367.143 \n",
       "  \"/>\n",
       "<polygon clip-path=\"url(#clip02)\" style=\"fill:#00002d; fill-opacity:1\" points=\"\n",
       "  449.55,366.343 449.55,374.343 457.55,374.343 457.55,366.343 449.55,366.343 \n",
       "  \"/>\n",
       "<polygon clip-path=\"url(#clip02)\" style=\"fill:#0099ff; fill-opacity:1\" points=\"\n",
       "  450.35,367.143 450.35,373.543 456.75,373.543 456.75,367.143 450.35,367.143 \n",
       "  \"/>\n",
       "<polygon clip-path=\"url(#clip02)\" style=\"fill:#00002d; fill-opacity:1\" points=\"\n",
       "  463.563,366.343 463.563,374.343 471.563,374.343 471.563,366.343 463.563,366.343 \n",
       "  \"/>\n",
       "<polygon clip-path=\"url(#clip02)\" style=\"fill:#0099ff; fill-opacity:1\" points=\"\n",
       "  464.363,367.143 464.363,373.543 470.763,373.543 470.763,367.143 464.363,367.143 \n",
       "  \"/>\n",
       "<polygon clip-path=\"url(#clip02)\" style=\"fill:#00002d; fill-opacity:1\" points=\"\n",
       "  477.576,366.343 477.576,374.343 485.576,374.343 485.576,366.343 477.576,366.343 \n",
       "  \"/>\n",
       "<polygon clip-path=\"url(#clip02)\" style=\"fill:#0099ff; fill-opacity:1\" points=\"\n",
       "  478.376,367.143 478.376,373.543 484.776,373.543 484.776,367.143 478.376,367.143 \n",
       "  \"/>\n",
       "<polygon clip-path=\"url(#clip02)\" style=\"fill:#00002d; fill-opacity:1\" points=\"\n",
       "  491.589,366.343 491.589,374.343 499.589,374.343 499.589,366.343 491.589,366.343 \n",
       "  \"/>\n",
       "<polygon clip-path=\"url(#clip02)\" style=\"fill:#0099ff; fill-opacity:1\" points=\"\n",
       "  492.389,367.143 492.389,373.543 498.789,373.543 498.789,367.143 492.389,367.143 \n",
       "  \"/>\n",
       "<polygon clip-path=\"url(#clip02)\" style=\"fill:#00002d; fill-opacity:1\" points=\"\n",
       "  505.602,366.343 505.602,374.343 513.602,374.343 513.602,366.343 505.602,366.343 \n",
       "  \"/>\n",
       "<polygon clip-path=\"url(#clip02)\" style=\"fill:#0099ff; fill-opacity:1\" points=\"\n",
       "  506.402,367.143 506.402,373.543 512.802,373.543 512.802,367.143 506.402,367.143 \n",
       "  \"/>\n",
       "<polygon clip-path=\"url(#clip02)\" style=\"fill:#00002d; fill-opacity:1\" points=\"\n",
       "  519.615,366.343 519.615,374.343 527.615,374.343 527.615,366.343 519.615,366.343 \n",
       "  \"/>\n",
       "<polygon clip-path=\"url(#clip02)\" style=\"fill:#0099ff; fill-opacity:1\" points=\"\n",
       "  520.415,367.143 520.415,373.543 526.815,373.543 526.815,367.143 520.415,367.143 \n",
       "  \"/>\n",
       "<polygon clip-path=\"url(#clip02)\" style=\"fill:#00002d; fill-opacity:1\" points=\"\n",
       "  533.629,366.343 533.629,374.343 541.629,374.343 541.629,366.343 533.629,366.343 \n",
       "  \"/>\n",
       "<polygon clip-path=\"url(#clip02)\" style=\"fill:#0099ff; fill-opacity:1\" points=\"\n",
       "  534.429,367.143 534.429,373.543 540.829,373.543 540.829,367.143 534.429,367.143 \n",
       "  \"/>\n",
       "<polygon clip-path=\"url(#clip02)\" style=\"fill:#00002d; fill-opacity:1\" points=\"\n",
       "  547.642,366.343 547.642,374.343 555.642,374.343 555.642,366.343 547.642,366.343 \n",
       "  \"/>\n",
       "<polygon clip-path=\"url(#clip02)\" style=\"fill:#0099ff; fill-opacity:1\" points=\"\n",
       "  548.442,367.143 548.442,373.543 554.842,373.543 554.842,367.143 548.442,367.143 \n",
       "  \"/>\n",
       "<polygon clip-path=\"url(#clip02)\" style=\"fill:#00002d; fill-opacity:1\" points=\"\n",
       "  561.655,366.343 561.655,374.343 569.655,374.343 569.655,366.343 561.655,366.343 \n",
       "  \"/>\n",
       "<polygon clip-path=\"url(#clip02)\" style=\"fill:#0099ff; fill-opacity:1\" points=\"\n",
       "  562.455,367.143 562.455,373.543 568.855,373.543 568.855,367.143 562.455,367.143 \n",
       "  \"/>\n",
       "<polygon clip-path=\"url(#clip02)\" style=\"fill:#00002d; fill-opacity:1\" points=\"\n",
       "  575.668,366.343 575.668,374.343 583.668,374.343 583.668,366.343 575.668,366.343 \n",
       "  \"/>\n",
       "<polygon clip-path=\"url(#clip02)\" style=\"fill:#0099ff; fill-opacity:1\" points=\"\n",
       "  576.468,367.143 576.468,373.543 582.868,373.543 582.868,367.143 576.468,367.143 \n",
       "  \"/>\n",
       "<polygon clip-path=\"url(#clip00)\" points=\"\n",
       "505.547,55.057 578.063,55.057 578.063,24.817 505.547,24.817 \n",
       "  \" fill=\"#ffffff\" fill-opacity=\"1\"/>\n",
       "<polyline clip-path=\"url(#clip00)\" style=\"stroke:#00002d; stroke-width:0.8; stroke-opacity:1; fill:none\" points=\"\n",
       "  505.547,55.057 578.063,55.057 578.063,24.817 505.547,24.817 505.547,55.057 \n",
       "  \"/>\n",
       "<polyline clip-path=\"url(#clip00)\" style=\"stroke:#0099ff; stroke-width:0.8; stroke-opacity:1; fill:none\" points=\"\n",
       "  511.547,39.937 547.547,39.937 \n",
       "  \"/>\n",
       "<polygon clip-path=\"url(#clip00)\" style=\"fill:#00002d; fill-opacity:1\" points=\"\n",
       "  508.747,31.137 508.747,48.737 526.347,48.737 526.347,31.137 508.747,31.137 \n",
       "  \"/>\n",
       "<polygon clip-path=\"url(#clip00)\" style=\"fill:#0099ff; fill-opacity:1\" points=\"\n",
       "  509.547,31.937 509.547,47.937 525.547,47.937 525.547,31.937 509.547,31.937 \n",
       "  \"/>\n",
       "<polygon clip-path=\"url(#clip00)\" style=\"fill:#00002d; fill-opacity:1\" points=\"\n",
       "  532.747,31.137 532.747,48.737 550.347,48.737 550.347,31.137 532.747,31.137 \n",
       "  \"/>\n",
       "<polygon clip-path=\"url(#clip00)\" style=\"fill:#0099ff; fill-opacity:1\" points=\"\n",
       "  533.547,31.937 533.547,47.937 549.547,47.937 549.547,31.937 533.547,31.937 \n",
       "  \"/>\n",
       "<g clip-path=\"url(#clip00)\">\n",
       "<text style=\"fill:#00002d; fill-opacity:1; font-family:Arial,Helvetica Neue,Helvetica,sans-serif; font-size:12; text-anchor:start;\" transform=\"rotate(0, 553.547, 44.437)\" x=\"553.547\" y=\"44.437\">y1</text>\n",
       "</g>\n",
       "</svg>\n"
      ]
     },
     "execution_count": 87,
     "metadata": {},
     "output_type": "execute_result"
    }
   ],
   "source": [
    "plot(abs.(datos .- raiz), m=:square)"
   ]
  },
  {
   "cell_type": "code",
   "execution_count": 89,
   "metadata": {
    "collapsed": false
   },
   "outputs": [
    {
     "data": {
      "text/html": [
       "<?xml version=\"1.0\" encoding=\"utf-8\"?>\n",
       "<svg xmlns=\"http://www.w3.org/2000/svg\" xmlns:xlink=\"http://www.w3.org/1999/xlink\" width=\"600\" height=\"400\" viewBox=\"0 0 600 400\">\n",
       "<defs>\n",
       "  <clipPath id=\"clip00\">\n",
       "    <rect x=\"0\" y=\"0\" width=\"600\" height=\"400\"/>\n",
       "  </clipPath>\n",
       "</defs>\n",
       "<polygon clip-path=\"url(#clip00)\" points=\"\n",
       "0,400 600,400 600,0 0,0 \n",
       "  \" fill=\"#ffffff\" fill-opacity=\"1\"/>\n",
       "<defs>\n",
       "  <clipPath id=\"clip01\">\n",
       "    <rect x=\"120\" y=\"0\" width=\"421\" height=\"400\"/>\n",
       "  </clipPath>\n",
       "</defs>\n",
       "<polygon clip-path=\"url(#clip00)\" points=\"\n",
       "61.2073,381.015 596.063,381.015 596.063,3.93701 61.2073,3.93701 \n",
       "  \" fill=\"#ffffff\" fill-opacity=\"1\"/>\n",
       "<defs>\n",
       "  <clipPath id=\"clip02\">\n",
       "    <rect x=\"61\" y=\"3\" width=\"535\" height=\"378\"/>\n",
       "  </clipPath>\n",
       "</defs>\n",
       "<polyline clip-path=\"url(#clip02)\" style=\"stroke:#00002d; stroke-width:0.8; stroke-opacity:0.5; fill:none\" stroke-dasharray=\"1, 2\" points=\"\n",
       "  61.2073,375.359 61.2073,9.59318 \n",
       "  \"/>\n",
       "<polyline clip-path=\"url(#clip02)\" style=\"stroke:#00002d; stroke-width:0.8; stroke-opacity:0.5; fill:none\" stroke-dasharray=\"1, 2\" points=\"\n",
       "  229.288,375.359 229.288,9.59318 \n",
       "  \"/>\n",
       "<polyline clip-path=\"url(#clip02)\" style=\"stroke:#00002d; stroke-width:0.8; stroke-opacity:0.5; fill:none\" stroke-dasharray=\"1, 2\" points=\"\n",
       "  397.369,375.359 397.369,9.59318 \n",
       "  \"/>\n",
       "<polyline clip-path=\"url(#clip02)\" style=\"stroke:#00002d; stroke-width:0.8; stroke-opacity:0.5; fill:none\" stroke-dasharray=\"1, 2\" points=\"\n",
       "  565.451,375.359 565.451,9.59318 \n",
       "  \"/>\n",
       "<polyline clip-path=\"url(#clip02)\" style=\"stroke:#00002d; stroke-width:0.8; stroke-opacity:0.5; fill:none\" stroke-dasharray=\"1, 2\" points=\"\n",
       "  69.2302,356.338 588.04,356.338 \n",
       "  \"/>\n",
       "<polyline clip-path=\"url(#clip02)\" style=\"stroke:#00002d; stroke-width:0.8; stroke-opacity:0.5; fill:none\" stroke-dasharray=\"1, 2\" points=\"\n",
       "  69.2302,189.637 588.04,189.637 \n",
       "  \"/>\n",
       "<polyline clip-path=\"url(#clip02)\" style=\"stroke:#00002d; stroke-width:0.8; stroke-opacity:0.5; fill:none\" stroke-dasharray=\"1, 2\" points=\"\n",
       "  69.2302,22.9367 588.04,22.9367 \n",
       "  \"/>\n",
       "<polyline clip-path=\"url(#clip02)\" style=\"stroke:#00002d; stroke-width:0.8; stroke-opacity:1; fill:none\" points=\"\n",
       "  61.2073,381.015 596.063,381.015 \n",
       "  \"/>\n",
       "<polyline clip-path=\"url(#clip02)\" style=\"stroke:#00002d; stroke-width:0.8; stroke-opacity:1; fill:none\" points=\"\n",
       "  61.2073,381.015 61.2073,375.359 \n",
       "  \"/>\n",
       "<polyline clip-path=\"url(#clip02)\" style=\"stroke:#00002d; stroke-width:0.8; stroke-opacity:1; fill:none\" points=\"\n",
       "  229.288,381.015 229.288,375.359 \n",
       "  \"/>\n",
       "<polyline clip-path=\"url(#clip02)\" style=\"stroke:#00002d; stroke-width:0.8; stroke-opacity:1; fill:none\" points=\"\n",
       "  397.369,381.015 397.369,375.359 \n",
       "  \"/>\n",
       "<polyline clip-path=\"url(#clip02)\" style=\"stroke:#00002d; stroke-width:0.8; stroke-opacity:1; fill:none\" points=\"\n",
       "  565.451,381.015 565.451,375.359 \n",
       "  \"/>\n",
       "<polyline clip-path=\"url(#clip02)\" style=\"stroke:#00002d; stroke-width:0.8; stroke-opacity:1; fill:none\" points=\"\n",
       "  61.2073,381.015 61.2073,3.93701 \n",
       "  \"/>\n",
       "<polyline clip-path=\"url(#clip02)\" style=\"stroke:#00002d; stroke-width:0.8; stroke-opacity:1; fill:none\" points=\"\n",
       "  61.2073,356.338 69.2302,356.338 \n",
       "  \"/>\n",
       "<polyline clip-path=\"url(#clip02)\" style=\"stroke:#00002d; stroke-width:0.8; stroke-opacity:1; fill:none\" points=\"\n",
       "  61.2073,189.637 69.2302,189.637 \n",
       "  \"/>\n",
       "<polyline clip-path=\"url(#clip02)\" style=\"stroke:#00002d; stroke-width:0.8; stroke-opacity:1; fill:none\" points=\"\n",
       "  61.2073,22.9367 69.2302,22.9367 \n",
       "  \"/>\n",
       "<g clip-path=\"url(#clip00)\">\n",
       "<text style=\"fill:#00002d; fill-opacity:1; font-family:Arial,Helvetica Neue,Helvetica,sans-serif; font-size:12; text-anchor:start;\" transform=\"rotate(0, 47.9251, 397.967)\" x=\"47.9251\" y=\"397.967\">10</text>\n",
       "</g>\n",
       "<g clip-path=\"url(#clip00)\">\n",
       "<text style=\"fill:#00002d; fill-opacity:1; font-family:Arial,Helvetica Neue,Helvetica,sans-serif; font-size:10; text-anchor:start;\" transform=\"rotate(0, 61.1044, 391.114)\" x=\"61.1044\" y=\"391.114\">0.0</text>\n",
       "</g>\n",
       "<g clip-path=\"url(#clip00)\">\n",
       "<text style=\"fill:#00002d; fill-opacity:1; font-family:Arial,Helvetica Neue,Helvetica,sans-serif; font-size:12; text-anchor:start;\" transform=\"rotate(0, 216.006, 397.967)\" x=\"216.006\" y=\"397.967\">10</text>\n",
       "</g>\n",
       "<g clip-path=\"url(#clip00)\">\n",
       "<text style=\"fill:#00002d; fill-opacity:1; font-family:Arial,Helvetica Neue,Helvetica,sans-serif; font-size:10; text-anchor:start;\" transform=\"rotate(0, 229.185, 391.114)\" x=\"229.185\" y=\"391.114\">0.5</text>\n",
       "</g>\n",
       "<g clip-path=\"url(#clip00)\">\n",
       "<text style=\"fill:#00002d; fill-opacity:1; font-family:Arial,Helvetica Neue,Helvetica,sans-serif; font-size:12; text-anchor:start;\" transform=\"rotate(0, 384.087, 397.967)\" x=\"384.087\" y=\"397.967\">10</text>\n",
       "</g>\n",
       "<g clip-path=\"url(#clip00)\">\n",
       "<text style=\"fill:#00002d; fill-opacity:1; font-family:Arial,Helvetica Neue,Helvetica,sans-serif; font-size:10; text-anchor:start;\" transform=\"rotate(0, 397.267, 391.114)\" x=\"397.267\" y=\"391.114\">1.0</text>\n",
       "</g>\n",
       "<g clip-path=\"url(#clip00)\">\n",
       "<text style=\"fill:#00002d; fill-opacity:1; font-family:Arial,Helvetica Neue,Helvetica,sans-serif; font-size:12; text-anchor:start;\" transform=\"rotate(0, 552.168, 397.967)\" x=\"552.168\" y=\"397.967\">10</text>\n",
       "</g>\n",
       "<g clip-path=\"url(#clip00)\">\n",
       "<text style=\"fill:#00002d; fill-opacity:1; font-family:Arial,Helvetica Neue,Helvetica,sans-serif; font-size:10; text-anchor:start;\" transform=\"rotate(0, 565.348, 391.114)\" x=\"565.348\" y=\"391.114\">1.5</text>\n",
       "</g>\n",
       "<g clip-path=\"url(#clip00)\">\n",
       "<text style=\"fill:#00002d; fill-opacity:1; font-family:Arial,Helvetica Neue,Helvetica,sans-serif; font-size:12; text-anchor:start;\" transform=\"rotate(0, 30.4962, 362.269)\" x=\"30.4962\" y=\"362.269\">10</text>\n",
       "</g>\n",
       "<g clip-path=\"url(#clip00)\">\n",
       "<text style=\"fill:#00002d; fill-opacity:1; font-family:Arial,Helvetica Neue,Helvetica,sans-serif; font-size:10; text-anchor:start;\" transform=\"rotate(0, 43.6755, 355.417)\" x=\"43.6755\" y=\"355.417\">-</text>\n",
       "</g>\n",
       "<g clip-path=\"url(#clip00)\">\n",
       "<text style=\"fill:#00002d; fill-opacity:1; font-family:Arial,Helvetica Neue,Helvetica,sans-serif; font-size:10; text-anchor:start;\" transform=\"rotate(0, 49.2992, 355.417)\" x=\"49.2992\" y=\"355.417\">10</text>\n",
       "</g>\n",
       "<g clip-path=\"url(#clip00)\">\n",
       "<text style=\"fill:#00002d; fill-opacity:1; font-family:Arial,Helvetica Neue,Helvetica,sans-serif; font-size:12; text-anchor:start;\" transform=\"rotate(0, 35.8503, 195.569)\" x=\"35.8503\" y=\"195.569\">10</text>\n",
       "</g>\n",
       "<g clip-path=\"url(#clip00)\">\n",
       "<text style=\"fill:#00002d; fill-opacity:1; font-family:Arial,Helvetica Neue,Helvetica,sans-serif; font-size:10; text-anchor:start;\" transform=\"rotate(0, 49.0296, 188.716)\" x=\"49.0296\" y=\"188.716\">-</text>\n",
       "</g>\n",
       "<g clip-path=\"url(#clip00)\">\n",
       "<text style=\"fill:#00002d; fill-opacity:1; font-family:Arial,Helvetica Neue,Helvetica,sans-serif; font-size:10; text-anchor:start;\" transform=\"rotate(0, 54.6533, 188.716)\" x=\"54.6533\" y=\"188.716\">5</text>\n",
       "</g>\n",
       "<g clip-path=\"url(#clip00)\">\n",
       "<text style=\"fill:#00002d; fill-opacity:1; font-family:Arial,Helvetica Neue,Helvetica,sans-serif; font-size:12; text-anchor:start;\" transform=\"rotate(0, 41.474, 28.8686)\" x=\"41.474\" y=\"28.8686\">10</text>\n",
       "</g>\n",
       "<g clip-path=\"url(#clip00)\">\n",
       "<text style=\"fill:#00002d; fill-opacity:1; font-family:Arial,Helvetica Neue,Helvetica,sans-serif; font-size:10; text-anchor:start;\" transform=\"rotate(0, 54.6533, 22.016)\" x=\"54.6533\" y=\"22.016\">0</text>\n",
       "</g>\n",
       "<polyline clip-path=\"url(#clip02)\" style=\"stroke:#0099ff; stroke-width:0.8; stroke-opacity:1; fill:none\" points=\"\n",
       "  61.2073,19.2978 162.402,3.93701 221.597,20.1254 263.597,71.1851 296.175,30.5941 322.792,41.5357 345.297,53.5724 364.792,68.6968 381.988,105.46 397.369,82.6468 \n",
       "  411.284,96.0395 423.987,116.756 435.673,124.373 446.492,139.734 456.565,140.562 465.987,191.621 474.838,151.03 483.182,161.972 491.076,174.009 498.564,189.133 \n",
       "  505.687,225.896 512.479,203.083 518.969,216.476 525.182,237.192 531.142,244.81 536.868,260.171 542.378,260.998 547.687,312.061 552.81,271.467 557.76,282.408 \n",
       "  562.547,294.444 567.182,309.567 571.674,346.295 576.033,323.527 580.265,336.932 584.377,357.711 588.377,365.108 592.271,381.015 596.063,381.015 \n",
       "  \"/>\n",
       "<polygon clip-path=\"url(#clip02)\" style=\"fill:#00002d; fill-opacity:1\" points=\"\n",
       "  57.2073,15.2978 57.2073,23.2978 65.2073,23.2978 65.2073,15.2978 57.2073,15.2978 \n",
       "  \"/>\n",
       "<polygon clip-path=\"url(#clip02)\" style=\"fill:#0099ff; fill-opacity:1\" points=\"\n",
       "  58.0073,16.0978 58.0073,22.4978 64.4073,22.4978 64.4073,16.0978 58.0073,16.0978 \n",
       "  \"/>\n",
       "<polygon clip-path=\"url(#clip02)\" style=\"fill:#00002d; fill-opacity:1\" points=\"\n",
       "  158.402,-0.0629921 158.402,7.93701 166.402,7.93701 166.402,-0.0629921 158.402,-0.0629921 \n",
       "  \"/>\n",
       "<polygon clip-path=\"url(#clip02)\" style=\"fill:#0099ff; fill-opacity:1\" points=\"\n",
       "  159.202,0.737008 159.202,7.13701 165.602,7.13701 165.602,0.737008 159.202,0.737008 \n",
       "  \"/>\n",
       "<polygon clip-path=\"url(#clip02)\" style=\"fill:#00002d; fill-opacity:1\" points=\"\n",
       "  217.597,16.1254 217.597,24.1254 225.597,24.1254 225.597,16.1254 217.597,16.1254 \n",
       "  \"/>\n",
       "<polygon clip-path=\"url(#clip02)\" style=\"fill:#0099ff; fill-opacity:1\" points=\"\n",
       "  218.397,16.9254 218.397,23.3254 224.797,23.3254 224.797,16.9254 218.397,16.9254 \n",
       "  \"/>\n",
       "<polygon clip-path=\"url(#clip02)\" style=\"fill:#00002d; fill-opacity:1\" points=\"\n",
       "  259.597,67.1851 259.597,75.1851 267.597,75.1851 267.597,67.1851 259.597,67.1851 \n",
       "  \"/>\n",
       "<polygon clip-path=\"url(#clip02)\" style=\"fill:#0099ff; fill-opacity:1\" points=\"\n",
       "  260.397,67.9851 260.397,74.3851 266.797,74.3851 266.797,67.9851 260.397,67.9851 \n",
       "  \"/>\n",
       "<polygon clip-path=\"url(#clip02)\" style=\"fill:#00002d; fill-opacity:1\" points=\"\n",
       "  292.175,26.5941 292.175,34.5941 300.175,34.5941 300.175,26.5941 292.175,26.5941 \n",
       "  \"/>\n",
       "<polygon clip-path=\"url(#clip02)\" style=\"fill:#0099ff; fill-opacity:1\" points=\"\n",
       "  292.975,27.3941 292.975,33.7941 299.375,33.7941 299.375,27.3941 292.975,27.3941 \n",
       "  \"/>\n",
       "<polygon clip-path=\"url(#clip02)\" style=\"fill:#00002d; fill-opacity:1\" points=\"\n",
       "  318.792,37.5357 318.792,45.5357 326.792,45.5357 326.792,37.5357 318.792,37.5357 \n",
       "  \"/>\n",
       "<polygon clip-path=\"url(#clip02)\" style=\"fill:#0099ff; fill-opacity:1\" points=\"\n",
       "  319.592,38.3357 319.592,44.7357 325.992,44.7357 325.992,38.3357 319.592,38.3357 \n",
       "  \"/>\n",
       "<polygon clip-path=\"url(#clip02)\" style=\"fill:#00002d; fill-opacity:1\" points=\"\n",
       "  341.297,49.5724 341.297,57.5724 349.297,57.5724 349.297,49.5724 341.297,49.5724 \n",
       "  \"/>\n",
       "<polygon clip-path=\"url(#clip02)\" style=\"fill:#0099ff; fill-opacity:1\" points=\"\n",
       "  342.097,50.3724 342.097,56.7724 348.497,56.7724 348.497,50.3724 342.097,50.3724 \n",
       "  \"/>\n",
       "<polygon clip-path=\"url(#clip02)\" style=\"fill:#00002d; fill-opacity:1\" points=\"\n",
       "  360.792,64.6968 360.792,72.6968 368.792,72.6968 368.792,64.6968 360.792,64.6968 \n",
       "  \"/>\n",
       "<polygon clip-path=\"url(#clip02)\" style=\"fill:#0099ff; fill-opacity:1\" points=\"\n",
       "  361.592,65.4968 361.592,71.8968 367.992,71.8968 367.992,65.4968 361.592,65.4968 \n",
       "  \"/>\n",
       "<polygon clip-path=\"url(#clip02)\" style=\"fill:#00002d; fill-opacity:1\" points=\"\n",
       "  377.988,101.46 377.988,109.46 385.988,109.46 385.988,101.46 377.988,101.46 \n",
       "  \"/>\n",
       "<polygon clip-path=\"url(#clip02)\" style=\"fill:#0099ff; fill-opacity:1\" points=\"\n",
       "  378.788,102.26 378.788,108.66 385.188,108.66 385.188,102.26 378.788,102.26 \n",
       "  \"/>\n",
       "<polygon clip-path=\"url(#clip02)\" style=\"fill:#00002d; fill-opacity:1\" points=\"\n",
       "  393.369,78.6468 393.369,86.6468 401.369,86.6468 401.369,78.6468 393.369,78.6468 \n",
       "  \"/>\n",
       "<polygon clip-path=\"url(#clip02)\" style=\"fill:#0099ff; fill-opacity:1\" points=\"\n",
       "  394.169,79.4468 394.169,85.8468 400.569,85.8468 400.569,79.4468 394.169,79.4468 \n",
       "  \"/>\n",
       "<polygon clip-path=\"url(#clip02)\" style=\"fill:#00002d; fill-opacity:1\" points=\"\n",
       "  407.284,92.0395 407.284,100.04 415.284,100.04 415.284,92.0395 407.284,92.0395 \n",
       "  \"/>\n",
       "<polygon clip-path=\"url(#clip02)\" style=\"fill:#0099ff; fill-opacity:1\" points=\"\n",
       "  408.084,92.8395 408.084,99.2395 414.484,99.2395 414.484,92.8395 408.084,92.8395 \n",
       "  \"/>\n",
       "<polygon clip-path=\"url(#clip02)\" style=\"fill:#00002d; fill-opacity:1\" points=\"\n",
       "  419.987,112.756 419.987,120.756 427.987,120.756 427.987,112.756 419.987,112.756 \n",
       "  \"/>\n",
       "<polygon clip-path=\"url(#clip02)\" style=\"fill:#0099ff; fill-opacity:1\" points=\"\n",
       "  420.787,113.556 420.787,119.956 427.187,119.956 427.187,113.556 420.787,113.556 \n",
       "  \"/>\n",
       "<polygon clip-path=\"url(#clip02)\" style=\"fill:#00002d; fill-opacity:1\" points=\"\n",
       "  431.673,120.373 431.673,128.373 439.673,128.373 439.673,120.373 431.673,120.373 \n",
       "  \"/>\n",
       "<polygon clip-path=\"url(#clip02)\" style=\"fill:#0099ff; fill-opacity:1\" points=\"\n",
       "  432.473,121.173 432.473,127.573 438.873,127.573 438.873,121.173 432.473,121.173 \n",
       "  \"/>\n",
       "<polygon clip-path=\"url(#clip02)\" style=\"fill:#00002d; fill-opacity:1\" points=\"\n",
       "  442.492,135.734 442.492,143.734 450.492,143.734 450.492,135.734 442.492,135.734 \n",
       "  \"/>\n",
       "<polygon clip-path=\"url(#clip02)\" style=\"fill:#0099ff; fill-opacity:1\" points=\"\n",
       "  443.292,136.534 443.292,142.934 449.692,142.934 449.692,136.534 443.292,136.534 \n",
       "  \"/>\n",
       "<polygon clip-path=\"url(#clip02)\" style=\"fill:#00002d; fill-opacity:1\" points=\"\n",
       "  452.565,136.562 452.565,144.562 460.565,144.562 460.565,136.562 452.565,136.562 \n",
       "  \"/>\n",
       "<polygon clip-path=\"url(#clip02)\" style=\"fill:#0099ff; fill-opacity:1\" points=\"\n",
       "  453.365,137.362 453.365,143.762 459.765,143.762 459.765,137.362 453.365,137.362 \n",
       "  \"/>\n",
       "<polygon clip-path=\"url(#clip02)\" style=\"fill:#00002d; fill-opacity:1\" points=\"\n",
       "  461.987,187.621 461.987,195.621 469.987,195.621 469.987,187.621 461.987,187.621 \n",
       "  \"/>\n",
       "<polygon clip-path=\"url(#clip02)\" style=\"fill:#0099ff; fill-opacity:1\" points=\"\n",
       "  462.787,188.421 462.787,194.821 469.187,194.821 469.187,188.421 462.787,188.421 \n",
       "  \"/>\n",
       "<polygon clip-path=\"url(#clip02)\" style=\"fill:#00002d; fill-opacity:1\" points=\"\n",
       "  470.838,147.03 470.838,155.03 478.838,155.03 478.838,147.03 470.838,147.03 \n",
       "  \"/>\n",
       "<polygon clip-path=\"url(#clip02)\" style=\"fill:#0099ff; fill-opacity:1\" points=\"\n",
       "  471.638,147.83 471.638,154.23 478.038,154.23 478.038,147.83 471.638,147.83 \n",
       "  \"/>\n",
       "<polygon clip-path=\"url(#clip02)\" style=\"fill:#00002d; fill-opacity:1\" points=\"\n",
       "  479.182,157.972 479.182,165.972 487.182,165.972 487.182,157.972 479.182,157.972 \n",
       "  \"/>\n",
       "<polygon clip-path=\"url(#clip02)\" style=\"fill:#0099ff; fill-opacity:1\" points=\"\n",
       "  479.982,158.772 479.982,165.172 486.382,165.172 486.382,158.772 479.982,158.772 \n",
       "  \"/>\n",
       "<polygon clip-path=\"url(#clip02)\" style=\"fill:#00002d; fill-opacity:1\" points=\"\n",
       "  487.076,170.009 487.076,178.009 495.076,178.009 495.076,170.009 487.076,170.009 \n",
       "  \"/>\n",
       "<polygon clip-path=\"url(#clip02)\" style=\"fill:#0099ff; fill-opacity:1\" points=\"\n",
       "  487.876,170.809 487.876,177.209 494.276,177.209 494.276,170.809 487.876,170.809 \n",
       "  \"/>\n",
       "<polygon clip-path=\"url(#clip02)\" style=\"fill:#00002d; fill-opacity:1\" points=\"\n",
       "  494.564,185.133 494.564,193.133 502.564,193.133 502.564,185.133 494.564,185.133 \n",
       "  \"/>\n",
       "<polygon clip-path=\"url(#clip02)\" style=\"fill:#0099ff; fill-opacity:1\" points=\"\n",
       "  495.364,185.933 495.364,192.333 501.764,192.333 501.764,185.933 495.364,185.933 \n",
       "  \"/>\n",
       "<polygon clip-path=\"url(#clip02)\" style=\"fill:#00002d; fill-opacity:1\" points=\"\n",
       "  501.687,221.896 501.687,229.896 509.687,229.896 509.687,221.896 501.687,221.896 \n",
       "  \"/>\n",
       "<polygon clip-path=\"url(#clip02)\" style=\"fill:#0099ff; fill-opacity:1\" points=\"\n",
       "  502.487,222.696 502.487,229.096 508.887,229.096 508.887,222.696 502.487,222.696 \n",
       "  \"/>\n",
       "<polygon clip-path=\"url(#clip02)\" style=\"fill:#00002d; fill-opacity:1\" points=\"\n",
       "  508.479,199.083 508.479,207.083 516.479,207.083 516.479,199.083 508.479,199.083 \n",
       "  \"/>\n",
       "<polygon clip-path=\"url(#clip02)\" style=\"fill:#0099ff; fill-opacity:1\" points=\"\n",
       "  509.279,199.883 509.279,206.283 515.679,206.283 515.679,199.883 509.279,199.883 \n",
       "  \"/>\n",
       "<polygon clip-path=\"url(#clip02)\" style=\"fill:#00002d; fill-opacity:1\" points=\"\n",
       "  514.969,212.476 514.969,220.476 522.969,220.476 522.969,212.476 514.969,212.476 \n",
       "  \"/>\n",
       "<polygon clip-path=\"url(#clip02)\" style=\"fill:#0099ff; fill-opacity:1\" points=\"\n",
       "  515.769,213.276 515.769,219.676 522.169,219.676 522.169,213.276 515.769,213.276 \n",
       "  \"/>\n",
       "<polygon clip-path=\"url(#clip02)\" style=\"fill:#00002d; fill-opacity:1\" points=\"\n",
       "  521.182,233.192 521.182,241.192 529.182,241.192 529.182,233.192 521.182,233.192 \n",
       "  \"/>\n",
       "<polygon clip-path=\"url(#clip02)\" style=\"fill:#0099ff; fill-opacity:1\" points=\"\n",
       "  521.982,233.992 521.982,240.392 528.382,240.392 528.382,233.992 521.982,233.992 \n",
       "  \"/>\n",
       "<polygon clip-path=\"url(#clip02)\" style=\"fill:#00002d; fill-opacity:1\" points=\"\n",
       "  527.142,240.81 527.142,248.81 535.142,248.81 535.142,240.81 527.142,240.81 \n",
       "  \"/>\n",
       "<polygon clip-path=\"url(#clip02)\" style=\"fill:#0099ff; fill-opacity:1\" points=\"\n",
       "  527.942,241.61 527.942,248.01 534.342,248.01 534.342,241.61 527.942,241.61 \n",
       "  \"/>\n",
       "<polygon clip-path=\"url(#clip02)\" style=\"fill:#00002d; fill-opacity:1\" points=\"\n",
       "  532.868,256.171 532.868,264.171 540.868,264.171 540.868,256.171 532.868,256.171 \n",
       "  \"/>\n",
       "<polygon clip-path=\"url(#clip02)\" style=\"fill:#0099ff; fill-opacity:1\" points=\"\n",
       "  533.668,256.971 533.668,263.371 540.068,263.371 540.068,256.971 533.668,256.971 \n",
       "  \"/>\n",
       "<polygon clip-path=\"url(#clip02)\" style=\"fill:#00002d; fill-opacity:1\" points=\"\n",
       "  538.378,256.998 538.378,264.998 546.378,264.998 546.378,256.998 538.378,256.998 \n",
       "  \"/>\n",
       "<polygon clip-path=\"url(#clip02)\" style=\"fill:#0099ff; fill-opacity:1\" points=\"\n",
       "  539.178,257.798 539.178,264.198 545.578,264.198 545.578,257.798 539.178,257.798 \n",
       "  \"/>\n",
       "<polygon clip-path=\"url(#clip02)\" style=\"fill:#00002d; fill-opacity:1\" points=\"\n",
       "  543.687,308.061 543.687,316.061 551.687,316.061 551.687,308.061 543.687,308.061 \n",
       "  \"/>\n",
       "<polygon clip-path=\"url(#clip02)\" style=\"fill:#0099ff; fill-opacity:1\" points=\"\n",
       "  544.487,308.861 544.487,315.261 550.887,315.261 550.887,308.861 544.487,308.861 \n",
       "  \"/>\n",
       "<polygon clip-path=\"url(#clip02)\" style=\"fill:#00002d; fill-opacity:1\" points=\"\n",
       "  548.81,267.467 548.81,275.467 556.81,275.467 556.81,267.467 548.81,267.467 \n",
       "  \"/>\n",
       "<polygon clip-path=\"url(#clip02)\" style=\"fill:#0099ff; fill-opacity:1\" points=\"\n",
       "  549.61,268.267 549.61,274.667 556.01,274.667 556.01,268.267 549.61,268.267 \n",
       "  \"/>\n",
       "<polygon clip-path=\"url(#clip02)\" style=\"fill:#00002d; fill-opacity:1\" points=\"\n",
       "  553.76,278.408 553.76,286.408 561.76,286.408 561.76,278.408 553.76,278.408 \n",
       "  \"/>\n",
       "<polygon clip-path=\"url(#clip02)\" style=\"fill:#0099ff; fill-opacity:1\" points=\"\n",
       "  554.56,279.208 554.56,285.608 560.96,285.608 560.96,279.208 554.56,279.208 \n",
       "  \"/>\n",
       "<polygon clip-path=\"url(#clip02)\" style=\"fill:#00002d; fill-opacity:1\" points=\"\n",
       "  558.547,290.444 558.547,298.444 566.547,298.444 566.547,290.444 558.547,290.444 \n",
       "  \"/>\n",
       "<polygon clip-path=\"url(#clip02)\" style=\"fill:#0099ff; fill-opacity:1\" points=\"\n",
       "  559.347,291.244 559.347,297.644 565.747,297.644 565.747,291.244 559.347,291.244 \n",
       "  \"/>\n",
       "<polygon clip-path=\"url(#clip02)\" style=\"fill:#00002d; fill-opacity:1\" points=\"\n",
       "  563.182,305.567 563.182,313.567 571.182,313.567 571.182,305.567 563.182,305.567 \n",
       "  \"/>\n",
       "<polygon clip-path=\"url(#clip02)\" style=\"fill:#0099ff; fill-opacity:1\" points=\"\n",
       "  563.982,306.367 563.982,312.767 570.382,312.767 570.382,306.367 563.982,306.367 \n",
       "  \"/>\n",
       "<polygon clip-path=\"url(#clip02)\" style=\"fill:#00002d; fill-opacity:1\" points=\"\n",
       "  567.674,342.295 567.674,350.295 575.674,350.295 575.674,342.295 567.674,342.295 \n",
       "  \"/>\n",
       "<polygon clip-path=\"url(#clip02)\" style=\"fill:#0099ff; fill-opacity:1\" points=\"\n",
       "  568.474,343.095 568.474,349.495 574.874,349.495 574.874,343.095 568.474,343.095 \n",
       "  \"/>\n",
       "<polygon clip-path=\"url(#clip02)\" style=\"fill:#00002d; fill-opacity:1\" points=\"\n",
       "  572.033,319.527 572.033,327.527 580.033,327.527 580.033,319.527 572.033,319.527 \n",
       "  \"/>\n",
       "<polygon clip-path=\"url(#clip02)\" style=\"fill:#0099ff; fill-opacity:1\" points=\"\n",
       "  572.833,320.327 572.833,326.727 579.233,326.727 579.233,320.327 572.833,320.327 \n",
       "  \"/>\n",
       "<polygon clip-path=\"url(#clip02)\" style=\"fill:#00002d; fill-opacity:1\" points=\"\n",
       "  576.265,332.932 576.265,340.932 584.265,340.932 584.265,332.932 576.265,332.932 \n",
       "  \"/>\n",
       "<polygon clip-path=\"url(#clip02)\" style=\"fill:#0099ff; fill-opacity:1\" points=\"\n",
       "  577.065,333.732 577.065,340.132 583.465,340.132 583.465,333.732 577.065,333.732 \n",
       "  \"/>\n",
       "<polygon clip-path=\"url(#clip02)\" style=\"fill:#00002d; fill-opacity:1\" points=\"\n",
       "  580.377,353.711 580.377,361.711 588.377,361.711 588.377,353.711 580.377,353.711 \n",
       "  \"/>\n",
       "<polygon clip-path=\"url(#clip02)\" style=\"fill:#0099ff; fill-opacity:1\" points=\"\n",
       "  581.177,354.511 581.177,360.911 587.577,360.911 587.577,354.511 581.177,354.511 \n",
       "  \"/>\n",
       "<polygon clip-path=\"url(#clip02)\" style=\"fill:#00002d; fill-opacity:1\" points=\"\n",
       "  584.377,361.108 584.377,369.108 592.377,369.108 592.377,361.108 584.377,361.108 \n",
       "  \"/>\n",
       "<polygon clip-path=\"url(#clip02)\" style=\"fill:#0099ff; fill-opacity:1\" points=\"\n",
       "  585.177,361.908 585.177,368.308 591.577,368.308 591.577,361.908 585.177,361.908 \n",
       "  \"/>\n",
       "<polygon clip-path=\"url(#clip02)\" style=\"fill:#00002d; fill-opacity:1\" points=\"\n",
       "  588.271,377.015 588.271,385.015 596.271,385.015 596.271,377.015 588.271,377.015 \n",
       "  \"/>\n",
       "<polygon clip-path=\"url(#clip02)\" style=\"fill:#0099ff; fill-opacity:1\" points=\"\n",
       "  589.071,377.815 589.071,384.215 595.471,384.215 595.471,377.815 589.071,377.815 \n",
       "  \"/>\n",
       "<polygon clip-path=\"url(#clip02)\" style=\"fill:#00002d; fill-opacity:1\" points=\"\n",
       "  592.063,377.015 592.063,385.015 600.063,385.015 600.063,377.015 592.063,377.015 \n",
       "  \"/>\n",
       "<polygon clip-path=\"url(#clip02)\" style=\"fill:#0099ff; fill-opacity:1\" points=\"\n",
       "  592.863,377.815 592.863,384.215 599.263,384.215 599.263,377.815 592.863,377.815 \n",
       "  \"/>\n",
       "<polygon clip-path=\"url(#clip00)\" points=\"\n",
       "505.547,55.057 578.063,55.057 578.063,24.817 505.547,24.817 \n",
       "  \" fill=\"#ffffff\" fill-opacity=\"1\"/>\n",
       "<polyline clip-path=\"url(#clip00)\" style=\"stroke:#00002d; stroke-width:0.8; stroke-opacity:1; fill:none\" points=\"\n",
       "  505.547,55.057 578.063,55.057 578.063,24.817 505.547,24.817 505.547,55.057 \n",
       "  \"/>\n",
       "<polyline clip-path=\"url(#clip00)\" style=\"stroke:#0099ff; stroke-width:0.8; stroke-opacity:1; fill:none\" points=\"\n",
       "  511.547,39.937 547.547,39.937 \n",
       "  \"/>\n",
       "<polygon clip-path=\"url(#clip00)\" style=\"fill:#00002d; fill-opacity:1\" points=\"\n",
       "  508.747,31.137 508.747,48.737 526.347,48.737 526.347,31.137 508.747,31.137 \n",
       "  \"/>\n",
       "<polygon clip-path=\"url(#clip00)\" style=\"fill:#0099ff; fill-opacity:1\" points=\"\n",
       "  509.547,31.937 509.547,47.937 525.547,47.937 525.547,31.937 509.547,31.937 \n",
       "  \"/>\n",
       "<polygon clip-path=\"url(#clip00)\" style=\"fill:#00002d; fill-opacity:1\" points=\"\n",
       "  532.747,31.137 532.747,48.737 550.347,48.737 550.347,31.137 532.747,31.137 \n",
       "  \"/>\n",
       "<polygon clip-path=\"url(#clip00)\" style=\"fill:#0099ff; fill-opacity:1\" points=\"\n",
       "  533.547,31.937 533.547,47.937 549.547,47.937 549.547,31.937 533.547,31.937 \n",
       "  \"/>\n",
       "<g clip-path=\"url(#clip00)\">\n",
       "<text style=\"fill:#00002d; fill-opacity:1; font-family:Arial,Helvetica Neue,Helvetica,sans-serif; font-size:12; text-anchor:start;\" transform=\"rotate(0, 553.547, 44.437)\" x=\"553.547\" y=\"44.437\">y1</text>\n",
       "</g>\n",
       "</svg>\n"
      ]
     },
     "execution_count": 89,
     "metadata": {},
     "output_type": "execute_result"
    }
   ],
   "source": [
    "plot(abs.(datos[1:end-1] .- raiz), m=:square, xscale=:log10, yscale=:log10)"
   ]
  },
  {
   "cell_type": "code",
   "execution_count": 90,
   "metadata": {
    "collapsed": false
   },
   "outputs": [
    {
     "data": {
      "text/html": [
       "<?xml version=\"1.0\" encoding=\"utf-8\"?>\n",
       "<svg xmlns=\"http://www.w3.org/2000/svg\" xmlns:xlink=\"http://www.w3.org/1999/xlink\" width=\"600\" height=\"400\" viewBox=\"0 0 600 400\">\n",
       "<defs>\n",
       "  <clipPath id=\"clip00\">\n",
       "    <rect x=\"0\" y=\"0\" width=\"600\" height=\"400\"/>\n",
       "  </clipPath>\n",
       "</defs>\n",
       "<polygon clip-path=\"url(#clip00)\" points=\"\n",
       "0,400 600,400 600,0 0,0 \n",
       "  \" fill=\"#ffffff\" fill-opacity=\"1\"/>\n",
       "<defs>\n",
       "  <clipPath id=\"clip01\">\n",
       "    <rect x=\"120\" y=\"0\" width=\"421\" height=\"400\"/>\n",
       "  </clipPath>\n",
       "</defs>\n",
       "<polygon clip-path=\"url(#clip00)\" points=\"\n",
       "61.2073,381.015 596.063,381.015 596.063,3.93701 61.2073,3.93701 \n",
       "  \" fill=\"#ffffff\" fill-opacity=\"1\"/>\n",
       "<defs>\n",
       "  <clipPath id=\"clip02\">\n",
       "    <rect x=\"61\" y=\"3\" width=\"535\" height=\"378\"/>\n",
       "  </clipPath>\n",
       "</defs>\n",
       "<polyline clip-path=\"url(#clip02)\" style=\"stroke:#00002d; stroke-width:0.8; stroke-opacity:0.5; fill:none\" stroke-dasharray=\"1, 2\" points=\"\n",
       "  63.0663,375.359 63.0663,9.59318 \n",
       "  \"/>\n",
       "<polyline clip-path=\"url(#clip02)\" style=\"stroke:#00002d; stroke-width:0.8; stroke-opacity:0.5; fill:none\" stroke-dasharray=\"1, 2\" points=\"\n",
       "  195.851,375.359 195.851,9.59318 \n",
       "  \"/>\n",
       "<polyline clip-path=\"url(#clip02)\" style=\"stroke:#00002d; stroke-width:0.8; stroke-opacity:0.5; fill:none\" stroke-dasharray=\"1, 2\" points=\"\n",
       "  328.635,375.359 328.635,9.59318 \n",
       "  \"/>\n",
       "<polyline clip-path=\"url(#clip02)\" style=\"stroke:#00002d; stroke-width:0.8; stroke-opacity:0.5; fill:none\" stroke-dasharray=\"1, 2\" points=\"\n",
       "  461.42,375.359 461.42,9.59318 \n",
       "  \"/>\n",
       "<polyline clip-path=\"url(#clip02)\" style=\"stroke:#00002d; stroke-width:0.8; stroke-opacity:0.5; fill:none\" stroke-dasharray=\"1, 2\" points=\"\n",
       "  594.204,375.359 594.204,9.59318 \n",
       "  \"/>\n",
       "<polyline clip-path=\"url(#clip02)\" style=\"stroke:#00002d; stroke-width:0.8; stroke-opacity:0.5; fill:none\" stroke-dasharray=\"1, 2\" points=\"\n",
       "  69.2302,356.338 588.04,356.338 \n",
       "  \"/>\n",
       "<polyline clip-path=\"url(#clip02)\" style=\"stroke:#00002d; stroke-width:0.8; stroke-opacity:0.5; fill:none\" stroke-dasharray=\"1, 2\" points=\"\n",
       "  69.2302,189.637 588.04,189.637 \n",
       "  \"/>\n",
       "<polyline clip-path=\"url(#clip02)\" style=\"stroke:#00002d; stroke-width:0.8; stroke-opacity:0.5; fill:none\" stroke-dasharray=\"1, 2\" points=\"\n",
       "  69.2302,22.9367 588.04,22.9367 \n",
       "  \"/>\n",
       "<polyline clip-path=\"url(#clip02)\" style=\"stroke:#00002d; stroke-width:0.8; stroke-opacity:1; fill:none\" points=\"\n",
       "  61.2073,381.015 596.063,381.015 \n",
       "  \"/>\n",
       "<polyline clip-path=\"url(#clip02)\" style=\"stroke:#00002d; stroke-width:0.8; stroke-opacity:1; fill:none\" points=\"\n",
       "  63.0663,381.015 63.0663,375.359 \n",
       "  \"/>\n",
       "<polyline clip-path=\"url(#clip02)\" style=\"stroke:#00002d; stroke-width:0.8; stroke-opacity:1; fill:none\" points=\"\n",
       "  195.851,381.015 195.851,375.359 \n",
       "  \"/>\n",
       "<polyline clip-path=\"url(#clip02)\" style=\"stroke:#00002d; stroke-width:0.8; stroke-opacity:1; fill:none\" points=\"\n",
       "  328.635,381.015 328.635,375.359 \n",
       "  \"/>\n",
       "<polyline clip-path=\"url(#clip02)\" style=\"stroke:#00002d; stroke-width:0.8; stroke-opacity:1; fill:none\" points=\"\n",
       "  461.42,381.015 461.42,375.359 \n",
       "  \"/>\n",
       "<polyline clip-path=\"url(#clip02)\" style=\"stroke:#00002d; stroke-width:0.8; stroke-opacity:1; fill:none\" points=\"\n",
       "  594.204,381.015 594.204,375.359 \n",
       "  \"/>\n",
       "<polyline clip-path=\"url(#clip02)\" style=\"stroke:#00002d; stroke-width:0.8; stroke-opacity:1; fill:none\" points=\"\n",
       "  61.2073,381.015 61.2073,3.93701 \n",
       "  \"/>\n",
       "<polyline clip-path=\"url(#clip02)\" style=\"stroke:#00002d; stroke-width:0.8; stroke-opacity:1; fill:none\" points=\"\n",
       "  61.2073,356.338 69.2302,356.338 \n",
       "  \"/>\n",
       "<polyline clip-path=\"url(#clip02)\" style=\"stroke:#00002d; stroke-width:0.8; stroke-opacity:1; fill:none\" points=\"\n",
       "  61.2073,189.637 69.2302,189.637 \n",
       "  \"/>\n",
       "<polyline clip-path=\"url(#clip02)\" style=\"stroke:#00002d; stroke-width:0.8; stroke-opacity:1; fill:none\" points=\"\n",
       "  61.2073,22.9367 69.2302,22.9367 \n",
       "  \"/>\n",
       "<g clip-path=\"url(#clip00)\">\n",
       "<text style=\"fill:#00002d; fill-opacity:1; font-family:Arial,Helvetica Neue,Helvetica,sans-serif; font-size:12; text-anchor:middle;\" transform=\"rotate(0, 63.0663, 393.015)\" x=\"63.0663\" y=\"393.015\">0</text>\n",
       "</g>\n",
       "<g clip-path=\"url(#clip00)\">\n",
       "<text style=\"fill:#00002d; fill-opacity:1; font-family:Arial,Helvetica Neue,Helvetica,sans-serif; font-size:12; text-anchor:middle;\" transform=\"rotate(0, 195.851, 393.015)\" x=\"195.851\" y=\"393.015\">10</text>\n",
       "</g>\n",
       "<g clip-path=\"url(#clip00)\">\n",
       "<text style=\"fill:#00002d; fill-opacity:1; font-family:Arial,Helvetica Neue,Helvetica,sans-serif; font-size:12; text-anchor:middle;\" transform=\"rotate(0, 328.635, 393.015)\" x=\"328.635\" y=\"393.015\">20</text>\n",
       "</g>\n",
       "<g clip-path=\"url(#clip00)\">\n",
       "<text style=\"fill:#00002d; fill-opacity:1; font-family:Arial,Helvetica Neue,Helvetica,sans-serif; font-size:12; text-anchor:middle;\" transform=\"rotate(0, 461.42, 393.015)\" x=\"461.42\" y=\"393.015\">30</text>\n",
       "</g>\n",
       "<g clip-path=\"url(#clip00)\">\n",
       "<text style=\"fill:#00002d; fill-opacity:1; font-family:Arial,Helvetica Neue,Helvetica,sans-serif; font-size:12; text-anchor:middle;\" transform=\"rotate(0, 594.204, 393.015)\" x=\"594.204\" y=\"393.015\">40</text>\n",
       "</g>\n",
       "<g clip-path=\"url(#clip00)\">\n",
       "<text style=\"fill:#00002d; fill-opacity:1; font-family:Arial,Helvetica Neue,Helvetica,sans-serif; font-size:12; text-anchor:start;\" transform=\"rotate(0, 30.4962, 362.269)\" x=\"30.4962\" y=\"362.269\">10</text>\n",
       "</g>\n",
       "<g clip-path=\"url(#clip00)\">\n",
       "<text style=\"fill:#00002d; fill-opacity:1; font-family:Arial,Helvetica Neue,Helvetica,sans-serif; font-size:10; text-anchor:start;\" transform=\"rotate(0, 43.6755, 355.417)\" x=\"43.6755\" y=\"355.417\">-</text>\n",
       "</g>\n",
       "<g clip-path=\"url(#clip00)\">\n",
       "<text style=\"fill:#00002d; fill-opacity:1; font-family:Arial,Helvetica Neue,Helvetica,sans-serif; font-size:10; text-anchor:start;\" transform=\"rotate(0, 49.2992, 355.417)\" x=\"49.2992\" y=\"355.417\">10</text>\n",
       "</g>\n",
       "<g clip-path=\"url(#clip00)\">\n",
       "<text style=\"fill:#00002d; fill-opacity:1; font-family:Arial,Helvetica Neue,Helvetica,sans-serif; font-size:12; text-anchor:start;\" transform=\"rotate(0, 35.8503, 195.569)\" x=\"35.8503\" y=\"195.569\">10</text>\n",
       "</g>\n",
       "<g clip-path=\"url(#clip00)\">\n",
       "<text style=\"fill:#00002d; fill-opacity:1; font-family:Arial,Helvetica Neue,Helvetica,sans-serif; font-size:10; text-anchor:start;\" transform=\"rotate(0, 49.0296, 188.716)\" x=\"49.0296\" y=\"188.716\">-</text>\n",
       "</g>\n",
       "<g clip-path=\"url(#clip00)\">\n",
       "<text style=\"fill:#00002d; fill-opacity:1; font-family:Arial,Helvetica Neue,Helvetica,sans-serif; font-size:10; text-anchor:start;\" transform=\"rotate(0, 54.6533, 188.716)\" x=\"54.6533\" y=\"188.716\">5</text>\n",
       "</g>\n",
       "<g clip-path=\"url(#clip00)\">\n",
       "<text style=\"fill:#00002d; fill-opacity:1; font-family:Arial,Helvetica Neue,Helvetica,sans-serif; font-size:12; text-anchor:start;\" transform=\"rotate(0, 41.474, 28.8686)\" x=\"41.474\" y=\"28.8686\">10</text>\n",
       "</g>\n",
       "<g clip-path=\"url(#clip00)\">\n",
       "<text style=\"fill:#00002d; fill-opacity:1; font-family:Arial,Helvetica Neue,Helvetica,sans-serif; font-size:10; text-anchor:start;\" transform=\"rotate(0, 54.6533, 22.016)\" x=\"54.6533\" y=\"22.016\">0</text>\n",
       "</g>\n",
       "<polyline clip-path=\"url(#clip02)\" style=\"stroke:#0099ff; stroke-width:0.8; stroke-opacity:1; fill:none\" points=\"\n",
       "  76.3448,19.2978 89.6232,3.93701 102.902,20.1254 116.18,71.1851 129.459,30.5941 142.737,41.5357 156.015,53.5724 169.294,68.6968 182.572,105.46 195.851,82.6468 \n",
       "  209.129,96.0395 222.408,116.756 235.686,124.373 248.965,139.734 262.243,140.562 275.521,191.621 288.8,151.03 302.078,161.972 315.357,174.009 328.635,189.133 \n",
       "  341.914,225.896 355.192,203.083 368.47,216.476 381.749,237.192 395.027,244.81 408.306,260.171 421.584,260.998 434.863,312.061 448.141,271.467 461.42,282.408 \n",
       "  474.698,294.444 487.976,309.567 501.255,346.295 514.533,323.527 527.812,336.932 541.09,357.711 554.369,365.108 567.647,381.015 580.926,381.015 \n",
       "  \"/>\n",
       "<polygon clip-path=\"url(#clip02)\" style=\"fill:#00002d; fill-opacity:1\" points=\"\n",
       "  72.3448,15.2978 72.3448,23.2978 80.3448,23.2978 80.3448,15.2978 72.3448,15.2978 \n",
       "  \"/>\n",
       "<polygon clip-path=\"url(#clip02)\" style=\"fill:#0099ff; fill-opacity:1\" points=\"\n",
       "  73.1448,16.0978 73.1448,22.4978 79.5448,22.4978 79.5448,16.0978 73.1448,16.0978 \n",
       "  \"/>\n",
       "<polygon clip-path=\"url(#clip02)\" style=\"fill:#00002d; fill-opacity:1\" points=\"\n",
       "  85.6232,-0.0629921 85.6232,7.93701 93.6232,7.93701 93.6232,-0.0629921 85.6232,-0.0629921 \n",
       "  \"/>\n",
       "<polygon clip-path=\"url(#clip02)\" style=\"fill:#0099ff; fill-opacity:1\" points=\"\n",
       "  86.4232,0.737008 86.4232,7.13701 92.8232,7.13701 92.8232,0.737008 86.4232,0.737008 \n",
       "  \"/>\n",
       "<polygon clip-path=\"url(#clip02)\" style=\"fill:#00002d; fill-opacity:1\" points=\"\n",
       "  98.9017,16.1254 98.9017,24.1254 106.902,24.1254 106.902,16.1254 98.9017,16.1254 \n",
       "  \"/>\n",
       "<polygon clip-path=\"url(#clip02)\" style=\"fill:#0099ff; fill-opacity:1\" points=\"\n",
       "  99.7017,16.9254 99.7017,23.3254 106.102,23.3254 106.102,16.9254 99.7017,16.9254 \n",
       "  \"/>\n",
       "<polygon clip-path=\"url(#clip02)\" style=\"fill:#00002d; fill-opacity:1\" points=\"\n",
       "  112.18,67.1851 112.18,75.1851 120.18,75.1851 120.18,67.1851 112.18,67.1851 \n",
       "  \"/>\n",
       "<polygon clip-path=\"url(#clip02)\" style=\"fill:#0099ff; fill-opacity:1\" points=\"\n",
       "  112.98,67.9851 112.98,74.3851 119.38,74.3851 119.38,67.9851 112.98,67.9851 \n",
       "  \"/>\n",
       "<polygon clip-path=\"url(#clip02)\" style=\"fill:#00002d; fill-opacity:1\" points=\"\n",
       "  125.459,26.5941 125.459,34.5941 133.459,34.5941 133.459,26.5941 125.459,26.5941 \n",
       "  \"/>\n",
       "<polygon clip-path=\"url(#clip02)\" style=\"fill:#0099ff; fill-opacity:1\" points=\"\n",
       "  126.259,27.3941 126.259,33.7941 132.659,33.7941 132.659,27.3941 126.259,27.3941 \n",
       "  \"/>\n",
       "<polygon clip-path=\"url(#clip02)\" style=\"fill:#00002d; fill-opacity:1\" points=\"\n",
       "  138.737,37.5357 138.737,45.5357 146.737,45.5357 146.737,37.5357 138.737,37.5357 \n",
       "  \"/>\n",
       "<polygon clip-path=\"url(#clip02)\" style=\"fill:#0099ff; fill-opacity:1\" points=\"\n",
       "  139.537,38.3357 139.537,44.7357 145.937,44.7357 145.937,38.3357 139.537,38.3357 \n",
       "  \"/>\n",
       "<polygon clip-path=\"url(#clip02)\" style=\"fill:#00002d; fill-opacity:1\" points=\"\n",
       "  152.015,49.5724 152.015,57.5724 160.015,57.5724 160.015,49.5724 152.015,49.5724 \n",
       "  \"/>\n",
       "<polygon clip-path=\"url(#clip02)\" style=\"fill:#0099ff; fill-opacity:1\" points=\"\n",
       "  152.815,50.3724 152.815,56.7724 159.215,56.7724 159.215,50.3724 152.815,50.3724 \n",
       "  \"/>\n",
       "<polygon clip-path=\"url(#clip02)\" style=\"fill:#00002d; fill-opacity:1\" points=\"\n",
       "  165.294,64.6968 165.294,72.6968 173.294,72.6968 173.294,64.6968 165.294,64.6968 \n",
       "  \"/>\n",
       "<polygon clip-path=\"url(#clip02)\" style=\"fill:#0099ff; fill-opacity:1\" points=\"\n",
       "  166.094,65.4968 166.094,71.8968 172.494,71.8968 172.494,65.4968 166.094,65.4968 \n",
       "  \"/>\n",
       "<polygon clip-path=\"url(#clip02)\" style=\"fill:#00002d; fill-opacity:1\" points=\"\n",
       "  178.572,101.46 178.572,109.46 186.572,109.46 186.572,101.46 178.572,101.46 \n",
       "  \"/>\n",
       "<polygon clip-path=\"url(#clip02)\" style=\"fill:#0099ff; fill-opacity:1\" points=\"\n",
       "  179.372,102.26 179.372,108.66 185.772,108.66 185.772,102.26 179.372,102.26 \n",
       "  \"/>\n",
       "<polygon clip-path=\"url(#clip02)\" style=\"fill:#00002d; fill-opacity:1\" points=\"\n",
       "  191.851,78.6468 191.851,86.6468 199.851,86.6468 199.851,78.6468 191.851,78.6468 \n",
       "  \"/>\n",
       "<polygon clip-path=\"url(#clip02)\" style=\"fill:#0099ff; fill-opacity:1\" points=\"\n",
       "  192.651,79.4468 192.651,85.8468 199.051,85.8468 199.051,79.4468 192.651,79.4468 \n",
       "  \"/>\n",
       "<polygon clip-path=\"url(#clip02)\" style=\"fill:#00002d; fill-opacity:1\" points=\"\n",
       "  205.129,92.0395 205.129,100.04 213.129,100.04 213.129,92.0395 205.129,92.0395 \n",
       "  \"/>\n",
       "<polygon clip-path=\"url(#clip02)\" style=\"fill:#0099ff; fill-opacity:1\" points=\"\n",
       "  205.929,92.8395 205.929,99.2395 212.329,99.2395 212.329,92.8395 205.929,92.8395 \n",
       "  \"/>\n",
       "<polygon clip-path=\"url(#clip02)\" style=\"fill:#00002d; fill-opacity:1\" points=\"\n",
       "  218.408,112.756 218.408,120.756 226.408,120.756 226.408,112.756 218.408,112.756 \n",
       "  \"/>\n",
       "<polygon clip-path=\"url(#clip02)\" style=\"fill:#0099ff; fill-opacity:1\" points=\"\n",
       "  219.208,113.556 219.208,119.956 225.608,119.956 225.608,113.556 219.208,113.556 \n",
       "  \"/>\n",
       "<polygon clip-path=\"url(#clip02)\" style=\"fill:#00002d; fill-opacity:1\" points=\"\n",
       "  231.686,120.373 231.686,128.373 239.686,128.373 239.686,120.373 231.686,120.373 \n",
       "  \"/>\n",
       "<polygon clip-path=\"url(#clip02)\" style=\"fill:#0099ff; fill-opacity:1\" points=\"\n",
       "  232.486,121.173 232.486,127.573 238.886,127.573 238.886,121.173 232.486,121.173 \n",
       "  \"/>\n",
       "<polygon clip-path=\"url(#clip02)\" style=\"fill:#00002d; fill-opacity:1\" points=\"\n",
       "  244.965,135.734 244.965,143.734 252.965,143.734 252.965,135.734 244.965,135.734 \n",
       "  \"/>\n",
       "<polygon clip-path=\"url(#clip02)\" style=\"fill:#0099ff; fill-opacity:1\" points=\"\n",
       "  245.765,136.534 245.765,142.934 252.165,142.934 252.165,136.534 245.765,136.534 \n",
       "  \"/>\n",
       "<polygon clip-path=\"url(#clip02)\" style=\"fill:#00002d; fill-opacity:1\" points=\"\n",
       "  258.243,136.562 258.243,144.562 266.243,144.562 266.243,136.562 258.243,136.562 \n",
       "  \"/>\n",
       "<polygon clip-path=\"url(#clip02)\" style=\"fill:#0099ff; fill-opacity:1\" points=\"\n",
       "  259.043,137.362 259.043,143.762 265.443,143.762 265.443,137.362 259.043,137.362 \n",
       "  \"/>\n",
       "<polygon clip-path=\"url(#clip02)\" style=\"fill:#00002d; fill-opacity:1\" points=\"\n",
       "  271.521,187.621 271.521,195.621 279.521,195.621 279.521,187.621 271.521,187.621 \n",
       "  \"/>\n",
       "<polygon clip-path=\"url(#clip02)\" style=\"fill:#0099ff; fill-opacity:1\" points=\"\n",
       "  272.321,188.421 272.321,194.821 278.721,194.821 278.721,188.421 272.321,188.421 \n",
       "  \"/>\n",
       "<polygon clip-path=\"url(#clip02)\" style=\"fill:#00002d; fill-opacity:1\" points=\"\n",
       "  284.8,147.03 284.8,155.03 292.8,155.03 292.8,147.03 284.8,147.03 \n",
       "  \"/>\n",
       "<polygon clip-path=\"url(#clip02)\" style=\"fill:#0099ff; fill-opacity:1\" points=\"\n",
       "  285.6,147.83 285.6,154.23 292,154.23 292,147.83 285.6,147.83 \n",
       "  \"/>\n",
       "<polygon clip-path=\"url(#clip02)\" style=\"fill:#00002d; fill-opacity:1\" points=\"\n",
       "  298.078,157.972 298.078,165.972 306.078,165.972 306.078,157.972 298.078,157.972 \n",
       "  \"/>\n",
       "<polygon clip-path=\"url(#clip02)\" style=\"fill:#0099ff; fill-opacity:1\" points=\"\n",
       "  298.878,158.772 298.878,165.172 305.278,165.172 305.278,158.772 298.878,158.772 \n",
       "  \"/>\n",
       "<polygon clip-path=\"url(#clip02)\" style=\"fill:#00002d; fill-opacity:1\" points=\"\n",
       "  311.357,170.009 311.357,178.009 319.357,178.009 319.357,170.009 311.357,170.009 \n",
       "  \"/>\n",
       "<polygon clip-path=\"url(#clip02)\" style=\"fill:#0099ff; fill-opacity:1\" points=\"\n",
       "  312.157,170.809 312.157,177.209 318.557,177.209 318.557,170.809 312.157,170.809 \n",
       "  \"/>\n",
       "<polygon clip-path=\"url(#clip02)\" style=\"fill:#00002d; fill-opacity:1\" points=\"\n",
       "  324.635,185.133 324.635,193.133 332.635,193.133 332.635,185.133 324.635,185.133 \n",
       "  \"/>\n",
       "<polygon clip-path=\"url(#clip02)\" style=\"fill:#0099ff; fill-opacity:1\" points=\"\n",
       "  325.435,185.933 325.435,192.333 331.835,192.333 331.835,185.933 325.435,185.933 \n",
       "  \"/>\n",
       "<polygon clip-path=\"url(#clip02)\" style=\"fill:#00002d; fill-opacity:1\" points=\"\n",
       "  337.914,221.896 337.914,229.896 345.914,229.896 345.914,221.896 337.914,221.896 \n",
       "  \"/>\n",
       "<polygon clip-path=\"url(#clip02)\" style=\"fill:#0099ff; fill-opacity:1\" points=\"\n",
       "  338.714,222.696 338.714,229.096 345.114,229.096 345.114,222.696 338.714,222.696 \n",
       "  \"/>\n",
       "<polygon clip-path=\"url(#clip02)\" style=\"fill:#00002d; fill-opacity:1\" points=\"\n",
       "  351.192,199.083 351.192,207.083 359.192,207.083 359.192,199.083 351.192,199.083 \n",
       "  \"/>\n",
       "<polygon clip-path=\"url(#clip02)\" style=\"fill:#0099ff; fill-opacity:1\" points=\"\n",
       "  351.992,199.883 351.992,206.283 358.392,206.283 358.392,199.883 351.992,199.883 \n",
       "  \"/>\n",
       "<polygon clip-path=\"url(#clip02)\" style=\"fill:#00002d; fill-opacity:1\" points=\"\n",
       "  364.47,212.476 364.47,220.476 372.47,220.476 372.47,212.476 364.47,212.476 \n",
       "  \"/>\n",
       "<polygon clip-path=\"url(#clip02)\" style=\"fill:#0099ff; fill-opacity:1\" points=\"\n",
       "  365.27,213.276 365.27,219.676 371.67,219.676 371.67,213.276 365.27,213.276 \n",
       "  \"/>\n",
       "<polygon clip-path=\"url(#clip02)\" style=\"fill:#00002d; fill-opacity:1\" points=\"\n",
       "  377.749,233.192 377.749,241.192 385.749,241.192 385.749,233.192 377.749,233.192 \n",
       "  \"/>\n",
       "<polygon clip-path=\"url(#clip02)\" style=\"fill:#0099ff; fill-opacity:1\" points=\"\n",
       "  378.549,233.992 378.549,240.392 384.949,240.392 384.949,233.992 378.549,233.992 \n",
       "  \"/>\n",
       "<polygon clip-path=\"url(#clip02)\" style=\"fill:#00002d; fill-opacity:1\" points=\"\n",
       "  391.027,240.81 391.027,248.81 399.027,248.81 399.027,240.81 391.027,240.81 \n",
       "  \"/>\n",
       "<polygon clip-path=\"url(#clip02)\" style=\"fill:#0099ff; fill-opacity:1\" points=\"\n",
       "  391.827,241.61 391.827,248.01 398.227,248.01 398.227,241.61 391.827,241.61 \n",
       "  \"/>\n",
       "<polygon clip-path=\"url(#clip02)\" style=\"fill:#00002d; fill-opacity:1\" points=\"\n",
       "  404.306,256.171 404.306,264.171 412.306,264.171 412.306,256.171 404.306,256.171 \n",
       "  \"/>\n",
       "<polygon clip-path=\"url(#clip02)\" style=\"fill:#0099ff; fill-opacity:1\" points=\"\n",
       "  405.106,256.971 405.106,263.371 411.506,263.371 411.506,256.971 405.106,256.971 \n",
       "  \"/>\n",
       "<polygon clip-path=\"url(#clip02)\" style=\"fill:#00002d; fill-opacity:1\" points=\"\n",
       "  417.584,256.998 417.584,264.998 425.584,264.998 425.584,256.998 417.584,256.998 \n",
       "  \"/>\n",
       "<polygon clip-path=\"url(#clip02)\" style=\"fill:#0099ff; fill-opacity:1\" points=\"\n",
       "  418.384,257.798 418.384,264.198 424.784,264.198 424.784,257.798 418.384,257.798 \n",
       "  \"/>\n",
       "<polygon clip-path=\"url(#clip02)\" style=\"fill:#00002d; fill-opacity:1\" points=\"\n",
       "  430.863,308.061 430.863,316.061 438.863,316.061 438.863,308.061 430.863,308.061 \n",
       "  \"/>\n",
       "<polygon clip-path=\"url(#clip02)\" style=\"fill:#0099ff; fill-opacity:1\" points=\"\n",
       "  431.663,308.861 431.663,315.261 438.063,315.261 438.063,308.861 431.663,308.861 \n",
       "  \"/>\n",
       "<polygon clip-path=\"url(#clip02)\" style=\"fill:#00002d; fill-opacity:1\" points=\"\n",
       "  444.141,267.467 444.141,275.467 452.141,275.467 452.141,267.467 444.141,267.467 \n",
       "  \"/>\n",
       "<polygon clip-path=\"url(#clip02)\" style=\"fill:#0099ff; fill-opacity:1\" points=\"\n",
       "  444.941,268.267 444.941,274.667 451.341,274.667 451.341,268.267 444.941,268.267 \n",
       "  \"/>\n",
       "<polygon clip-path=\"url(#clip02)\" style=\"fill:#00002d; fill-opacity:1\" points=\"\n",
       "  457.42,278.408 457.42,286.408 465.42,286.408 465.42,278.408 457.42,278.408 \n",
       "  \"/>\n",
       "<polygon clip-path=\"url(#clip02)\" style=\"fill:#0099ff; fill-opacity:1\" points=\"\n",
       "  458.22,279.208 458.22,285.608 464.62,285.608 464.62,279.208 458.22,279.208 \n",
       "  \"/>\n",
       "<polygon clip-path=\"url(#clip02)\" style=\"fill:#00002d; fill-opacity:1\" points=\"\n",
       "  470.698,290.444 470.698,298.444 478.698,298.444 478.698,290.444 470.698,290.444 \n",
       "  \"/>\n",
       "<polygon clip-path=\"url(#clip02)\" style=\"fill:#0099ff; fill-opacity:1\" points=\"\n",
       "  471.498,291.244 471.498,297.644 477.898,297.644 477.898,291.244 471.498,291.244 \n",
       "  \"/>\n",
       "<polygon clip-path=\"url(#clip02)\" style=\"fill:#00002d; fill-opacity:1\" points=\"\n",
       "  483.976,305.567 483.976,313.567 491.976,313.567 491.976,305.567 483.976,305.567 \n",
       "  \"/>\n",
       "<polygon clip-path=\"url(#clip02)\" style=\"fill:#0099ff; fill-opacity:1\" points=\"\n",
       "  484.776,306.367 484.776,312.767 491.176,312.767 491.176,306.367 484.776,306.367 \n",
       "  \"/>\n",
       "<polygon clip-path=\"url(#clip02)\" style=\"fill:#00002d; fill-opacity:1\" points=\"\n",
       "  497.255,342.295 497.255,350.295 505.255,350.295 505.255,342.295 497.255,342.295 \n",
       "  \"/>\n",
       "<polygon clip-path=\"url(#clip02)\" style=\"fill:#0099ff; fill-opacity:1\" points=\"\n",
       "  498.055,343.095 498.055,349.495 504.455,349.495 504.455,343.095 498.055,343.095 \n",
       "  \"/>\n",
       "<polygon clip-path=\"url(#clip02)\" style=\"fill:#00002d; fill-opacity:1\" points=\"\n",
       "  510.533,319.527 510.533,327.527 518.533,327.527 518.533,319.527 510.533,319.527 \n",
       "  \"/>\n",
       "<polygon clip-path=\"url(#clip02)\" style=\"fill:#0099ff; fill-opacity:1\" points=\"\n",
       "  511.333,320.327 511.333,326.727 517.733,326.727 517.733,320.327 511.333,320.327 \n",
       "  \"/>\n",
       "<polygon clip-path=\"url(#clip02)\" style=\"fill:#00002d; fill-opacity:1\" points=\"\n",
       "  523.812,332.932 523.812,340.932 531.812,340.932 531.812,332.932 523.812,332.932 \n",
       "  \"/>\n",
       "<polygon clip-path=\"url(#clip02)\" style=\"fill:#0099ff; fill-opacity:1\" points=\"\n",
       "  524.612,333.732 524.612,340.132 531.012,340.132 531.012,333.732 524.612,333.732 \n",
       "  \"/>\n",
       "<polygon clip-path=\"url(#clip02)\" style=\"fill:#00002d; fill-opacity:1\" points=\"\n",
       "  537.09,353.711 537.09,361.711 545.09,361.711 545.09,353.711 537.09,353.711 \n",
       "  \"/>\n",
       "<polygon clip-path=\"url(#clip02)\" style=\"fill:#0099ff; fill-opacity:1\" points=\"\n",
       "  537.89,354.511 537.89,360.911 544.29,360.911 544.29,354.511 537.89,354.511 \n",
       "  \"/>\n",
       "<polygon clip-path=\"url(#clip02)\" style=\"fill:#00002d; fill-opacity:1\" points=\"\n",
       "  550.369,361.108 550.369,369.108 558.369,369.108 558.369,361.108 550.369,361.108 \n",
       "  \"/>\n",
       "<polygon clip-path=\"url(#clip02)\" style=\"fill:#0099ff; fill-opacity:1\" points=\"\n",
       "  551.169,361.908 551.169,368.308 557.569,368.308 557.569,361.908 551.169,361.908 \n",
       "  \"/>\n",
       "<polygon clip-path=\"url(#clip02)\" style=\"fill:#00002d; fill-opacity:1\" points=\"\n",
       "  563.647,377.015 563.647,385.015 571.647,385.015 571.647,377.015 563.647,377.015 \n",
       "  \"/>\n",
       "<polygon clip-path=\"url(#clip02)\" style=\"fill:#0099ff; fill-opacity:1\" points=\"\n",
       "  564.447,377.815 564.447,384.215 570.847,384.215 570.847,377.815 564.447,377.815 \n",
       "  \"/>\n",
       "<polygon clip-path=\"url(#clip02)\" style=\"fill:#00002d; fill-opacity:1\" points=\"\n",
       "  576.926,377.015 576.926,385.015 584.926,385.015 584.926,377.015 576.926,377.015 \n",
       "  \"/>\n",
       "<polygon clip-path=\"url(#clip02)\" style=\"fill:#0099ff; fill-opacity:1\" points=\"\n",
       "  577.726,377.815 577.726,384.215 584.126,384.215 584.126,377.815 577.726,377.815 \n",
       "  \"/>\n",
       "<polygon clip-path=\"url(#clip00)\" points=\"\n",
       "505.547,55.057 578.063,55.057 578.063,24.817 505.547,24.817 \n",
       "  \" fill=\"#ffffff\" fill-opacity=\"1\"/>\n",
       "<polyline clip-path=\"url(#clip00)\" style=\"stroke:#00002d; stroke-width:0.8; stroke-opacity:1; fill:none\" points=\"\n",
       "  505.547,55.057 578.063,55.057 578.063,24.817 505.547,24.817 505.547,55.057 \n",
       "  \"/>\n",
       "<polyline clip-path=\"url(#clip00)\" style=\"stroke:#0099ff; stroke-width:0.8; stroke-opacity:1; fill:none\" points=\"\n",
       "  511.547,39.937 547.547,39.937 \n",
       "  \"/>\n",
       "<polygon clip-path=\"url(#clip00)\" style=\"fill:#00002d; fill-opacity:1\" points=\"\n",
       "  508.747,31.137 508.747,48.737 526.347,48.737 526.347,31.137 508.747,31.137 \n",
       "  \"/>\n",
       "<polygon clip-path=\"url(#clip00)\" style=\"fill:#0099ff; fill-opacity:1\" points=\"\n",
       "  509.547,31.937 509.547,47.937 525.547,47.937 525.547,31.937 509.547,31.937 \n",
       "  \"/>\n",
       "<polygon clip-path=\"url(#clip00)\" style=\"fill:#00002d; fill-opacity:1\" points=\"\n",
       "  532.747,31.137 532.747,48.737 550.347,48.737 550.347,31.137 532.747,31.137 \n",
       "  \"/>\n",
       "<polygon clip-path=\"url(#clip00)\" style=\"fill:#0099ff; fill-opacity:1\" points=\"\n",
       "  533.547,31.937 533.547,47.937 549.547,47.937 549.547,31.937 533.547,31.937 \n",
       "  \"/>\n",
       "<g clip-path=\"url(#clip00)\">\n",
       "<text style=\"fill:#00002d; fill-opacity:1; font-family:Arial,Helvetica Neue,Helvetica,sans-serif; font-size:12; text-anchor:start;\" transform=\"rotate(0, 553.547, 44.437)\" x=\"553.547\" y=\"44.437\">y1</text>\n",
       "</g>\n",
       "</svg>\n"
      ]
     },
     "execution_count": 90,
     "metadata": {},
     "output_type": "execute_result"
    }
   ],
   "source": [
    "plot(abs.(datos[1:end-1] .- raiz), m=:square, yscale=:log10)"
   ]
  },
  {
   "cell_type": "code",
   "execution_count": null,
   "metadata": {
    "collapsed": true
   },
   "outputs": [],
   "source": []
  }
 ],
 "metadata": {
  "kernelspec": {
   "display_name": "Julia 0.5.0",
   "language": "julia",
   "name": "julia-0.5"
  },
  "language_info": {
   "file_extension": ".jl",
   "mimetype": "application/julia",
   "name": "julia",
   "version": "0.5.0"
  }
 },
 "nbformat": 4,
 "nbformat_minor": 2
}
