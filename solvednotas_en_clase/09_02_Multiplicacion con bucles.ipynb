{
 "cells": [
  {
   "cell_type": "code",
   "execution_count": 12,
   "metadata": {
    "collapsed": false
   },
   "outputs": [
    {
     "name": "stderr",
     "output_type": "stream",
     "text": [
      "WARNING: Method definition mi_mult(Any, Any) in module Main at In[10]:10 overwritten at In[12]:9.\n",
      "\u001b[1m\u001b[31mWARNING: replacing docs for 'mi_mult :: Tuple{Any,Any}' in module 'Main'.\u001b[0m\n"
     ]
    },
    {
     "data": {
      "text/plain": [
       "mi_mult"
      ]
     },
     "execution_count": 12,
     "metadata": {},
     "output_type": "execute_result"
    }
   ],
   "source": [
    "doc\"\"\" \n",
    "Multiplicar $x$ por $n$:  sumar $x$, $n$ veces\n",
    "\n",
    "- Yo **quiero**\n",
    "- una lista\n",
    "\n",
    "\"\"\"\n",
    "function mi_mult(x, n)  \n",
    "    total = 0  # crear una variable que se llama \"total\"\n",
    "    \n",
    "    for i in 1:n\n",
    "        # aqui se trabaja\n",
    "        println(2)\n",
    "    end\n",
    "end"
   ]
  },
  {
   "cell_type": "code",
   "execution_count": 11,
   "metadata": {
    "collapsed": false
   },
   "outputs": [
    {
     "name": "stdout",
     "output_type": "stream",
     "text": [
      "search:\n",
      "\n"
     ]
    },
    {
     "data": {
      "text/markdown": [
       "Multiplicar $x$ por $n$:  sumar $x$, $n$ veces\n",
       "\n",
       "  * Yo **quiero**\n",
       "  * una lista\n"
      ],
      "text/plain": [
       "Multiplicar $x$ por $n$:  sumar $x$, $n$ veces\n",
       "\n",
       "  * Yo **quiero**\n",
       "  * una lista\n"
      ]
     },
     "execution_count": 11,
     "metadata": {},
     "output_type": "execute_result"
    }
   ],
   "source": [
    "?mi_mult"
   ]
  },
  {
   "cell_type": "code",
   "execution_count": 13,
   "metadata": {
    "collapsed": false
   },
   "outputs": [
    {
     "ename": "LoadError",
     "evalue": "MethodError: no method matching mi_mult()\u001b[0m\nClosest candidates are:\n  mi_mult(\u001b[1m\u001b[31m::Any\u001b[0m, \u001b[1m\u001b[31m::Any\u001b[0m) at In[12]:9\u001b[0m",
     "output_type": "error",
     "traceback": [
      "MethodError: no method matching mi_mult()\u001b[0m\nClosest candidates are:\n  mi_mult(\u001b[1m\u001b[31m::Any\u001b[0m, \u001b[1m\u001b[31m::Any\u001b[0m) at In[12]:9\u001b[0m",
      ""
     ]
    }
   ],
   "source": [
    "mi_mult()\n"
   ]
  },
  {
   "cell_type": "code",
   "execution_count": 16,
   "metadata": {
    "collapsed": false
   },
   "outputs": [
    {
     "name": "stdout",
     "output_type": "stream",
     "text": [
      "2\n",
      "2\n",
      "2\n",
      "2\n",
      "2\n",
      "2\n",
      "2\n"
     ]
    }
   ],
   "source": [
    "mi_mult(3, 7)"
   ]
  },
  {
   "cell_type": "code",
   "execution_count": 17,
   "metadata": {
    "collapsed": false
   },
   "outputs": [
    {
     "name": "stderr",
     "output_type": "stream",
     "text": [
      "WARNING: Method definition mi_mult(Any, Any) in module Main at In[12]:9 overwritten at In[17]:2.\n"
     ]
    },
    {
     "data": {
      "text/plain": [
       "mi_mult (generic function with 1 method)"
      ]
     },
     "execution_count": 17,
     "metadata": {},
     "output_type": "execute_result"
    }
   ],
   "source": [
    "function mi_mult(x, n)  \n",
    "    total = 0  # crear una variable que se llama \"total\"\n",
    "    \n",
    "    for i in 1:n\n",
    "        # aqui se trabaja\n",
    "        println(i)\n",
    "    end\n",
    "end"
   ]
  },
  {
   "cell_type": "code",
   "execution_count": 18,
   "metadata": {
    "collapsed": false
   },
   "outputs": [
    {
     "name": "stdout",
     "output_type": "stream",
     "text": [
      "1\n",
      "2\n",
      "3\n",
      "4\n",
      "5\n"
     ]
    }
   ],
   "source": [
    "mi_mult(3, 5)"
   ]
  },
  {
   "cell_type": "markdown",
   "metadata": {},
   "source": [
    "Queremos hacer el cálculo $0 + 5 + 5 + 5 + 5$, 4 veces"
   ]
  },
  {
   "cell_type": "code",
   "execution_count": null,
   "metadata": {
    "collapsed": true
   },
   "outputs": [],
   "source": [
    "function mi_mult(x, n)  \n",
    "    total = 0  # crear una variable que se llama \"total\"\n",
    "    \n",
    "    for i in 1:n\n",
    "        # aqui se trabaja\n",
    "        println(i)\n",
    "    end\n",
    "end"
   ]
  },
  {
   "cell_type": "markdown",
   "metadata": {},
   "source": [
    "Vamos a llamar $a_i$ el $i$-ésimo valor:"
   ]
  },
  {
   "cell_type": "markdown",
   "metadata": {},
   "source": [
    "$$a_0 := 0$$\n",
    "$$a_1 := a_0 + 5$$\n",
    "$$a_2 := a_1 + 5$$\n",
    "$$a_3 := a_2 + 5$$"
   ]
  },
  {
   "cell_type": "markdown",
   "metadata": {},
   "source": [
    "En lugar de esto, puedo ¡**almacenar** un valor **e irlo modificando**!"
   ]
  },
  {
   "cell_type": "code",
   "execution_count": 26,
   "metadata": {
    "collapsed": false
   },
   "outputs": [
    {
     "name": "stderr",
     "output_type": "stream",
     "text": [
      "WARNING: Method definition mi_mult(Any, Any) in module Main at In[21]:2 overwritten at In[26]:2.\n"
     ]
    },
    {
     "data": {
      "text/plain": [
       "mi_mult (generic function with 1 method)"
      ]
     },
     "execution_count": 26,
     "metadata": {},
     "output_type": "execute_result"
    }
   ],
   "source": [
    "function mi_mult(x, n)  \n",
    "    total = 0  # crear una variable que se llama \"total\"\n",
    "    # total es una **variable local** que existe sólo *adentro* de la función\n",
    "    \n",
    "    for i in 1:n\n",
    "        total = total + x  # **asigna** el valor total+x (usando el valor\n",
    "        # actual de `total`) de regreso en la misma variable `total`\n",
    "        \n",
    "        # total += x  # sintaxis (manera de escribir) alternativa\n",
    "\n",
    "        println(total)\n",
    "    end\n",
    "    \n",
    "    return total   # o:  total\n",
    "end"
   ]
  },
  {
   "cell_type": "code",
   "execution_count": 27,
   "metadata": {
    "collapsed": false
   },
   "outputs": [
    {
     "name": "stdout",
     "output_type": "stream",
     "text": [
      "3\n",
      "6\n",
      "9\n",
      "12\n"
     ]
    },
    {
     "data": {
      "text/plain": [
       "12"
      ]
     },
     "execution_count": 27,
     "metadata": {},
     "output_type": "execute_result"
    }
   ],
   "source": [
    "m = mi_mult(3, 4)"
   ]
  },
  {
   "cell_type": "code",
   "execution_count": 23,
   "metadata": {
    "collapsed": false
   },
   "outputs": [
    {
     "ename": "LoadError",
     "evalue": "UndefVarError: total not defined",
     "output_type": "error",
     "traceback": [
      "UndefVarError: total not defined",
      ""
     ]
    }
   ],
   "source": [
    "total"
   ]
  },
  {
   "cell_type": "code",
   "execution_count": 25,
   "metadata": {
    "collapsed": false
   },
   "outputs": [
    {
     "data": {
      "text/plain": [
       "12"
      ]
     },
     "execution_count": 25,
     "metadata": {},
     "output_type": "execute_result"
    }
   ],
   "source": [
    "m"
   ]
  },
  {
   "cell_type": "markdown",
   "metadata": {},
   "source": [
    "Los valores `3`, `6` etc. **ya no existen** -- se **borran** estos valores de la memoria de la compu, ya que se **sobreescriben** en la línea `total = total + x`."
   ]
  },
  {
   "cell_type": "markdown",
   "metadata": {},
   "source": [
    "## Si no funciona tu código, a **depurar** se ha dicho"
   ]
  },
  {
   "cell_type": "code",
   "execution_count": 32,
   "metadata": {
    "collapsed": false
   },
   "outputs": [
    {
     "name": "stdout",
     "output_type": "stream",
     "text": [
      "i = 1\n",
      "total = 0\n",
      "i = 2\n",
      "total = 0\n",
      "i = 3\n",
      "total = 0\n",
      "i = 4\n",
      "total = 0\n",
      "i = 5\n",
      "total = 0\n",
      "i = 6\n",
      "total = 0\n",
      "i = 7\n",
      "total = 0\n",
      "i = 8\n",
      "total = 0\n",
      "i = 9\n",
      "total = 0\n",
      "i = 10\n",
      "total = 0\n"
     ]
    }
   ],
   "source": [
    "total = 0\n",
    "for i in 1:10\n",
    "    @show i\n",
    "    @show total\n",
    "    total = total + total\n",
    "end"
   ]
  },
  {
   "cell_type": "markdown",
   "metadata": {
    "collapsed": true
   },
   "source": [
    "## Plots"
   ]
  },
  {
   "cell_type": "code",
   "execution_count": 2,
   "metadata": {
    "collapsed": false
   },
   "outputs": [
    {
     "data": {
      "text/plain": [
       "Plots.GRBackend()"
      ]
     },
     "execution_count": 2,
     "metadata": {},
     "output_type": "execute_result"
    }
   ],
   "source": [
    "using Plots\n",
    "gr()"
   ]
  },
  {
   "cell_type": "code",
   "execution_count": 5,
   "metadata": {
    "collapsed": false
   },
   "outputs": [
    {
     "data": {
      "text/html": [
       "<?xml version=\"1.0\" encoding=\"utf-8\"?>\n",
       "<svg xmlns=\"http://www.w3.org/2000/svg\" xmlns:xlink=\"http://www.w3.org/1999/xlink\" width=\"600\" height=\"400\" viewBox=\"0 0 600 400\">\n",
       "<defs>\n",
       "  <clipPath id=\"clip00\">\n",
       "    <rect x=\"0\" y=\"0\" width=\"600\" height=\"400\"/>\n",
       "  </clipPath>\n",
       "</defs>\n",
       "<polygon clip-path=\"url(#clip00)\" points=\"\n",
       "0,400 600,400 600,0 0,0 \n",
       "  \" fill=\"#ffffff\" fill-opacity=\"1\"/>\n",
       "<defs>\n",
       "  <clipPath id=\"clip01\">\n",
       "    <rect x=\"120\" y=\"0\" width=\"421\" height=\"400\"/>\n",
       "  </clipPath>\n",
       "</defs>\n",
       "<polygon clip-path=\"url(#clip00)\" points=\"\n",
       "21.7148,384.952 596.063,384.952 596.063,3.93701 21.7148,3.93701 \n",
       "  \" fill=\"#ffffff\" fill-opacity=\"1\"/>\n",
       "<defs>\n",
       "  <clipPath id=\"clip02\">\n",
       "    <rect x=\"21\" y=\"3\" width=\"575\" height=\"382\"/>\n",
       "  </clipPath>\n",
       "</defs>\n",
       "<polyline clip-path=\"url(#clip02)\" style=\"stroke:#00002d; stroke-width:0.8; stroke-opacity:0.5; fill:none\" stroke-dasharray=\"1, 2\" points=\"\n",
       "  157.745,379.237 157.745,9.65223 \n",
       "  \"/>\n",
       "<polyline clip-path=\"url(#clip02)\" style=\"stroke:#00002d; stroke-width:0.8; stroke-opacity:0.5; fill:none\" stroke-dasharray=\"1, 2\" points=\"\n",
       "  308.889,379.237 308.889,9.65223 \n",
       "  \"/>\n",
       "<polyline clip-path=\"url(#clip02)\" style=\"stroke:#00002d; stroke-width:0.8; stroke-opacity:0.5; fill:none\" stroke-dasharray=\"1, 2\" points=\"\n",
       "  460.033,379.237 460.033,9.65223 \n",
       "  \"/>\n",
       "<polyline clip-path=\"url(#clip02)\" style=\"stroke:#00002d; stroke-width:0.8; stroke-opacity:0.5; fill:none\" stroke-dasharray=\"1, 2\" points=\"\n",
       "  30.33,297.025 587.448,297.025 \n",
       "  \"/>\n",
       "<polyline clip-path=\"url(#clip02)\" style=\"stroke:#00002d; stroke-width:0.8; stroke-opacity:0.5; fill:none\" stroke-dasharray=\"1, 2\" points=\"\n",
       "  30.33,199.329 587.448,199.329 \n",
       "  \"/>\n",
       "<polyline clip-path=\"url(#clip02)\" style=\"stroke:#00002d; stroke-width:0.8; stroke-opacity:0.5; fill:none\" stroke-dasharray=\"1, 2\" points=\"\n",
       "  30.33,101.633 587.448,101.633 \n",
       "  \"/>\n",
       "<polyline clip-path=\"url(#clip02)\" style=\"stroke:#00002d; stroke-width:0.8; stroke-opacity:0.5; fill:none\" stroke-dasharray=\"1, 2\" points=\"\n",
       "  30.33,3.93701 587.448,3.93701 \n",
       "  \"/>\n",
       "<polyline clip-path=\"url(#clip02)\" style=\"stroke:#00002d; stroke-width:0.8; stroke-opacity:1; fill:none\" points=\"\n",
       "  21.7148,384.952 596.063,384.952 \n",
       "  \"/>\n",
       "<polyline clip-path=\"url(#clip02)\" style=\"stroke:#00002d; stroke-width:0.8; stroke-opacity:1; fill:none\" points=\"\n",
       "  157.745,384.952 157.745,379.237 \n",
       "  \"/>\n",
       "<polyline clip-path=\"url(#clip02)\" style=\"stroke:#00002d; stroke-width:0.8; stroke-opacity:1; fill:none\" points=\"\n",
       "  308.889,384.952 308.889,379.237 \n",
       "  \"/>\n",
       "<polyline clip-path=\"url(#clip02)\" style=\"stroke:#00002d; stroke-width:0.8; stroke-opacity:1; fill:none\" points=\"\n",
       "  460.033,384.952 460.033,379.237 \n",
       "  \"/>\n",
       "<polyline clip-path=\"url(#clip02)\" style=\"stroke:#00002d; stroke-width:0.8; stroke-opacity:1; fill:none\" points=\"\n",
       "  21.7148,384.952 21.7148,3.93701 \n",
       "  \"/>\n",
       "<polyline clip-path=\"url(#clip02)\" style=\"stroke:#00002d; stroke-width:0.8; stroke-opacity:1; fill:none\" points=\"\n",
       "  21.7148,297.025 30.33,297.025 \n",
       "  \"/>\n",
       "<polyline clip-path=\"url(#clip02)\" style=\"stroke:#00002d; stroke-width:0.8; stroke-opacity:1; fill:none\" points=\"\n",
       "  21.7148,199.329 30.33,199.329 \n",
       "  \"/>\n",
       "<polyline clip-path=\"url(#clip02)\" style=\"stroke:#00002d; stroke-width:0.8; stroke-opacity:1; fill:none\" points=\"\n",
       "  21.7148,101.633 30.33,101.633 \n",
       "  \"/>\n",
       "<polyline clip-path=\"url(#clip02)\" style=\"stroke:#00002d; stroke-width:0.8; stroke-opacity:1; fill:none\" points=\"\n",
       "  21.7148,3.93701 30.33,3.93701 \n",
       "  \"/>\n",
       "<g clip-path=\"url(#clip00)\">\n",
       "<text style=\"fill:#00002d; fill-opacity:1; font-family:Arial,Helvetica Neue,Helvetica,sans-serif; font-size:12; text-anchor:middle;\" transform=\"rotate(0, 157.745, 396.952)\" x=\"157.745\" y=\"396.952\">10</text>\n",
       "</g>\n",
       "<g clip-path=\"url(#clip00)\">\n",
       "<text style=\"fill:#00002d; fill-opacity:1; font-family:Arial,Helvetica Neue,Helvetica,sans-serif; font-size:12; text-anchor:middle;\" transform=\"rotate(0, 308.889, 396.952)\" x=\"308.889\" y=\"396.952\">20</text>\n",
       "</g>\n",
       "<g clip-path=\"url(#clip00)\">\n",
       "<text style=\"fill:#00002d; fill-opacity:1; font-family:Arial,Helvetica Neue,Helvetica,sans-serif; font-size:12; text-anchor:middle;\" transform=\"rotate(0, 460.033, 396.952)\" x=\"460.033\" y=\"396.952\">30</text>\n",
       "</g>\n",
       "<g clip-path=\"url(#clip00)\">\n",
       "<text style=\"fill:#00002d; fill-opacity:1; font-family:Arial,Helvetica Neue,Helvetica,sans-serif; font-size:12; text-anchor:end;\" transform=\"rotate(0, 20.5148, 301.525)\" x=\"20.5148\" y=\"301.525\">10</text>\n",
       "</g>\n",
       "<g clip-path=\"url(#clip00)\">\n",
       "<text style=\"fill:#00002d; fill-opacity:1; font-family:Arial,Helvetica Neue,Helvetica,sans-serif; font-size:12; text-anchor:end;\" transform=\"rotate(0, 20.5148, 203.829)\" x=\"20.5148\" y=\"203.829\">20</text>\n",
       "</g>\n",
       "<g clip-path=\"url(#clip00)\">\n",
       "<text style=\"fill:#00002d; fill-opacity:1; font-family:Arial,Helvetica Neue,Helvetica,sans-serif; font-size:12; text-anchor:end;\" transform=\"rotate(0, 20.5148, 106.133)\" x=\"20.5148\" y=\"106.133\">30</text>\n",
       "</g>\n",
       "<g clip-path=\"url(#clip00)\">\n",
       "<text style=\"fill:#00002d; fill-opacity:1; font-family:Arial,Helvetica Neue,Helvetica,sans-serif; font-size:12; text-anchor:end;\" transform=\"rotate(0, 20.5148, 8.43701)\" x=\"20.5148\" y=\"8.43701\">40</text>\n",
       "</g>\n",
       "<polyline clip-path=\"url(#clip02)\" style=\"stroke:#0099ff; stroke-width:0.8; stroke-opacity:1; fill:none\" points=\"\n",
       "  21.7148,384.952 36.8292,375.182 51.9436,365.413 67.0581,355.643 82.1725,345.873 97.2869,336.104 112.401,326.334 127.516,316.565 142.63,306.795 157.745,297.025 \n",
       "  172.859,287.256 187.973,277.486 203.088,267.717 218.202,257.947 233.317,248.177 248.431,238.408 263.546,228.638 278.66,218.868 293.774,209.099 308.889,199.329 \n",
       "  \n",
       "  \"/>\n",
       "<polyline clip-path=\"url(#clip02)\" style=\"stroke:#e9746a; stroke-width:0.8; stroke-opacity:1; fill:none\" points=\"\n",
       "  21.7148,375.182 36.8292,365.413 51.9436,355.643 67.0581,345.873 82.1725,336.104 97.2869,326.334 112.401,316.565 127.516,306.795 142.63,297.025 157.745,287.256 \n",
       "  172.859,277.486 187.973,267.717 203.088,257.947 218.202,248.177 233.317,238.408 248.431,228.638 263.546,218.868 278.66,209.099 293.774,199.329 308.889,189.56 \n",
       "  324.003,179.79 339.118,170.02 354.232,160.251 369.347,150.481 384.461,140.712 399.575,130.942 414.69,121.172 429.804,111.403 444.919,101.633 460.033,91.8635 \n",
       "  475.148,82.0939 490.262,72.3243 505.376,62.5547 520.491,52.7851 535.605,43.0155 550.72,33.2458 565.834,23.4762 580.949,13.7066 596.063,3.93701 \n",
       "  \"/>\n",
       "<polygon clip-path=\"url(#clip00)\" points=\"\n",
       "505.547,70.177 578.063,70.177 578.063,24.817 505.547,24.817 \n",
       "  \" fill=\"#ffffff\" fill-opacity=\"1\"/>\n",
       "<polyline clip-path=\"url(#clip00)\" style=\"stroke:#00002d; stroke-width:0.8; stroke-opacity:1; fill:none\" points=\"\n",
       "  505.547,70.177 578.063,70.177 578.063,24.817 505.547,24.817 505.547,70.177 \n",
       "  \"/>\n",
       "<polyline clip-path=\"url(#clip00)\" style=\"stroke:#0099ff; stroke-width:0.8; stroke-opacity:1; fill:none\" points=\"\n",
       "  511.547,39.937 547.547,39.937 \n",
       "  \"/>\n",
       "<g clip-path=\"url(#clip00)\">\n",
       "<text style=\"fill:#00002d; fill-opacity:1; font-family:Arial,Helvetica Neue,Helvetica,sans-serif; font-size:12; text-anchor:start;\" transform=\"rotate(0, 553.547, 44.437)\" x=\"553.547\" y=\"44.437\">y1</text>\n",
       "</g>\n",
       "<polyline clip-path=\"url(#clip00)\" style=\"stroke:#e9746a; stroke-width:0.8; stroke-opacity:1; fill:none\" points=\"\n",
       "  511.547,55.057 547.547,55.057 \n",
       "  \"/>\n",
       "<g clip-path=\"url(#clip00)\">\n",
       "<text style=\"fill:#00002d; fill-opacity:1; font-family:Arial,Helvetica Neue,Helvetica,sans-serif; font-size:12; text-anchor:start;\" transform=\"rotate(0, 553.547, 59.557)\" x=\"553.547\" y=\"59.557\">y2</text>\n",
       "</g>\n",
       "</svg>\n"
      ]
     },
     "execution_count": 5,
     "metadata": {},
     "output_type": "execute_result"
    }
   ],
   "source": [
    "plot(1:20)\n",
    "plot!(2:40)"
   ]
  },
  {
   "cell_type": "code",
   "execution_count": 10,
   "metadata": {
    "collapsed": false
   },
   "outputs": [
    {
     "data": {
      "text/plain": [
       "hacer_plots (generic function with 1 method)"
      ]
     },
     "execution_count": 10,
     "metadata": {},
     "output_type": "execute_result"
    }
   ],
   "source": [
    "function hacer_plots()\n",
    "    p = plot(1:20)\n",
    "    for i in 1:10\n",
    "        plot!(i:i+10)\n",
    "    end\n",
    "    \n",
    "    return p\n",
    "end"
   ]
  },
  {
   "cell_type": "code",
   "execution_count": 11,
   "metadata": {
    "collapsed": false
   },
   "outputs": [
    {
     "data": {
      "text/html": [
       "<?xml version=\"1.0\" encoding=\"utf-8\"?>\n",
       "<svg xmlns=\"http://www.w3.org/2000/svg\" xmlns:xlink=\"http://www.w3.org/1999/xlink\" width=\"600\" height=\"400\" viewBox=\"0 0 600 400\">\n",
       "<defs>\n",
       "  <clipPath id=\"clip00\">\n",
       "    <rect x=\"0\" y=\"0\" width=\"600\" height=\"400\"/>\n",
       "  </clipPath>\n",
       "</defs>\n",
       "<polygon clip-path=\"url(#clip00)\" points=\"\n",
       "0,400 600,400 600,0 0,0 \n",
       "  \" fill=\"#ffffff\" fill-opacity=\"1\"/>\n",
       "<defs>\n",
       "  <clipPath id=\"clip01\">\n",
       "    <rect x=\"120\" y=\"0\" width=\"421\" height=\"400\"/>\n",
       "  </clipPath>\n",
       "</defs>\n",
       "<polygon clip-path=\"url(#clip00)\" points=\"\n",
       "21.7148,384.952 596.063,384.952 596.063,3.93701 21.7148,3.93701 \n",
       "  \" fill=\"#ffffff\" fill-opacity=\"1\"/>\n",
       "<defs>\n",
       "  <clipPath id=\"clip02\">\n",
       "    <rect x=\"21\" y=\"3\" width=\"575\" height=\"382\"/>\n",
       "  </clipPath>\n",
       "</defs>\n",
       "<polyline clip-path=\"url(#clip02)\" style=\"stroke:#00002d; stroke-width:0.8; stroke-opacity:0.5; fill:none\" stroke-dasharray=\"1, 2\" points=\"\n",
       "  142.63,379.237 142.63,9.65223 \n",
       "  \"/>\n",
       "<polyline clip-path=\"url(#clip02)\" style=\"stroke:#00002d; stroke-width:0.8; stroke-opacity:0.5; fill:none\" stroke-dasharray=\"1, 2\" points=\"\n",
       "  293.774,379.237 293.774,9.65223 \n",
       "  \"/>\n",
       "<polyline clip-path=\"url(#clip02)\" style=\"stroke:#00002d; stroke-width:0.8; stroke-opacity:0.5; fill:none\" stroke-dasharray=\"1, 2\" points=\"\n",
       "  444.919,379.237 444.919,9.65223 \n",
       "  \"/>\n",
       "<polyline clip-path=\"url(#clip02)\" style=\"stroke:#00002d; stroke-width:0.8; stroke-opacity:0.5; fill:none\" stroke-dasharray=\"1, 2\" points=\"\n",
       "  596.063,379.237 596.063,9.65223 \n",
       "  \"/>\n",
       "<polyline clip-path=\"url(#clip02)\" style=\"stroke:#00002d; stroke-width:0.8; stroke-opacity:0.5; fill:none\" stroke-dasharray=\"1, 2\" points=\"\n",
       "  30.33,304.738 587.448,304.738 \n",
       "  \"/>\n",
       "<polyline clip-path=\"url(#clip02)\" style=\"stroke:#00002d; stroke-width:0.8; stroke-opacity:0.5; fill:none\" stroke-dasharray=\"1, 2\" points=\"\n",
       "  30.33,204.471 587.448,204.471 \n",
       "  \"/>\n",
       "<polyline clip-path=\"url(#clip02)\" style=\"stroke:#00002d; stroke-width:0.8; stroke-opacity:0.5; fill:none\" stroke-dasharray=\"1, 2\" points=\"\n",
       "  30.33,104.204 587.448,104.204 \n",
       "  \"/>\n",
       "<polyline clip-path=\"url(#clip02)\" style=\"stroke:#00002d; stroke-width:0.8; stroke-opacity:0.5; fill:none\" stroke-dasharray=\"1, 2\" points=\"\n",
       "  30.33,3.93701 587.448,3.93701 \n",
       "  \"/>\n",
       "<polyline clip-path=\"url(#clip02)\" style=\"stroke:#00002d; stroke-width:0.8; stroke-opacity:1; fill:none\" points=\"\n",
       "  21.7148,384.952 596.063,384.952 \n",
       "  \"/>\n",
       "<polyline clip-path=\"url(#clip02)\" style=\"stroke:#00002d; stroke-width:0.8; stroke-opacity:1; fill:none\" points=\"\n",
       "  142.63,384.952 142.63,379.237 \n",
       "  \"/>\n",
       "<polyline clip-path=\"url(#clip02)\" style=\"stroke:#00002d; stroke-width:0.8; stroke-opacity:1; fill:none\" points=\"\n",
       "  293.774,384.952 293.774,379.237 \n",
       "  \"/>\n",
       "<polyline clip-path=\"url(#clip02)\" style=\"stroke:#00002d; stroke-width:0.8; stroke-opacity:1; fill:none\" points=\"\n",
       "  444.919,384.952 444.919,379.237 \n",
       "  \"/>\n",
       "<polyline clip-path=\"url(#clip02)\" style=\"stroke:#00002d; stroke-width:0.8; stroke-opacity:1; fill:none\" points=\"\n",
       "  596.063,384.952 596.063,379.237 \n",
       "  \"/>\n",
       "<polyline clip-path=\"url(#clip02)\" style=\"stroke:#00002d; stroke-width:0.8; stroke-opacity:1; fill:none\" points=\"\n",
       "  21.7148,384.952 21.7148,3.93701 \n",
       "  \"/>\n",
       "<polyline clip-path=\"url(#clip02)\" style=\"stroke:#00002d; stroke-width:0.8; stroke-opacity:1; fill:none\" points=\"\n",
       "  21.7148,304.738 30.33,304.738 \n",
       "  \"/>\n",
       "<polyline clip-path=\"url(#clip02)\" style=\"stroke:#00002d; stroke-width:0.8; stroke-opacity:1; fill:none\" points=\"\n",
       "  21.7148,204.471 30.33,204.471 \n",
       "  \"/>\n",
       "<polyline clip-path=\"url(#clip02)\" style=\"stroke:#00002d; stroke-width:0.8; stroke-opacity:1; fill:none\" points=\"\n",
       "  21.7148,104.204 30.33,104.204 \n",
       "  \"/>\n",
       "<polyline clip-path=\"url(#clip02)\" style=\"stroke:#00002d; stroke-width:0.8; stroke-opacity:1; fill:none\" points=\"\n",
       "  21.7148,3.93701 30.33,3.93701 \n",
       "  \"/>\n",
       "<g clip-path=\"url(#clip00)\">\n",
       "<text style=\"fill:#00002d; fill-opacity:1; font-family:Arial,Helvetica Neue,Helvetica,sans-serif; font-size:12; text-anchor:middle;\" transform=\"rotate(0, 142.63, 396.952)\" x=\"142.63\" y=\"396.952\">5</text>\n",
       "</g>\n",
       "<g clip-path=\"url(#clip00)\">\n",
       "<text style=\"fill:#00002d; fill-opacity:1; font-family:Arial,Helvetica Neue,Helvetica,sans-serif; font-size:12; text-anchor:middle;\" transform=\"rotate(0, 293.774, 396.952)\" x=\"293.774\" y=\"396.952\">10</text>\n",
       "</g>\n",
       "<g clip-path=\"url(#clip00)\">\n",
       "<text style=\"fill:#00002d; fill-opacity:1; font-family:Arial,Helvetica Neue,Helvetica,sans-serif; font-size:12; text-anchor:middle;\" transform=\"rotate(0, 444.919, 396.952)\" x=\"444.919\" y=\"396.952\">15</text>\n",
       "</g>\n",
       "<g clip-path=\"url(#clip00)\">\n",
       "<text style=\"fill:#00002d; fill-opacity:1; font-family:Arial,Helvetica Neue,Helvetica,sans-serif; font-size:12; text-anchor:middle;\" transform=\"rotate(0, 596.063, 396.952)\" x=\"596.063\" y=\"396.952\">20</text>\n",
       "</g>\n",
       "<g clip-path=\"url(#clip00)\">\n",
       "<text style=\"fill:#00002d; fill-opacity:1; font-family:Arial,Helvetica Neue,Helvetica,sans-serif; font-size:12; text-anchor:end;\" transform=\"rotate(0, 20.5148, 309.238)\" x=\"20.5148\" y=\"309.238\">5</text>\n",
       "</g>\n",
       "<g clip-path=\"url(#clip00)\">\n",
       "<text style=\"fill:#00002d; fill-opacity:1; font-family:Arial,Helvetica Neue,Helvetica,sans-serif; font-size:12; text-anchor:end;\" transform=\"rotate(0, 20.5148, 208.971)\" x=\"20.5148\" y=\"208.971\">10</text>\n",
       "</g>\n",
       "<g clip-path=\"url(#clip00)\">\n",
       "<text style=\"fill:#00002d; fill-opacity:1; font-family:Arial,Helvetica Neue,Helvetica,sans-serif; font-size:12; text-anchor:end;\" transform=\"rotate(0, 20.5148, 108.704)\" x=\"20.5148\" y=\"108.704\">15</text>\n",
       "</g>\n",
       "<g clip-path=\"url(#clip00)\">\n",
       "<text style=\"fill:#00002d; fill-opacity:1; font-family:Arial,Helvetica Neue,Helvetica,sans-serif; font-size:12; text-anchor:end;\" transform=\"rotate(0, 20.5148, 8.43701)\" x=\"20.5148\" y=\"8.43701\">20</text>\n",
       "</g>\n",
       "<polyline clip-path=\"url(#clip02)\" style=\"stroke:#0099ff; stroke-width:0.8; stroke-opacity:1; fill:none\" points=\"\n",
       "  21.7148,384.952 51.9436,364.898 82.1725,344.845 112.401,324.792 142.63,304.738 172.859,284.685 203.088,264.631 233.317,244.578 263.546,224.525 293.774,204.471 \n",
       "  324.003,184.418 354.232,164.364 384.461,144.311 414.69,124.257 444.919,104.204 475.148,84.1507 505.376,64.0973 535.605,44.0438 565.834,23.9904 596.063,3.93701 \n",
       "  \n",
       "  \"/>\n",
       "<polyline clip-path=\"url(#clip02)\" style=\"stroke:#e9746a; stroke-width:0.8; stroke-opacity:1; fill:none\" points=\"\n",
       "  21.7148,384.952 51.9436,364.898 82.1725,344.845 112.401,324.792 142.63,304.738 172.859,284.685 203.088,264.631 233.317,244.578 263.546,224.525 293.774,204.471 \n",
       "  324.003,184.418 \n",
       "  \"/>\n",
       "<polyline clip-path=\"url(#clip02)\" style=\"stroke:#3cb370; stroke-width:0.8; stroke-opacity:1; fill:none\" points=\"\n",
       "  21.7148,364.898 51.9436,344.845 82.1725,324.792 112.401,304.738 142.63,284.685 172.859,264.631 203.088,244.578 233.317,224.525 263.546,204.471 293.774,184.418 \n",
       "  324.003,164.364 \n",
       "  \"/>\n",
       "<polyline clip-path=\"url(#clip02)\" style=\"stroke:#d96fd5; stroke-width:0.8; stroke-opacity:1; fill:none\" points=\"\n",
       "  21.7148,344.845 51.9436,324.792 82.1725,304.738 112.401,284.685 142.63,264.631 172.859,244.578 203.088,224.525 233.317,204.471 263.546,184.418 293.774,164.364 \n",
       "  324.003,144.311 \n",
       "  \"/>\n",
       "<polyline clip-path=\"url(#clip02)\" style=\"stroke:#b28c19; stroke-width:0.8; stroke-opacity:1; fill:none\" points=\"\n",
       "  21.7148,324.792 51.9436,304.738 82.1725,284.685 112.401,264.631 142.63,244.578 172.859,224.525 203.088,204.471 233.317,184.418 263.546,164.364 293.774,144.311 \n",
       "  324.003,124.257 \n",
       "  \"/>\n",
       "<polyline clip-path=\"url(#clip02)\" style=\"stroke:#00abab; stroke-width:0.8; stroke-opacity:1; fill:none\" points=\"\n",
       "  21.7148,304.738 51.9436,284.685 82.1725,264.631 112.401,244.578 142.63,224.525 172.859,204.471 203.088,184.418 233.317,164.364 263.546,144.311 293.774,124.257 \n",
       "  324.003,104.204 \n",
       "  \"/>\n",
       "<polyline clip-path=\"url(#clip02)\" style=\"stroke:#ff5d5d; stroke-width:0.8; stroke-opacity:1; fill:none\" points=\"\n",
       "  21.7148,284.685 51.9436,264.631 82.1725,244.578 112.401,224.525 142.63,204.471 172.859,184.418 203.088,164.364 233.317,144.311 263.546,124.257 293.774,104.204 \n",
       "  324.003,84.1507 \n",
       "  \"/>\n",
       "<polyline clip-path=\"url(#clip02)\" style=\"stroke:#cc853f; stroke-width:0.8; stroke-opacity:1; fill:none\" points=\"\n",
       "  21.7148,264.631 51.9436,244.578 82.1725,224.525 112.401,204.471 142.63,184.418 172.859,164.364 203.088,144.311 233.317,124.257 263.546,104.204 293.774,84.1507 \n",
       "  324.003,64.0973 \n",
       "  \"/>\n",
       "<polyline clip-path=\"url(#clip02)\" style=\"stroke:#00abab; stroke-width:0.8; stroke-opacity:1; fill:none\" points=\"\n",
       "  21.7148,244.578 51.9436,224.525 82.1725,204.471 112.401,184.418 142.63,164.364 172.859,144.311 203.088,124.257 233.317,104.204 263.546,84.1507 293.774,64.0973 \n",
       "  324.003,44.0438 \n",
       "  \"/>\n",
       "<polyline clip-path=\"url(#clip02)\" style=\"stroke:#969600; stroke-width:0.8; stroke-opacity:1; fill:none\" points=\"\n",
       "  21.7148,224.525 51.9436,204.471 82.1725,184.418 112.401,164.364 142.63,144.311 172.859,124.257 203.088,104.204 233.317,84.1507 263.546,64.0973 293.774,44.0438 \n",
       "  324.003,23.9904 \n",
       "  \"/>\n",
       "<polyline clip-path=\"url(#clip02)\" style=\"stroke:#00abab; stroke-width:0.8; stroke-opacity:1; fill:none\" points=\"\n",
       "  21.7148,204.471 51.9436,184.418 82.1725,164.364 112.401,144.311 142.63,124.257 172.859,104.204 203.088,84.1507 233.317,64.0973 263.546,44.0438 293.774,23.9904 \n",
       "  324.003,3.93701 \n",
       "  \"/>\n",
       "<polygon clip-path=\"url(#clip00)\" points=\"\n",
       "498.958,206.257 578.063,206.257 578.063,24.817 498.958,24.817 \n",
       "  \" fill=\"#ffffff\" fill-opacity=\"1\"/>\n",
       "<polyline clip-path=\"url(#clip00)\" style=\"stroke:#00002d; stroke-width:0.8; stroke-opacity:1; fill:none\" points=\"\n",
       "  498.958,206.257 578.063,206.257 578.063,24.817 498.958,24.817 498.958,206.257 \n",
       "  \"/>\n",
       "<polyline clip-path=\"url(#clip00)\" style=\"stroke:#0099ff; stroke-width:0.8; stroke-opacity:1; fill:none\" points=\"\n",
       "  504.958,39.937 540.958,39.937 \n",
       "  \"/>\n",
       "<g clip-path=\"url(#clip00)\">\n",
       "<text style=\"fill:#00002d; fill-opacity:1; font-family:Arial,Helvetica Neue,Helvetica,sans-serif; font-size:12; text-anchor:start;\" transform=\"rotate(0, 546.958, 44.437)\" x=\"546.958\" y=\"44.437\">y1</text>\n",
       "</g>\n",
       "<polyline clip-path=\"url(#clip00)\" style=\"stroke:#e9746a; stroke-width:0.8; stroke-opacity:1; fill:none\" points=\"\n",
       "  504.958,55.057 540.958,55.057 \n",
       "  \"/>\n",
       "<g clip-path=\"url(#clip00)\">\n",
       "<text style=\"fill:#00002d; fill-opacity:1; font-family:Arial,Helvetica Neue,Helvetica,sans-serif; font-size:12; text-anchor:start;\" transform=\"rotate(0, 546.958, 59.557)\" x=\"546.958\" y=\"59.557\">y2</text>\n",
       "</g>\n",
       "<polyline clip-path=\"url(#clip00)\" style=\"stroke:#3cb370; stroke-width:0.8; stroke-opacity:1; fill:none\" points=\"\n",
       "  504.958,70.177 540.958,70.177 \n",
       "  \"/>\n",
       "<g clip-path=\"url(#clip00)\">\n",
       "<text style=\"fill:#00002d; fill-opacity:1; font-family:Arial,Helvetica Neue,Helvetica,sans-serif; font-size:12; text-anchor:start;\" transform=\"rotate(0, 546.958, 74.677)\" x=\"546.958\" y=\"74.677\">y3</text>\n",
       "</g>\n",
       "<polyline clip-path=\"url(#clip00)\" style=\"stroke:#d96fd5; stroke-width:0.8; stroke-opacity:1; fill:none\" points=\"\n",
       "  504.958,85.297 540.958,85.297 \n",
       "  \"/>\n",
       "<g clip-path=\"url(#clip00)\">\n",
       "<text style=\"fill:#00002d; fill-opacity:1; font-family:Arial,Helvetica Neue,Helvetica,sans-serif; font-size:12; text-anchor:start;\" transform=\"rotate(0, 546.958, 89.797)\" x=\"546.958\" y=\"89.797\">y4</text>\n",
       "</g>\n",
       "<polyline clip-path=\"url(#clip00)\" style=\"stroke:#b28c19; stroke-width:0.8; stroke-opacity:1; fill:none\" points=\"\n",
       "  504.958,100.417 540.958,100.417 \n",
       "  \"/>\n",
       "<g clip-path=\"url(#clip00)\">\n",
       "<text style=\"fill:#00002d; fill-opacity:1; font-family:Arial,Helvetica Neue,Helvetica,sans-serif; font-size:12; text-anchor:start;\" transform=\"rotate(0, 546.958, 104.917)\" x=\"546.958\" y=\"104.917\">y5</text>\n",
       "</g>\n",
       "<polyline clip-path=\"url(#clip00)\" style=\"stroke:#00abab; stroke-width:0.8; stroke-opacity:1; fill:none\" points=\"\n",
       "  504.958,115.537 540.958,115.537 \n",
       "  \"/>\n",
       "<g clip-path=\"url(#clip00)\">\n",
       "<text style=\"fill:#00002d; fill-opacity:1; font-family:Arial,Helvetica Neue,Helvetica,sans-serif; font-size:12; text-anchor:start;\" transform=\"rotate(0, 546.958, 120.037)\" x=\"546.958\" y=\"120.037\">y6</text>\n",
       "</g>\n",
       "<polyline clip-path=\"url(#clip00)\" style=\"stroke:#ff5d5d; stroke-width:0.8; stroke-opacity:1; fill:none\" points=\"\n",
       "  504.958,130.657 540.958,130.657 \n",
       "  \"/>\n",
       "<g clip-path=\"url(#clip00)\">\n",
       "<text style=\"fill:#00002d; fill-opacity:1; font-family:Arial,Helvetica Neue,Helvetica,sans-serif; font-size:12; text-anchor:start;\" transform=\"rotate(0, 546.958, 135.157)\" x=\"546.958\" y=\"135.157\">y7</text>\n",
       "</g>\n",
       "<polyline clip-path=\"url(#clip00)\" style=\"stroke:#cc853f; stroke-width:0.8; stroke-opacity:1; fill:none\" points=\"\n",
       "  504.958,145.777 540.958,145.777 \n",
       "  \"/>\n",
       "<g clip-path=\"url(#clip00)\">\n",
       "<text style=\"fill:#00002d; fill-opacity:1; font-family:Arial,Helvetica Neue,Helvetica,sans-serif; font-size:12; text-anchor:start;\" transform=\"rotate(0, 546.958, 150.277)\" x=\"546.958\" y=\"150.277\">y8</text>\n",
       "</g>\n",
       "<polyline clip-path=\"url(#clip00)\" style=\"stroke:#00abab; stroke-width:0.8; stroke-opacity:1; fill:none\" points=\"\n",
       "  504.958,160.897 540.958,160.897 \n",
       "  \"/>\n",
       "<g clip-path=\"url(#clip00)\">\n",
       "<text style=\"fill:#00002d; fill-opacity:1; font-family:Arial,Helvetica Neue,Helvetica,sans-serif; font-size:12; text-anchor:start;\" transform=\"rotate(0, 546.958, 165.397)\" x=\"546.958\" y=\"165.397\">y9</text>\n",
       "</g>\n",
       "<polyline clip-path=\"url(#clip00)\" style=\"stroke:#969600; stroke-width:0.8; stroke-opacity:1; fill:none\" points=\"\n",
       "  504.958,176.017 540.958,176.017 \n",
       "  \"/>\n",
       "<g clip-path=\"url(#clip00)\">\n",
       "<text style=\"fill:#00002d; fill-opacity:1; font-family:Arial,Helvetica Neue,Helvetica,sans-serif; font-size:12; text-anchor:start;\" transform=\"rotate(0, 546.958, 180.517)\" x=\"546.958\" y=\"180.517\">y10</text>\n",
       "</g>\n",
       "<polyline clip-path=\"url(#clip00)\" style=\"stroke:#00abab; stroke-width:0.8; stroke-opacity:1; fill:none\" points=\"\n",
       "  504.958,191.137 540.958,191.137 \n",
       "  \"/>\n",
       "<g clip-path=\"url(#clip00)\">\n",
       "<text style=\"fill:#00002d; fill-opacity:1; font-family:Arial,Helvetica Neue,Helvetica,sans-serif; font-size:12; text-anchor:start;\" transform=\"rotate(0, 546.958, 195.637)\" x=\"546.958\" y=\"195.637\">y11</text>\n",
       "</g>\n",
       "</svg>\n"
      ]
     },
     "execution_count": 11,
     "metadata": {},
     "output_type": "execute_result"
    }
   ],
   "source": [
    "hacer_plots()"
   ]
  },
  {
   "cell_type": "code",
   "execution_count": null,
   "metadata": {
    "collapsed": true
   },
   "outputs": [],
   "source": []
  }
 ],
 "metadata": {
  "kernelspec": {
   "display_name": "Julia 0.5.0",
   "language": "julia",
   "name": "julia-0.5"
  },
  "language_info": {
   "file_extension": ".jl",
   "mimetype": "application/julia",
   "name": "julia",
   "version": "0.5.0"
  }
 },
 "nbformat": 4,
 "nbformat_minor": 2
}
