{
 "cells": [
  {
   "cell_type": "code",
   "execution_count": 2,
   "metadata": {
    "collapsed": false
   },
   "outputs": [
    {
     "data": {
      "text/plain": [
       "mi_factorial (generic function with 1 method)"
      ]
     },
     "execution_count": 2,
     "metadata": {},
     "output_type": "execute_result"
    }
   ],
   "source": [
    "mi_factorial(n) = prod(1:n)"
   ]
  },
  {
   "cell_type": "code",
   "execution_count": 3,
   "metadata": {
    "collapsed": false
   },
   "outputs": [
    {
     "data": {
      "text/plain": [
       "3628800"
      ]
     },
     "execution_count": 3,
     "metadata": {},
     "output_type": "execute_result"
    }
   ],
   "source": [
    "factorial(10)"
   ]
  },
  {
   "cell_type": "code",
   "execution_count": 4,
   "metadata": {
    "collapsed": false
   },
   "outputs": [
    {
     "data": {
      "text/plain": [
       "3628800"
      ]
     },
     "execution_count": 4,
     "metadata": {},
     "output_type": "execute_result"
    }
   ],
   "source": [
    "mi_factorial(10)"
   ]
  },
  {
   "cell_type": "code",
   "execution_count": 7,
   "metadata": {
    "collapsed": false
   },
   "outputs": [
    {
     "name": "stderr",
     "output_type": "stream",
     "text": [
      "WARNING: Method definition factoriales(Any) in module Main at In[5]:2 overwritten at In[7]:2.\n"
     ]
    },
    {
     "data": {
      "text/plain": [
       "factoriales (generic function with 1 method)"
      ]
     },
     "execution_count": 7,
     "metadata": {},
     "output_type": "execute_result"
    }
   ],
   "source": [
    "function factoriales(N)\n",
    "    [mi_factorial(n) for n in 1:N]\n",
    "end"
   ]
  },
  {
   "cell_type": "code",
   "execution_count": 8,
   "metadata": {
    "collapsed": false
   },
   "outputs": [
    {
     "data": {
      "text/plain": [
       "10-element Array{Int64,1}:\n",
       "       1\n",
       "       2\n",
       "       6\n",
       "      24\n",
       "     120\n",
       "     720\n",
       "    5040\n",
       "   40320\n",
       "  362880\n",
       " 3628800"
      ]
     },
     "execution_count": 8,
     "metadata": {},
     "output_type": "execute_result"
    }
   ],
   "source": [
    "factoriales(10)"
   ]
  },
  {
   "cell_type": "code",
   "execution_count": 10,
   "metadata": {
    "collapsed": false
   },
   "outputs": [
    {
     "data": {
      "text/plain": [
       "10-element Array{Int64,1}:\n",
       "       1\n",
       "       2\n",
       "       6\n",
       "      24\n",
       "     120\n",
       "     720\n",
       "    5040\n",
       "   40320\n",
       "  362880\n",
       " 3628800"
      ]
     },
     "execution_count": 10,
     "metadata": {},
     "output_type": "execute_result"
    }
   ],
   "source": [
    "mi_factorial.(1:10)"
   ]
  },
  {
   "cell_type": "code",
   "execution_count": 12,
   "metadata": {
    "collapsed": false
   },
   "outputs": [
    {
     "data": {
      "text/plain": [
       "10-element Array{Float64,1}:\n",
       " 1.0        \n",
       " 0.5        \n",
       " 0.166667   \n",
       " 0.0416667  \n",
       " 0.00833333 \n",
       " 0.00138889 \n",
       " 0.000198413\n",
       " 2.48016e-5 \n",
       " 2.75573e-6 \n",
       " 2.75573e-7 "
      ]
     },
     "execution_count": 12,
     "metadata": {},
     "output_type": "execute_result"
    }
   ],
   "source": [
    "[1/mi_factorial(n) for n in 1:10]"
   ]
  },
  {
   "cell_type": "code",
   "execution_count": 19,
   "metadata": {
    "collapsed": false
   },
   "outputs": [
    {
     "data": {
      "text/plain": [
       "e_suma (generic function with 1 method)"
      ]
     },
     "execution_count": 19,
     "metadata": {},
     "output_type": "execute_result"
    }
   ],
   "source": [
    "e_suma(N) = sum([1/mi_factorial(n) for n in 0:N])"
   ]
  },
  {
   "cell_type": "code",
   "execution_count": 20,
   "metadata": {
    "collapsed": false
   },
   "outputs": [
    {
     "data": {
      "text/plain": [
       "2.6666666666666665"
      ]
     },
     "execution_count": 20,
     "metadata": {},
     "output_type": "execute_result"
    }
   ],
   "source": [
    "e_suma(3)"
   ]
  },
  {
   "cell_type": "code",
   "execution_count": 21,
   "metadata": {
    "collapsed": false
   },
   "outputs": [
    {
     "data": {
      "text/plain": [
       "2432902008176640000"
      ]
     },
     "execution_count": 21,
     "metadata": {},
     "output_type": "execute_result"
    }
   ],
   "source": [
    "factorial(20)"
   ]
  },
  {
   "cell_type": "code",
   "execution_count": 22,
   "metadata": {
    "collapsed": false
   },
   "outputs": [
    {
     "ename": "LoadError",
     "evalue": "OverflowError()",
     "output_type": "error",
     "traceback": [
      "OverflowError()",
      "",
      " in factorial_lookup(::Int64, ::Array{Int64,1}, ::Int64) at ./combinatorics.jl:31",
      " in factorial(::Int64) at ./combinatorics.jl:39"
     ]
    }
   ],
   "source": [
    "factorial(21)"
   ]
  },
  {
   "cell_type": "code",
   "execution_count": 23,
   "metadata": {
    "collapsed": false
   },
   "outputs": [
    {
     "data": {
      "text/plain": [
       "51090942171709440000"
      ]
     },
     "execution_count": 23,
     "metadata": {},
     "output_type": "execute_result"
    }
   ],
   "source": [
    "factorial(big(21))"
   ]
  },
  {
   "cell_type": "code",
   "execution_count": 27,
   "metadata": {
    "collapsed": false
   },
   "outputs": [
    {
     "name": "stderr",
     "output_type": "stream",
     "text": [
      "WARNING: Method definition factoriales2(Any) in module Main at In[25]:3 overwritten at In[27]:3.\n"
     ]
    },
    {
     "data": {
      "text/plain": [
       "factoriales2 (generic function with 1 method)"
      ]
     },
     "execution_count": 27,
     "metadata": {},
     "output_type": "execute_result"
    }
   ],
   "source": [
    "function factoriales2(N) # sin trabajar demás\n",
    "    \n",
    "    factorial_actual = 1\n",
    "    \n",
    "    factoriales = [factorial_actual]\n",
    "    \n",
    "    for i in 1:N\n",
    "        factorial_actual *= i  # factorial = factorial * i\n",
    "        @show factorial_actual\n",
    "        push!(factoriales, factorial_actual)\n",
    "    end\n",
    "    \n",
    "    return factoriales\n",
    "end"
   ]
  },
  {
   "cell_type": "code",
   "execution_count": 28,
   "metadata": {
    "collapsed": false
   },
   "outputs": [
    {
     "name": "stdout",
     "output_type": "stream",
     "text": [
      "factorial_actual = 1\n",
      "factorial_actual = 2\n",
      "factorial_actual = 6\n",
      "factorial_actual = 24\n",
      "factorial_actual = 120\n"
     ]
    },
    {
     "data": {
      "text/plain": [
       "6-element Array{Int64,1}:\n",
       "   1\n",
       "   1\n",
       "   2\n",
       "   6\n",
       "  24\n",
       " 120"
      ]
     },
     "execution_count": 28,
     "metadata": {},
     "output_type": "execute_result"
    }
   ],
   "source": [
    "factoriales2(5)"
   ]
  },
  {
   "cell_type": "code",
   "execution_count": null,
   "metadata": {
    "collapsed": true
   },
   "outputs": [],
   "source": [
    "function factoriales3(N) # sin trabajar demás\n",
    "    \n",
    "    fact = 1   # factorial actual\n",
    "    \n",
    "    factoriales = [fact]\n",
    "    \n",
    "    for i in 1:N\n",
    "        fact *= i  # factorial = factorial * i\n",
    "        @show fact\n",
    "        push!(factoriales, fact)\n",
    "    end\n",
    "    \n",
    "    return factoriales\n",
    "end"
   ]
  },
  {
   "cell_type": "code",
   "execution_count": null,
   "metadata": {
    "collapsed": true
   },
   "outputs": [],
   "source": [
    "function factoriales4(N) # sin trabajar demás\n",
    "    \n",
    "    f = 1   # factorial actual\n",
    "    \n",
    "    fs = [f]\n",
    "    \n",
    "    for i in 1:N\n",
    "        f *= i  # factorial = factorial * i\n",
    "        @show f\n",
    "        push!(fs, f)\n",
    "    end\n",
    "    \n",
    "    return fs\n",
    "end"
   ]
  }
 ],
 "metadata": {
  "kernelspec": {
   "display_name": "Julia 0.5.0",
   "language": "julia",
   "name": "julia-0.5"
  },
  "language_info": {
   "file_extension": ".jl",
   "mimetype": "application/julia",
   "name": "julia",
   "version": "0.5.0"
  }
 },
 "nbformat": 4,
 "nbformat_minor": 2
}
