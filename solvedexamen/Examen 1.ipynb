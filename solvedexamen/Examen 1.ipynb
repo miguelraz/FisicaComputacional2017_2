{
 "cells": [
  {
   "cell_type": "markdown",
   "metadata": {},
   "source": [
    "# Examen 1 - 27 febrero 2017"
   ]
  },
  {
   "cell_type": "markdown",
   "metadata": {},
   "source": [
    "[1] En esta pregunta, escribiremos una función para calcular $\\log(n!)$, es decir, el logaritmo del factorial de un número $n$.\n",
    "\n",
    "(i) Utiliza un bucle `for` para escribir una función `log_factorial` que toma un argumento `n` y que calcula el logaritmo del factorial de `n`. Para hacerlo, recuerda que el logaritmo de un producto es la suma de los logaritmos. [La función \"logaritmo\" en Julia se llama `log`.]\n",
    "\n",
    "(ii) Utiliza una comprensión de arreglo para calcular $\\log(n!)$ para $n$ de 1 a 100.\n",
    "\n",
    "(iii) Dibuja esta cantidad en función de $n$. ¿Cualitativamente, cuál parece ser su tasa de crecimiento? ¿Qué implica esto sobre la tasa de crecimiento de $n!$?"
   ]
  },
  {
   "cell_type": "markdown",
   "metadata": {},
   "source": [
    "[2] Considera la suma de los cuadrados de los primeros $n$ enteros positivos,\n",
    "\n",
    "$$S_n := \\sum_{i=1}^n i^2.$$\n",
    "\n",
    "Escriba una función que acepta un número $M$ y encuentra el valor mínimo de $n$ tal que $S_n > M$, es decir, tal que la suma exceda el valor dado."
   ]
  },
  {
   "cell_type": "markdown",
   "metadata": {},
   "source": [
    "[3] (i) Escribe una función `f` que toma un valor de $x$ y calcula la serie\n",
    "\n",
    "$$f(x) = \\sum_{n=1}^{\\infty} \\frac{x^n}{n}.$$\n",
    "\n",
    "Toma el número de términos $N(x)$ que sea necesario hasta que el tamaño del último término sea menor a una tolerancia.\n",
    "\n",
    "(ii) Dibuja la función $f(x)$ en función de $x$, para $x$ de $-0.9$ a $0.9$.\n",
    "\n",
    "(iii) Alguien sugiere que la función $f(x)$ podría ser realmente $-\\log(1-x)$. ¿Qué deberías dibujar en función de qué para que salga una recta? Verifica que sí sea cierto."
   ]
  }
 ],
 "metadata": {
  "kernelspec": {
   "display_name": "Julia 0.5.0",
   "language": "julia",
   "name": "julia-0.5"
  },
  "language_info": {
   "file_extension": ".jl",
   "mimetype": "application/julia",
   "name": "julia",
   "version": "0.5.0"
  },
  "toc": {
   "colors": {
    "hover_highlight": "#DAA520",
    "running_highlight": "#FF0000",
    "selected_highlight": "#FFD700"
   },
   "moveMenuLeft": true,
   "nav_menu": {
    "height": "29px",
    "width": "251px"
   },
   "navigate_menu": true,
   "number_sections": true,
   "sideBar": true,
   "threshold": "2",
   "toc_cell": false,
   "toc_section_display": "block",
   "toc_window_display": false
  }
 },
 "nbformat": 4,
 "nbformat_minor": 2
}
